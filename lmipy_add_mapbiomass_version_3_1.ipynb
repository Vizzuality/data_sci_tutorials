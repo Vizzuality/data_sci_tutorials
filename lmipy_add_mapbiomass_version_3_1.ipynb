{
  "nbformat": 4,
  "nbformat_minor": 0,
  "metadata": {
    "colab": {
      "name": "lmipy_add_mapbiomass_version_3_1.ipynb",
      "version": "0.3.2",
      "provenance": [],
      "collapsed_sections": [],
      "include_colab_link": true
    },
    "kernelspec": {
      "name": "python3",
      "display_name": "Python 3"
    }
  },
  "cells": [
    {
      "cell_type": "markdown",
      "metadata": {
        "id": "view-in-github",
        "colab_type": "text"
      },
      "source": [
        "<a href=\"https://colab.research.google.com/github/Vizzuality/data_sci_tutorials/blob/master/lmipy_add_mapbiomass_version_3_1.ipynb\" target=\"_parent\"><img src=\"https://colab.research.google.com/assets/colab-badge.svg\" alt=\"Open In Colab\"/></a>"
      ]
    },
    {
      "cell_type": "markdown",
      "metadata": {
        "id": "JJ509AFc6Pdy",
        "colab_type": "text"
      },
      "source": [
        "#Add MapBiomass version 3.1 to the GFW resourcewatch API\n",
        "\n",
        "The data comes as and GEE Image asset where each band is a year, this is converted to an ee.Image.Collection Asset where each image is a year.\n",
        "\n",
        "Using LMIpy a suitable dataset is cloned, the dataset fields are updated and all years are added as individual layers to the dataset.\n",
        "\n",
        "Remember to define your API_TOKEN = \"\"your-token\" in a scratch cell (insert > scratch code cell)"
      ]
    },
    {
      "cell_type": "code",
      "metadata": {
        "id": "g9wj2ZDMMHLx",
        "colab_type": "code",
        "colab": {}
      },
      "source": [
        "# Pip install the LMIPy Module\n",
        "\n",
        "!pip install --upgrade LMIPy "
      ],
      "execution_count": 0,
      "outputs": []
    },
    {
      "cell_type": "code",
      "metadata": {
        "id": "lB15A3JIECbc",
        "colab_type": "code",
        "colab": {}
      },
      "source": [
        "# Set some variables\n",
        "# environment to add to\n",
        "env = \"staging\"\n",
        "# dataset and layer to clone\n",
        "ds_to_clone = \"fee5fc38-7a62-49b8-8874-dfa31cbb1ef6\"\n",
        "ly_to_clone = \"f13f86cb-08b5-4e6c-bb8d-b4782052f9e5\"\n",
        "# dataset parameters\n",
        "dataset_params = {\n",
        "    'name': \"Brazil Land Cover 1985-2017\",\n",
        "    'tableName': \"projects/wri-datalab/mapbiomas_collection31_integration_v1\",\n",
        "    'description':'This data set shows annual land use and land cover for Brazil from 1985 to 2017.'\n",
        "}\n",
        "# vocab parameters\n",
        "vocab_params = {\n",
        "    'application': 'gfw',\n",
        "    'name': 'categoryTab',\n",
        "    'tags': ['landCover', 'landCover']\n",
        "}\n",
        "# metadata parameters\n",
        "meta_params = {\n",
        "    'application': 'gfw',\n",
        "    'language': 'en',\n",
        "    'info': {\n",
        "        'isSelectorLayer': True,\n",
        "        'citation': '1985-2017, MapBiomas',\n",
        "        'color': '#a0c746',\n",
        "        'description': 'This data set shows annual land use and land cover for Brazil from 1985 to 2017.',\n",
        "        'name': 'Brazil land cover'},\n",
        " }\n",
        "# layer parameters\n",
        "def ly_params(year, selConf_position, appConf_default = False):\n",
        "  \"\"\"Create parameters for multiyear layers\"\"\"\n",
        "  year = str(year)\n",
        "  return {\n",
        "    'name':'Brazil land cover ' + year,\n",
        "    'iso': [\"BRA\"],\n",
        "    'env':\t\"staging\",\n",
        "    'legendConfig':{\n",
        "      'items':[\n",
        "         {\n",
        "            'color':'#006400',\n",
        "            'name':'Forest formations'\n",
        "         },\n",
        "         {\n",
        "            'color':'#8D9023',\n",
        "            'name':'Savannah formations'\n",
        "         },\n",
        "         {\n",
        "            'color':'#8AA81D',\n",
        "            'name':'Mangroves'\n",
        "         },\n",
        "         {\n",
        "            'color':'#E8A3E5',\n",
        "            'name':'Planted forest'\n",
        "         },\n",
        "         {\n",
        "            'color':'#2789D4',\n",
        "            'name':'Non-forest wetlands'\n",
        "         },\n",
        "         {\n",
        "            'color':'#CCDB98',\n",
        "            'name':'Grassland'\n",
        "         },\n",
        "         {\n",
        "            'color':'#8AB84A',\n",
        "            'name':'Other non-forest vegetation'\n",
        "         },\n",
        "         {\n",
        "            'color':'#FFB87E',\n",
        "            'name':'Pasture'\n",
        "         },\n",
        "         {\n",
        "            'color':'#D2A965',\n",
        "            'name':'Agriculture'\n",
        "         },\n",
        "         {\n",
        "            'color':'#E8B071',\n",
        "            'name':'Pasture or agriculture'\n",
        "         },\n",
        "         {\n",
        "            'color':'#DD7E6B',\n",
        "            'name':'Beaches and dunes'\n",
        "         },\n",
        "         {\n",
        "            'color':'#E9462B',\n",
        "            'name':'Urban infrastructure'\n",
        "         },\n",
        "         {\n",
        "            'color':'#F6F0EA',\n",
        "            'name':'Uncategorized'\n",
        "         },\n",
        "         {\n",
        "            'color':'#A3DCFE',\n",
        "            'name':'Water bodies'\n",
        "         },\n",
        "         {\n",
        "            'color':' #8A2BE2',\n",
        "            'name':'Mining'\n",
        "         }\n",
        "      ],\n",
        "      'type':'basic'\n",
        "   },\n",
        "    'layerConfig':{\n",
        "        'type':'tileLayer',\n",
        "        'provider':'gee',   \n",
        "        'assetId':'projects/wri-datalab/mapbiomas_collection31_integration_v1/classification_' + year,\n",
        "        \"isImageCollection\": False,\n",
        "        'body':{\n",
        "         \"maxNativeZoom\":\t13,\n",
        "         \"maxzoom\":\t19,\n",
        "         \"minNativeZoom\":\t4,\n",
        "         \"minzoom\":\t2,\n",
        "         \"sldValue\": '<RasterSymbolizer>' +' <ColorMap  type=\"intervals\" extended=\"false\" >' +'<ColorMapEntry color=\"#006400\" quantity=\"3\" label=\"Forest formations\"/>' +'<ColorMapEntry color=\"#8D9023\" quantity=\"4\" label=\"Savannah formations\"/>' +'<ColorMapEntry color=\"#8AA81D\" quantity=\"5\" label=\"Mangroves\"/>' +'<ColorMapEntry color=\"#E8A3E5\" quantity=\"9\" label=\"Planted forest\"/>' +'<ColorMapEntry color=\"#2789D4\" quantity=\"11\" label=\"Non-forest wetlands\"/>' +'<ColorMapEntry color=\"#CCDB98\" quantity=\"12\" label=\"Grassland\"/>' +'<ColorMapEntry color=\"#8AB84A\" quantity=\"13\" label=\"Other non-forest vegetation\"/>' +'<ColorMapEntry color=\"#FFB87E\" quantity=\"15\" label=\"Pasture\"/>' +'<ColorMapEntry color=\"#D2A965\" quantity=\"18\" label=\"Agriculture\"/>' +'<ColorMapEntry color=\"#E8B071\" quantity=\"21\" label=\"Pasture or agriculture\"/>' +'<ColorMapEntry color=\"#DD7E6B\" quantity=\"23\" label=\"Beaches and dunes\"/>' +'<ColorMapEntry color=\"#E9462B\" quantity=\"24\" label=\"Urban infrastructure\"/>' +'<ColorMapEntry color=\"#F6F0EA\" quantity=\"27\" label=\"Uncategorized\"/>' +'<ColorMapEntry color=\"#A3DCFE\" quantity=\"26\" label=\"Water bodies\"/>' +'<ColorMapEntry color=\"#8A2BE2\" quantity=\"30\" label=\"Mining\"/>' +'</ColorMap>' +'</RasterSymbolizer>',\n",
        "         \"styleType\": \"sld\",\n",
        "         }},\n",
        "    'applicationConfig' :{\n",
        "        'global':\tFalse,\n",
        "        'default':\tappConf_default,\n",
        "        'active':\tTrue,\n",
        "        'metadata': 'mapbiomas_version_3_1',\n",
        "        'selectorConfig': {\n",
        "            'label':\tyear,\n",
        "            'position':\tselConf_position,\n",
        "            'value':\t\"classification_\"+year\n",
        "        }}    \n",
        "}\n",
        "\n",
        "\n"
      ],
      "execution_count": 0,
      "outputs": []
    },
    {
      "cell_type": "code",
      "metadata": {
        "id": "yuOQv-UvRmqy",
        "colab_type": "code",
        "outputId": "78a572b4-0bad-4f2d-d335-e0e1eea046e9",
        "colab": {
          "base_uri": "https://localhost:8080/",
          "height": 299
        }
      },
      "source": [
        "import LMIPy as lmi\n",
        "c = lmi.Collection(search=\"brazil\", app=[\"gfw\"], env=\"production\", object_type=\"dataset\")\n",
        "c\n"
      ],
      "execution_count": 9,
      "outputs": [
        {
          "output_type": "execute_result",
          "data": {
            "text/html": [
              "<div class='item_container' style='height: auto; overflow: hidden; border: 1px solid #80ceb9;border-radius: 2px; background: #f2fffb; line-height: 1.21429em; padding: 10px;''><div class='item_left' style='width: 210px; float: left;''><a href='https://resourcewatch.org/' target='_blank'><img class='itemThumbnail' src='https://resourcewatch.org/static/images/logo-embed.png'></a></div><div class='item_right' style='float: none; width: auto; overflow: hidden;''><b>0. </b><a href=https://api.resourcewatch.org/v1/dataset/05a6d516-e045-498d-bc9f-04673990860f?includes=vocabulary,metadata,layer,widget target='_blank'><b>Brazil Biomes</b></a><br> Carto table: <a href=https://wri-01.carto.com/tables/bra_biomes target='_blank'>bra_biomes</a> 🗺Dataset in GFW.<br>Last Modified: 2018-11-21T14:02:30.130Z<br>Connector: cartodb | Published: True </div> </div><p></p><div class='item_container' style='height: auto; overflow: hidden; border: 1px solid #80ceb9;border-radius: 2px; background: #f2fffb; line-height: 1.21429em; padding: 10px;''><div class='item_left' style='width: 210px; float: left;''><a href='https://resourcewatch.org/' target='_blank'><img class='itemThumbnail' src='https://resourcewatch.org/static/images/logo-embed.png'></a></div><div class='item_right' style='float: none; width: auto; overflow: hidden;''><b>1. </b><a href=https://api.resourcewatch.org/v1/dataset/f3fc0f1e-aa26-49b6-8741-45df2eea9ac2?includes=vocabulary,metadata,layer,widget target='_blank'><b>Brazil Land Cover</b></a><br> Data source wms 🗺Dataset in GFW.<br>Last Modified: 2018-11-21T14:03:00.256Z<br>Connector: wms | Published: True </div> </div><p></p><div class='item_container' style='height: auto; overflow: hidden; border: 1px solid #80ceb9;border-radius: 2px; background: #f2fffb; line-height: 1.21429em; padding: 10px;''><div class='item_left' style='width: 210px; float: left;''><a href='https://resourcewatch.org/' target='_blank'><img class='itemThumbnail' src='https://resourcewatch.org/static/images/logo-embed.png'></a></div><div class='item_right' style='float: none; width: auto; overflow: hidden;''><b>2. </b><a href=https://api.resourcewatch.org/v1/dataset/ad62a21d-c554-4d30-82b4-2ff0d52ab0b2?includes=vocabulary,metadata,layer,widget target='_blank'><b>Brazil Land Cover 1985-2017</b></a><br> GEE asset: <a href='https://code.earthengine.google.com/asset='projects/wri-datalab/mapbiomas_collection31_integration_v1 target='_blank'>projects/wri-datalab/mapbiomas_collection31_integration_v1</a> 🗺Dataset in GFW.<br>Last Modified: 2019-06-17T21:37:55.208Z<br>Connector: gee | Published: True </div> </div>"
            ],
            "text/plain": [
              "[0. Dataset 05a6d516-e045-498d-bc9f-04673990860f Brazil Biomes,\n",
              " 1. Dataset f3fc0f1e-aa26-49b6-8741-45df2eea9ac2 Brazil Land Cover,\n",
              " 2. Dataset ad62a21d-c554-4d30-82b4-2ff0d52ab0b2 Brazil Land Cover 1985-2017]"
            ]
          },
          "metadata": {
            "tags": []
          },
          "execution_count": 9
        }
      ]
    },
    {
      "cell_type": "code",
      "metadata": {
        "id": "dBJkOJucQKIz",
        "colab_type": "code",
        "outputId": "d9135f96-a0eb-406f-c1a3-e9ab7dd0a81d",
        "colab": {
          "base_uri": "https://localhost:8080/",
          "height": 17
        }
      },
      "source": [
        "import LMIPy as lmi\n",
        "c = lmi.Collection(search=\"brazil\", app=[\"gfw\"], env=\"staging\", object_type=\"layer\")\n",
        "c\n"
      ],
      "execution_count": 0,
      "outputs": [
        {
          "output_type": "execute_result",
          "data": {
            "text/html": [
              ""
            ],
            "text/plain": [
              "[]"
            ]
          },
          "metadata": {
            "tags": []
          },
          "execution_count": 20
        }
      ]
    },
    {
      "cell_type": "code",
      "metadata": {
        "id": "1ERDP8NoUmnz",
        "colab_type": "code",
        "colab": {}
      },
      "source": [
        "# If needed remove incorrect versions\n",
        "#for i in range(0, len(c)):\n",
        "#  ods = c[2]\n",
        "#  ods.delete(token=API_TOKEN, force=False)"
      ],
      "execution_count": 0,
      "outputs": []
    },
    {
      "cell_type": "code",
      "metadata": {
        "id": "j6FH2ZgoXwCC",
        "colab_type": "code",
        "outputId": "7090d12d-07d1-4b80-8d42-21e236dc630b",
        "colab": {
          "base_uri": "https://localhost:8080/",
          "height": 69
        }
      },
      "source": [
        "# Clone the biodiversity dataset\n",
        "import LMIPy as lmi\n",
        "ds = lmi.Dataset(ds_to_clone).clone(token=API_TOKEN, env=env, dataset_params=dataset_params, clone_children=False)\n",
        "ds_id = ds.id\n",
        "ds_id"
      ],
      "execution_count": 13,
      "outputs": [
        {
          "output_type": "stream",
          "text": [
            "Creating clone dataset\n",
            "https://api.resourcewatch.org/v1/dataset/e559829e-27fe-4c6c-bd6c-6a67a7ea419f\n"
          ],
          "name": "stdout"
        },
        {
          "output_type": "execute_result",
          "data": {
            "text/plain": [
              "'e559829e-27fe-4c6c-bd6c-6a67a7ea419f'"
            ]
          },
          "metadata": {
            "tags": []
          },
          "execution_count": 13
        }
      ]
    },
    {
      "cell_type": "code",
      "metadata": {
        "id": "1eq7MGVXZ1iP",
        "colab_type": "code",
        "outputId": "bee7ea63-0034-41b8-a204-109d9da32335",
        "colab": {
          "base_uri": "https://localhost:8080/",
          "height": 124
        }
      },
      "source": [
        "# Add vocab\n",
        "import LMIPy as lmi\n",
        "lmi.Dataset(ds_id).add_vocabulary(vocab_params = vocab_params, token = API_TOKEN)"
      ],
      "execution_count": 14,
      "outputs": [
        {
          "output_type": "stream",
          "text": [
            "Vocabulary categoryTab created.\n"
          ],
          "name": "stdout"
        },
        {
          "output_type": "execute_result",
          "data": {
            "text/html": [
              "<div class='item_container' style='height: auto; overflow: hidden; border: 1px solid #80ceb9;border-radius: 2px; background: #f2fffb; line-height: 1.21429em; padding: 10px;''><div class='item_left' style='width: 210px; float: left;''><a href='https://resourcewatch.org/' target='_blank'><img class='itemThumbnail' src='https://resourcewatch.org/static/images/logo-embed.png'></a></div><div class='item_right' style='float: none; width: auto; overflow: hidden;''><a href=https://api.resourcewatch.org/v1/dataset/e559829e-27fe-4c6c-bd6c-6a67a7ea419f?includes=vocabulary,metadata,layer,widget target='_blank'><b>Brazil Land Cover 1985-2017</b></a><br> GEE asset: <a href='https://code.earthengine.google.com/asset='projects/wri-datalab/mapbiomas_collection31_integration_v1 target='_blank'>projects/wri-datalab/mapbiomas_collection31_integration_v1</a> 🗺Dataset in GFW.<br>Last Modified: 2019-06-18T09:05:35.600Z<br>Connector: gee | Published: True </div> </div>"
            ],
            "text/plain": [
              "Dataset e559829e-27fe-4c6c-bd6c-6a67a7ea419f Brazil Land Cover 1985-2017"
            ]
          },
          "metadata": {
            "tags": []
          },
          "execution_count": 14
        }
      ]
    },
    {
      "cell_type": "code",
      "metadata": {
        "id": "pbi2KusEbCkM",
        "colab_type": "code",
        "colab": {
          "base_uri": "https://localhost:8080/",
          "height": 124
        },
        "outputId": "489656a6-81aa-43a6-ecf9-ae44d49e9377"
      },
      "source": [
        "# Add metadata\n",
        "import LMIPy as lmi\n",
        "lmi.Dataset(ds_id).add_metadata(meta_params = meta_params, token = API_TOKEN)"
      ],
      "execution_count": 15,
      "outputs": [
        {
          "output_type": "stream",
          "text": [
            "Metadata created.\n"
          ],
          "name": "stdout"
        },
        {
          "output_type": "execute_result",
          "data": {
            "text/html": [
              "<div class='item_container' style='height: auto; overflow: hidden; border: 1px solid #80ceb9;border-radius: 2px; background: #f2fffb; line-height: 1.21429em; padding: 10px;''><div class='item_left' style='width: 210px; float: left;''><a href='https://resourcewatch.org/' target='_blank'><img class='itemThumbnail' src='https://resourcewatch.org/static/images/logo-embed.png'></a></div><div class='item_right' style='float: none; width: auto; overflow: hidden;''><a href=https://api.resourcewatch.org/v1/dataset/e559829e-27fe-4c6c-bd6c-6a67a7ea419f?includes=vocabulary,metadata,layer,widget target='_blank'><b>Brazil Land Cover 1985-2017</b></a><br> GEE asset: <a href='https://code.earthengine.google.com/asset='projects/wri-datalab/mapbiomas_collection31_integration_v1 target='_blank'>projects/wri-datalab/mapbiomas_collection31_integration_v1</a> 🗺Dataset in GFW.<br>Last Modified: 2019-06-18T09:05:35.600Z<br>Connector: gee | Published: True </div> </div>"
            ],
            "text/plain": [
              "Dataset e559829e-27fe-4c6c-bd6c-6a67a7ea419f Brazil Land Cover 1985-2017"
            ]
          },
          "metadata": {
            "tags": []
          },
          "execution_count": 15
        }
      ]
    },
    {
      "cell_type": "code",
      "metadata": {
        "id": "QKbtLlaV6pdc",
        "colab_type": "code",
        "colab": {
          "base_uri": "https://localhost:8080/",
          "height": 1163
        },
        "outputId": "0ccb5a46-1127-43e4-8060-fc892b260e29"
      },
      "source": [
        "# Make list of years\n",
        "year_list = range(2017, 1984, -1)\n",
        "pos_list = range(0, len(year_list), 1)\n",
        "\n",
        "# Add default layer\n",
        "layer_params = ly_params(year = year_list[0], selConf_position = pos_list[0], appConf_default = True)\n",
        "ly = lmi.Layer(ly_to_clone)\n",
        "ly = ly.clone(layer_params = layer_params,  env = env, token = API_TOKEN, target_dataset_id = ds_id)\n",
        "\n",
        "# Add other layers\n",
        "for i in pos_list[1:]:\n",
        "  layer_params = ly_params(year = year_list[i], selConf_position = i, appConf_default = False)\n",
        "  ly.clone(layer_params = layer_params, env = env, token = API_TOKEN, target_dataset_id = ds_id)"
      ],
      "execution_count": 16,
      "outputs": [
        {
          "output_type": "stream",
          "text": [
            "Creating clone layer on target dataset\n",
            "https://api.resourcewatch.org/v1/dataset/e559829e-27fe-4c6c-bd6c-6a67a7ea419f/layer/87321e88-d9d1-491f-93f9-cf7a23aa4093\n",
            "Creating clone layer on target dataset\n",
            "https://api.resourcewatch.org/v1/dataset/e559829e-27fe-4c6c-bd6c-6a67a7ea419f/layer/bbb89de2-8be1-4b31-858e-d4c41f60fd9c\n",
            "Creating clone layer on target dataset\n",
            "https://api.resourcewatch.org/v1/dataset/e559829e-27fe-4c6c-bd6c-6a67a7ea419f/layer/dbed9426-e665-4785-8af6-8ffad29029da\n",
            "Creating clone layer on target dataset\n",
            "https://api.resourcewatch.org/v1/dataset/e559829e-27fe-4c6c-bd6c-6a67a7ea419f/layer/6d965ccd-f1c1-4f31-b737-fd7168d6fc8a\n",
            "Creating clone layer on target dataset\n",
            "https://api.resourcewatch.org/v1/dataset/e559829e-27fe-4c6c-bd6c-6a67a7ea419f/layer/4afcf538-5df0-4a68-bf1f-8c92bc3be204\n",
            "Creating clone layer on target dataset\n",
            "https://api.resourcewatch.org/v1/dataset/e559829e-27fe-4c6c-bd6c-6a67a7ea419f/layer/8f9d063f-04f4-4171-a9a5-dc7d3cac9a4d\n",
            "Creating clone layer on target dataset\n",
            "https://api.resourcewatch.org/v1/dataset/e559829e-27fe-4c6c-bd6c-6a67a7ea419f/layer/91fa10c6-d102-4368-bb8b-8fbda7bfaefc\n",
            "Creating clone layer on target dataset\n",
            "https://api.resourcewatch.org/v1/dataset/e559829e-27fe-4c6c-bd6c-6a67a7ea419f/layer/a61d3b7a-f800-4783-a191-c6e048746222\n",
            "Creating clone layer on target dataset\n",
            "https://api.resourcewatch.org/v1/dataset/e559829e-27fe-4c6c-bd6c-6a67a7ea419f/layer/368c9f72-65a4-4b01-bbcf-0658652582d9\n",
            "Creating clone layer on target dataset\n",
            "https://api.resourcewatch.org/v1/dataset/e559829e-27fe-4c6c-bd6c-6a67a7ea419f/layer/600cef0d-afde-414a-9e0a-ddbcd810d081\n",
            "Creating clone layer on target dataset\n",
            "https://api.resourcewatch.org/v1/dataset/e559829e-27fe-4c6c-bd6c-6a67a7ea419f/layer/dce85c09-0d4a-45b3-99d4-4e6c442c07be\n",
            "Creating clone layer on target dataset\n",
            "https://api.resourcewatch.org/v1/dataset/e559829e-27fe-4c6c-bd6c-6a67a7ea419f/layer/0a1a60a0-9339-4763-bd13-d84885894638\n",
            "Creating clone layer on target dataset\n",
            "https://api.resourcewatch.org/v1/dataset/e559829e-27fe-4c6c-bd6c-6a67a7ea419f/layer/7aa1a9d4-3dd8-4358-bfcc-331b50b7247f\n",
            "Creating clone layer on target dataset\n",
            "https://api.resourcewatch.org/v1/dataset/e559829e-27fe-4c6c-bd6c-6a67a7ea419f/layer/c94090f6-766d-47b4-bb92-0720d70cba79\n",
            "Creating clone layer on target dataset\n",
            "https://api.resourcewatch.org/v1/dataset/e559829e-27fe-4c6c-bd6c-6a67a7ea419f/layer/13e148b5-f316-4377-8ed1-dc0064f45b87\n",
            "Creating clone layer on target dataset\n",
            "https://api.resourcewatch.org/v1/dataset/e559829e-27fe-4c6c-bd6c-6a67a7ea419f/layer/dcd9c300-6bad-4227-9755-1e575acddf56\n",
            "Creating clone layer on target dataset\n",
            "https://api.resourcewatch.org/v1/dataset/e559829e-27fe-4c6c-bd6c-6a67a7ea419f/layer/4807f89b-23d7-4af7-968b-ea1e55773a6b\n",
            "Creating clone layer on target dataset\n",
            "https://api.resourcewatch.org/v1/dataset/e559829e-27fe-4c6c-bd6c-6a67a7ea419f/layer/75717719-cbe6-4abc-bdba-27cc422e875c\n",
            "Creating clone layer on target dataset\n",
            "https://api.resourcewatch.org/v1/dataset/e559829e-27fe-4c6c-bd6c-6a67a7ea419f/layer/042610d5-f1f6-4b1a-a325-f1bcb7713fc9\n",
            "Creating clone layer on target dataset\n",
            "https://api.resourcewatch.org/v1/dataset/e559829e-27fe-4c6c-bd6c-6a67a7ea419f/layer/b23677b7-6052-4f5e-af44-11393351253f\n",
            "Creating clone layer on target dataset\n",
            "https://api.resourcewatch.org/v1/dataset/e559829e-27fe-4c6c-bd6c-6a67a7ea419f/layer/4e373490-18be-4cf9-9df4-f5762e22134e\n",
            "Creating clone layer on target dataset\n",
            "https://api.resourcewatch.org/v1/dataset/e559829e-27fe-4c6c-bd6c-6a67a7ea419f/layer/2e577f2f-02b0-4d94-9612-d80ed5fe2b63\n",
            "Creating clone layer on target dataset\n",
            "https://api.resourcewatch.org/v1/dataset/e559829e-27fe-4c6c-bd6c-6a67a7ea419f/layer/dcd789a7-fec2-48ea-8073-0542f6306f74\n",
            "Creating clone layer on target dataset\n",
            "https://api.resourcewatch.org/v1/dataset/e559829e-27fe-4c6c-bd6c-6a67a7ea419f/layer/9a67b85a-7c87-4735-8693-f4642ed60931\n",
            "Creating clone layer on target dataset\n",
            "https://api.resourcewatch.org/v1/dataset/e559829e-27fe-4c6c-bd6c-6a67a7ea419f/layer/389637a1-c4d4-4a6b-9f79-0fa90f05ddae\n",
            "Creating clone layer on target dataset\n",
            "https://api.resourcewatch.org/v1/dataset/e559829e-27fe-4c6c-bd6c-6a67a7ea419f/layer/12411ce7-a498-40ee-a207-fb17c2110058\n",
            "Creating clone layer on target dataset\n",
            "https://api.resourcewatch.org/v1/dataset/e559829e-27fe-4c6c-bd6c-6a67a7ea419f/layer/8546d48f-71c4-4278-94db-05a73675b67c\n",
            "Creating clone layer on target dataset\n",
            "https://api.resourcewatch.org/v1/dataset/e559829e-27fe-4c6c-bd6c-6a67a7ea419f/layer/2390efff-489f-4dff-aa52-22131b25f44a\n",
            "Creating clone layer on target dataset\n",
            "https://api.resourcewatch.org/v1/dataset/e559829e-27fe-4c6c-bd6c-6a67a7ea419f/layer/adbdd7d9-c942-4d5c-abfc-e36781c95b01\n",
            "Creating clone layer on target dataset\n",
            "https://api.resourcewatch.org/v1/dataset/e559829e-27fe-4c6c-bd6c-6a67a7ea419f/layer/b5073904-2416-45cc-8068-47cc72dc62f8\n",
            "Creating clone layer on target dataset\n",
            "https://api.resourcewatch.org/v1/dataset/e559829e-27fe-4c6c-bd6c-6a67a7ea419f/layer/0ba0c883-cb38-44c6-83a8-cd381289abe2\n",
            "Creating clone layer on target dataset\n",
            "https://api.resourcewatch.org/v1/dataset/e559829e-27fe-4c6c-bd6c-6a67a7ea419f/layer/b4fc01d5-0b78-4195-94f4-12d9fe0e5a08\n",
            "Creating clone layer on target dataset\n",
            "https://api.resourcewatch.org/v1/dataset/e559829e-27fe-4c6c-bd6c-6a67a7ea419f/layer/0aecb671-6971-47e5-8999-8bf75ae97529\n"
          ],
          "name": "stdout"
        }
      ]
    },
    {
      "cell_type": "code",
      "metadata": {
        "id": "qTuuftwLqajf",
        "colab_type": "code",
        "outputId": "5af3159a-f8b5-4ef7-8f0f-3d8fa24bf21b",
        "colab": {
          "base_uri": "https://localhost:8080/",
          "height": 299
        }
      },
      "source": [
        "import LMIPy as lmi\n",
        "c = lmi.Collection(search=\"brazil\", app=[\"gfw\"], env=\"production\", object_type=\"dataset\")\n",
        "c\n"
      ],
      "execution_count": 17,
      "outputs": [
        {
          "output_type": "execute_result",
          "data": {
            "text/html": [
              "<div class='item_container' style='height: auto; overflow: hidden; border: 1px solid #80ceb9;border-radius: 2px; background: #f2fffb; line-height: 1.21429em; padding: 10px;''><div class='item_left' style='width: 210px; float: left;''><a href='https://resourcewatch.org/' target='_blank'><img class='itemThumbnail' src='https://resourcewatch.org/static/images/logo-embed.png'></a></div><div class='item_right' style='float: none; width: auto; overflow: hidden;''><b>0. </b><a href=https://api.resourcewatch.org/v1/dataset/05a6d516-e045-498d-bc9f-04673990860f?includes=vocabulary,metadata,layer,widget target='_blank'><b>Brazil Biomes</b></a><br> Carto table: <a href=https://wri-01.carto.com/tables/bra_biomes target='_blank'>bra_biomes</a> 🗺Dataset in GFW.<br>Last Modified: 2018-11-21T14:02:30.130Z<br>Connector: cartodb | Published: True </div> </div><p></p><div class='item_container' style='height: auto; overflow: hidden; border: 1px solid #80ceb9;border-radius: 2px; background: #f2fffb; line-height: 1.21429em; padding: 10px;''><div class='item_left' style='width: 210px; float: left;''><a href='https://resourcewatch.org/' target='_blank'><img class='itemThumbnail' src='https://resourcewatch.org/static/images/logo-embed.png'></a></div><div class='item_right' style='float: none; width: auto; overflow: hidden;''><b>1. </b><a href=https://api.resourcewatch.org/v1/dataset/f3fc0f1e-aa26-49b6-8741-45df2eea9ac2?includes=vocabulary,metadata,layer,widget target='_blank'><b>Brazil Land Cover</b></a><br> Data source wms 🗺Dataset in GFW.<br>Last Modified: 2018-11-21T14:03:00.256Z<br>Connector: wms | Published: True </div> </div><p></p><div class='item_container' style='height: auto; overflow: hidden; border: 1px solid #80ceb9;border-radius: 2px; background: #f2fffb; line-height: 1.21429em; padding: 10px;''><div class='item_left' style='width: 210px; float: left;''><a href='https://resourcewatch.org/' target='_blank'><img class='itemThumbnail' src='https://resourcewatch.org/static/images/logo-embed.png'></a></div><div class='item_right' style='float: none; width: auto; overflow: hidden;''><b>2. </b><a href=https://api.resourcewatch.org/v1/dataset/e559829e-27fe-4c6c-bd6c-6a67a7ea419f?includes=vocabulary,metadata,layer,widget target='_blank'><b>Brazil Land Cover 1985-2017</b></a><br> GEE asset: <a href='https://code.earthengine.google.com/asset='projects/wri-datalab/mapbiomas_collection31_integration_v1 target='_blank'>projects/wri-datalab/mapbiomas_collection31_integration_v1</a> 🗺Dataset in GFW.<br>Last Modified: 2019-06-18T09:05:35.600Z<br>Connector: gee | Published: True </div> </div>"
            ],
            "text/plain": [
              "[0. Dataset 05a6d516-e045-498d-bc9f-04673990860f Brazil Biomes,\n",
              " 1. Dataset f3fc0f1e-aa26-49b6-8741-45df2eea9ac2 Brazil Land Cover,\n",
              " 2. Dataset e559829e-27fe-4c6c-bd6c-6a67a7ea419f Brazil Land Cover 1985-2017]"
            ]
          },
          "metadata": {
            "tags": []
          },
          "execution_count": 17
        }
      ]
    }
  ]
}