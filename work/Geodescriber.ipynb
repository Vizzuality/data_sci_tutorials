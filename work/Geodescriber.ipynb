{
 "cells": [
  {
   "cell_type": "markdown",
   "metadata": {},
   "source": [
    "# Developing the Geodescriber\n",
    "\n",
    "## Title\n",
    "\n",
    "Load a geostore via LMIPy. Use OSM revese geocoding to generate data for bounds of a geometry. Create a title based on the agreement between the bounds.\n",
    "\n",
    "## EE query\n",
    "\n",
    "## Dynamic Paragraph creation\n",
    "\n",
    "## Translate to a different language\n",
    "\n",
    "Use Translation service to return response in a target language."
   ]
  },
  {
   "cell_type": "code",
   "execution_count": 213,
   "metadata": {},
   "outputs": [],
   "source": [
    "#!pip install geocoder\n",
    "#!pip install translate\n",
    "#!pip install LMIPy\n",
    "#!pip install earthengine-api\n",
    "#!pip install oauth2client"
   ]
  },
  {
   "cell_type": "code",
   "execution_count": 214,
   "metadata": {},
   "outputs": [],
   "source": [
    "import geocoder                   # https://geocoder.readthedocs.io/\n",
    "from translate import Translator  # https://pypi.org/project/translate/\n",
    "import LMIPy"
   ]
  },
  {
   "cell_type": "code",
   "execution_count": 6,
   "metadata": {},
   "outputs": [],
   "source": []
  },
  {
   "cell_type": "code",
   "execution_count": 90,
   "metadata": {},
   "outputs": [
    {
     "data": {
      "text/html": [
       "<div class='item_container' style='height: auto; overflow: hidden; border: 1px solid #80ceb9;border-radius: 2px; background: #f2fffb; line-height: 1.21429em; padding: 10px;''><div class='item_left' style='width: 210px; float: left;''><a href='https://resourcewatch.org/' target='_blank'><img class='itemThumbnail' src='https://resourcewatch.org/static/images/logo-embed.png'></a></div><div class='item_right' style='float: none; width: auto; overflow: hidden;''><b>Geometry id</b>: <a href=http://localhost:9000/v1/geostore/f6726c97139f362ca9a10d70dc686375 target='_blank'>f6726c97139f362ca9a10d70dc686375</a></br> </div> </div>"
      ],
      "text/plain": [
       "Geometry f6726c97139f362ca9a10d70dc686375"
      ]
     },
     "execution_count": 90,
     "metadata": {},
     "output_type": "execute_result"
    }
   ],
   "source": [
    "# Area between spain and france\n",
    "\n",
    "atts={'geojson': {'type': 'FeatureCollection',\n",
    "  'features': [{'type': 'Feature',\n",
    "    'properties': {},\n",
    "    'geometry': {'type': 'Polygon',\n",
    "     'coordinates': [[[-0.87890625, 43.329173667843904],\n",
    "       [-1.6149902343749998, 42.75104599038353],\n",
    "       [-1.1865234375, 42.35854391749705],\n",
    "       [-0.6427001953125, 42.755079545072135],\n",
    "       [-0.45043945312499994, 42.9524020856897],\n",
    "       [-0.87890625, 43.329173667843904]]]}}]}}\n",
    "\n",
    "g1 = LMIPy.Geometry(attributes=atts, server='http://localhost:9000')\n",
    "g1"
   ]
  },
  {
   "cell_type": "code",
   "execution_count": 91,
   "metadata": {},
   "outputs": [
    {
     "data": {
      "image/svg+xml": [
       "<svg xmlns=\"http://www.w3.org/2000/svg\" xmlns:xlink=\"http://www.w3.org/1999/xlink\" width=\"100.0\" height=\"100.0\" viewBox=\"-1.661572265625 42.311961886247104 1.25771484375 1.0637938128467894\" preserveAspectRatio=\"xMinYMin meet\"><g transform=\"matrix(1,0,0,-1,0,85.687717585341)\"><path fill-rule=\"evenodd\" fill=\"#66cc99\" stroke=\"#555555\" stroke-width=\"0.025154296875000003\" opacity=\"0.6\" d=\"M -0.87890625,43.3291736678439 L -1.614990234375,42.7510459903835 L -1.1865234375,42.3585439174971 L -0.6427001953125,42.7550795450721 L -0.450439453125,42.9524020856897 L -0.87890625,43.3291736678439 z\" /></g></svg>"
      ],
      "text/plain": [
       "<shapely.geometry.polygon.Polygon at 0x124b75b00>"
      ]
     },
     "execution_count": 91,
     "metadata": {},
     "output_type": "execute_result"
    }
   ],
   "source": [
    "g1.shape()[0]"
   ]
  },
  {
   "cell_type": "code",
   "execution_count": 79,
   "metadata": {},
   "outputs": [
    {
     "data": {
      "text/html": [
       "<div class='item_container' style='height: auto; overflow: hidden; border: 1px solid #80ceb9;border-radius: 2px; background: #f2fffb; line-height: 1.21429em; padding: 10px;''><div class='item_left' style='width: 210px; float: left;''><a href='https://resourcewatch.org/' target='_blank'><img class='itemThumbnail' src='https://resourcewatch.org/static/images/logo-embed.png'></a></div><div class='item_right' style='float: none; width: auto; overflow: hidden;''><b>Geometry id</b>: <a href=http://localhost:9000/v1/geostore/aaea7cd252ee33cab3f31ae975db8f47 target='_blank'>aaea7cd252ee33cab3f31ae975db8f47</a></br> </div> </div>"
      ],
      "text/plain": [
       "Geometry aaea7cd252ee33cab3f31ae975db8f47"
      ]
     },
     "execution_count": 79,
     "metadata": {},
     "output_type": "execute_result"
    }
   ],
   "source": [
    "# Weird area in Spain\n",
    "\n",
    "atts= {'geojson': {'type': 'FeatureCollection',\n",
    "  'features': [{'type': 'Feature',\n",
    "    'properties': {},\n",
    "    'geometry': {'type': 'Polygon',\n",
    "     'coordinates': [[[-4.866943359375, 41.69752591075902],\n",
    "       [-5.756835937499999, 41.31907562295139],\n",
    "       [-5.592041015625, 41.08763212467916],\n",
    "       [-4.89990234375, 41.13729606112276],\n",
    "       [-4.7021484375, 41.08763212467916],\n",
    "       [-4.41650390625, 40.57224011776902],\n",
    "       [-4.72412109375, 40.12849105685408],\n",
    "       [-5.042724609375, 39.926588421909436],\n",
    "       [-5.218505859375, 39.58029027440865],\n",
    "       [-4.801025390625, 39.36827914916014],\n",
    "       [-4.02099609375, 39.37677199661635],\n",
    "       [-3.7902832031250004, 40.07807142745009],\n",
    "       [-4.02099609375, 40.522150985623796],\n",
    "       [-4.515380859375, 41.104190944576466],\n",
    "       [-4.383544921875, 41.376808565702355],\n",
    "       [-4.32861328125, 41.65649719441145],\n",
    "       [-4.866943359375, 41.69752591075902]]]}}]}}\n",
    "\n",
    "g2 = LMIPy.Geometry(attributes=atts, server='http://localhost:9000')\n",
    "g2"
   ]
  },
  {
   "cell_type": "code",
   "execution_count": 83,
   "metadata": {},
   "outputs": [
    {
     "data": {
      "image/svg+xml": [
       "<svg xmlns=\"http://www.w3.org/2000/svg\" xmlns:xlink=\"http://www.w3.org/1999/xlink\" width=\"100.0\" height=\"100.0\" viewBox=\"-5.850005807963956 39.27510927869615 2.1528924753029113 2.5155865025268014\" preserveAspectRatio=\"xMinYMin meet\"><g transform=\"matrix(1,0,0,-1,0,81.0658050599191)\"><path fill-rule=\"evenodd\" fill=\"#66cc99\" stroke=\"#555555\" stroke-width=\"0.050311730050536026\" opacity=\"0.6\" d=\"M -4.866943359375,41.697525910759 L -5.7568359375,41.3190756229514 L -5.592041015625,41.0876321246792 L -4.89990234375,41.1372960611228 L -4.7021484375,41.0876321246792 L -4.41650390625,40.572240117769 L -4.72412109375,40.1284910568541 L -5.042724609375,39.9265884219094 L -5.218505859375,39.5802902744086 L -4.801025390625,39.3682791491601 L -4.02099609375,39.3767719966163 L -3.790283203125,40.0780714274501 L -4.02099609375,40.5221509856238 L -4.515380859375,41.1041909445765 L -4.383544921875,41.3768085657024 L -4.32861328125,41.6564971944115 L -4.866943359375,41.697525910759 z\" /></g></svg>"
      ],
      "text/plain": [
       "<shapely.geometry.polygon.Polygon at 0x124b844a8>"
      ]
     },
     "execution_count": 83,
     "metadata": {},
     "output_type": "execute_result"
    }
   ],
   "source": [
    "g2.shape()[0]"
   ]
  },
  {
   "cell_type": "code",
   "execution_count": 191,
   "metadata": {},
   "outputs": [],
   "source": [
    "# Worker functions for generating a title \n",
    "\n",
    "def reverse_geocode_a_geostore(geostore):\n",
    "    \"\"\" Take an LMIPy.Geostore object and return geocoding results on the min/max coordinate locations\"\"\"\n",
    "    s = geostore.shape()[0]\n",
    "    min_coords = [s.bounds[1], s.bounds[0]]\n",
    "    max_coords = [s.bounds[3], s.bounds[2]]\n",
    "    geocode_results = []\n",
    "    for coords in [min_coords, max_coords]:\n",
    "        geocode_results.append(geocoder.osm(coords, method='reverse'))\n",
    "    return geocode_results\n",
    "\n",
    "def create_title(geostore):\n",
    "    \"\"\"Take revsere geocoding results for upper and lower corners of a polygons bounds,\n",
    "        Extract the region, county, country, continent attributes of the locations.\n",
    "        Use the overlap to set an appropriate title. \n",
    "    \"\"\"\n",
    "    geocode_results = reverse_geocode_a_geostore(geostore)\n",
    "    key_locations = []\n",
    "    for result in geocode_results:\n",
    "        d = {}\n",
    "        try:  \n",
    "            d['region'] = result.geojson.get('features')[0].get('properties').get('region')\n",
    "        except:\n",
    "            d['region'] = None\n",
    "        try:\n",
    "            d['county'] = result.geojson.get('features')[0].get('properties').get('county')\n",
    "        except:\n",
    "            d['county'] = None\n",
    "        try:\n",
    "            d['country'] = result.geojson.get('features')[0].get('properties').get('country')\n",
    "        except:\n",
    "            d['country'] = None\n",
    "        try:\n",
    "            d['continent'] = continent_lookup[iso_to_continent[result.geojson.get('features')[0].get('properties').get('country_code').upper()]]\n",
    "        except:\n",
    "            d['continent'] = None\n",
    "        key_locations.append(d)\n",
    "    # Check for overlap between upper and lower bounds\n",
    "    same_region = key_locations[0].get('region') == key_locations[1].get('region')\n",
    "    same_county = key_locations[0].get('county') == key_locations[1].get('county')\n",
    "    same_country = key_locations[0].get('country') == key_locations[1].get('country')\n",
    "    same_continent = key_locations[0].get('continent') == key_locations[1].get('continent')\n",
    "    # Set a title\n",
    "    if same_region:\n",
    "        title= f\"Area in {key_locations[0]['region']} {key_locations[0]['county']}, {key_locations[0]['country']}, {key_locations[0]['continent']}\"\n",
    "    elif same_county:\n",
    "        title= f\"Area in {key_locations[0]['county']}, {key_locations[0]['country']}, {key_locations[0]['continent']}\"\n",
    "    elif same_country:\n",
    "        title = f\"Area in {key_locations[0]['country']}, {key_locations[0]['continent']}\"\n",
    "    elif same_continent:\n",
    "        title = f\"Area in {key_locations[0]['continent']}\"\n",
    "    else:\n",
    "        title = None\n",
    "    return title"
   ]
  },
  {
   "cell_type": "code",
   "execution_count": 147,
   "metadata": {},
   "outputs": [
    {
     "data": {
      "text/plain": [
       "[<[OK] Osm - Reverse [Carretera de Plasencia a Zorita, Herguijuela, Cáceres, Extremadura, España]>,\n",
       " <[OK] Osm - Reverse [CL-619, Villalba de Duero, Ribera del Duero, Burgos, Castilla y León, 09443, España]>]"
      ]
     },
     "execution_count": 147,
     "metadata": {},
     "output_type": "execute_result"
    }
   ],
   "source": [
    "geocode_results = reverse_geocode_a_geostore(geostore)\n",
    "geocode_results"
   ]
  },
  {
   "cell_type": "code",
   "execution_count": 195,
   "metadata": {},
   "outputs": [
    {
     "data": {
      "text/html": [
       "<div class='item_container' style='height: auto; overflow: hidden; border: 1px solid #80ceb9;border-radius: 2px; background: #f2fffb; line-height: 1.21429em; padding: 10px;''><div class='item_left' style='width: 210px; float: left;''><a href='https://resourcewatch.org/' target='_blank'><img class='itemThumbnail' src='https://resourcewatch.org/static/images/logo-embed.png'></a></div><div class='item_right' style='float: none; width: auto; overflow: hidden;''><b>Geometry id</b>: <a href=http://localhost:9000/v1/geostore/aaea7cd252ee33cab3f31ae975db8f47 target='_blank'>aaea7cd252ee33cab3f31ae975db8f47</a></br> </div> </div>"
      ],
      "text/plain": [
       "Geometry aaea7cd252ee33cab3f31ae975db8f47"
      ]
     },
     "execution_count": 195,
     "metadata": {},
     "output_type": "execute_result"
    }
   ],
   "source": [
    "geostore1 = LMIPy.Geometry('aaea7cd252ee33cab3f31ae975db8f47', server='http://localhost:9000')\n",
    "\n",
    "geostore1"
   ]
  },
  {
   "cell_type": "markdown",
   "metadata": {},
   "source": [
    "## Check speed of response and translation\n",
    "\n",
    "N.b. title and paragraph should be translated together and split to save on requests"
   ]
  },
  {
   "cell_type": "code",
   "execution_count": 203,
   "metadata": {},
   "outputs": [
    {
     "name": "stdout",
     "output_type": "stream",
     "text": [
      "CPU times: user 53.3 ms, sys: 8.09 ms, total: 61.3 ms\n",
      "Wall time: 457 ms\n"
     ]
    },
    {
     "data": {
      "text/plain": [
       "'Area in España, Europe'"
      ]
     },
     "execution_count": 203,
     "metadata": {},
     "output_type": "execute_result"
    }
   ],
   "source": [
    "%%time\n",
    "create_title(geostore1)"
   ]
  },
  {
   "cell_type": "code",
   "execution_count": 217,
   "metadata": {},
   "outputs": [
    {
     "data": {
      "text/plain": [
       "'Area en España, Europa'"
      ]
     },
     "execution_count": 217,
     "metadata": {},
     "output_type": "execute_result"
    }
   ],
   "source": [
    "translator= Translator(to_lang=\"es\")\n",
    "translation = translator.translate(title)\n",
    "translation"
   ]
  },
  {
   "cell_type": "code",
   "execution_count": 218,
   "metadata": {},
   "outputs": [
    {
     "data": {
      "text/plain": [
       "'Zone à España, Europe'"
      ]
     },
     "execution_count": 218,
     "metadata": {},
     "output_type": "execute_result"
    }
   ],
   "source": [
    "translator= Translator(to_lang=\"fr\")\n",
    "translation = translator.translate(title)\n",
    "translation"
   ]
  },
  {
   "cell_type": "code",
   "execution_count": 204,
   "metadata": {},
   "outputs": [
    {
     "data": {
      "text/html": [
       "<div class='item_container' style='height: auto; overflow: hidden; border: 1px solid #80ceb9;border-radius: 2px; background: #f2fffb; line-height: 1.21429em; padding: 10px;''><div class='item_left' style='width: 210px; float: left;''><a href='https://resourcewatch.org/' target='_blank'><img class='itemThumbnail' src='https://resourcewatch.org/static/images/logo-embed.png'></a></div><div class='item_right' style='float: none; width: auto; overflow: hidden;''><b>Geometry id</b>: <a href=http://localhost:9000/v1/geostore/f6726c97139f362ca9a10d70dc686375 target='_blank'>f6726c97139f362ca9a10d70dc686375</a></br> </div> </div>"
      ],
      "text/plain": [
       "Geometry f6726c97139f362ca9a10d70dc686375"
      ]
     },
     "execution_count": 204,
     "metadata": {},
     "output_type": "execute_result"
    }
   ],
   "source": [
    "geostore2 = LMIPy.Geometry('f6726c97139f362ca9a10d70dc686375', server='http://localhost:9000')\n",
    "geostore2"
   ]
  },
  {
   "cell_type": "code",
   "execution_count": 219,
   "metadata": {},
   "outputs": [
    {
     "data": {
      "text/plain": [
       "'Area in PA Microrregião de Itaituba, Brasil, South america'"
      ]
     },
     "execution_count": 219,
     "metadata": {},
     "output_type": "execute_result"
    }
   ],
   "source": [
    "# Test of geometry in RW API\n",
    "g = LMIPy.Geometry('37bd82f55b0a98dca94a46ad7789e2a3')\n",
    "title = create_title(g)\n",
    "title"
   ]
  },
  {
   "cell_type": "code",
   "execution_count": 220,
   "metadata": {},
   "outputs": [
    {
     "data": {
      "text/plain": [
       "'Région de Microrregião de Itaituba, Brésil, Amérique du Sud'"
      ]
     },
     "execution_count": 220,
     "metadata": {},
     "output_type": "execute_result"
    }
   ],
   "source": [
    "translator.translate(title)"
   ]
  },
  {
   "cell_type": "markdown",
   "metadata": {},
   "source": [
    "## Earth Engine portion"
   ]
  },
  {
   "cell_type": "code",
   "execution_count": 223,
   "metadata": {},
   "outputs": [],
   "source": []
  },
  {
   "cell_type": "code",
   "execution_count": 227,
   "metadata": {},
   "outputs": [],
   "source": [
    "import ee\n",
    "ee.Initialize()"
   ]
  },
  {
   "cell_type": "code",
   "execution_count": null,
   "metadata": {},
   "outputs": [],
   "source": [
    "# Step 1 - Build a layer with multiple bands which we can intersect against in EE\n",
    "# Step 2 - Run a Zonal stats reducer on the area\n",
    "# Step 3 - Create a decision tree and dynamic sentence\n",
    "\n",
    "# Include: amount of tree cover area, elevation (split into categories), biogeophysical regions? land-cover classes? protected areas?"
   ]
  },
  {
   "cell_type": "code",
   "execution_count": null,
   "metadata": {},
   "outputs": [],
   "source": []
  },
  {
   "cell_type": "code",
   "execution_count": null,
   "metadata": {},
   "outputs": [],
   "source": []
  },
  {
   "cell_type": "code",
   "execution_count": null,
   "metadata": {},
   "outputs": [],
   "source": []
  },
  {
   "cell_type": "markdown",
   "metadata": {},
   "source": [
    "## Dependent/lookup info"
   ]
  },
  {
   "cell_type": "code",
   "execution_count": 177,
   "metadata": {},
   "outputs": [],
   "source": [
    "continent_lookup = {'AF':'Africa',\n",
    "                    'AN':'Antarctica',\n",
    "                    'AS':'Asia',\n",
    "                    'EU':'Europe',\n",
    "                    'NA':'North america',\n",
    "                    'OC':'Oceania',\n",
    "                    'SA':'South america'}"
   ]
  },
  {
   "cell_type": "code",
   "execution_count": 176,
   "metadata": {},
   "outputs": [],
   "source": [
    "iso_to_continent = {'AD':'EU',\n",
    "'AE':'AS',\n",
    "'AF':'AS',\n",
    "'AG':'NA',\n",
    "'AI':'NA',\n",
    "'AL':'EU',\n",
    "'AM':'AS',\n",
    "'AO':'AF',\n",
    "'AP':'AS',\n",
    "'AN':'NA',\n",
    "'AQ':'AN',\n",
    "'AR':'SA',\n",
    "'AS':'OC',\n",
    "'AT':'EU',\n",
    "'AU':'OC',\n",
    "'AW':'NA',\n",
    "'AX':'EU',\n",
    "'AZ':'AS',\n",
    "'BA':'EU',\n",
    "'BB':'NA',\n",
    "'BD':'AS',\n",
    "'BE':'EU',\n",
    "'BF':'AF',\n",
    "'BG':'EU',\n",
    "'BH':'AS',\n",
    "'BI':'AF',\n",
    "'BJ':'AF',\n",
    "'BL':'NA',\n",
    "'BM':'NA',\n",
    "'BN':'AS',\n",
    "'BO':'SA',\n",
    "'BR':'SA',\n",
    "'BS':'NA',\n",
    "'BT':'AS',\n",
    "'BV':'AN',\n",
    "'BW':'AF',\n",
    "'BY':'EU',\n",
    "'BZ':'NA',\n",
    "'CA':'NA',\n",
    "'CC':'AS',\n",
    "'CD':'AF',\n",
    "'CF':'AF',\n",
    "'CG':'AF',\n",
    "'CH':'EU',\n",
    "'CI':'AF',\n",
    "'CK':'OC',\n",
    "'CL':'SA',\n",
    "'CM':'AF',\n",
    "'CN':'AS',\n",
    "'CO':'SA',\n",
    "'CR':'NA',\n",
    "'CU':'NA',\n",
    "'CV':'AF',\n",
    "'CX':'AS',\n",
    "'CY':'AS',\n",
    "'CZ':'EU',\n",
    "'DE':'EU',\n",
    "'DJ':'AF',\n",
    "'DK':'EU',\n",
    "'DM':'NA',\n",
    "'DO':'NA',\n",
    "'DZ':'AF',\n",
    "'EC':'SA',\n",
    "'EE':'EU',\n",
    "'EG':'AF',\n",
    "'EH':'AF',\n",
    "'ER':'AF',\n",
    "'ES':'EU',\n",
    "'ET':'AF',\n",
    "'EU':'EU',\n",
    "'FI':'EU',\n",
    "'FJ':'OC',\n",
    "'FK':'SA',\n",
    "'FM':'OC',\n",
    "'FO':'EU',\n",
    "'FR':'EU',\n",
    "'FX':'EU',\n",
    "'GA':'AF',\n",
    "'GB':'EU',\n",
    "'GD':'NA',\n",
    "'GE':'AS',\n",
    "'GF':'SA',\n",
    "'GG':'EU',\n",
    "'GH':'AF',\n",
    "'GI':'EU',\n",
    "'GL':'NA',\n",
    "'GM':'AF',\n",
    "'GN':'AF',\n",
    "'GP':'NA',\n",
    "'GQ':'AF',\n",
    "'GR':'EU',\n",
    "'GS':'AN',\n",
    "'GT':'NA',\n",
    "'GU':'OC',\n",
    "'GW':'AF',\n",
    "'GY':'SA',\n",
    "'HK':'AS',\n",
    "'HM':'AN',\n",
    "'HN':'NA',\n",
    "'HR':'EU',\n",
    "'HT':'NA',\n",
    "'HU':'EU',\n",
    "'ID':'AS',\n",
    "'IE':'EU',\n",
    "'IL':'AS',\n",
    "'IM':'EU',\n",
    "'IN':'AS',\n",
    "'IO':'AS',\n",
    "'IQ':'AS',\n",
    "'IR':'AS',\n",
    "'IS':'EU',\n",
    "'IT':'EU',\n",
    "'JE':'EU',\n",
    "'JM':'NA',\n",
    "'JO':'AS',\n",
    "'JP':'AS',\n",
    "'KE':'AF',\n",
    "'KG':'AS',\n",
    "'KH':'AS',\n",
    "'KI':'OC',\n",
    "'KM':'AF',\n",
    "'KN':'NA',\n",
    "'KP':'AS',\n",
    "'KR':'AS',\n",
    "'KW':'AS',\n",
    "'KY':'NA',\n",
    "'KZ':'AS',\n",
    "'LA':'AS',\n",
    "'LB':'AS',\n",
    "'LC':'NA',\n",
    "'LI':'EU',\n",
    "'LK':'AS',\n",
    "'LR':'AF',\n",
    "'LS':'AF',\n",
    "'LT':'EU',\n",
    "'LU':'EU',\n",
    "'LV':'EU',\n",
    "'LY':'AF',\n",
    "'MA':'AF',\n",
    "'MC':'EU',\n",
    "'MD':'EU',\n",
    "'ME':'EU',\n",
    "'MF':'NA',\n",
    "'MG':'AF',\n",
    "'MH':'OC',\n",
    "'MK':'EU',\n",
    "'ML':'AF',\n",
    "'MM':'AS',\n",
    "'MN':'AS',\n",
    "'MO':'AS',\n",
    "'MP':'OC',\n",
    "'MQ':'NA',\n",
    "'MR':'AF',\n",
    "'MS':'NA',\n",
    "'MT':'EU',\n",
    "'MU':'AF',\n",
    "'MV':'AS',\n",
    "'MW':'AF',\n",
    "'MX':'NA',\n",
    "'MY':'AS',\n",
    "'MZ':'AF',\n",
    "'NA':'AF',\n",
    "'NC':'OC',\n",
    "'NE':'AF',\n",
    "'NF':'OC',\n",
    "'NG':'AF',\n",
    "'NI':'NA',\n",
    "'NL':'EU',\n",
    "'NO':'EU',\n",
    "'NP':'AS',\n",
    "'NR':'OC',\n",
    "'NU':'OC',\n",
    "'NZ':'OC',\n",
    "'O1':'--',\n",
    "'OM':'AS',\n",
    "'PA':'NA',\n",
    "'PE':'SA',\n",
    "'PF':'OC',\n",
    "'PG':'OC',\n",
    "'PH':'AS',\n",
    "'PK':'AS',\n",
    "'PL':'EU',\n",
    "'PM':'NA',\n",
    "'PN':'OC',\n",
    "'PR':'NA',\n",
    "'PS':'AS',\n",
    "'PT':'EU',\n",
    "'PW':'OC',\n",
    "'PY':'SA',\n",
    "'QA':'AS',\n",
    "'RE':'AF',\n",
    "'RO':'EU',\n",
    "'RS':'EU',\n",
    "'RU':'EU',\n",
    "'RW':'AF',\n",
    "'SA':'AS',\n",
    "'SB':'OC',\n",
    "'SC':'AF',\n",
    "'SD':'AF',\n",
    "'SE':'EU',\n",
    "'SG':'AS',\n",
    "'SH':'AF',\n",
    "'SI':'EU',\n",
    "'SJ':'EU',\n",
    "'SK':'EU',\n",
    "'SL':'AF',\n",
    "'SM':'EU',\n",
    "'SN':'AF',\n",
    "'SO':'AF',\n",
    "'SR':'SA',\n",
    "'ST':'AF',\n",
    "'SV':'NA',\n",
    "'SY':'AS',\n",
    "'SZ':'AF',\n",
    "'TC':'NA',\n",
    "'TD':'AF',\n",
    "'TF':'AN',\n",
    "'TG':'AF',\n",
    "'TH':'AS',\n",
    "'TJ':'AS',\n",
    "'TK':'OC',\n",
    "'TL':'AS',\n",
    "'TM':'AS',\n",
    "'TN':'AF',\n",
    "'TO':'OC',\n",
    "'TR':'EU',\n",
    "'TT':'NA',\n",
    "'TV':'OC',\n",
    "'TW':'AS',\n",
    "'TZ':'AF',\n",
    "'UA':'EU',\n",
    "'UG':'AF',\n",
    "'UM':'OC',\n",
    "'US':'NA',\n",
    "'UY':'SA',\n",
    "'UZ':'AS',\n",
    "'VA':'EU',\n",
    "'VC':'NA',\n",
    "'VE':'SA',\n",
    "'VG':'NA',\n",
    "'VI':'NA',\n",
    "'VN':'AS',\n",
    "'VU':'OC',\n",
    "'WF':'OC',\n",
    "'WS':'OC',\n",
    "'YE':'AS',\n",
    "'YT':'AF',\n",
    "'ZA':'AF',\n",
    "'ZM':'AF',\n",
    "'ZW':'AF'}"
   ]
  },
  {
   "cell_type": "code",
   "execution_count": null,
   "metadata": {},
   "outputs": [],
   "source": []
  },
  {
   "cell_type": "code",
   "execution_count": null,
   "metadata": {},
   "outputs": [],
   "source": []
  }
 ],
 "metadata": {
  "kernelspec": {
   "display_name": "Python 3",
   "language": "python",
   "name": "python3"
  },
  "language_info": {
   "codemirror_mode": {
    "name": "ipython",
    "version": 3
   },
   "file_extension": ".py",
   "mimetype": "text/x-python",
   "name": "python",
   "nbconvert_exporter": "python",
   "pygments_lexer": "ipython3",
   "version": "3.7.1"
  }
 },
 "nbformat": 4,
 "nbformat_minor": 2
}
