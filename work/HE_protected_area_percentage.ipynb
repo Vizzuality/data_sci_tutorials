{
 "cells": [
  {
   "cell_type": "code",
   "execution_count": 1,
   "metadata": {},
   "outputs": [],
   "source": [
    "import requests\n",
    "import pandas as pd\n",
    "import geopandas as gpd\n",
    "import numpy as np\n",
    "import shapely.wkb \n",
    "from shapely.ops import cascaded_union\n",
    "from shapely.geometry import Polygon, Point, MultiPolygon\n",
    "from tqdm import tqdm\n",
    "import matplotlib.pyplot as plt\n",
    "\n",
    "%matplotlib inline"
   ]
  },
  {
   "cell_type": "markdown",
   "metadata": {},
   "source": [
    "# Protected areas percentage"
   ]
  },
  {
   "cell_type": "markdown",
   "metadata": {},
   "source": [
    "### Read Global Facets table"
   ]
  },
  {
   "cell_type": "code",
   "execution_count": 2,
   "metadata": {},
   "outputs": [],
   "source": [
    "path = '/Users/ikersanchez/Vizzuality/PROIEKTUAK/Half-Earth/work/data/'"
   ]
  },
  {
   "cell_type": "code",
   "execution_count": 3,
   "metadata": {},
   "outputs": [],
   "source": [
    "df = gpd.read_file(path+'global_facets_attr_pressures_all/global_facets_attr_pressures.shp')\n",
    "df.columns = map(str.lower, df.columns)"
   ]
  },
  {
   "cell_type": "markdown",
   "metadata": {},
   "source": [
    "### Read Terrestrial and Marine grids\n",
    "\n",
    "We read the grids from the carto account"
   ]
  },
  {
   "cell_type": "code",
   "execution_count": 5,
   "metadata": {},
   "outputs": [],
   "source": [
    "account = 'half-earth'\n",
    "urlCarto = f\"https://{account}.carto.com/api/v2/sql\""
   ]
  },
  {
   "cell_type": "markdown",
   "metadata": {},
   "source": [
    "**Terrestrial grid**"
   ]
  },
  {
   "cell_type": "code",
   "execution_count": 6,
   "metadata": {},
   "outputs": [],
   "source": [
    "query =(\"SELECT cartodb_id, cell_id, the_geom FROM terrestrial_grid\")\n",
    "\n",
    "sql = {\"q\": query}\n",
    "r = requests.get(urlCarto, params=sql)\n",
    "\n",
    "data = r.json()\n",
    "\n",
    "terrestrial = gpd.GeoDataFrame(data.get(\"rows\"))\n",
    "# Change geometry from WKB to WKT format\n",
    "terrestrial['geometry'] = terrestrial.apply(lambda x: shapely.wkb.loads(x['the_geom'],hex=True), axis=1 )\n",
    "terrestrial.drop(columns='the_geom', inplace=True)\n",
    "terrestrial.sort_values(by=['cartodb_id'], inplace=True)"
   ]
  },
  {
   "cell_type": "markdown",
   "metadata": {},
   "source": [
    "**Marine grid**"
   ]
  },
  {
   "cell_type": "code",
   "execution_count": 7,
   "metadata": {},
   "outputs": [],
   "source": [
    "query =(\"SELECT cartodb_id, cell_id, the_geom FROM marine_grid\")\n",
    "\n",
    "sql = {\"q\": query}\n",
    "r = requests.get(urlCarto, params=sql)\n",
    "\n",
    "data = r.json()\n",
    "\n",
    "marine = gpd.GeoDataFrame(data.get(\"rows\"))\n",
    "# Change geometry from WKB to WKT format\n",
    "marine['geometry'] = marine.apply(lambda x: shapely.wkb.loads(x['the_geom'],hex=True), axis=1 )\n",
    "marine.drop(columns='the_geom', inplace=True)\n",
    "marine.sort_values(by=['cartodb_id'], inplace=True)"
   ]
  },
  {
   "cell_type": "markdown",
   "metadata": {},
   "source": [
    "### Read Protected Areas"
   ]
  },
  {
   "cell_type": "code",
   "execution_count": 8,
   "metadata": {},
   "outputs": [],
   "source": [
    "all_wdpa = gpd.read_file(path+'wdpa_protected_areas/wdpa_protected_areas.shp')"
   ]
  },
  {
   "cell_type": "markdown",
   "metadata": {},
   "source": [
    "**Strict**"
   ]
  },
  {
   "cell_type": "code",
   "execution_count": 10,
   "metadata": {},
   "outputs": [],
   "source": [
    "strict = all_wdpa[(all_wdpa['iucn_cat'] == 'Ia') | \n",
    "                         (all_wdpa['iucn_cat'] == 'Ib') |\n",
    "                         (all_wdpa['iucn_cat'] == 'II') |\n",
    "                         (all_wdpa['iucn_cat'] == 'III')\n",
    "                        ][['cartodb_id', 'geometry']]"
   ]
  },
  {
   "cell_type": "markdown",
   "metadata": {},
   "source": [
    "**Biosphere**"
   ]
  },
  {
   "cell_type": "code",
   "execution_count": 11,
   "metadata": {},
   "outputs": [],
   "source": [
    "biosphere = all_wdpa[all_wdpa['desig_eng'].str.contains('Biosphere', regex=False)][['cartodb_id', 'geometry']]"
   ]
  },
  {
   "cell_type": "markdown",
   "metadata": {},
   "source": [
    "**Other**"
   ]
  },
  {
   "cell_type": "code",
   "execution_count": 13,
   "metadata": {},
   "outputs": [],
   "source": [
    "other = all_wdpa[(all_wdpa['iucn_cat'] != 'Ia') & \n",
    "                         (all_wdpa['iucn_cat'] != 'Ib') &\n",
    "                         (all_wdpa['iucn_cat'] != 'II') &\n",
    "                         (all_wdpa['iucn_cat'] != 'III') &\n",
    "                         (~all_wdpa['desig_eng'].str.contains('Aborig', regex=False)) &\n",
    "                         (~all_wdpa['desig_eng'].str.contains('Indigen', regex=False)) &\n",
    "                         (~all_wdpa['desig_eng'].str.contains('Commun', regex=False)) &\n",
    "                         (~all_wdpa['desig_eng'].str.contains('Conservanc', regex=False)) &\n",
    "                         (~all_wdpa['desig_eng'].str.contains('Local', regex=False)) &\n",
    "                         (~all_wdpa['desig_eng'].str.contains('Region', regex=False)) &\n",
    "                         (~all_wdpa['desig_eng'].str.contains('Trust', regex=False)) &\n",
    "                         (~all_wdpa['desig_eng'].str.contains('Conservator', regex=False)) &\n",
    "                         (~all_wdpa['desig_eng'].str.contains('Private', regex=False)) &\n",
    "                         (~all_wdpa['desig_eng'].str.contains('Nature Center', regex=False)) \n",
    "                        ][['cartodb_id', 'geometry']]"
   ]
  },
  {
   "cell_type": "markdown",
   "metadata": {},
   "source": [
    "**Conservation**"
   ]
  },
  {
   "cell_type": "code",
   "execution_count": 14,
   "metadata": {},
   "outputs": [],
   "source": [
    "conservation = gpd.read_file(path+'community_conservation_areas/community_conservation_areas.shp')"
   ]
  },
  {
   "cell_type": "markdown",
   "metadata": {},
   "source": [
    "### Percentege of protected areas inside each cell\n",
    "\n",
    "We use geopandas’s R-tree spatial index to find which protected area lie within each grid cells"
   ]
  },
  {
   "cell_type": "code",
   "execution_count": 16,
   "metadata": {},
   "outputs": [],
   "source": [
    "def rtree_intersect(gdf, grid):\n",
    "    percentage = []\n",
    "    sindex = gdf.sindex\n",
    "    # we iterate over the cells\n",
    "    for n, cell in enumerate(tqdm(grid.geometry)):\n",
    "        # protected areas that intersect with the cell\n",
    "        possible_matches_index = list(sindex.intersection(cell.bounds))\n",
    "        possible_matches = gdf.iloc[possible_matches_index]\n",
    "        # intersection between the protected areas and the cell\n",
    "        precise_matches = possible_matches.intersection(cell)\n",
    "        # percentage of the cell covered by protected areas\n",
    "        percentage.append(cascaded_union(precise_matches).area/cell.area*100) \n",
    "    return percentage"
   ]
  },
  {
   "cell_type": "code",
   "execution_count": 54,
   "metadata": {},
   "outputs": [
    {
     "name": "stderr",
     "output_type": "stream",
     "text": [
      "  0%|          | 0/12670 [00:00<?, ?it/s]"
     ]
    },
    {
     "name": "stdout",
     "output_type": "stream",
     "text": [
      "For terrestrial, strict\n"
     ]
    },
    {
     "name": "stderr",
     "output_type": "stream",
     "text": [
      "100%|██████████| 12670/12670 [1:25:06<00:00,  2.48it/s]\n",
      "  0%|          | 0/12670 [00:00<?, ?it/s]"
     ]
    },
    {
     "name": "stdout",
     "output_type": "stream",
     "text": [
      "For terrestrial, biosphere\n"
     ]
    },
    {
     "name": "stderr",
     "output_type": "stream",
     "text": [
      "100%|██████████| 12670/12670 [00:16<00:00, 779.65it/s]\n"
     ]
    },
    {
     "name": "stdout",
     "output_type": "stream",
     "text": [
      "For terrestrial, conservation\n"
     ]
    },
    {
     "name": "stderr",
     "output_type": "stream",
     "text": [
      "100%|██████████| 12670/12670 [11:32<00:00, 18.28it/s] \n",
      "  0%|          | 2/12670 [00:00<19:22, 10.89it/s]"
     ]
    },
    {
     "name": "stdout",
     "output_type": "stream",
     "text": [
      "For terrestrial, other\n"
     ]
    },
    {
     "name": "stderr",
     "output_type": "stream",
     "text": [
      "100%|██████████| 12670/12670 [1:18:44<00:00,  2.68it/s]\n",
      "  0%|          | 0/179484 [00:00<?, ?it/s]"
     ]
    },
    {
     "name": "stdout",
     "output_type": "stream",
     "text": [
      "For marine, strict\n"
     ]
    },
    {
     "name": "stderr",
     "output_type": "stream",
     "text": [
      "100%|██████████| 179484/179484 [42:44<00:00, 69.98it/s]\n",
      "  0%|          | 311/179484 [00:00<01:59, 1493.75it/s]"
     ]
    },
    {
     "name": "stdout",
     "output_type": "stream",
     "text": [
      "For marine, biosphere\n"
     ]
    },
    {
     "name": "stderr",
     "output_type": "stream",
     "text": [
      "100%|██████████| 179484/179484 [01:49<00:00, 1641.69it/s]\n",
      "  0%|          | 17/179484 [00:00<19:06, 156.56it/s]"
     ]
    },
    {
     "name": "stdout",
     "output_type": "stream",
     "text": [
      "For marine, conservation\n"
     ]
    },
    {
     "name": "stderr",
     "output_type": "stream",
     "text": [
      "100%|██████████| 179484/179484 [04:05<00:00, 732.10it/s]\n",
      "  0%|          | 0/179484 [00:00<?, ?it/s]"
     ]
    },
    {
     "name": "stdout",
     "output_type": "stream",
     "text": [
      "For marine, other\n"
     ]
    },
    {
     "name": "stderr",
     "output_type": "stream",
     "text": [
      "100%|██████████| 179484/179484 [43:06<00:00, 15.88it/s]\n"
     ]
    }
   ],
   "source": [
    "# DataFrames to save the outputs\n",
    "marine_per = marine[['cell_id', 'geometry']]\n",
    "terrestrial_per = terrestrial[['cell_id', 'geometry']]\n",
    "\n",
    "# Dictionaries with the different grids and protected areas\n",
    "grids = {\"terrestrial\":terrestrial, \"marine\":marine}\n",
    "areas = {\"strict\":strict, \"biosphere\":biosphere, \"conservation\":conservation, \"other\":other, \"all_wdpa\":all_wdpa}\n",
    "\n",
    "for grid_key in grids.keys():\n",
    "    for area_key in areas.keys():\n",
    "        print(f\"For {grid_key}, {area_key}\")\n",
    "        percentage = rtree_intersect(areas[area_key], grids[grid_key])\n",
    "        if grid_key is \"terrestrial\":\n",
    "            terrestrial_per[area_key] = percentage\n",
    "            terrestrial_per[area_key] = terrestrial_per[area_key].map('{:3.1f}'.format).apply(pd.to_numeric)\n",
    "        else:\n",
    "            marine_per[area_key] = percentage\n",
    "            marine_per[area_key] = marine_per[area_key].map('{:3.1f}'.format).apply(pd.to_numeric)"
   ]
  },
  {
   "cell_type": "markdown",
   "metadata": {},
   "source": [
    "**Example of an\n",
    "individual cells**"
   ]
  },
  {
   "cell_type": "code",
   "execution_count": 62,
   "metadata": {},
   "outputs": [],
   "source": [
    "def rtree_intersect_cell(gdf, cell):\n",
    "    sindex = gdf.sindex\n",
    "    # protected areas that intersect with the cell\n",
    "    possible_matches_index = list(sindex.intersection(cell.bounds))\n",
    "    possible_matches = gdf.iloc[possible_matches_index]\n",
    "    # intersection between the protected areas and the cell\n",
    "    precise_matches = possible_matches.intersection(cell)\n",
    "    # percentage of the cell covered by protected areas\n",
    "    percentage.append(cascaded_union(precise_matches).area/cell.area*100) \n",
    "    return percentage"
   ]
  },
  {
   "cell_type": "code",
   "execution_count": 82,
   "metadata": {},
   "outputs": [],
   "source": [
    "grids = {\"terrestrial\":terrestrial, \"marine\":marine}\n",
    "areas = {\"strict\":strict, \"biosphere\":biosphere, \"conservation\":conservation, \"other\":other}\n",
    "\n",
    "grid = grids['terrestrial']\n",
    "gdf = areas['other']\n",
    "\n",
    "cell = terrestrial[terrestrial['cell_id'] == '9811'].geometry.iloc[0]"
   ]
  },
  {
   "cell_type": "code",
   "execution_count": 83,
   "metadata": {},
   "outputs": [
    {
     "data": {
      "text/plain": [
       "6.084124205692463"
      ]
     },
     "execution_count": 83,
     "metadata": {},
     "output_type": "execute_result"
    }
   ],
   "source": [
    "sindex = gdf.sindex\n",
    "# protected areas that intersect with the cell\n",
    "possible_matches_index = list(sindex.intersection(cell.bounds))\n",
    "possible_matches = gdf.iloc[possible_matches_index]\n",
    "# intersection between the protected areas and the cell\n",
    "precise_matches = possible_matches.intersection(cell)\n",
    "# percentage of the cell covered by protected areas\n",
    "cascaded_union(precise_matches).area/cell.area*100"
   ]
  },
  {
   "cell_type": "code",
   "execution_count": 87,
   "metadata": {},
   "outputs": [
    {
     "data": {
      "text/plain": [
       "(29.965066214788994, 31.328396867816803)"
      ]
     },
     "execution_count": 87,
     "metadata": {},
     "output_type": "execute_result"
    },
    {
     "data": {
      "image/png": "[encoded data removed]",
      "text/plain": [
       "<Figure size 360x360 with 1 Axes>"
      ]
     },
     "metadata": {},
     "output_type": "display_data"
    }
   ],
   "source": [
    "fig, ax = plt.subplots(figsize=[5,5])\n",
    "ax.set_aspect('equal')\n",
    "\n",
    "possible_matches.plot(ax=ax,color='r')\n",
    "precise_matches.plot(ax=ax,color='g')\n",
    "gpd.GeoDataFrame({'geometry':cell}).plot(ax=ax,color='w', edgecolor='b', alpha=0.5)\n",
    "\n",
    "plt.xlim(cell.bounds[0]-0.1,cell.bounds[2]+0.1)\n",
    "plt.ylim(cell.bounds[1]-0.1,cell.bounds[3]+0.1)"
   ]
  },
  {
   "cell_type": "markdown",
   "metadata": {},
   "source": [
    "**Add percentage columns to table**"
   ]
  },
  {
   "cell_type": "code",
   "execution_count": null,
   "metadata": {},
   "outputs": [],
   "source": [
    "terrestrial_per.drop(columns=['geometry'], inplace= True)\n",
    "marine_per.drop(columns=['geometry'], inplace= True)\n",
    "per = pd.concat([terrestrial_per,marine_per])\n",
    "df_new = pd.merge(df, per, how='left', on=['cell_id'])"
   ]
  },
  {
   "cell_type": "markdown",
   "metadata": {},
   "source": [
    "**Save new table**"
   ]
  },
  {
   "cell_type": "code",
   "execution_count": 25,
   "metadata": {},
   "outputs": [],
   "source": [
    "df_new.to_file(path+'global_facets_attr_pressures_vizz/global_facets_attr_pressures_vizz.shp')"
   ]
  },
  {
   "cell_type": "markdown",
   "metadata": {},
   "source": [
    "**Add the columns of interest to a new table in carto**"
   ]
  },
  {
   "cell_type": "markdown",
   "metadata": {},
   "source": [
    "```sql\n",
    "\n",
    "WITH b as (SELECT cell_id, strict, conservati, biosphere, other, rank_sr, rank_rsr, rank_total, location, taxa, feature_da FROM global_facets_attr_pressures_vizz_old)\n",
    "\n",
    "SELECT row_number() over() as cartodb_id, a.the_geom, a.the_geom_webmercator,\n",
    "a.taxa, a.focal_spp, a.cell_id_nu, a.prop_land, a.isisland, a.agricultur, a.urban, a.rainfed, a.sr, a.ave_rsr, a.sum_rsr, a.ave_rsr_pc, a.sum_rsr_pc, a.sr_pc, a.cell_id,\n",
    "b.strict, b.conservati, b.biosphere, b.other, b.rank_sr, b.rank_rsr, b.rank_total, b.location, b.feature_da FROM global_facets_20181004 as a\n",
    "INNER JOIN b ON a.cell_id = b.cell_id AND a.taxa = b.taxa\n",
    "\n",
    "\n",
    "```"
   ]
  },
  {
   "cell_type": "code",
   "execution_count": null,
   "metadata": {},
   "outputs": [],
   "source": []
  }
 ],
 "metadata": {
  "kernelspec": {
   "display_name": "Python 3",
   "language": "python",
   "name": "python3"
  },
  "language_info": {
   "codemirror_mode": {
    "name": "ipython",
    "version": 3
   },
   "file_extension": ".py",
   "mimetype": "text/x-python",
   "name": "python",
   "nbconvert_exporter": "python",
   "pygments_lexer": "ipython3",
   "version": "3.6.4"
  }
 },
 "nbformat": 4,
 "nbformat_minor": 2
}
