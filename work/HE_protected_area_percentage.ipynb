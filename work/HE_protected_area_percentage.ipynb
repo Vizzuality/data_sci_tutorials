{
 "cells": [
  {
   "cell_type": "code",
   "execution_count": 7,
   "metadata": {},
   "outputs": [],
   "source": [
    "import requests\n",
    "import pandas as pd\n",
    "import geopandas as gpd\n",
    "import numpy as np\n",
    "import shapely.wkb \n",
    "from shapely.ops import cascaded_union, unary_union\n",
    "from shapely.geometry import Polygon, Point, MultiPolygon\n",
    "from tqdm import tqdm\n",
    "import matplotlib.pyplot as plt\n",
    "\n",
    "%matplotlib inline"
   ]
  },
  {
   "cell_type": "markdown",
   "metadata": {},
   "source": [
    "# Protected areas percentage"
   ]
  },
  {
   "cell_type": "markdown",
   "metadata": {},
   "source": [
    "### Read Global Facets table"
   ]
  },
  {
   "cell_type": "code",
   "execution_count": 5,
   "metadata": {},
   "outputs": [],
   "source": [
    "path = '../data/'"
   ]
  },
  {
   "cell_type": "code",
   "execution_count": 6,
   "metadata": {},
   "outputs": [
    {
     "ename": "DriverError",
     "evalue": "../data/global_facets_attr_pressures_all/global_facets_attr_pressures.shp: No such file or directory",
     "output_type": "error",
     "traceback": [
      "\u001b[0;31m---------------------------------------------------------------------------\u001b[0m",
      "\u001b[0;31mCPLE_OpenFailedError\u001b[0m                      Traceback (most recent call last)",
      "\u001b[0;32mfiona/_shim.pyx\u001b[0m in \u001b[0;36mfiona._shim.gdal_open_vector\u001b[0;34m()\u001b[0m\n",
      "\u001b[0;32mfiona/_err.pyx\u001b[0m in \u001b[0;36mfiona._err.exc_wrap_pointer\u001b[0;34m()\u001b[0m\n",
      "\u001b[0;31mCPLE_OpenFailedError\u001b[0m: ../data/global_facets_attr_pressures_all/global_facets_attr_pressures.shp: No such file or directory",
      "\nDuring handling of the above exception, another exception occurred:\n",
      "\u001b[0;31mDriverError\u001b[0m                               Traceback (most recent call last)",
      "\u001b[0;32m<ipython-input-6-c8146469f4d3>\u001b[0m in \u001b[0;36m<module>\u001b[0;34m\u001b[0m\n\u001b[0;32m----> 1\u001b[0;31m \u001b[0mdf\u001b[0m \u001b[0;34m=\u001b[0m \u001b[0mgpd\u001b[0m\u001b[0;34m.\u001b[0m\u001b[0mread_file\u001b[0m\u001b[0;34m(\u001b[0m\u001b[0mpath\u001b[0m\u001b[0;34m+\u001b[0m\u001b[0;34m'global_facets_attr_pressures_all/global_facets_attr_pressures.shp'\u001b[0m\u001b[0;34m)\u001b[0m\u001b[0;34m\u001b[0m\u001b[0;34m\u001b[0m\u001b[0m\n\u001b[0m\u001b[1;32m      2\u001b[0m \u001b[0mdf\u001b[0m\u001b[0;34m.\u001b[0m\u001b[0mcolumns\u001b[0m \u001b[0;34m=\u001b[0m \u001b[0mmap\u001b[0m\u001b[0;34m(\u001b[0m\u001b[0mstr\u001b[0m\u001b[0;34m.\u001b[0m\u001b[0mlower\u001b[0m\u001b[0;34m,\u001b[0m \u001b[0mdf\u001b[0m\u001b[0;34m.\u001b[0m\u001b[0mcolumns\u001b[0m\u001b[0;34m)\u001b[0m\u001b[0;34m\u001b[0m\u001b[0;34m\u001b[0m\u001b[0m\n",
      "\u001b[0;32m~/anaconda3/lib/python3.8/site-packages/geopandas/io/file.py\u001b[0m in \u001b[0;36m_read_file\u001b[0;34m(filename, bbox, mask, rows, **kwargs)\u001b[0m\n\u001b[1;32m    199\u001b[0m \u001b[0;34m\u001b[0m\u001b[0m\n\u001b[1;32m    200\u001b[0m     \u001b[0;32mwith\u001b[0m \u001b[0mfiona_env\u001b[0m\u001b[0;34m(\u001b[0m\u001b[0;34m)\u001b[0m\u001b[0;34m:\u001b[0m\u001b[0;34m\u001b[0m\u001b[0;34m\u001b[0m\u001b[0m\n\u001b[0;32m--> 201\u001b[0;31m         \u001b[0;32mwith\u001b[0m \u001b[0mreader\u001b[0m\u001b[0;34m(\u001b[0m\u001b[0mpath_or_bytes\u001b[0m\u001b[0;34m,\u001b[0m \u001b[0;34m**\u001b[0m\u001b[0mkwargs\u001b[0m\u001b[0;34m)\u001b[0m \u001b[0;32mas\u001b[0m \u001b[0mfeatures\u001b[0m\u001b[0;34m:\u001b[0m\u001b[0;34m\u001b[0m\u001b[0;34m\u001b[0m\u001b[0m\n\u001b[0m\u001b[1;32m    202\u001b[0m \u001b[0;34m\u001b[0m\u001b[0m\n\u001b[1;32m    203\u001b[0m             \u001b[0;31m# In a future Fiona release the crs attribute of features will\u001b[0m\u001b[0;34m\u001b[0m\u001b[0;34m\u001b[0m\u001b[0;34m\u001b[0m\u001b[0m\n",
      "\u001b[0;32m~/anaconda3/lib/python3.8/site-packages/fiona/env.py\u001b[0m in \u001b[0;36mwrapper\u001b[0;34m(*args, **kwargs)\u001b[0m\n\u001b[1;32m    406\u001b[0m     \u001b[0;32mdef\u001b[0m \u001b[0mwrapper\u001b[0m\u001b[0;34m(\u001b[0m\u001b[0;34m*\u001b[0m\u001b[0margs\u001b[0m\u001b[0;34m,\u001b[0m \u001b[0;34m**\u001b[0m\u001b[0mkwargs\u001b[0m\u001b[0;34m)\u001b[0m\u001b[0;34m:\u001b[0m\u001b[0;34m\u001b[0m\u001b[0;34m\u001b[0m\u001b[0m\n\u001b[1;32m    407\u001b[0m         \u001b[0;32mif\u001b[0m \u001b[0mlocal\u001b[0m\u001b[0;34m.\u001b[0m\u001b[0m_env\u001b[0m\u001b[0;34m:\u001b[0m\u001b[0;34m\u001b[0m\u001b[0;34m\u001b[0m\u001b[0m\n\u001b[0;32m--> 408\u001b[0;31m             \u001b[0;32mreturn\u001b[0m \u001b[0mf\u001b[0m\u001b[0;34m(\u001b[0m\u001b[0;34m*\u001b[0m\u001b[0margs\u001b[0m\u001b[0;34m,\u001b[0m \u001b[0;34m**\u001b[0m\u001b[0mkwargs\u001b[0m\u001b[0;34m)\u001b[0m\u001b[0;34m\u001b[0m\u001b[0;34m\u001b[0m\u001b[0m\n\u001b[0m\u001b[1;32m    409\u001b[0m         \u001b[0;32melse\u001b[0m\u001b[0;34m:\u001b[0m\u001b[0;34m\u001b[0m\u001b[0;34m\u001b[0m\u001b[0m\n\u001b[1;32m    410\u001b[0m             \u001b[0;32mif\u001b[0m \u001b[0misinstance\u001b[0m\u001b[0;34m(\u001b[0m\u001b[0margs\u001b[0m\u001b[0;34m[\u001b[0m\u001b[0;36m0\u001b[0m\u001b[0;34m]\u001b[0m\u001b[0;34m,\u001b[0m \u001b[0mstr\u001b[0m\u001b[0;34m)\u001b[0m\u001b[0;34m:\u001b[0m\u001b[0;34m\u001b[0m\u001b[0;34m\u001b[0m\u001b[0m\n",
      "\u001b[0;32m~/anaconda3/lib/python3.8/site-packages/fiona/__init__.py\u001b[0m in \u001b[0;36mopen\u001b[0;34m(fp, mode, driver, schema, crs, encoding, layer, vfs, enabled_drivers, crs_wkt, **kwargs)\u001b[0m\n\u001b[1;32m    262\u001b[0m \u001b[0;34m\u001b[0m\u001b[0m\n\u001b[1;32m    263\u001b[0m         \u001b[0;32mif\u001b[0m \u001b[0mmode\u001b[0m \u001b[0;32min\u001b[0m \u001b[0;34m(\u001b[0m\u001b[0;34m'a'\u001b[0m\u001b[0;34m,\u001b[0m \u001b[0;34m'r'\u001b[0m\u001b[0;34m)\u001b[0m\u001b[0;34m:\u001b[0m\u001b[0;34m\u001b[0m\u001b[0;34m\u001b[0m\u001b[0m\n\u001b[0;32m--> 264\u001b[0;31m             c = Collection(path, mode, driver=driver, encoding=encoding,\n\u001b[0m\u001b[1;32m    265\u001b[0m                            layer=layer, enabled_drivers=enabled_drivers, **kwargs)\n\u001b[1;32m    266\u001b[0m         \u001b[0;32melif\u001b[0m \u001b[0mmode\u001b[0m \u001b[0;34m==\u001b[0m \u001b[0;34m'w'\u001b[0m\u001b[0;34m:\u001b[0m\u001b[0;34m\u001b[0m\u001b[0;34m\u001b[0m\u001b[0m\n",
      "\u001b[0;32m~/anaconda3/lib/python3.8/site-packages/fiona/collection.py\u001b[0m in \u001b[0;36m__init__\u001b[0;34m(self, path, mode, driver, schema, crs, encoding, layer, vsi, archive, enabled_drivers, crs_wkt, ignore_fields, ignore_geometry, **kwargs)\u001b[0m\n\u001b[1;32m    160\u001b[0m             \u001b[0;32mif\u001b[0m \u001b[0mself\u001b[0m\u001b[0;34m.\u001b[0m\u001b[0mmode\u001b[0m \u001b[0;34m==\u001b[0m \u001b[0;34m'r'\u001b[0m\u001b[0;34m:\u001b[0m\u001b[0;34m\u001b[0m\u001b[0;34m\u001b[0m\u001b[0m\n\u001b[1;32m    161\u001b[0m                 \u001b[0mself\u001b[0m\u001b[0;34m.\u001b[0m\u001b[0msession\u001b[0m \u001b[0;34m=\u001b[0m \u001b[0mSession\u001b[0m\u001b[0;34m(\u001b[0m\u001b[0;34m)\u001b[0m\u001b[0;34m\u001b[0m\u001b[0;34m\u001b[0m\u001b[0m\n\u001b[0;32m--> 162\u001b[0;31m                 \u001b[0mself\u001b[0m\u001b[0;34m.\u001b[0m\u001b[0msession\u001b[0m\u001b[0;34m.\u001b[0m\u001b[0mstart\u001b[0m\u001b[0;34m(\u001b[0m\u001b[0mself\u001b[0m\u001b[0;34m,\u001b[0m \u001b[0;34m**\u001b[0m\u001b[0mkwargs\u001b[0m\u001b[0;34m)\u001b[0m\u001b[0;34m\u001b[0m\u001b[0;34m\u001b[0m\u001b[0m\n\u001b[0m\u001b[1;32m    163\u001b[0m             \u001b[0;32melif\u001b[0m \u001b[0mself\u001b[0m\u001b[0;34m.\u001b[0m\u001b[0mmode\u001b[0m \u001b[0;32min\u001b[0m \u001b[0;34m(\u001b[0m\u001b[0;34m'a'\u001b[0m\u001b[0;34m,\u001b[0m \u001b[0;34m'w'\u001b[0m\u001b[0;34m)\u001b[0m\u001b[0;34m:\u001b[0m\u001b[0;34m\u001b[0m\u001b[0;34m\u001b[0m\u001b[0m\n\u001b[1;32m    164\u001b[0m                 \u001b[0mself\u001b[0m\u001b[0;34m.\u001b[0m\u001b[0msession\u001b[0m \u001b[0;34m=\u001b[0m \u001b[0mWritingSession\u001b[0m\u001b[0;34m(\u001b[0m\u001b[0;34m)\u001b[0m\u001b[0;34m\u001b[0m\u001b[0;34m\u001b[0m\u001b[0m\n",
      "\u001b[0;32mfiona/ogrext.pyx\u001b[0m in \u001b[0;36mfiona.ogrext.Session.start\u001b[0;34m()\u001b[0m\n",
      "\u001b[0;32mfiona/_shim.pyx\u001b[0m in \u001b[0;36mfiona._shim.gdal_open_vector\u001b[0;34m()\u001b[0m\n",
      "\u001b[0;31mDriverError\u001b[0m: ../data/global_facets_attr_pressures_all/global_facets_attr_pressures.shp: No such file or directory"
     ]
    }
   ],
   "source": [
    "df = gpd.read_file(path+'global_facets_attr_pressures_all/global_facets_attr_pressures.shp')\n",
    "df.columns = map(str.lower, df.columns)"
   ]
  },
  {
   "cell_type": "markdown",
   "metadata": {},
   "source": [
    "### Read Terrestrial and Marine grids\n",
    "\n",
    "We read the grids from the carto account"
   ]
  },
  {
   "cell_type": "code",
   "execution_count": 2,
   "metadata": {},
   "outputs": [],
   "source": [
    "account = 'half-earth'\n",
    "urlCarto = f\"https://{account}.carto.com/api/v2/sql\""
   ]
  },
  {
   "cell_type": "markdown",
   "metadata": {},
   "source": [
    "**Terrestrial grid**"
   ]
  },
  {
   "cell_type": "code",
   "execution_count": 3,
   "metadata": {},
   "outputs": [
    {
     "name": "stderr",
     "output_type": "stream",
     "text": [
      "/home/iker/anaconda3/lib/python3.8/site-packages/pandas/core/dtypes/inference.py:384: ShapelyDeprecationWarning: Iteration over multi-part geometries is deprecated and will be removed in Shapely 2.0. Use the `geoms` property to access the constituent parts of a multi-part geometry.\n",
      "  iter(obj)  # Can iterate over it.\n",
      "/home/iker/anaconda3/lib/python3.8/site-packages/pandas/core/dtypes/inference.py:385: ShapelyDeprecationWarning: __len__ for multi-part geometries is deprecated and will be removed in Shapely 2.0. Check the length of the `geoms` property instead to get the  number of parts of a multi-part geometry.\n",
      "  len(obj)  # Has a length associated with it.\n",
      "/home/iker/anaconda3/lib/python3.8/site-packages/pandas/core/dtypes/cast.py:1638: ShapelyDeprecationWarning: __len__ for multi-part geometries is deprecated and will be removed in Shapely 2.0. Check the length of the `geoms` property instead to get the  number of parts of a multi-part geometry.\n",
      "  result[:] = values\n"
     ]
    },
    {
     "data": {
      "text/html": [
       "<div>\n",
       "<style scoped>\n",
       "    .dataframe tbody tr th:only-of-type {\n",
       "        vertical-align: middle;\n",
       "    }\n",
       "\n",
       "    .dataframe tbody tr th {\n",
       "        vertical-align: top;\n",
       "    }\n",
       "\n",
       "    .dataframe thead th {\n",
       "        text-align: right;\n",
       "    }\n",
       "</style>\n",
       "<table border=\"1\" class=\"dataframe\">\n",
       "  <thead>\n",
       "    <tr style=\"text-align: right;\">\n",
       "      <th></th>\n",
       "      <th>cartodb_id</th>\n",
       "      <th>cell_id</th>\n",
       "      <th>geometry</th>\n",
       "    </tr>\n",
       "  </thead>\n",
       "  <tbody>\n",
       "    <tr>\n",
       "      <th>120</th>\n",
       "      <td>1</td>\n",
       "      <td>21572</td>\n",
       "      <td>MULTIPOLYGON (((152.00000 -3.29760, 151.50000 ...</td>\n",
       "    </tr>\n",
       "    <tr>\n",
       "      <th>121</th>\n",
       "      <td>2</td>\n",
       "      <td>23696</td>\n",
       "      <td>MULTIPOLYGON (((116.00000 -9.33705, 115.50000 ...</td>\n",
       "    </tr>\n",
       "    <tr>\n",
       "      <th>122</th>\n",
       "      <td>3</td>\n",
       "      <td>20468</td>\n",
       "      <td>MULTIPOLYGON (((127.00000 -0.29578, 127.00000 ...</td>\n",
       "    </tr>\n",
       "    <tr>\n",
       "      <th>123</th>\n",
       "      <td>4</td>\n",
       "      <td>18301</td>\n",
       "      <td>MULTIPOLYGON (((121.00000 5.71369, 120.50000 5...</td>\n",
       "    </tr>\n",
       "    <tr>\n",
       "      <th>124</th>\n",
       "      <td>5</td>\n",
       "      <td>23351</td>\n",
       "      <td>MULTIPOLYGON (((131.00000 -8.32504, 130.50000 ...</td>\n",
       "    </tr>\n",
       "  </tbody>\n",
       "</table>\n",
       "</div>"
      ],
      "text/plain": [
       "     cartodb_id cell_id                                           geometry\n",
       "120           1   21572  MULTIPOLYGON (((152.00000 -3.29760, 151.50000 ...\n",
       "121           2   23696  MULTIPOLYGON (((116.00000 -9.33705, 115.50000 ...\n",
       "122           3   20468  MULTIPOLYGON (((127.00000 -0.29578, 127.00000 ...\n",
       "123           4   18301  MULTIPOLYGON (((121.00000 5.71369, 120.50000 5...\n",
       "124           5   23351  MULTIPOLYGON (((131.00000 -8.32504, 130.50000 ..."
      ]
     },
     "execution_count": 3,
     "metadata": {},
     "output_type": "execute_result"
    }
   ],
   "source": [
    "query =(\"SELECT cartodb_id, cell_id, the_geom FROM terrestrial_grid\")\n",
    "\n",
    "sql = {\"q\": query}\n",
    "r = requests.get(urlCarto, params=sql)\n",
    "\n",
    "data = r.json()\n",
    "\n",
    "terrestrial = gpd.GeoDataFrame(data.get(\"rows\"))\n",
    "# Change geometry from WKB to WKT format\n",
    "terrestrial['geometry'] = terrestrial.apply(lambda x: shapely.wkb.loads(x['the_geom'],hex=True), axis=1 )\n",
    "terrestrial.drop(columns='the_geom', inplace=True)\n",
    "terrestrial.sort_values(by=['cartodb_id'], inplace=True)\n",
    "terrestrial.head()"
   ]
  },
  {
   "cell_type": "markdown",
   "metadata": {},
   "source": [
    "**Marine grid**"
   ]
  },
  {
   "cell_type": "code",
   "execution_count": 4,
   "metadata": {},
   "outputs": [
    {
     "name": "stderr",
     "output_type": "stream",
     "text": [
      "/home/iker/anaconda3/lib/python3.8/site-packages/pandas/core/dtypes/inference.py:384: ShapelyDeprecationWarning: Iteration over multi-part geometries is deprecated and will be removed in Shapely 2.0. Use the `geoms` property to access the constituent parts of a multi-part geometry.\n",
      "  iter(obj)  # Can iterate over it.\n",
      "/home/iker/anaconda3/lib/python3.8/site-packages/pandas/core/dtypes/inference.py:385: ShapelyDeprecationWarning: __len__ for multi-part geometries is deprecated and will be removed in Shapely 2.0. Check the length of the `geoms` property instead to get the  number of parts of a multi-part geometry.\n",
      "  len(obj)  # Has a length associated with it.\n",
      "/home/iker/anaconda3/lib/python3.8/site-packages/pandas/core/dtypes/cast.py:1638: ShapelyDeprecationWarning: __len__ for multi-part geometries is deprecated and will be removed in Shapely 2.0. Check the length of the `geoms` property instead to get the  number of parts of a multi-part geometry.\n",
      "  result[:] = values\n"
     ]
    }
   ],
   "source": [
    "query =(\"SELECT cartodb_id, cell_id, the_geom FROM marine_grid\")\n",
    "\n",
    "sql = {\"q\": query}\n",
    "r = requests.get(urlCarto, params=sql)\n",
    "\n",
    "data = r.json()\n",
    "\n",
    "marine = gpd.GeoDataFrame(data.get(\"rows\"))\n",
    "# Change geometry from WKB to WKT format\n",
    "marine['geometry'] = marine.apply(lambda x: shapely.wkb.loads(x['the_geom'],hex=True), axis=1 )\n",
    "marine.drop(columns='the_geom', inplace=True)\n",
    "marine.sort_values(by=['cartodb_id'], inplace=True)"
   ]
  },
  {
   "cell_type": "markdown",
   "metadata": {},
   "source": [
    "### Read Protected Areas"
   ]
  },
  {
   "cell_type": "code",
   "execution_count": 5,
   "metadata": {},
   "outputs": [
    {
     "ename": "NameError",
     "evalue": "name 'path' is not defined",
     "output_type": "error",
     "traceback": [
      "\u001b[0;31m---------------------------------------------------------------------------\u001b[0m",
      "\u001b[0;31mNameError\u001b[0m                                 Traceback (most recent call last)",
      "\u001b[0;32m<ipython-input-5-4ceaac05f71a>\u001b[0m in \u001b[0;36m<module>\u001b[0;34m\u001b[0m\n\u001b[0;32m----> 1\u001b[0;31m \u001b[0mall_wdpa\u001b[0m \u001b[0;34m=\u001b[0m \u001b[0mgpd\u001b[0m\u001b[0;34m.\u001b[0m\u001b[0mread_file\u001b[0m\u001b[0;34m(\u001b[0m\u001b[0mpath\u001b[0m\u001b[0;34m+\u001b[0m\u001b[0;34m'wdpa_protected_areas/wdpa_protected_areas.shp'\u001b[0m\u001b[0;34m)\u001b[0m\u001b[0;34m\u001b[0m\u001b[0;34m\u001b[0m\u001b[0m\n\u001b[0m",
      "\u001b[0;31mNameError\u001b[0m: name 'path' is not defined"
     ]
    }
   ],
   "source": [
    "all_wdpa = gpd.read_file(path+'wdpa_protected_areas/wdpa_protected_areas.shp')"
   ]
  },
  {
   "cell_type": "code",
   "execution_count": 8,
   "metadata": {},
   "outputs": [
    {
     "name": "stderr",
     "output_type": "stream",
     "text": [
      "/home/iker/anaconda3/lib/python3.8/site-packages/pandas/core/dtypes/inference.py:384: ShapelyDeprecationWarning: Iteration over multi-part geometries is deprecated and will be removed in Shapely 2.0. Use the `geoms` property to access the constituent parts of a multi-part geometry.\n",
      "  iter(obj)  # Can iterate over it.\n",
      "/home/iker/anaconda3/lib/python3.8/site-packages/pandas/core/dtypes/inference.py:385: ShapelyDeprecationWarning: __len__ for multi-part geometries is deprecated and will be removed in Shapely 2.0. Check the length of the `geoms` property instead to get the  number of parts of a multi-part geometry.\n",
      "  len(obj)  # Has a length associated with it.\n",
      "/home/iker/anaconda3/lib/python3.8/site-packages/pandas/core/dtypes/cast.py:1638: ShapelyDeprecationWarning: __len__ for multi-part geometries is deprecated and will be removed in Shapely 2.0. Check the length of the `geoms` property instead to get the  number of parts of a multi-part geometry.\n",
      "  result[:] = values\n"
     ]
    }
   ],
   "source": [
    "query =(\"SELECT cartodb_id, iucn_cat, desig_eng, the_geom FROM wdpa_protected_areas\")\n",
    "\n",
    "sql = {\"q\": query}\n",
    "r = requests.get(urlCarto, params=sql)\n",
    "\n",
    "data = r.json()\n",
    "\n",
    "all_wdpa = gpd.GeoDataFrame(data.get(\"rows\"))\n",
    "# Change geometry from WKB to WKT format\n",
    "all_wdpa['geometry'] = all_wdpa.apply(lambda x: shapely.wkb.loads(x['the_geom'],hex=True), axis=1 )\n",
    "all_wdpa.drop(columns='the_geom', inplace=True)\n",
    "all_wdpa.sort_values(by=['cartodb_id'], inplace=True)"
   ]
  },
  {
   "cell_type": "code",
   "execution_count": 9,
   "metadata": {},
   "outputs": [
    {
     "data": {
      "text/html": [
       "<div>\n",
       "<style scoped>\n",
       "    .dataframe tbody tr th:only-of-type {\n",
       "        vertical-align: middle;\n",
       "    }\n",
       "\n",
       "    .dataframe tbody tr th {\n",
       "        vertical-align: top;\n",
       "    }\n",
       "\n",
       "    .dataframe thead th {\n",
       "        text-align: right;\n",
       "    }\n",
       "</style>\n",
       "<table border=\"1\" class=\"dataframe\">\n",
       "  <thead>\n",
       "    <tr style=\"text-align: right;\">\n",
       "      <th></th>\n",
       "      <th>cartodb_id</th>\n",
       "      <th>iucn_cat</th>\n",
       "      <th>desig_eng</th>\n",
       "      <th>geometry</th>\n",
       "    </tr>\n",
       "  </thead>\n",
       "  <tbody>\n",
       "    <tr>\n",
       "      <th>0</th>\n",
       "      <td>844530</td>\n",
       "      <td>Not Reported</td>\n",
       "      <td>Ramsar Site, Wetland of International Importance</td>\n",
       "      <td>MULTIPOLYGON (((5.90003 8.95104, 5.91665 8.900...</td>\n",
       "    </tr>\n",
       "    <tr>\n",
       "      <th>6077</th>\n",
       "      <td>844531</td>\n",
       "      <td>Not Reported</td>\n",
       "      <td>Ramsar Site, Wetland of International Importance</td>\n",
       "      <td>MULTIPOLYGON (((17.49386 45.12667, 17.49335 45...</td>\n",
       "    </tr>\n",
       "    <tr>\n",
       "      <th>6080</th>\n",
       "      <td>844532</td>\n",
       "      <td>Not Reported</td>\n",
       "      <td>Ramsar Site, Wetland of International Importance</td>\n",
       "      <td>MULTIPOLYGON (((35.67713 36.73851, 35.67887 36...</td>\n",
       "    </tr>\n",
       "    <tr>\n",
       "      <th>2</th>\n",
       "      <td>844533</td>\n",
       "      <td>Not Reported</td>\n",
       "      <td>Ramsar Site, Wetland of International Importance</td>\n",
       "      <td>MULTIPOLYGON (((27.06407 65.25402, 27.06510 65...</td>\n",
       "    </tr>\n",
       "    <tr>\n",
       "      <th>6083</th>\n",
       "      <td>844534</td>\n",
       "      <td>Not Reported</td>\n",
       "      <td>Ramsar Site, Wetland of International Importance</td>\n",
       "      <td>MULTIPOLYGON (((25.45955 61.07026, 25.46062 61...</td>\n",
       "    </tr>\n",
       "  </tbody>\n",
       "</table>\n",
       "</div>"
      ],
      "text/plain": [
       "      cartodb_id      iucn_cat  \\\n",
       "0         844530  Not Reported   \n",
       "6077      844531  Not Reported   \n",
       "6080      844532  Not Reported   \n",
       "2         844533  Not Reported   \n",
       "6083      844534  Not Reported   \n",
       "\n",
       "                                             desig_eng  \\\n",
       "0     Ramsar Site, Wetland of International Importance   \n",
       "6077  Ramsar Site, Wetland of International Importance   \n",
       "6080  Ramsar Site, Wetland of International Importance   \n",
       "2     Ramsar Site, Wetland of International Importance   \n",
       "6083  Ramsar Site, Wetland of International Importance   \n",
       "\n",
       "                                               geometry  \n",
       "0     MULTIPOLYGON (((5.90003 8.95104, 5.91665 8.900...  \n",
       "6077  MULTIPOLYGON (((17.49386 45.12667, 17.49335 45...  \n",
       "6080  MULTIPOLYGON (((35.67713 36.73851, 35.67887 36...  \n",
       "2     MULTIPOLYGON (((27.06407 65.25402, 27.06510 65...  \n",
       "6083  MULTIPOLYGON (((25.45955 61.07026, 25.46062 61...  "
      ]
     },
     "execution_count": 9,
     "metadata": {},
     "output_type": "execute_result"
    }
   ],
   "source": [
    "all_wdpa.head()"
   ]
  },
  {
   "cell_type": "markdown",
   "metadata": {},
   "source": [
    "**Strict**"
   ]
  },
  {
   "cell_type": "code",
   "execution_count": 10,
   "metadata": {},
   "outputs": [],
   "source": [
    "strict = all_wdpa[(all_wdpa['iucn_cat'] == 'Ia') | \n",
    "                         (all_wdpa['iucn_cat'] == 'Ib') |\n",
    "                         (all_wdpa['iucn_cat'] == 'II') |\n",
    "                         (all_wdpa['iucn_cat'] == 'III')\n",
    "                        ][['cartodb_id', 'geometry']]"
   ]
  },
  {
   "cell_type": "markdown",
   "metadata": {},
   "source": [
    "**Biosphere**"
   ]
  },
  {
   "cell_type": "code",
   "execution_count": 11,
   "metadata": {},
   "outputs": [],
   "source": [
    "biosphere = all_wdpa[all_wdpa['desig_eng'].str.contains('Biosphere', regex=False)][['cartodb_id', 'geometry']]"
   ]
  },
  {
   "cell_type": "markdown",
   "metadata": {},
   "source": [
    "**Other**"
   ]
  },
  {
   "cell_type": "code",
   "execution_count": 12,
   "metadata": {},
   "outputs": [],
   "source": [
    "other = all_wdpa[(all_wdpa['iucn_cat'] != 'Ia') & \n",
    "                         (all_wdpa['iucn_cat'] != 'Ib') &\n",
    "                         (all_wdpa['iucn_cat'] != 'II') &\n",
    "                         (all_wdpa['iucn_cat'] != 'III') &\n",
    "                         (~all_wdpa['desig_eng'].str.contains('Aborig', regex=False)) &\n",
    "                         (~all_wdpa['desig_eng'].str.contains('Indigen', regex=False)) &\n",
    "                         (~all_wdpa['desig_eng'].str.contains('Commun', regex=False)) &\n",
    "                         (~all_wdpa['desig_eng'].str.contains('Conservanc', regex=False)) &\n",
    "                         (~all_wdpa['desig_eng'].str.contains('Local', regex=False)) &\n",
    "                         (~all_wdpa['desig_eng'].str.contains('Region', regex=False)) &\n",
    "                         (~all_wdpa['desig_eng'].str.contains('Trust', regex=False)) &\n",
    "                         (~all_wdpa['desig_eng'].str.contains('Conservator', regex=False)) &\n",
    "                         (~all_wdpa['desig_eng'].str.contains('Private', regex=False)) &\n",
    "                         (~all_wdpa['desig_eng'].str.contains('Nature Center', regex=False)) \n",
    "                        ][['cartodb_id', 'geometry']]"
   ]
  },
  {
   "cell_type": "markdown",
   "metadata": {},
   "source": [
    "**Conservation**"
   ]
  },
  {
   "cell_type": "code",
   "execution_count": null,
   "metadata": {},
   "outputs": [],
   "source": [
    "conservation = gpd.read_file(path+'community_conservation_areas/community_conservation_areas.shp')"
   ]
  },
  {
   "cell_type": "code",
   "execution_count": 13,
   "metadata": {},
   "outputs": [
    {
     "name": "stderr",
     "output_type": "stream",
     "text": [
      "/home/iker/anaconda3/lib/python3.8/site-packages/pandas/core/dtypes/inference.py:384: ShapelyDeprecationWarning: Iteration over multi-part geometries is deprecated and will be removed in Shapely 2.0. Use the `geoms` property to access the constituent parts of a multi-part geometry.\n",
      "  iter(obj)  # Can iterate over it.\n",
      "/home/iker/anaconda3/lib/python3.8/site-packages/pandas/core/dtypes/inference.py:385: ShapelyDeprecationWarning: __len__ for multi-part geometries is deprecated and will be removed in Shapely 2.0. Check the length of the `geoms` property instead to get the  number of parts of a multi-part geometry.\n",
      "  len(obj)  # Has a length associated with it.\n",
      "/home/iker/anaconda3/lib/python3.8/site-packages/pandas/core/dtypes/cast.py:1638: ShapelyDeprecationWarning: __len__ for multi-part geometries is deprecated and will be removed in Shapely 2.0. Check the length of the `geoms` property instead to get the  number of parts of a multi-part geometry.\n",
      "  result[:] = values\n"
     ]
    },
    {
     "data": {
      "text/html": [
       "<div>\n",
       "<style scoped>\n",
       "    .dataframe tbody tr th:only-of-type {\n",
       "        vertical-align: middle;\n",
       "    }\n",
       "\n",
       "    .dataframe tbody tr th {\n",
       "        vertical-align: top;\n",
       "    }\n",
       "\n",
       "    .dataframe thead th {\n",
       "        text-align: right;\n",
       "    }\n",
       "</style>\n",
       "<table border=\"1\" class=\"dataframe\">\n",
       "  <thead>\n",
       "    <tr style=\"text-align: right;\">\n",
       "      <th></th>\n",
       "      <th>cartodb_id</th>\n",
       "      <th>name</th>\n",
       "      <th>source</th>\n",
       "      <th>geometry</th>\n",
       "    </tr>\n",
       "  </thead>\n",
       "  <tbody>\n",
       "    <tr>\n",
       "      <th>8152</th>\n",
       "      <td>1</td>\n",
       "      <td>Konashen (Homestead)</td>\n",
       "      <td>raisg</td>\n",
       "      <td>MULTIPOLYGON (((-59.16912 1.86250, -59.16820 1...</td>\n",
       "    </tr>\n",
       "    <tr>\n",
       "      <th>8153</th>\n",
       "      <td>3</td>\n",
       "      <td>None</td>\n",
       "      <td>raisg</td>\n",
       "      <td>MULTIPOLYGON (((-53.04849 2.91541, -53.04899 2...</td>\n",
       "    </tr>\n",
       "    <tr>\n",
       "      <th>8154</th>\n",
       "      <td>4</td>\n",
       "      <td>None</td>\n",
       "      <td>raisg</td>\n",
       "      <td>MULTIPOLYGON (((-52.58934 2.57824, -52.58644 2...</td>\n",
       "    </tr>\n",
       "    <tr>\n",
       "      <th>8155</th>\n",
       "      <td>5</td>\n",
       "      <td>None</td>\n",
       "      <td>raisg</td>\n",
       "      <td>MULTIPOLYGON (((-54.00549 5.31475, -54.00523 5...</td>\n",
       "    </tr>\n",
       "    <tr>\n",
       "      <th>8156</th>\n",
       "      <td>6</td>\n",
       "      <td>Kamwatta Extension</td>\n",
       "      <td>raisg</td>\n",
       "      <td>MULTIPOLYGON (((-59.90449 8.11459, -59.90447 8...</td>\n",
       "    </tr>\n",
       "  </tbody>\n",
       "</table>\n",
       "</div>"
      ],
      "text/plain": [
       "      cartodb_id                  name source  \\\n",
       "8152           1  Konashen (Homestead)  raisg   \n",
       "8153           3                  None  raisg   \n",
       "8154           4                  None  raisg   \n",
       "8155           5                  None  raisg   \n",
       "8156           6    Kamwatta Extension  raisg   \n",
       "\n",
       "                                               geometry  \n",
       "8152  MULTIPOLYGON (((-59.16912 1.86250, -59.16820 1...  \n",
       "8153  MULTIPOLYGON (((-53.04849 2.91541, -53.04899 2...  \n",
       "8154  MULTIPOLYGON (((-52.58934 2.57824, -52.58644 2...  \n",
       "8155  MULTIPOLYGON (((-54.00549 5.31475, -54.00523 5...  \n",
       "8156  MULTIPOLYGON (((-59.90449 8.11459, -59.90447 8...  "
      ]
     },
     "execution_count": 13,
     "metadata": {},
     "output_type": "execute_result"
    }
   ],
   "source": [
    "query =(\"SELECT cartodb_id, name, source, the_geom FROM community_conservation_areas\")\n",
    "\n",
    "sql = {\"q\": query}\n",
    "r = requests.get(urlCarto, params=sql)\n",
    "\n",
    "data = r.json()\n",
    "\n",
    "conservation = gpd.GeoDataFrame(data.get(\"rows\"))\n",
    "# Change geometry from WKB to WKT format\n",
    "conservation['geometry'] = conservation.apply(lambda x: shapely.wkb.loads(x['the_geom'],hex=True), axis=1 )\n",
    "conservation.drop(columns='the_geom', inplace=True)\n",
    "conservation.sort_values(by=['cartodb_id'], inplace=True)\n",
    "conservation.head()"
   ]
  },
  {
   "cell_type": "markdown",
   "metadata": {},
   "source": [
    "### Percentege of protected areas inside each cell\n",
    "\n",
    "We use geopandas’s R-tree spatial index to find which protected area lie within each grid cells"
   ]
  },
  {
   "cell_type": "code",
   "execution_count": 14,
   "metadata": {},
   "outputs": [],
   "source": [
    "def rtree_intersect(gdf, grid):\n",
    "    percentage = []\n",
    "    sindex = gdf.sindex\n",
    "    # we iterate over the cells\n",
    "    for n, cell in enumerate(tqdm(grid.geometry)):\n",
    "        # protected areas that intersect with the cell\n",
    "        possible_matches_index = list(sindex.intersection(cell.bounds))\n",
    "        possible_matches = gdf.iloc[possible_matches_index]\n",
    "        # intersection between the protected areas and the cell\n",
    "        precise_matches = possible_matches.intersection(cell)\n",
    "        # percentage of the cell covered by protected areas\n",
    "        percentage.append(unary_union(precise_matches).area/cell.area*100) \n",
    "    return percentage"
   ]
  },
  {
   "cell_type": "code",
   "execution_count": 54,
   "metadata": {},
   "outputs": [
    {
     "name": "stderr",
     "output_type": "stream",
     "text": [
      "  0%|          | 0/12670 [00:00<?, ?it/s]"
     ]
    },
    {
     "name": "stdout",
     "output_type": "stream",
     "text": [
      "For terrestrial, strict\n"
     ]
    },
    {
     "name": "stderr",
     "output_type": "stream",
     "text": [
      "100%|██████████| 12670/12670 [1:25:06<00:00,  2.48it/s]\n",
      "  0%|          | 0/12670 [00:00<?, ?it/s]"
     ]
    },
    {
     "name": "stdout",
     "output_type": "stream",
     "text": [
      "For terrestrial, biosphere\n"
     ]
    },
    {
     "name": "stderr",
     "output_type": "stream",
     "text": [
      "100%|██████████| 12670/12670 [00:16<00:00, 779.65it/s]\n"
     ]
    },
    {
     "name": "stdout",
     "output_type": "stream",
     "text": [
      "For terrestrial, conservation\n"
     ]
    },
    {
     "name": "stderr",
     "output_type": "stream",
     "text": [
      "100%|██████████| 12670/12670 [11:32<00:00, 18.28it/s] \n",
      "  0%|          | 2/12670 [00:00<19:22, 10.89it/s]"
     ]
    },
    {
     "name": "stdout",
     "output_type": "stream",
     "text": [
      "For terrestrial, other\n"
     ]
    },
    {
     "name": "stderr",
     "output_type": "stream",
     "text": [
      "100%|██████████| 12670/12670 [1:18:44<00:00,  2.68it/s]\n",
      "  0%|          | 0/179484 [00:00<?, ?it/s]"
     ]
    },
    {
     "name": "stdout",
     "output_type": "stream",
     "text": [
      "For marine, strict\n"
     ]
    },
    {
     "name": "stderr",
     "output_type": "stream",
     "text": [
      "100%|██████████| 179484/179484 [42:44<00:00, 69.98it/s]\n",
      "  0%|          | 311/179484 [00:00<01:59, 1493.75it/s]"
     ]
    },
    {
     "name": "stdout",
     "output_type": "stream",
     "text": [
      "For marine, biosphere\n"
     ]
    },
    {
     "name": "stderr",
     "output_type": "stream",
     "text": [
      "100%|██████████| 179484/179484 [01:49<00:00, 1641.69it/s]\n",
      "  0%|          | 17/179484 [00:00<19:06, 156.56it/s]"
     ]
    },
    {
     "name": "stdout",
     "output_type": "stream",
     "text": [
      "For marine, conservation\n"
     ]
    },
    {
     "name": "stderr",
     "output_type": "stream",
     "text": [
      "100%|██████████| 179484/179484 [04:05<00:00, 732.10it/s]\n",
      "  0%|          | 0/179484 [00:00<?, ?it/s]"
     ]
    },
    {
     "name": "stdout",
     "output_type": "stream",
     "text": [
      "For marine, other\n"
     ]
    },
    {
     "name": "stderr",
     "output_type": "stream",
     "text": [
      "100%|██████████| 179484/179484 [43:06<00:00, 15.88it/s]\n"
     ]
    }
   ],
   "source": [
    "# DataFrames to save the outputs\n",
    "marine_per = marine[['cell_id', 'geometry']]\n",
    "terrestrial_per = terrestrial[['cell_id', 'geometry']]\n",
    "\n",
    "# Dictionaries with the different grids and protected areas\n",
    "grids = {\"terrestrial\":terrestrial, \"marine\":marine}\n",
    "areas = {\"strict\":strict, \"biosphere\":biosphere, \"conservation\":conservation, \"other\":other, \"all_wdpa\":all_wdpa}\n",
    "\n",
    "for grid_key in grids.keys():\n",
    "    for area_key in areas.keys():\n",
    "        print(f\"For {grid_key}, {area_key}\")\n",
    "        percentage = rtree_intersect(areas[area_key], grids[grid_key])\n",
    "        if grid_key is \"terrestrial\":\n",
    "            terrestrial_per[area_key] = percentage\n",
    "            terrestrial_per[area_key] = terrestrial_per[area_key].map('{:3.1f}'.format).apply(pd.to_numeric)\n",
    "        else:\n",
    "            marine_per[area_key] = percentage\n",
    "            marine_per[area_key] = marine_per[area_key].map('{:3.1f}'.format).apply(pd.to_numeric)"
   ]
  },
  {
   "cell_type": "markdown",
   "metadata": {},
   "source": [
    "**Example of an\n",
    "individual cells**"
   ]
  },
  {
   "cell_type": "code",
   "execution_count": 16,
   "metadata": {},
   "outputs": [],
   "source": [
    "def rtree_intersect_cell(gdf, cell):\n",
    "    sindex = gdf.sindex\n",
    "    # protected areas that intersect with the cell\n",
    "    possible_matches_index = list(sindex.intersection(cell.bounds))\n",
    "    possible_matches = gdf.iloc[possible_matches_index]\n",
    "    # intersection between the protected areas and the cell\n",
    "    precise_matches = possible_matches.intersection(cell)\n",
    "    # percentage of the cell covered by protected areas\n",
    "    percentage.append(unary_union(precise_matches).area/cell.area*100) \n",
    "    return percentage"
   ]
  },
  {
   "cell_type": "code",
   "execution_count": 17,
   "metadata": {},
   "outputs": [],
   "source": [
    "grids = {\"terrestrial\":terrestrial, \"marine\":marine}\n",
    "areas = {\"strict\":strict, \"biosphere\":biosphere, \"conservation\":conservation, \"other\":other}\n",
    "\n",
    "grid = grids['terrestrial']\n",
    "gdf = areas['other']\n",
    "\n",
    "cell = terrestrial[terrestrial['cell_id'] == '9811'].geometry.iloc[0]"
   ]
  },
  {
   "cell_type": "code",
   "execution_count": 18,
   "metadata": {},
   "outputs": [
    {
     "name": "stderr",
     "output_type": "stream",
     "text": [
      "<ipython-input-18-6510182d948a>:8: ShapelyDeprecationWarning: The 'cascaded_union()' function is deprecated. Use 'unary_union()' instead.\n",
      "  cascaded_union(precise_matches).area/cell.area*100\n"
     ]
    },
    {
     "data": {
      "text/plain": [
       "3.573387101422956"
      ]
     },
     "execution_count": 18,
     "metadata": {},
     "output_type": "execute_result"
    }
   ],
   "source": [
    "sindex = gdf.sindex\n",
    "# protected areas that intersect with the cell\n",
    "possible_matches_index = list(sindex.intersection(cell.bounds))\n",
    "possible_matches = gdf.iloc[possible_matches_index]\n",
    "# intersection between the protected areas and the cell\n",
    "precise_matches = possible_matches.intersection(cell)\n",
    "# percentage of the cell covered by protected areas\n",
    "cascaded_union(precise_matches).area/cell.area*100"
   ]
  },
  {
   "cell_type": "code",
   "execution_count": 19,
   "metadata": {},
   "outputs": [
    {
     "data": {
      "text/plain": [
       "(29.965066181503403, 31.327429694145803)"
      ]
     },
     "execution_count": 19,
     "metadata": {},
     "output_type": "execute_result"
    },
    {
     "data": {
      "image/png": "[encoded data removed]",
      "text/plain": [
       "<Figure size 360x360 with 1 Axes>"
      ]
     },
     "metadata": {
      "needs_background": "light"
     },
     "output_type": "display_data"
    }
   ],
   "source": [
    "fig, ax = plt.subplots(figsize=[5,5])\n",
    "ax.set_aspect('equal')\n",
    "\n",
    "possible_matches.plot(ax=ax,color='r')\n",
    "precise_matches.plot(ax=ax,color='g')\n",
    "gpd.GeoDataFrame({'geometry':cell}).plot(ax=ax,color='w', edgecolor='b', alpha=0.5)\n",
    "\n",
    "plt.xlim(cell.bounds[0]-0.1,cell.bounds[2]+0.1)\n",
    "plt.ylim(cell.bounds[1]-0.1,cell.bounds[3]+0.1)"
   ]
  },
  {
   "cell_type": "markdown",
   "metadata": {},
   "source": [
    "**Add percentage columns to table**"
   ]
  },
  {
   "cell_type": "code",
   "execution_count": 20,
   "metadata": {},
   "outputs": [
    {
     "ename": "NameError",
     "evalue": "name 'terrestrial_per' is not defined",
     "output_type": "error",
     "traceback": [
      "\u001b[0;31m---------------------------------------------------------------------------\u001b[0m",
      "\u001b[0;31mNameError\u001b[0m                                 Traceback (most recent call last)",
      "\u001b[0;32m<ipython-input-20-28b929dded32>\u001b[0m in \u001b[0;36m<module>\u001b[0;34m\u001b[0m\n\u001b[0;32m----> 1\u001b[0;31m \u001b[0mterrestrial_per\u001b[0m\u001b[0;34m.\u001b[0m\u001b[0mdrop\u001b[0m\u001b[0;34m(\u001b[0m\u001b[0mcolumns\u001b[0m\u001b[0;34m=\u001b[0m\u001b[0;34m[\u001b[0m\u001b[0;34m'geometry'\u001b[0m\u001b[0;34m]\u001b[0m\u001b[0;34m,\u001b[0m \u001b[0minplace\u001b[0m\u001b[0;34m=\u001b[0m \u001b[0;32mTrue\u001b[0m\u001b[0;34m)\u001b[0m\u001b[0;34m\u001b[0m\u001b[0;34m\u001b[0m\u001b[0m\n\u001b[0m\u001b[1;32m      2\u001b[0m \u001b[0mmarine_per\u001b[0m\u001b[0;34m.\u001b[0m\u001b[0mdrop\u001b[0m\u001b[0;34m(\u001b[0m\u001b[0mcolumns\u001b[0m\u001b[0;34m=\u001b[0m\u001b[0;34m[\u001b[0m\u001b[0;34m'geometry'\u001b[0m\u001b[0;34m]\u001b[0m\u001b[0;34m,\u001b[0m \u001b[0minplace\u001b[0m\u001b[0;34m=\u001b[0m \u001b[0;32mTrue\u001b[0m\u001b[0;34m)\u001b[0m\u001b[0;34m\u001b[0m\u001b[0;34m\u001b[0m\u001b[0m\n\u001b[1;32m      3\u001b[0m \u001b[0mper\u001b[0m \u001b[0;34m=\u001b[0m \u001b[0mpd\u001b[0m\u001b[0;34m.\u001b[0m\u001b[0mconcat\u001b[0m\u001b[0;34m(\u001b[0m\u001b[0;34m[\u001b[0m\u001b[0mterrestrial_per\u001b[0m\u001b[0;34m,\u001b[0m\u001b[0mmarine_per\u001b[0m\u001b[0;34m]\u001b[0m\u001b[0;34m)\u001b[0m\u001b[0;34m\u001b[0m\u001b[0;34m\u001b[0m\u001b[0m\n\u001b[1;32m      4\u001b[0m \u001b[0mdf_new\u001b[0m \u001b[0;34m=\u001b[0m \u001b[0mpd\u001b[0m\u001b[0;34m.\u001b[0m\u001b[0mmerge\u001b[0m\u001b[0;34m(\u001b[0m\u001b[0mdf\u001b[0m\u001b[0;34m,\u001b[0m \u001b[0mper\u001b[0m\u001b[0;34m,\u001b[0m \u001b[0mhow\u001b[0m\u001b[0;34m=\u001b[0m\u001b[0;34m'left'\u001b[0m\u001b[0;34m,\u001b[0m \u001b[0mon\u001b[0m\u001b[0;34m=\u001b[0m\u001b[0;34m[\u001b[0m\u001b[0;34m'cell_id'\u001b[0m\u001b[0;34m]\u001b[0m\u001b[0;34m)\u001b[0m\u001b[0;34m\u001b[0m\u001b[0;34m\u001b[0m\u001b[0m\n",
      "\u001b[0;31mNameError\u001b[0m: name 'terrestrial_per' is not defined"
     ]
    }
   ],
   "source": [
    "terrestrial_per.drop(columns=['geometry'], inplace= True)\n",
    "marine_per.drop(columns=['geometry'], inplace= True)\n",
    "per = pd.concat([terrestrial_per,marine_per])\n",
    "df_new = pd.merge(df, per, how='left', on=['cell_id'])"
   ]
  },
  {
   "cell_type": "markdown",
   "metadata": {},
   "source": [
    "**Save new table**"
   ]
  },
  {
   "cell_type": "code",
   "execution_count": 25,
   "metadata": {},
   "outputs": [],
   "source": [
    "df_new.to_file(path+'global_facets_attr_pressures_vizz/global_facets_attr_pressures_vizz.shp')"
   ]
  },
  {
   "cell_type": "markdown",
   "metadata": {},
   "source": [
    "**Add the columns of interest to a new table in carto**"
   ]
  },
  {
   "cell_type": "markdown",
   "metadata": {},
   "source": [
    "```sql\n",
    "\n",
    "WITH b as (SELECT cell_id, strict, conservati, biosphere, other, rank_sr, rank_rsr, rank_total, location, taxa, feature_da FROM global_facets_attr_pressures_vizz_old)\n",
    "\n",
    "SELECT row_number() over() as cartodb_id, a.the_geom, a.the_geom_webmercator,\n",
    "a.taxa, a.focal_spp, a.cell_id_nu, a.prop_land, a.isisland, a.agricultur, a.urban, a.rainfed, a.sr, a.ave_rsr, a.sum_rsr, a.ave_rsr_pc, a.sum_rsr_pc, a.sr_pc, a.cell_id,\n",
    "b.strict, b.conservati, b.biosphere, b.other, b.rank_sr, b.rank_rsr, b.rank_total, b.location, b.feature_da FROM global_facets_20181004 as a\n",
    "INNER JOIN b ON a.cell_id = b.cell_id AND a.taxa = b.taxa\n",
    "\n",
    "\n",
    "```"
   ]
  },
  {
   "cell_type": "code",
   "execution_count": null,
   "metadata": {},
   "outputs": [],
   "source": []
  }
 ],
 "metadata": {
  "kernelspec": {
   "display_name": "Python 3.8.8 ('base')",
   "language": "python",
   "name": "python3"
  },
  "language_info": {
   "codemirror_mode": {
    "name": "ipython",
    "version": 3
   },
   "file_extension": ".py",
   "mimetype": "text/x-python",
   "name": "python",
   "nbconvert_exporter": "python",
   "pygments_lexer": "ipython3",
   "version": "3.8.8"
  },
  "vscode": {
   "interpreter": {
    "hash": "674260fc1512115aa9090bb03c157c35138ed7232dc30a3409c186cf3e1e65cb"
   }
  }
 },
 "nbformat": 4,
 "nbformat_minor": 4
}
