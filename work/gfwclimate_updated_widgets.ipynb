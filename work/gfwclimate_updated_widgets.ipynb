{
 "cells": [
  {
   "cell_type": "markdown",
   "metadata": {},
   "source": [
    "# Building GFW-climate widgets based on The API\n",
    "\n",
    "This is a notebook to demonstrate creation of new GFW-climate widgets\n"
   ]
  },
  {
   "cell_type": "code",
   "execution_count": 1,
   "metadata": {
    "collapsed": true
   },
   "outputs": [],
   "source": [
    "import requests\n",
    "from pprint import pprint"
   ]
  },
  {
   "cell_type": "markdown",
   "metadata": {},
   "source": [
    "### What's in a dataset?\n",
    "\n",
    "The API contains endpoints for `datasets`, `fields`, and `query`.\n",
    "\n",
    "To see the dataset contents we can use the `datasets` endpoint with the ID of a dataset"
   ]
  },
  {
   "cell_type": "code",
   "execution_count": 2,
   "metadata": {},
   "outputs": [
    {
     "name": "stdout",
     "output_type": "stream",
     "text": [
      "Status code: 200\n",
      "{'data': {'attributes': {'application': ['gfw'],\n",
      "                         'attributesPath': None,\n",
      "                         'blockchain': {},\n",
      "                         'clonedHost': {},\n",
      "                         'connectorType': 'document',\n",
      "                         'connectorUrl': 'http://gfw2-data.s3.amazonaws.com/alerts-tsv/output2017/20180607/to-api/adm2.json',\n",
      "                         'dataLastUpdated': None,\n",
      "                         'dataPath': 'data',\n",
      "                         'env': 'production',\n",
      "                         'errorMessage': '',\n",
      "                         'geoInfo': False,\n",
      "                         'layerRelevantProps': [],\n",
      "                         'legend': {'country': [],\n",
      "                                    'date': [],\n",
      "                                    'nested': ['year_data'],\n",
      "                                    'region': []},\n",
      "                         'mainDateField': None,\n",
      "                         'name': 'country page data for admin level 2',\n",
      "                         'overwrite': True,\n",
      "                         'protected': False,\n",
      "                         'provider': 'json',\n",
      "                         'published': True,\n",
      "                         'slug': 'country-page-data-for-admin-level-2',\n",
      "                         'status': 'pending',\n",
      "                         'subtitle': None,\n",
      "                         'tableName': 'index_e5149c98c31d4f7e95eb654993031348_1538136728573',\n",
      "                         'taskId': '/v1/doc-importer/task/52f4e3f4-996b-40d2-828e-7cc11fe801bd',\n",
      "                         'type': None,\n",
      "                         'updatedAt': '2018-09-28T12:12:10.987Z',\n",
      "                         'userId': '57a9d92029309063404573a1',\n",
      "                         'verified': False,\n",
      "                         'widgetRelevantProps': []},\n",
      "          'id': 'e5149c98-c31d-4f7e-95eb-654993031348',\n",
      "          'type': 'dataset'}}\n"
     ]
    }
   ],
   "source": [
    "url = \"https://staging-api.globalforestwatch.org/v1/\"\n",
    "r = requests.get(url + 'dataset/e5149c98-c31d-4f7e-95eb-654993031348')\n",
    "print(f'Status code: {r.status_code}')\n",
    "pprint(r.json())"
   ]
  },
  {
   "cell_type": "markdown",
   "metadata": {},
   "source": [
    "### Dataset fields\n",
    "\n",
    "We can retrieve the fields of a dataset with the `fields` endpoint:"
   ]
  },
  {
   "cell_type": "code",
   "execution_count": 3,
   "metadata": {},
   "outputs": [
    {
     "name": "stdout",
     "output_type": "stream",
     "text": [
      "Status code: 200\n",
      "{'fields': {'adm1': {'type': 'long'},\n",
      "            'adm2': {'type': 'long'},\n",
      "            'area_admin': {'type': 'float'},\n",
      "            'area_extent': {'type': 'float'},\n",
      "            'area_extent_2000': {'type': 'float'},\n",
      "            'area_gain': {'type': 'float'},\n",
      "            'area_poly_aoi': {'type': 'float'},\n",
      "            'bound1': {'fields': {'keyword': {'ignore_above': 256,\n",
      "                                              'type': 'keyword'}},\n",
      "                       'type': 'text'},\n",
      "            'bound2': {'fields': {'keyword': {'ignore_above': 256,\n",
      "                                              'type': 'keyword'}},\n",
      "                       'type': 'text'},\n",
      "            'bound3': {'type': 'long'},\n",
      "            'bound4': {'type': 'long'},\n",
      "            'iso': {'fields': {'keyword': {'ignore_above': 256,\n",
      "                                           'type': 'keyword'}},\n",
      "                    'type': 'text'},\n",
      "            'polyname': {'fields': {'keyword': {'ignore_above': 256,\n",
      "                                                'type': 'keyword'}},\n",
      "                         'type': 'text'},\n",
      "            'thresh': {'type': 'long'},\n",
      "            'year_data': {'include_in_parent': True,\n",
      "                          'properties': {'area_loss': {'type': 'float'},\n",
      "                                         'emissions': {'type': 'float'},\n",
      "                                         'year': {'type': 'long'}},\n",
      "                          'type': 'nested'}},\n",
      " 'tableName': 'index_e5149c98c31d4f7e95eb654993031348_1538136728573'}\n"
     ]
    }
   ],
   "source": [
    "url = \"https://staging-api.globalforestwatch.org/v1/\"\n",
    "r = requests.get(url + 'fields/e5149c98-c31d-4f7e-95eb-654993031348')\n",
    "print(f'Status code: {r.status_code}')\n",
    "pprint(r.json())"
   ]
  },
  {
   "cell_type": "markdown",
   "metadata": {},
   "source": [
    "## Query\n",
    "\n",
    "Based on the fields present we can make simple queries, which should be all necessary to build widgets from these data. The query is passed as a query paramater as follows:"
   ]
  },
  {
   "cell_type": "code",
   "execution_count": 4,
   "metadata": {},
   "outputs": [
    {
     "name": "stdout",
     "output_type": "stream",
     "text": [
      "https://staging-api.globalforestwatch.org/v1/query/?sql=SELECT+%2A+from+e5149c98-c31d-4f7e-95eb-654993031348+LIMIT+3\n",
      "Status code: 200\n",
      "{'data': [{'_id': 'AWYgGkrqpffdUZnPO15j',\n",
      "           'adm1': 15,\n",
      "           'adm2': 15,\n",
      "           'area_admin': 154119.377982,\n",
      "           'area_extent': 879.112353783,\n",
      "           'area_extent_2000': 446.21320991199997,\n",
      "           'area_gain': 2.7729741115099995,\n",
      "           'area_poly_aoi': 33577.3302243,\n",
      "           'bound1': -9999,\n",
      "           'bound2': -9999,\n",
      "           'bound3': -9999,\n",
      "           'bound4': -9999,\n",
      "           'iso': 'PRY',\n",
      "           'polyname': 'kba',\n",
      "           'thresh': 50,\n",
      "           'year_data': [{'area_loss': 0.138552748516,\n",
      "                          'emissions': 15.1022495882,\n",
      "                          'year': 2001},\n",
      "                         {'area_loss': 0, 'emissions': 0, 'year': 2002},\n",
      "                         {'area_loss': 0, 'emissions': 0, 'year': 2003},\n",
      "                         {'area_loss': 0, 'emissions': 0, 'year': 2004},\n",
      "                         {'area_loss': 0.5546872039399999,\n",
      "                          'emissions': 138.18201289299998,\n",
      "                          'year': 2005},\n",
      "                         {'area_loss': 0, 'emissions': 0, 'year': 2006},\n",
      "                         {'area_loss': 0, 'emissions': 0, 'year': 2007},\n",
      "                         {'area_loss': 0.06933049770619999,\n",
      "                          'emissions': 6.10108379815,\n",
      "                          'year': 2008},\n",
      "                         {'area_loss': 0.415575982403,\n",
      "                          'emissions': 53.33223866270001,\n",
      "                          'year': 2009},\n",
      "                         {'area_loss': 0.34667232339299997,\n",
      "                          'emissions': 73.1522461861,\n",
      "                          'year': 2010},\n",
      "                         {'area_loss': 0, 'emissions': 0, 'year': 2011},\n",
      "                         {'area_loss': 0, 'emissions': 0, 'year': 2012},\n",
      "                         {'area_loss': 0.13874427733300002,\n",
      "                          'emissions': 13.7355625823,\n",
      "                          'year': 2013},\n",
      "                         {'area_loss': 0, 'emissions': 0, 'year': 2014},\n",
      "                         {'area_loss': 0, 'emissions': 0, 'year': 2015},\n",
      "                         {'area_loss': 0, 'emissions': 0, 'year': 2016},\n",
      "                         {'area_loss': 0, 'emissions': 0, 'year': 2017}]},\n",
      "          {'_id': 'AWYgGkrqpffdUZnPO15m',\n",
      "           'adm1': 16,\n",
      "           'adm2': 3,\n",
      "           'area_admin': 49017.8852741,\n",
      "           'area_extent': 78.3004080674,\n",
      "           'area_extent_2000': 132.937556844,\n",
      "           'area_gain': 0.06940692349830001,\n",
      "           'area_poly_aoi': 3513.23305024,\n",
      "           'bound1': -9999,\n",
      "           'bound2': -9999,\n",
      "           'bound3': -9999,\n",
      "           'bound4': -9999,\n",
      "           'iso': 'PRY',\n",
      "           'polyname': 'kba',\n",
      "           'thresh': 50,\n",
      "           'year_data': [{'area_loss': 0, 'emissions': 0, 'year': 2001},\n",
      "                         {'area_loss': 0.138815713475,\n",
      "                          'emissions': 22.835186230599998,\n",
      "                          'year': 2002},\n",
      "                         {'area_loss': 0, 'emissions': 0, 'year': 2003},\n",
      "                         {'area_loss': 0, 'emissions': 0, 'year': 2004},\n",
      "                         {'area_loss': 0, 'emissions': 0, 'year': 2005},\n",
      "                         {'area_loss': 0.208247609181,\n",
      "                          'emissions': 24.4345618585,\n",
      "                          'year': 2006},\n",
      "                         {'area_loss': 0.06941252210610001,\n",
      "                          'emissions': 12.633079023299999,\n",
      "                          'year': 2007},\n",
      "                         {'area_loss': 0, 'emissions': 0, 'year': 2008},\n",
      "                         {'area_loss': 0.7637219351219999,\n",
      "                          'emissions': 118.44637871399999,\n",
      "                          'year': 2009},\n",
      "                         {'area_loss': 0.347062462206,\n",
      "                          'emissions': 68.163281367,\n",
      "                          'year': 2010},\n",
      "                         {'area_loss': 0, 'emissions': 0, 'year': 2011},\n",
      "                         {'area_loss': 0.763553093102,\n",
      "                          'emissions': 126.19383661299999,\n",
      "                          'year': 2012},\n",
      "                         {'area_loss': 0, 'emissions': 0, 'year': 2013},\n",
      "                         {'area_loss': 0.13884470144400002,\n",
      "                          'emissions': 8.816638756860002,\n",
      "                          'year': 2014},\n",
      "                         {'area_loss': 0, 'emissions': 0, 'year': 2015},\n",
      "                         {'area_loss': 0, 'emissions': 0, 'year': 2016},\n",
      "                         {'area_loss': 0.06942901919269999,\n",
      "                          'emissions': 7.42890505362,\n",
      "                          'year': 2017}]},\n",
      "          {'_id': 'AWYgGkrqpffdUZnPO15s',\n",
      "           'adm1': 17,\n",
      "           'adm2': 2,\n",
      "           'area_admin': 2912283.72688,\n",
      "           'area_extent': 3570.14226076,\n",
      "           'area_extent_2000': 3717.94484212,\n",
      "           'area_gain': 51.4702507824,\n",
      "           'area_poly_aoi': 23121.8474145,\n",
      "           'bound1': -9999,\n",
      "           'bound2': -9999,\n",
      "           'bound3': -9999,\n",
      "           'bound4': -9999,\n",
      "           'iso': 'PRY',\n",
      "           'polyname': 'kba',\n",
      "           'thresh': 50,\n",
      "           'year_data': [{'area_loss': 43.6419449105,\n",
      "                          'emissions': 3106.9264759,\n",
      "                          'year': 2001},\n",
      "                         {'area_loss': 25.1246366012,\n",
      "                          'emissions': 1513.6731382,\n",
      "                          'year': 2002},\n",
      "                         {'area_loss': 70.4105412798,\n",
      "                          'emissions': 4739.61543683,\n",
      "                          'year': 2003},\n",
      "                         {'area_loss': 76.1896602758,\n",
      "                          'emissions': 4071.78169922,\n",
      "                          'year': 2004},\n",
      "                         {'area_loss': 168.022940839,\n",
      "                          'emissions': 10615.299792299998,\n",
      "                          'year': 2005},\n",
      "                         {'area_loss': 143.528701496,\n",
      "                          'emissions': 9567.19189415,\n",
      "                          'year': 2006},\n",
      "                         {'area_loss': 77.7415567939,\n",
      "                          'emissions': 5397.39418214,\n",
      "                          'year': 2007},\n",
      "                         {'area_loss': 88.1938494461,\n",
      "                          'emissions': 5919.24991075,\n",
      "                          'year': 2008},\n",
      "                         {'area_loss': 42.150619206799995,\n",
      "                          'emissions': 2131.72685419,\n",
      "                          'year': 2009},\n",
      "                         {'area_loss': 111.56425518,\n",
      "                          'emissions': 7661.01071062,\n",
      "                          'year': 2010},\n",
      "                         {'area_loss': 81.8075747006,\n",
      "                          'emissions': 4687.93694682,\n",
      "                          'year': 2011},\n",
      "                         {'area_loss': 79.6533148629,\n",
      "                          'emissions': 5399.7788588,\n",
      "                          'year': 2012},\n",
      "                         {'area_loss': 19.8577630036,\n",
      "                          'emissions': 1006.40888852,\n",
      "                          'year': 2013},\n",
      "                         {'area_loss': 2.91826004285,\n",
      "                          'emissions': 156.732509612,\n",
      "                          'year': 2014},\n",
      "                         {'area_loss': 8.25944056094,\n",
      "                          'emissions': 484.885961688,\n",
      "                          'year': 2015},\n",
      "                         {'area_loss': 26.272461577199998,\n",
      "                          'emissions': 1194.35996095,\n",
      "                          'year': 2016},\n",
      "                         {'area_loss': 62.0785542308,\n",
      "                          'emissions': 3513.69142907,\n",
      "                          'year': 2017}]}],\n",
      " 'meta': {'cloneUrl': {'body': {'dataset': {'application': ['your', 'apps'],\n",
      "                                            'datasetUrl': '/v1/query/e5149c98-c31d-4f7e-95eb-654993031348'}},\n",
      "                       'http_method': 'POST',\n",
      "                       'url': '/v1/dataset/e5149c98-c31d-4f7e-95eb-654993031348/clone'}}}\n"
     ]
    }
   ],
   "source": [
    "url = \"https://staging-api.globalforestwatch.org/v1/\"\n",
    "query = \"\"\"SELECT * from e5149c98-c31d-4f7e-95eb-654993031348 LIMIT 3\"\"\"\n",
    "r = requests.get(url + 'query/', params={'sql': query})\n",
    "\n",
    "print(r.url)\n",
    "print(f'Status code: {r.status_code}')\n",
    "pprint(r.json())"
   ]
  },
  {
   "cell_type": "markdown",
   "metadata": {},
   "source": [
    "The requests can use many features of SQL"
   ]
  },
  {
   "cell_type": "code",
   "execution_count": 5,
   "metadata": {},
   "outputs": [
    {
     "name": "stdout",
     "output_type": "stream",
     "text": [
      "https://staging-api.globalforestwatch.org/v1/query/?sql=SELECT+COUNT%28area%29%2C+AVG%28area%29%2C+SUM%28area%29+from+e5149c98-c31d-4f7e-95eb-654993031348+WHERE+iso+%3D+%27PER%27+and+thresh+%3E+74\n",
      "Status code: 200\n",
      "{'data': [{'AVG(area)': None, 'COUNT(area)': 0, 'SUM(area)': 0}],\n",
      " 'meta': {'cloneUrl': {'body': {'dataset': {'application': ['your', 'apps'],\n",
      "                                            'datasetUrl': '/v1/query/e5149c98-c31d-4f7e-95eb-654993031348'}},\n",
      "                       'http_method': 'POST',\n",
      "                       'url': '/v1/dataset/e5149c98-c31d-4f7e-95eb-654993031348/clone'}}}\n"
     ]
    }
   ],
   "source": [
    "url = \"https://staging-api.globalforestwatch.org/v1/\"\n",
    "query = \"\"\"SELECT COUNT(area), AVG(area), SUM(area) from e5149c98-c31d-4f7e-95eb-654993031348 WHERE iso = 'PER' and thresh > 74\"\"\"\n",
    "r = requests.get(url + 'query/', params={'sql': query})\n",
    "\n",
    "print(r.url)\n",
    "print(f'Status code: {r.status_code}')\n",
    "pprint(r.json())"
   ]
  },
  {
   "cell_type": "markdown",
   "metadata": {},
   "source": [
    "## Pie chart: Emissions in plantations vs natural forests "
   ]
  },
  {
   "cell_type": "markdown",
   "metadata": {},
   "source": [
    "**Admin**"
   ]
  },
  {
   "cell_type": "code",
   "execution_count": 6,
   "metadata": {},
   "outputs": [
    {
     "name": "stdout",
     "output_type": "stream",
     "text": [
      "https://staging-api.globalforestwatch.org/v1/query/?sql=SELECT+polyname%2C+year_data.year+as+year%2C+SUM%28year_data.area_loss%29+as+area%2C+SUM%28year_data.emissions%29+as+emissions+from+e5149c98-c31d-4f7e-95eb-654993031348+WHERE+iso+%3D+%27BRA%27+AND+adm1+%3D+12+AND+adm2+%3D+114+AND+polyname+%3D+%27admin%27+AND+thresh%3D+25%0AGROUP+BY++bound1%2C+polyname%2C+iso%2C+nested%28year_data.year%29\n",
      "Status code: 200\n"
     ]
    }
   ],
   "source": [
    "url = \"https://staging-api.globalforestwatch.org/v1/\"\n",
    "query = \"\"\"SELECT polyname, year_data.year as year, SUM(year_data.area_loss) as area, SUM(year_data.emissions) as emissions from e5149c98-c31d-4f7e-95eb-654993031348 WHERE iso = 'BRA' AND adm1 = 12 AND adm2 = 114 AND polyname = 'admin' AND thresh= 25\n",
    "GROUP BY  bound1, polyname, iso, nested(year_data.year)\"\"\"\n",
    "r = requests.get(url + 'query/', params={'sql': query})\n",
    "\n",
    "print(r.url)\n",
    "print(f'Status code: {r.status_code}')\n",
    "#pprint(r.json())\n",
    "data_admin = r.json()"
   ]
  },
  {
   "cell_type": "markdown",
   "metadata": {},
   "source": [
    "**Plantations**"
   ]
  },
  {
   "cell_type": "code",
   "execution_count": 7,
   "metadata": {},
   "outputs": [
    {
     "name": "stdout",
     "output_type": "stream",
     "text": [
      "https://staging-api.globalforestwatch.org/v1/query/?sql=SELECT+polyname%2C+year_data.year+as+year%2C+SUM%28year_data.area_loss%29+as+area%2C+SUM%28year_data.emissions%29+as+emissions+from+e5149c98-c31d-4f7e-95eb-654993031348+WHERE+iso+%3D+%27BRA%27+AND+adm1+%3D+12+AND+adm2+%3D+114+AND+polyname+%3D+%27plantations%27+AND+thresh%3D+25%0AGROUP+BY+polyname%2C+iso%2C+nested%28year_data.year%29\n",
      "Status code: 200\n"
     ]
    }
   ],
   "source": [
    "url = \"https://staging-api.globalforestwatch.org/v1/\"\n",
    "query = \"\"\"SELECT polyname, year_data.year as year, SUM(year_data.area_loss) as area, SUM(year_data.emissions) as emissions from e5149c98-c31d-4f7e-95eb-654993031348 WHERE iso = 'BRA' AND adm1 = 12 AND adm2 = 114 AND polyname = 'plantations' AND thresh= 25\n",
    "GROUP BY polyname, iso, nested(year_data.year)\"\"\"\n",
    "r = requests.get(url + 'query/', params={'sql': query})\n",
    "\n",
    "print(r.url)\n",
    "print(f'Status code: {r.status_code}')\n",
    "#pprint(r.json())\n",
    "data_plantations = r.json()"
   ]
  },
  {
   "cell_type": "markdown",
   "metadata": {},
   "source": [
    "### Build up a donut plot\n",
    "\n",
    "Use the previous queries to create a donut plot showing CO2 emissions of Natural forest and Plantations."
   ]
  },
  {
   "cell_type": "code",
   "execution_count": 8,
   "metadata": {
    "collapsed": true
   },
   "outputs": [],
   "source": [
    "import matplotlib.pyplot as plt\n",
    "%matplotlib inline"
   ]
  },
  {
   "cell_type": "markdown",
   "metadata": {},
   "source": [
    "Get data"
   ]
  },
  {
   "cell_type": "code",
   "execution_count": 9,
   "metadata": {},
   "outputs": [],
   "source": [
    "admin = data_admin.get('data')\n",
    "plantations= data_plantations.get('data')"
   ]
  },
  {
   "cell_type": "markdown",
   "metadata": {},
   "source": [
    "Filter by year"
   ]
  },
  {
   "cell_type": "code",
   "execution_count": 10,
   "metadata": {},
   "outputs": [],
   "source": [
    "start_yr = 2013\n",
    "stop_yr = 2017\n",
    "\n",
    "admin_filter =list(filter(lambda admin: (admin['year'] >= start_yr) & (admin['year'] <= stop_yr), admin))\n",
    "plantations_filter =list(filter(lambda plantations: (plantations['year'] >= start_yr) & (plantations['year'] <= stop_yr), plantations))"
   ]
  },
  {
   "cell_type": "markdown",
   "metadata": {},
   "source": [
    "SUM emissions"
   ]
  },
  {
   "cell_type": "code",
   "execution_count": 11,
   "metadata": {},
   "outputs": [],
   "source": [
    "admin_emissions = 0\n",
    "plantations_emissions = 0\n",
    "for n in range(len(admin_filter)):\n",
    "    admin_emissions += admin_filter[n].get('emissions')\n",
    "    if plantations_filter[n].get('emissions'):\n",
    "        plantations_emissions += plantations_filter[n].get('emissions')"
   ]
  },
  {
   "cell_type": "markdown",
   "metadata": {},
   "source": [
    "Donut plot"
   ]
  },
  {
   "cell_type": "code",
   "execution_count": 12,
   "metadata": {
    "collapsed": true
   },
   "outputs": [
    {
     "data": {
      "image/png": "[encoded data removed]",
      "text/plain": [
       "<Figure size 432x288 with 1 Axes>"
      ]
     },
     "metadata": {},
     "output_type": "display_data"
    }
   ],
   "source": [
    "# Donut plot\n",
    "labels = 'Natural forest', 'Plantations'\n",
    "sizes = [admin_emissions, plantations_emissions]\n",
    "colors = ['grey', 'lightgreen', 'green']\n",
    "plt.pie(sizes, labels=labels, colors=colors, autopct='%1.1f%%', shadow=True)\n",
    "centre_circle = plt.Circle((0,0),0.75,color='black', fc='white',linewidth=1.25)\n",
    "fig = plt.gcf()\n",
    "fig.gca().add_artist(centre_circle)\n",
    "plt.axis('equal')\n",
    "plt.show()  "
   ]
  },
  {
   "cell_type": "markdown",
   "metadata": {},
   "source": [
    "**Dynamic sentence example**"
   ]
  },
  {
   "cell_type": "code",
   "execution_count": 13,
   "metadata": {},
   "outputs": [],
   "source": [
    "plantations_per = '{:.1f}'.format(plantations_emissions/(admin_emissions + plantations_emissions)*100)\n",
    "admin_emissions = '{:.1f}'.format(admin_emissions)"
   ]
  },
  {
   "cell_type": "code",
   "execution_count": 14,
   "metadata": {},
   "outputs": [
    {
     "data": {
      "text/plain": [
       "'From 2013 to 2017, 8.5% of tree cover loss in São Pedro da Cipa occurred within plantations. The total loss within natural forest was equivalent to 61550.0t of CO2 emissions.'"
      ]
     },
     "execution_count": 14,
     "metadata": {},
     "output_type": "execute_result"
    }
   ],
   "source": [
    "f\"From {start_yr} to {stop_yr}, {plantations_per}% of tree cover loss in São Pedro da Cipa occurred within plantations. The total loss within natural forest was equivalent to {admin_emissions}t of CO2 emissions.\""
   ]
  },
  {
   "cell_type": "markdown",
   "metadata": {},
   "source": [
    "## Future Carbon Gains widget\n",
    "\n",
    "Add a version of the [Potential tree biomass gain widget](http://bit.ly/2PaZ8q2) to the GFW country page climate tab"
   ]
  },
  {
   "cell_type": "markdown",
   "metadata": {},
   "source": [
    "### Queries"
   ]
  },
  {
   "cell_type": "markdown",
   "metadata": {},
   "source": [
    "**Young Secondary Forest**"
   ]
  },
  {
   "cell_type": "markdown",
   "metadata": {},
   "source": [
    "Tg C over 40 years"
   ]
  },
  {
   "cell_type": "markdown",
   "metadata": {},
   "source": [
    "http://climate.globalforestwatch.org/api/indicators/3110?thresh=0&iso=BRA&id_1=&area="
   ]
  },
  {
   "cell_type": "code",
   "execution_count": 15,
   "metadata": {},
   "outputs": [
    {
     "name": "stdout",
     "output_type": "stream",
     "text": [
      "http://climate.globalforestwatch.org/api/indicators/3110?thresh=0&iso=BRA&id_1=&area=\n",
      "Status code: 200\n"
     ]
    }
   ],
   "source": [
    "url = \"http://climate.globalforestwatch.org/api/indicators/\"\n",
    "query = \"3110?thresh=0&iso=BRA&id_1=&area=\"\n",
    "r = requests.get(url+query)\n",
    "\n",
    "print(r.url)\n",
    "print(f'Status code: {r.status_code}')\n",
    "#pprint(r.json())\n",
    "data_YSF_g = r.json()"
   ]
  },
  {
   "cell_type": "markdown",
   "metadata": {},
   "source": [
    "Mt CO2 per year"
   ]
  },
  {
   "cell_type": "markdown",
   "metadata": {},
   "source": [
    "http://climate.globalforestwatch.org/api/indicators/3114?thresh=0&iso=BRA&id_1=&area="
   ]
  },
  {
   "cell_type": "code",
   "execution_count": 16,
   "metadata": {},
   "outputs": [
    {
     "name": "stdout",
     "output_type": "stream",
     "text": [
      "http://climate.globalforestwatch.org/api/indicators/3114?thresh=0&iso=BRA&id_1=&area=\n",
      "Status code: 200\n"
     ]
    }
   ],
   "source": [
    "url = \"http://climate.globalforestwatch.org/api/indicators/\"\n",
    "query = \"3114?thresh=0&iso=BRA&id_1=&area=\"\n",
    "r = requests.get(url+query)\n",
    "\n",
    "print(r.url)\n",
    "print(f'Status code: {r.status_code}')\n",
    "#pprint(r.json())\n",
    "data_YSF_t = r.json()"
   ]
  },
  {
   "cell_type": "markdown",
   "metadata": {},
   "source": [
    "**Mid-Age Secondary Forests**"
   ]
  },
  {
   "cell_type": "markdown",
   "metadata": {},
   "source": [
    "Tg C over 40 years"
   ]
  },
  {
   "cell_type": "markdown",
   "metadata": {},
   "source": [
    "http://climate.globalforestwatch.org/api/indicators/3111?thresh=0&iso=BRA&id_1=&area="
   ]
  },
  {
   "cell_type": "code",
   "execution_count": 17,
   "metadata": {},
   "outputs": [
    {
     "name": "stdout",
     "output_type": "stream",
     "text": [
      "http://climate.globalforestwatch.org/api/indicators/3111?thresh=0&iso=BRA&id_1=&area=\n",
      "Status code: 200\n"
     ]
    }
   ],
   "source": [
    "url = \"http://climate.globalforestwatch.org/api/indicators/\"\n",
    "query = \"3111?thresh=0&iso=BRA&id_1=&area=\"\n",
    "r = requests.get(url+query)\n",
    "\n",
    "print(r.url)\n",
    "print(f'Status code: {r.status_code}')\n",
    "#pprint(r.json())\n",
    "data_MESF_g = r.json()"
   ]
  },
  {
   "cell_type": "markdown",
   "metadata": {},
   "source": [
    "Mt CO2 per year"
   ]
  },
  {
   "cell_type": "markdown",
   "metadata": {},
   "source": [
    "http://climate.globalforestwatch.org/api/indicators/3115?thresh=0&iso=BRA&id_1=&area="
   ]
  },
  {
   "cell_type": "code",
   "execution_count": 18,
   "metadata": {},
   "outputs": [
    {
     "name": "stdout",
     "output_type": "stream",
     "text": [
      "http://climate.globalforestwatch.org/api/indicators/3115?thresh=0&iso=BRA&id_1=&area=\n",
      "Status code: 200\n"
     ]
    }
   ],
   "source": [
    "url = \"http://climate.globalforestwatch.org/api/indicators/\"\n",
    "query = \"3115?thresh=0&iso=BRA&id_1=&area=\"\n",
    "r = requests.get(url+query)\n",
    "\n",
    "print(r.url)\n",
    "print(f'Status code: {r.status_code}')\n",
    "#pprint(r.json())\n",
    "data_MESF_t = r.json()"
   ]
  },
  {
   "cell_type": "markdown",
   "metadata": {},
   "source": [
    "**Pasture Area**"
   ]
  },
  {
   "cell_type": "markdown",
   "metadata": {},
   "source": [
    "Tg C over 40 years"
   ]
  },
  {
   "cell_type": "markdown",
   "metadata": {},
   "source": [
    "http://climate.globalforestwatch.org/api/indicators/3112?thresh=0&iso=BRA&id_1=&area="
   ]
  },
  {
   "cell_type": "code",
   "execution_count": 19,
   "metadata": {},
   "outputs": [
    {
     "name": "stdout",
     "output_type": "stream",
     "text": [
      "http://climate.globalforestwatch.org/api/indicators/3112?thresh=0&iso=BRA&id_1=&area=\n",
      "Status code: 200\n"
     ]
    }
   ],
   "source": [
    "url = \"http://climate.globalforestwatch.org/api/indicators/\"\n",
    "query = \"3112?thresh=0&iso=BRA&id_1=&area=\"\n",
    "r = requests.get(url+query)\n",
    "\n",
    "print(r.url)\n",
    "print(f'Status code: {r.status_code}')\n",
    "#pprint(r.json())\n",
    "data_PA_g = r.json()"
   ]
  },
  {
   "cell_type": "markdown",
   "metadata": {},
   "source": [
    "Mt CO2 per year"
   ]
  },
  {
   "cell_type": "markdown",
   "metadata": {},
   "source": [
    "http://climate.globalforestwatch.org/api/indicators/3116?thresh=0&iso=BRA&id_1=&area="
   ]
  },
  {
   "cell_type": "code",
   "execution_count": 20,
   "metadata": {},
   "outputs": [
    {
     "name": "stdout",
     "output_type": "stream",
     "text": [
      "http://climate.globalforestwatch.org/api/indicators/3116?thresh=0&iso=BRA&id_1=&area=\n",
      "Status code: 200\n"
     ]
    }
   ],
   "source": [
    "url = \"http://climate.globalforestwatch.org/api/indicators/\"\n",
    "query = \"3116?thresh=0&iso=BRA&id_1=&area=\"\n",
    "r = requests.get(url+query)\n",
    "\n",
    "print(r.url)\n",
    "print(f'Status code: {r.status_code}')\n",
    "#pprint(r.json())\n",
    "data_PA_t = r.json()"
   ]
  },
  {
   "cell_type": "markdown",
   "metadata": {},
   "source": [
    "**Crops**"
   ]
  },
  {
   "cell_type": "markdown",
   "metadata": {},
   "source": [
    "Tg C over 40 years"
   ]
  },
  {
   "cell_type": "markdown",
   "metadata": {},
   "source": [
    "http://climate.globalforestwatch.org/api/indicators/3113?thresh=0&iso=BRA&id_1=&area="
   ]
  },
  {
   "cell_type": "code",
   "execution_count": 21,
   "metadata": {},
   "outputs": [
    {
     "name": "stdout",
     "output_type": "stream",
     "text": [
      "http://climate.globalforestwatch.org/api/indicators/3113?thresh=0&iso=BRA&id_1=&area=\n",
      "Status code: 200\n"
     ]
    }
   ],
   "source": [
    "url = \"http://climate.globalforestwatch.org/api/indicators/\"\n",
    "query = \"3113?thresh=0&iso=BRA&id_1=&area=\"\n",
    "r = requests.get(url+query)\n",
    "\n",
    "print(r.url)\n",
    "print(f'Status code: {r.status_code}')\n",
    "#pprint(r.json())\n",
    "data_C_g = r.json()"
   ]
  },
  {
   "cell_type": "markdown",
   "metadata": {},
   "source": [
    "Mt CO2 per year"
   ]
  },
  {
   "cell_type": "markdown",
   "metadata": {},
   "source": [
    "http://climate.globalforestwatch.org/api/indicators/3117?thresh=0&iso=BRA&id_1=&area="
   ]
  },
  {
   "cell_type": "code",
   "execution_count": 22,
   "metadata": {},
   "outputs": [
    {
     "name": "stdout",
     "output_type": "stream",
     "text": [
      "http://climate.globalforestwatch.org/api/indicators/3117?thresh=0&iso=BRA&id_1=&area=\n",
      "Status code: 200\n"
     ]
    }
   ],
   "source": [
    "url = \"http://climate.globalforestwatch.org/api/indicators/\"\n",
    "query = \"3117?thresh=0&iso=BRA&id_1=&area=\"\n",
    "r = requests.get(url+query)\n",
    "\n",
    "print(r.url)\n",
    "print(f'Status code: {r.status_code}')\n",
    "#pprint(r.json())\n",
    "data_C_t = r.json()"
   ]
  },
  {
   "cell_type": "markdown",
   "metadata": {},
   "source": [
    "### Build up a stacked bar chart\n",
    "\n",
    "Use the previous queries to create a stacked bar chart showing Potential tree biomass gain of Young Secondary Forests, Mid-Age Secondary Forests, Pasture Area, and Crops."
   ]
  },
  {
   "cell_type": "code",
   "execution_count": 23,
   "metadata": {},
   "outputs": [],
   "source": [
    "import numpy as np"
   ]
  },
  {
   "cell_type": "markdown",
   "metadata": {},
   "source": [
    "Get data values"
   ]
  },
  {
   "cell_type": "code",
   "execution_count": 24,
   "metadata": {},
   "outputs": [],
   "source": [
    "YSF_g = data_YSF_g.get('values')\n",
    "MESF_g = data_MESF_g.get('values')\n",
    "PA_g = data_PA_g.get('values')\n",
    "C_g = data_C_g.get('values')\n",
    "\n",
    "YSF_t = data_YSF_t.get('values')\n",
    "MESF_t = data_MESF_t.get('values')\n",
    "PA_t = data_PA_t.get('values')\n",
    "C_t = data_C_t.get('values')"
   ]
  },
  {
   "cell_type": "code",
   "execution_count": 25,
   "metadata": {},
   "outputs": [],
   "source": [
    "years = []\n",
    "\n",
    "YSF_values_t = []\n",
    "MESF_values_t = []\n",
    "PA_values_t = []\n",
    "C_values_t = []\n",
    "\n",
    "YSF_values_g = []\n",
    "MESF_values_g = []\n",
    "PA_values_g = []\n",
    "C_values_g = []\n",
    "for n in range(len(YSF_t)):\n",
    "    years.append(YSF_t[n].get('year'))\n",
    "    \n",
    "    YSF_values_t.append(YSF_t[n].get('value'))\n",
    "    MESF_values_t.append(MESF_t[n].get('value'))\n",
    "    PA_values_t.append(PA_t[n].get('value'))\n",
    "    C_values_t.append(C_t[n].get('value'))\n",
    "    \n",
    "    YSF_values_g.append(YSF_g[n].get('value'))\n",
    "    MESF_values_g.append(MESF_g[n].get('value'))\n",
    "    PA_values_g.append(PA_g[n].get('value'))\n",
    "    C_values_g.append(C_g[n].get('value'))"
   ]
  },
  {
   "cell_type": "markdown",
   "metadata": {},
   "source": [
    "Stacked bar charts"
   ]
  },
  {
   "cell_type": "code",
   "execution_count": 26,
   "metadata": {},
   "outputs": [
    {
     "data": {
      "image/png": "[encoded data removed]",
      "text/plain": [
       "<Figure size 720x360 with 1 Axes>"
      ]
     },
     "metadata": {},
     "output_type": "display_data"
    }
   ],
   "source": [
    "# Data\n",
    "values = [YSF_values_g, MESF_values_g, PA_values_g, C_values_g]\n",
    "categories = ['Young Secondary Forests', 'Mid-Age Secondary Forests', 'Pasture Area', 'Crops']\n",
    "years = years    # the x locations for the groups\n",
    "\n",
    "# Plot\n",
    "plt.figure(figsize=(10,5))\n",
    "\n",
    "width = 0.9       # the width of the bars\n",
    "\n",
    "for i in range(len(values)):\n",
    "    if i == 0:\n",
    "        plt.bar(years, values[i], width, label=categories[i], edgecolor ='k')\n",
    "        past_values = np.array(values[i])\n",
    "    else:\n",
    "        plt.bar(years, values[i], width, bottom=past_values, label=categories[i], edgecolor ='k')\n",
    "        past_values = np.array(values[i]) + past_values\n",
    "\n",
    "plt.title('POTENTIAL TREE BIOMASS GAIN')\n",
    "plt.ylabel('Tg C over 40 years')\n",
    "plt.legend()\n",
    "\n",
    "plt.show()"
   ]
  },
  {
   "cell_type": "code",
   "execution_count": 27,
   "metadata": {},
   "outputs": [
    {
     "data": {
      "image/png": "[encoded data removed]",
      "text/plain": [
       "<Figure size 720x360 with 1 Axes>"
      ]
     },
     "metadata": {},
     "output_type": "display_data"
    }
   ],
   "source": [
    "# Data\n",
    "values = [YSF_values_t, MESF_values_t, PA_values_t, C_values_t]\n",
    "categories = ['Young Secondary Forests', 'Mid-Age Secondary Forests', 'Pasture Area', 'Crops']\n",
    "years = years    # the x locations for the groups\n",
    "\n",
    "# Plot\n",
    "plt.figure(figsize=(10,5))\n",
    "\n",
    "width = 0.9       # the width of the bars\n",
    "\n",
    "for i in range(len(values)):\n",
    "    if i == 0:\n",
    "        plt.bar(years, values[i], width, label=categories[i], edgecolor ='k')\n",
    "        past_values = np.array(values[i])\n",
    "    else:\n",
    "        plt.bar(years, values[i], width, bottom=past_values, label=categories[i], edgecolor ='k')\n",
    "        past_values = np.array(values[i]) + past_values\n",
    "\n",
    "plt.title('POTENTIAL TREE BIOMASS GAIN')\n",
    "plt.ylabel('Mt CO2 per year')\n",
    "plt.legend()\n",
    "\n",
    "plt.show()"
   ]
  },
  {
   "cell_type": "markdown",
   "metadata": {},
   "source": [
    "## Monitor progress in near real-time\n",
    "\n",
    "Weekly forest disturbance alerts to [track forest loss and emissions](http://climate.globalforestwatch.org/insights/glad-alerts/BRA)"
   ]
  },
  {
   "cell_type": "markdown",
   "metadata": {},
   "source": [
    "### Query"
   ]
  },
  {
   "cell_type": "code",
   "execution_count": 28,
   "metadata": {},
   "outputs": [
    {
     "name": "stdout",
     "output_type": "stream",
     "text": [
      "year: 2015\n",
      "Status code: 200\n",
      "year: 2016\n",
      "Status code: 200\n",
      "year: 2017\n",
      "Status code: 200\n",
      "year: 2018\n",
      "Status code: 200\n"
     ]
    }
   ],
   "source": [
    "url = \"https://production-api.globalforestwatch.org/v1/\"\n",
    "\n",
    "data_years = []\n",
    "for i in range(4):\n",
    "    year = str(2015 + i)\n",
    "    print('year:', year)\n",
    "    query = f\"SELECT sum(alerts) AS alerts, sum(cumulative_emissions) AS cumulative_emissions, sum(above_ground_carbon_loss) AS above_ground_carbon_loss, sum(percent_to_emissions_target) AS percent_to_emissions_target, sum(percent_to_deforestation_target) AS percent_to_deforestation_target, sum(loss_ha) AS loss, sum(cumulative_deforestation) AS cumulative_deforestation, year as year, country_iso, week FROM a98197d2-cd8e-4b17-ab5c-fabf54b25ea0 WHERE  country_iso ='BRA' AND year IN ('{year}') AND week <= 53 GROUP BY week, country_iso ORDER BY week ASC\"\n",
    "    r = requests.get(url + 'query/', params={'sql': query})\n",
    "\n",
    "    #print(r.url)\n",
    "    print(f'Status code: {r.status_code}')\n",
    "    #pprint(r.json())\n",
    "    data_years.append(r.json())"
   ]
  },
  {
   "cell_type": "markdown",
   "metadata": {},
   "source": [
    "### Build up a line chart\n",
    "\n",
    "Use the previous query to create a line chart showing Cumulative emissions and area of loss."
   ]
  },
  {
   "cell_type": "markdown",
   "metadata": {},
   "source": [
    "**Get data values**"
   ]
  },
  {
   "cell_type": "code",
   "execution_count": 29,
   "metadata": {},
   "outputs": [],
   "source": [
    "emissions_years = []\n",
    "loss_years = []\n",
    "weeks_years = []\n",
    "for i in range(4):\n",
    "    data = data_years[i].get('data')\n",
    "    \n",
    "    emissions = []\n",
    "    loss = []\n",
    "    weeks = []\n",
    "    for n in range(len(data)):\n",
    "        emissions.append(data[n].get('cumulative_emissions'))\n",
    "        loss.append(data[n].get('cumulative_deforestation'))\n",
    "        weeks.append(data[n].get('week'))\n",
    "    \n",
    "    emissions_years.append(emissions)\n",
    "    loss_years.append(loss)\n",
    "    weeks_years.append(weeks)"
   ]
  },
  {
   "cell_type": "markdown",
   "metadata": {},
   "source": [
    "**Past years**\n",
    "\n",
    "We compute the mean and the standard deviation for the years between 2015-2017."
   ]
  },
  {
   "cell_type": "code",
   "execution_count": 30,
   "metadata": {},
   "outputs": [],
   "source": [
    "# One week is missing for year 2017. We add the same value as for the previous week.\n",
    "emissions_years[2].append(emissions_years[2][-1])\n",
    "loss_years[2].append(loss_years[2][-1])"
   ]
  },
  {
   "cell_type": "code",
   "execution_count": 31,
   "metadata": {},
   "outputs": [],
   "source": [
    "emissions_past = np.array(emissions_years[:3])\n",
    "loss_past = np.array(loss_years[:3])"
   ]
  },
  {
   "cell_type": "code",
   "execution_count": 32,
   "metadata": {},
   "outputs": [],
   "source": [
    "# Means and standard deviations of both emission and loss over time\n",
    "emissions_mean = np.mean(emissions_past, axis=0)\n",
    "emissions_std = np.std(emissions_past, axis=0)\n",
    "\n",
    "loss_mean = np.mean(loss_past, axis=0)\n",
    "loss_std = np.std(loss_past, axis=0)"
   ]
  },
  {
   "cell_type": "markdown",
   "metadata": {},
   "source": [
    "**Line charts**"
   ]
  },
  {
   "cell_type": "code",
   "execution_count": 33,
   "metadata": {},
   "outputs": [
    {
     "data": {
      "image/png": "[encoded data removed]",
      "text/plain": [
       "<Figure size 1080x216 with 1 Axes>"
      ]
     },
     "metadata": {},
     "output_type": "display_data"
    }
   ],
   "source": [
    "# Plot Cumulative Emissions for year 2018\n",
    "t = np.array(weeks_years[0])\n",
    "\n",
    "fig, ax = plt.subplots(1, figsize=(15,3))\n",
    "\n",
    "ax.plot(t, emissions_mean, color='gray')\n",
    "ax.fill_between(t, emissions_mean+emissions_std, emissions_mean-emissions_std, facecolor='gray', alpha=0.5)\n",
    "\n",
    "ax.plot(t,t*0+265, ls='--', color='gray')\n",
    "        \n",
    "ax.plot(weeks_years[3], emissions_years[3], color='r')\n",
    "\n",
    "ax.set_title('Cumulative Emissions to Date (MtCO2)')\n",
    "ax.set_ylabel('Mt CO2')\n",
    "\n",
    "ax.text(1, 265+20, '2020 Target: 265 MtCO2')\n",
    "\n",
    "ax.grid(axis='x')"
   ]
  },
  {
   "cell_type": "code",
   "execution_count": 34,
   "metadata": {},
   "outputs": [
    {
     "data": {
      "image/png": "[encoded data removed]",
      "text/plain": [
       "<Figure size 1080x216 with 1 Axes>"
      ]
     },
     "metadata": {},
     "output_type": "display_data"
    }
   ],
   "source": [
    "# Plot Cumulative Area of Loss for year 2018\n",
    "t = np.array(weeks_years[0])\n",
    "\n",
    "fig, ax = plt.subplots(1, figsize=(15,3))\n",
    "\n",
    "ax.plot(t, loss_mean, color='gray')\n",
    "ax.fill_between(t, loss_mean+loss_std, loss_mean-loss_std, facecolor='gray', alpha=0.5)\n",
    "\n",
    "ax.plot(t,t*0+988880, ls='--', color='gray')\n",
    "        \n",
    "ax.plot(weeks_years[3], loss_years[3], color='r')\n",
    "\n",
    "ax.set_title('Cumulative Area of Loss to Date (ha)')\n",
    "ax.set_ylabel('ha')\n",
    "\n",
    "ax.text(1, 988880+100000, '2020 Target: 988,880 ha')\n",
    "\n",
    "ax.grid(axis='x')"
   ]
  },
  {
   "cell_type": "markdown",
   "metadata": {},
   "source": [
    "## Biomass widget"
   ]
  },
  {
   "cell_type": "markdown",
   "metadata": {},
   "source": [
    "### Total biomass ranking"
   ]
  },
  {
   "cell_type": "markdown",
   "metadata": {},
   "source": [
    "**Global and Country**"
   ]
  },
  {
   "cell_type": "code",
   "execution_count": 58,
   "metadata": {},
   "outputs": [
    {
     "name": "stdout",
     "output_type": "stream",
     "text": [
      "https://wri-01.carto.com/api/v2/sql?q=SELECT+gid_0+as+iso%2C+SUM%28totalbiomass%29+as+total_biomass+FROM+whrc_biomass+GROUP+BY+iso+ORDER+BY+total_biomass+DESC\n",
      "Status code: 200\n"
     ]
    }
   ],
   "source": [
    "url = \"https://wri-01.carto.com/api/v2/\"\n",
    "\n",
    "\n",
    "query = f\"SELECT gid_0 as iso, SUM(totalbiomass) as total_biomass FROM whrc_biomass GROUP BY iso ORDER BY total_biomass DESC\"\n",
    "\n",
    "r = requests.get(url + 'sql', params={'q': query})\n",
    "\n",
    "print(r.url)\n",
    "print(f'Status code: {r.status_code}')\n",
    "#pprint(r.json())"
   ]
  },
  {
   "cell_type": "code",
   "execution_count": 61,
   "metadata": {},
   "outputs": [
    {
     "name": "stdout",
     "output_type": "stream",
     "text": [
      "Global ranking:\n"
     ]
    },
    {
     "data": {
      "text/plain": [
       "[{'iso': 'BRA', 'total_biomass': 89144701297.3072},\n",
       " {'iso': 'RUS', 'total_biomass': 59355380786.4744},\n",
       " {'iso': 'USA', 'total_biomass': 36708222182.4856},\n",
       " {'iso': 'CAN', 'total_biomass': 24394465210.277},\n",
       " {'iso': 'CHN', 'total_biomass': 22019667226.0723}]"
      ]
     },
     "execution_count": 61,
     "metadata": {},
     "output_type": "execute_result"
    }
   ],
   "source": [
    "print('Global ranking:')\n",
    "r.json().get('rows')[:5]"
   ]
  },
  {
   "cell_type": "markdown",
   "metadata": {},
   "source": [
    "**Admin 1**"
   ]
  },
  {
   "cell_type": "code",
   "execution_count": 80,
   "metadata": {},
   "outputs": [
    {
     "name": "stdout",
     "output_type": "stream",
     "text": [
      "https://wri-01.carto.com/api/v2/sql?q=SELECT+gid_0+as+iso%2C+name_1+as+admin_1%2C+SUM%28totalbiomass%29+as+total_biomass+FROM+whrc_biomass+WHERE+gid_0+%3D+%27BRA%27+GROUP+BY+iso%2C+admin_1+ORDER+BY+total_biomass+DESC\n",
      "Status code: 200\n"
     ]
    },
    {
     "data": {
      "text/plain": [
       "[{'admin_1': 'Amazonas', 'iso': 'BRA', 'total_biomass': 44619402282},\n",
       " {'admin_1': 'Mato Grosso', 'iso': 'BRA', 'total_biomass': 10954508206.5},\n",
       " {'admin_1': 'Acre', 'iso': 'BRA', 'total_biomass': 4936630662},\n",
       " {'admin_1': 'Rondônia', 'iso': 'BRA', 'total_biomass': 4693269954.7},\n",
       " {'admin_1': 'Roraima', 'iso': 'BRA', 'total_biomass': 4430549428.5}]"
      ]
     },
     "execution_count": 80,
     "metadata": {},
     "output_type": "execute_result"
    }
   ],
   "source": [
    "url = \"https://wri-01.carto.com/api/v2/\"\n",
    "\n",
    "\n",
    "query = f\"SELECT gid_0 as iso, name_1 as admin_1, SUM(totalbiomass) as total_biomass FROM whrc_biomass WHERE gid_0 = 'BRA' GROUP BY iso, admin_1 ORDER BY total_biomass DESC\"\n",
    "\n",
    "r = requests.get(url + 'sql', params={'q': query})\n",
    "\n",
    "print(r.url)\n",
    "print(f'Status code: {r.status_code}')\n",
    "#pprint(r.json())\n",
    "r.json().get('rows')[:5]"
   ]
  },
  {
   "cell_type": "markdown",
   "metadata": {},
   "source": [
    "**Admin 2**"
   ]
  },
  {
   "cell_type": "code",
   "execution_count": 81,
   "metadata": {},
   "outputs": [
    {
     "name": "stdout",
     "output_type": "stream",
     "text": [
      "https://wri-01.carto.com/api/v2/sql?q=SELECT+gid_0+as+iso%2C+name_1+as+admin_1%2C+name_2+as+admin_2%2C+SUM%28totalbiomass%29+as+total_biomass+FROM+whrc_biomass+WHERE+gid_0+%3D+%27BRA%27+GROUP+BY+iso%2C+admin_1%2C+admin_2+ORDER+BY+total_biomass+DESC\n",
      "Status code: 200\n"
     ]
    },
    {
     "data": {
      "text/plain": [
       "[{'admin_1': 'Amazonas',\n",
       "  'admin_2': 'Tapauá',\n",
       "  'iso': 'BRA',\n",
       "  'total_biomass': 2786744800},\n",
       " {'admin_1': 'Amazonas',\n",
       "  'admin_2': 'Atalaia do Norte',\n",
       "  'iso': 'BRA',\n",
       "  'total_biomass': 2762593800},\n",
       " {'admin_1': 'Amazonas',\n",
       "  'admin_2': 'Barcelos',\n",
       "  'iso': 'BRA',\n",
       "  'total_biomass': 2733722000},\n",
       " {'admin_1': 'Amazonas',\n",
       "  'admin_2': 'Santa Isabel do Rio Negro',\n",
       "  'iso': 'BRA',\n",
       "  'total_biomass': 2720736800},\n",
       " {'admin_1': 'Amazonas',\n",
       "  'admin_2': 'Jutaí',\n",
       "  'iso': 'BRA',\n",
       "  'total_biomass': 2258562800}]"
      ]
     },
     "execution_count": 81,
     "metadata": {},
     "output_type": "execute_result"
    }
   ],
   "source": [
    "url = \"https://wri-01.carto.com/api/v2/\"\n",
    "\n",
    "\n",
    "query = f\"SELECT gid_0 as iso, name_1 as admin_1, name_2 as admin_2, SUM(totalbiomass) as total_biomass FROM whrc_biomass WHERE gid_0 = 'BRA' GROUP BY iso, admin_1, admin_2 ORDER BY total_biomass DESC\"\n",
    "\n",
    "r = requests.get(url + 'sql', params={'q': query})\n",
    "\n",
    "print(r.url)\n",
    "print(f'Status code: {r.status_code}')\n",
    "#pprint(r.json())\n",
    "r.json().get('rows')[:5]"
   ]
  },
  {
   "cell_type": "code",
   "execution_count": null,
   "metadata": {},
   "outputs": [],
   "source": []
  }
 ],
 "metadata": {
  "kernelspec": {
   "display_name": "Python 3",
   "language": "python",
   "name": "python3"
  },
  "language_info": {
   "codemirror_mode": {
    "name": "ipython",
    "version": 3
   },
   "file_extension": ".py",
   "mimetype": "text/x-python",
   "name": "python",
   "nbconvert_exporter": "python",
   "pygments_lexer": "ipython3",
   "version": "3.6.4"
  }
 },
 "nbformat": 4,
 "nbformat_minor": 2
}
