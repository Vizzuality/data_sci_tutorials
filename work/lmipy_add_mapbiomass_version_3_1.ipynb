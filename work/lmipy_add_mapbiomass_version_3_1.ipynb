{
  "nbformat": 4,
  "nbformat_minor": 0,
  "metadata": {
    "colab": {
      "name": "lmipy_add_mapbiomass_version_3_1.ipynb",
      "version": "0.3.2",
      "provenance": [],
      "collapsed_sections": [],
      "include_colab_link": true
    },
    "kernelspec": {
      "name": "python3",
      "display_name": "Python 3"
    }
  },
  "cells": [
    {
      "cell_type": "markdown",
      "metadata": {
        "id": "view-in-github",
        "colab_type": "text"
      },
      "source": [
        "<a href=\"https://colab.research.google.com/github/Vizzuality/data_sci_tutorials/blob/master/work/lmipy_add_mapbiomass_version_3_1.ipynb\" target=\"_parent\"><img src=\"https://colab.research.google.com/assets/colab-badge.svg\" alt=\"Open In Colab\"/></a>"
      ]
    },
    {
      "cell_type": "markdown",
      "metadata": {
        "id": "JJ509AFc6Pdy",
        "colab_type": "text"
      },
      "source": [
        "#Add MapBiomass version 3.1 to the GFW resourcewatch API\n",
        "\n",
        "The data comes as and GEE Image asset where each band is a year, this is converted to an ee.Image.Collection Asset where each image is a year.\n",
        "\n",
        "Using LMIpy a suitable dataset is cloned, the dataset fields are updated and all years are added as individual layers to the dataset.\n",
        "\n",
        "Remember to define your API_TOKEN = \"\"your-token\" in a scratch cell (insert > scratch code cell)"
      ]
    },
    {
      "cell_type": "code",
      "metadata": {
        "id": "g9wj2ZDMMHLx",
        "colab_type": "code",
        "colab": {
          "base_uri": "https://localhost:8080/",
          "height": 920
        },
        "outputId": "45058ed4-594c-4917-a194-9d4a57d1dad2"
      },
      "source": [
        "# Pip install the LMIPy Module\n",
        "\n",
        "!pip install --upgrade LMIPy "
      ],
      "execution_count": 1,
      "outputs": [
        {
          "output_type": "stream",
          "text": [
            "Collecting LMIPy\n",
            "  Downloading https://files.pythonhosted.org/packages/e0/84/5b6ed1be50955d77009fc79c534b9499bd0d21d1df189a1314998ecbed36/LMIPy-0.2.5-py3-none-any.whl\n",
            "Requirement already satisfied, skipping upgrade: requests>=2.2.0 in /usr/local/lib/python3.6/dist-packages (from LMIPy) (2.21.0)\n",
            "Collecting geopandas>=0.4.1 (from LMIPy)\n",
            "\u001b[?25l  Downloading https://files.pythonhosted.org/packages/74/42/f4b147fc7920998a42046d0c2e65e61000bc5d104f1f8aec719612cb2fc8/geopandas-0.5.0-py2.py3-none-any.whl (893kB)\n",
            "\u001b[K     |████████████████████████████████| 901kB 7.3MB/s \n",
            "\u001b[?25hCollecting pypng==0.0.19 (from LMIPy)\n",
            "\u001b[?25l  Downloading https://files.pythonhosted.org/packages/0e/39/993a5feea8ed9c2eebd70c6e7c20cb4b0823588f5ab0afab4b0be95ebc23/pypng-0.0.19.tar.gz (293kB)\n",
            "\u001b[K     |████████████████████████████████| 296kB 49.3MB/s \n",
            "\u001b[?25hRequirement already satisfied, skipping upgrade: folium==0.8.3 in /usr/local/lib/python3.6/dist-packages (from LMIPy) (0.8.3)\n",
            "Requirement already satisfied, skipping upgrade: tqdm>=4.21.0 in /usr/local/lib/python3.6/dist-packages (from LMIPy) (4.28.1)\n",
            "Collecting geojson>=2.4.0 (from LMIPy)\n",
            "  Downloading https://files.pythonhosted.org/packages/f1/34/bc3a65faabce27a7faa755ab08d811207a4fc438f77ef09c229fc022d778/geojson-2.4.1-py2.py3-none-any.whl\n",
            "Collecting colored>=1.3.93 (from LMIPy)\n",
            "  Downloading https://files.pythonhosted.org/packages/58/07/636616667b47d3115b0288311511c5fb446d0e499036b7db858704c89066/colored-1.3.93.tar.gz\n",
            "Requirement already satisfied, skipping upgrade: idna<2.9,>=2.5 in /usr/local/lib/python3.6/dist-packages (from requests>=2.2.0->LMIPy) (2.8)\n",
            "Requirement already satisfied, skipping upgrade: urllib3<1.25,>=1.21.1 in /usr/local/lib/python3.6/dist-packages (from requests>=2.2.0->LMIPy) (1.24.3)\n",
            "Requirement already satisfied, skipping upgrade: chardet<3.1.0,>=3.0.2 in /usr/local/lib/python3.6/dist-packages (from requests>=2.2.0->LMIPy) (3.0.4)\n",
            "Requirement already satisfied, skipping upgrade: certifi>=2017.4.17 in /usr/local/lib/python3.6/dist-packages (from requests>=2.2.0->LMIPy) (2019.3.9)\n",
            "Requirement already satisfied, skipping upgrade: shapely in /usr/local/lib/python3.6/dist-packages (from geopandas>=0.4.1->LMIPy) (1.6.4.post2)\n",
            "Collecting fiona (from geopandas>=0.4.1->LMIPy)\n",
            "\u001b[?25l  Downloading https://files.pythonhosted.org/packages/89/4a/193cd6a75e51062c85f4e1cd6f312b3bbda6e26ba7510f152ef5016f0b16/Fiona-1.8.6-cp36-cp36m-manylinux1_x86_64.whl (17.9MB)\n",
            "\u001b[K     |████████████████████████████████| 17.9MB 30.7MB/s \n",
            "\u001b[?25hCollecting pyproj (from geopandas>=0.4.1->LMIPy)\n",
            "\u001b[?25l  Downloading https://files.pythonhosted.org/packages/ac/1a/81ef33d97354eb7d1765a921ecaf2ece41fd7927937b7c74124b6a2a0d99/pyproj-2.2.0-cp36-cp36m-manylinux1_x86_64.whl (11.2MB)\n",
            "\u001b[K     |████████████████████████████████| 11.2MB 27.9MB/s \n",
            "\u001b[?25hRequirement already satisfied, skipping upgrade: pandas in /usr/local/lib/python3.6/dist-packages (from geopandas>=0.4.1->LMIPy) (0.24.2)\n",
            "Requirement already satisfied, skipping upgrade: numpy in /usr/local/lib/python3.6/dist-packages (from folium==0.8.3->LMIPy) (1.16.4)\n",
            "Requirement already satisfied, skipping upgrade: six in /usr/local/lib/python3.6/dist-packages (from folium==0.8.3->LMIPy) (1.12.0)\n",
            "Requirement already satisfied, skipping upgrade: branca>=0.3.0 in /usr/local/lib/python3.6/dist-packages (from folium==0.8.3->LMIPy) (0.3.1)\n",
            "Requirement already satisfied, skipping upgrade: jinja2 in /usr/local/lib/python3.6/dist-packages (from folium==0.8.3->LMIPy) (2.10.1)\n",
            "Collecting click-plugins>=1.0 (from fiona->geopandas>=0.4.1->LMIPy)\n",
            "  Downloading https://files.pythonhosted.org/packages/e9/da/824b92d9942f4e472702488857914bdd50f73021efea15b4cad9aca8ecef/click_plugins-1.1.1-py2.py3-none-any.whl\n",
            "Requirement already satisfied, skipping upgrade: attrs>=17 in /usr/local/lib/python3.6/dist-packages (from fiona->geopandas>=0.4.1->LMIPy) (19.1.0)\n",
            "Collecting munch (from fiona->geopandas>=0.4.1->LMIPy)\n",
            "  Downloading https://files.pythonhosted.org/packages/68/f4/260ec98ea840757a0da09e0ed8135333d59b8dfebe9752a365b04857660a/munch-2.3.2.tar.gz\n",
            "Requirement already satisfied, skipping upgrade: click<8,>=4.0 in /usr/local/lib/python3.6/dist-packages (from fiona->geopandas>=0.4.1->LMIPy) (7.0)\n",
            "Collecting cligj>=0.5 (from fiona->geopandas>=0.4.1->LMIPy)\n",
            "  Downloading https://files.pythonhosted.org/packages/e4/be/30a58b4b0733850280d01f8bd132591b4668ed5c7046761098d665ac2174/cligj-0.5.0-py3-none-any.whl\n",
            "Requirement already satisfied, skipping upgrade: python-dateutil>=2.5.0 in /usr/local/lib/python3.6/dist-packages (from pandas->geopandas>=0.4.1->LMIPy) (2.5.3)\n",
            "Requirement already satisfied, skipping upgrade: pytz>=2011k in /usr/local/lib/python3.6/dist-packages (from pandas->geopandas>=0.4.1->LMIPy) (2018.9)\n",
            "Requirement already satisfied, skipping upgrade: MarkupSafe>=0.23 in /usr/local/lib/python3.6/dist-packages (from jinja2->folium==0.8.3->LMIPy) (1.1.1)\n",
            "Building wheels for collected packages: pypng, colored, munch\n",
            "  Building wheel for pypng (setup.py) ... \u001b[?25l\u001b[?25hdone\n",
            "  Stored in directory: /root/.cache/pip/wheels/a4/cd/54/c1d0803dfed5adf2bba530eda161581d9096d0154aee082cac\n",
            "  Building wheel for colored (setup.py) ... \u001b[?25l\u001b[?25hdone\n",
            "  Stored in directory: /root/.cache/pip/wheels/52/c3/b7/ac21460710230feb409fee89bf594c4f2660ff7b67491d128f\n",
            "  Building wheel for munch (setup.py) ... \u001b[?25l\u001b[?25hdone\n",
            "  Stored in directory: /root/.cache/pip/wheels/db/bf/bc/06a3e1bfe0ab27d2e720ceb3cff3159398d92644c0cec2c125\n",
            "Successfully built pypng colored munch\n",
            "Installing collected packages: click-plugins, munch, cligj, fiona, pyproj, geopandas, pypng, geojson, colored, LMIPy\n",
            "Successfully installed LMIPy-0.2.5 click-plugins-1.1.1 cligj-0.5.0 colored-1.3.93 fiona-1.8.6 geojson-2.4.1 geopandas-0.5.0 munch-2.3.2 pypng-0.0.19 pyproj-2.2.0\n"
          ],
          "name": "stdout"
        }
      ]
    },
    {
      "cell_type": "code",
      "metadata": {
        "id": "lB15A3JIECbc",
        "colab_type": "code",
        "colab": {}
      },
      "source": [
        "# Set some variables\n",
        "# environment to add to\n",
        "env = \"production\"\n",
        "# dataset and layer to clone\n",
        "ds_to_clone = \"fee5fc38-7a62-49b8-8874-dfa31cbb1ef6\"\n",
        "ly_to_clone = \"f13f86cb-08b5-4e6c-bb8d-b4782052f9e5\"\n",
        "# dataset parameters\n",
        "dataset_params = {\n",
        "    'name': \"Brazil Land Cover 1985-2017\",\n",
        "    'tableName': \"projects/wri-datalab/mapbiomas_collection31_integration_v1\",\n",
        "    'description':'This data set shows annual land use and land cover for Brazil from 1985 to 2017.'\n",
        "}\n",
        "# vocab parameters\n",
        "vocab_params = {\n",
        "    'application': 'gfw',\n",
        "    'name': 'categoryTab',\n",
        "    'tags': ['landCover', 'landCover']\n",
        "}\n",
        "# metadata parameters\n",
        "meta_params = {\n",
        "    'application': 'gfw',\n",
        "    'language': 'en',\n",
        "    'info': {\n",
        "        'isSelectorLayer': True,\n",
        "        'citation': '1985-2017, MapBiomas',\n",
        "        'color': '#a0c746',\n",
        "        'description': 'This data set shows annual land use and land cover for Brazil from 1985 to 2017.',\n",
        "        'name': 'Brazil land cover'},\n",
        " }\n",
        "# layer parameters\n",
        "def ly_params(year, selConf_position, appConf_default = False):\n",
        "  \"\"\"Create parameters for multiyear layers\"\"\"\n",
        "  year = str(year)\n",
        "  return {\n",
        "    'name':'Brazil land cover ' + year,\n",
        "    'iso': [\"BRA\"],\n",
        "    'env':\t\"staging\",\n",
        "    'legendConfig':{\n",
        "      'items':[\n",
        "         {\n",
        "            'color':'#006400',\n",
        "            'name':'Forest formations'\n",
        "         },\n",
        "         {\n",
        "            'color':'#8D9023',\n",
        "            'name':'Savannah formations'\n",
        "         },\n",
        "         {\n",
        "            'color':'#8AA81D',\n",
        "            'name':'Mangroves'\n",
        "         },\n",
        "         {\n",
        "            'color':'#E8A3E5',\n",
        "            'name':'Planted forest'\n",
        "         },\n",
        "         {\n",
        "            'color':'#2789D4',\n",
        "            'name':'Non-forest wetlands'\n",
        "         },\n",
        "         {\n",
        "            'color':'#CCDB98',\n",
        "            'name':'Grassland'\n",
        "         },\n",
        "         {\n",
        "            'color':'#8AB84A',\n",
        "            'name':'Other non-forest vegetation'\n",
        "         },\n",
        "         {\n",
        "            'color':'#FFB87E',\n",
        "            'name':'Pasture'\n",
        "         },\n",
        "         {\n",
        "            'color':'#D2A965',\n",
        "            'name':'Agriculture'\n",
        "         },\n",
        "         {\n",
        "            'color':'#E8B071',\n",
        "            'name':'Pasture or agriculture'\n",
        "         },\n",
        "         {\n",
        "            'color':'#DD7E6B',\n",
        "            'name':'Beaches and dunes'\n",
        "         },\n",
        "         {\n",
        "            'color':'#E9462B',\n",
        "            'name':'Urban infrastructure'\n",
        "         },\n",
        "         {\n",
        "            'color':'#F6F0EA',\n",
        "            'name':'Uncategorized'\n",
        "         },\n",
        "         {\n",
        "            'color':'#A3DCFE',\n",
        "            'name':'Water bodies'\n",
        "         },\n",
        "         {\n",
        "            'color':' #8A2BE2',\n",
        "            'name':'Mining'\n",
        "         }\n",
        "      ],\n",
        "      'type':'basic'\n",
        "   },\n",
        "    'layerConfig':{\n",
        "        'type':'tileLayer',\n",
        "        'provider':'gee',   \n",
        "        'assetId':'projects/wri-datalab/mapbiomas_collection31_integration_v1/classification_' + year,\n",
        "        \"isImageCollection\": False,\n",
        "        'body':{\n",
        "         \"maxNativeZoom\":\t13,\n",
        "         \"maxzoom\":\t19,\n",
        "         \"minNativeZoom\":\t4,\n",
        "         \"minzoom\":\t2,\n",
        "         \"sldValue\": '<RasterSymbolizer>' +' <ColorMap  type=\"intervals\" extended=\"false\" >' +'<ColorMapEntry color=\"#006400\" quantity=\"3\" label=\"Forest formations\"/>' +'<ColorMapEntry color=\"#8D9023\" quantity=\"4\" label=\"Savannah formations\"/>' +'<ColorMapEntry color=\"#8AA81D\" quantity=\"5\" label=\"Mangroves\"/>' +'<ColorMapEntry color=\"#E8A3E5\" quantity=\"9\" label=\"Planted forest\"/>' +'<ColorMapEntry color=\"#2789D4\" quantity=\"11\" label=\"Non-forest wetlands\"/>' +'<ColorMapEntry color=\"#CCDB98\" quantity=\"12\" label=\"Grassland\"/>' +'<ColorMapEntry color=\"#8AB84A\" quantity=\"13\" label=\"Other non-forest vegetation\"/>' +'<ColorMapEntry color=\"#FFB87E\" quantity=\"15\" label=\"Pasture\"/>' +'<ColorMapEntry color=\"#D2A965\" quantity=\"18\" label=\"Agriculture\"/>' +'<ColorMapEntry color=\"#E8B071\" quantity=\"21\" label=\"Pasture or agriculture\"/>' +'<ColorMapEntry color=\"#DD7E6B\" quantity=\"23\" label=\"Beaches and dunes\"/>' +'<ColorMapEntry color=\"#E9462B\" quantity=\"24\" label=\"Urban infrastructure\"/>' +'<ColorMapEntry color=\"#F6F0EA\" quantity=\"27\" label=\"Uncategorized\"/>' +'<ColorMapEntry color=\"#A3DCFE\" quantity=\"26\" label=\"Water bodies\"/>' +'<ColorMapEntry color=\"#8A2BE2\" quantity=\"30\" label=\"Mining\"/>' +'</ColorMap>' +'</RasterSymbolizer>',\n",
        "         \"styleType\": \"sld\",\n",
        "         }},\n",
        "    'applicationConfig' :{\n",
        "        'global':\tFalse,\n",
        "        'default':\tappConf_default,\n",
        "        'active':\tTrue,\n",
        "        'metadata': 'bra_mapbiomas_1985_2017',\n",
        "        'selectorConfig': {\n",
        "            'label':\tyear,\n",
        "            'position':\tselConf_position,\n",
        "            'value':\t\"classification_\"+year\n",
        "        }}    \n",
        "}\n",
        "\n",
        "\n"
      ],
      "execution_count": 0,
      "outputs": []
    },
    {
      "cell_type": "code",
      "metadata": {
        "id": "yuOQv-UvRmqy",
        "colab_type": "code",
        "outputId": "adcea557-c964-4f8a-ed33-8dc74501bf9b",
        "colab": {
          "base_uri": "https://localhost:8080/",
          "height": 299
        }
      },
      "source": [
        "import LMIPy as lmi\n",
        "c = lmi.Collection(search=\"brazil\", app=[\"gfw\"], env=\"production\", object_type=\"dataset\")\n",
        "c\n"
      ],
      "execution_count": 2,
      "outputs": [
        {
          "output_type": "execute_result",
          "data": {
            "text/html": [
              "<div class='item_container' style='height: auto; overflow: hidden; border: 1px solid #80ceb9;border-radius: 2px; background: #f2fffb; line-height: 1.21429em; padding: 10px;''><div class='item_left' style='width: 210px; float: left;''><a href='https://resourcewatch.org/' target='_blank'><img class='itemThumbnail' src='https://resourcewatch.org/static/images/logo-embed.png'></a></div><div class='item_right' style='float: none; width: auto; overflow: hidden;''><b>0. </b><a href=https://api.resourcewatch.org/v1/dataset/05a6d516-e045-498d-bc9f-04673990860f?includes=vocabulary,metadata,layer,widget target='_blank'><b>Brazil Biomes</b></a><br> Carto table: <a href=https://wri-01.carto.com/tables/bra_biomes target='_blank'>bra_biomes</a> 🗺Dataset in GFW.<br>Last Modified: 2018-11-21T14:02:30.130Z<br>Connector: cartodb | Published: True </div> </div><p></p><div class='item_container' style='height: auto; overflow: hidden; border: 1px solid #80ceb9;border-radius: 2px; background: #f2fffb; line-height: 1.21429em; padding: 10px;''><div class='item_left' style='width: 210px; float: left;''><a href='https://resourcewatch.org/' target='_blank'><img class='itemThumbnail' src='https://resourcewatch.org/static/images/logo-embed.png'></a></div><div class='item_right' style='float: none; width: auto; overflow: hidden;''><b>1. </b><a href=https://api.resourcewatch.org/v1/dataset/f3fc0f1e-aa26-49b6-8741-45df2eea9ac2?includes=vocabulary,metadata,layer,widget target='_blank'><b>Brazil Land Cover</b></a><br> Data source wms 🗺Dataset in GFW.<br>Last Modified: 2018-11-21T14:03:00.256Z<br>Connector: wms | Published: True </div> </div><p></p><div class='item_container' style='height: auto; overflow: hidden; border: 1px solid #80ceb9;border-radius: 2px; background: #f2fffb; line-height: 1.21429em; padding: 10px;''><div class='item_left' style='width: 210px; float: left;''><a href='https://resourcewatch.org/' target='_blank'><img class='itemThumbnail' src='https://resourcewatch.org/static/images/logo-embed.png'></a></div><div class='item_right' style='float: none; width: auto; overflow: hidden;''><b>2. </b><a href=https://api.resourcewatch.org/v1/dataset/e559829e-27fe-4c6c-bd6c-6a67a7ea419f?includes=vocabulary,metadata,layer,widget target='_blank'><b>Brazil Land Cover 1985-2017</b></a><br> GEE asset: <a href='https://code.earthengine.google.com/asset='projects/wri-datalab/mapbiomas_collection31_integration_v1 target='_blank'>projects/wri-datalab/mapbiomas_collection31_integration_v1</a> 🗺Dataset in GFW.<br>Last Modified: 2019-06-18T09:05:35.600Z<br>Connector: gee | Published: True </div> </div>"
            ],
            "text/plain": [
              "[0. Dataset 05a6d516-e045-498d-bc9f-04673990860f Brazil Biomes,\n",
              " 1. Dataset f3fc0f1e-aa26-49b6-8741-45df2eea9ac2 Brazil Land Cover,\n",
              " 2. Dataset e559829e-27fe-4c6c-bd6c-6a67a7ea419f Brazil Land Cover 1985-2017]"
            ]
          },
          "metadata": {
            "tags": []
          },
          "execution_count": 2
        }
      ]
    },
    {
      "cell_type": "code",
      "metadata": {
        "id": "dBJkOJucQKIz",
        "colab_type": "code",
        "outputId": "d9135f96-a0eb-406f-c1a3-e9ab7dd0a81d",
        "colab": {
          "base_uri": "https://localhost:8080/",
          "height": 17
        }
      },
      "source": [
        "import LMIPy as lmi\n",
        "c = lmi.Collection(search=\"brazil\", app=[\"gfw\"], env=\"staging\", object_type=\"layer\")\n",
        "c\n"
      ],
      "execution_count": 0,
      "outputs": [
        {
          "output_type": "execute_result",
          "data": {
            "text/html": [
              ""
            ],
            "text/plain": [
              "[]"
            ]
          },
          "metadata": {
            "tags": []
          },
          "execution_count": 20
        }
      ]
    },
    {
      "cell_type": "code",
      "metadata": {
        "id": "1ERDP8NoUmnz",
        "colab_type": "code",
        "colab": {
          "base_uri": "https://localhost:8080/",
          "height": 1267
        },
        "outputId": "be9c5336-cbaf-4755-e21c-6aaf64b6440b"
      },
      "source": [
        "# If needed remove incorrect versions\n",
        "#for i in range(0, len(c)):\n",
        "#  ods = c[2]\n",
        "#  ods.delete(token=API_TOKEN, force=True)"
      ],
      "execution_count": 7,
      "outputs": [
        {
          "output_type": "stream",
          "text": [
            "WARNING - Dataset has 33 associated Layer(s).\n",
            "[D]elete ALL associated Layers, or\n",
            "[A]bort delete process?\n",
            "D\n",
            "https://api.resourcewatch.org/dataset/e559829e-27fe-4c6c-bd6c-6a67a7ea419f/layer/87321e88-d9d1-491f-93f9-cf7a23aa4093\n",
            "Deletion successful!\n",
            "https://api.resourcewatch.org/dataset/e559829e-27fe-4c6c-bd6c-6a67a7ea419f/layer/bbb89de2-8be1-4b31-858e-d4c41f60fd9c\n",
            "Deletion successful!\n",
            "https://api.resourcewatch.org/dataset/e559829e-27fe-4c6c-bd6c-6a67a7ea419f/layer/dbed9426-e665-4785-8af6-8ffad29029da\n",
            "Deletion successful!\n",
            "https://api.resourcewatch.org/dataset/e559829e-27fe-4c6c-bd6c-6a67a7ea419f/layer/6d965ccd-f1c1-4f31-b737-fd7168d6fc8a\n",
            "Deletion successful!\n",
            "https://api.resourcewatch.org/dataset/e559829e-27fe-4c6c-bd6c-6a67a7ea419f/layer/4afcf538-5df0-4a68-bf1f-8c92bc3be204\n",
            "Deletion successful!\n",
            "https://api.resourcewatch.org/dataset/e559829e-27fe-4c6c-bd6c-6a67a7ea419f/layer/8f9d063f-04f4-4171-a9a5-dc7d3cac9a4d\n",
            "Deletion successful!\n",
            "https://api.resourcewatch.org/dataset/e559829e-27fe-4c6c-bd6c-6a67a7ea419f/layer/91fa10c6-d102-4368-bb8b-8fbda7bfaefc\n",
            "Deletion successful!\n",
            "https://api.resourcewatch.org/dataset/e559829e-27fe-4c6c-bd6c-6a67a7ea419f/layer/a61d3b7a-f800-4783-a191-c6e048746222\n",
            "Deletion successful!\n",
            "https://api.resourcewatch.org/dataset/e559829e-27fe-4c6c-bd6c-6a67a7ea419f/layer/368c9f72-65a4-4b01-bbcf-0658652582d9\n",
            "Deletion successful!\n",
            "https://api.resourcewatch.org/dataset/e559829e-27fe-4c6c-bd6c-6a67a7ea419f/layer/600cef0d-afde-414a-9e0a-ddbcd810d081\n",
            "Deletion successful!\n",
            "https://api.resourcewatch.org/dataset/e559829e-27fe-4c6c-bd6c-6a67a7ea419f/layer/dce85c09-0d4a-45b3-99d4-4e6c442c07be\n",
            "Deletion successful!\n",
            "https://api.resourcewatch.org/dataset/e559829e-27fe-4c6c-bd6c-6a67a7ea419f/layer/0a1a60a0-9339-4763-bd13-d84885894638\n",
            "Deletion successful!\n",
            "https://api.resourcewatch.org/dataset/e559829e-27fe-4c6c-bd6c-6a67a7ea419f/layer/7aa1a9d4-3dd8-4358-bfcc-331b50b7247f\n",
            "Deletion successful!\n",
            "https://api.resourcewatch.org/dataset/e559829e-27fe-4c6c-bd6c-6a67a7ea419f/layer/c94090f6-766d-47b4-bb92-0720d70cba79\n",
            "Deletion successful!\n",
            "https://api.resourcewatch.org/dataset/e559829e-27fe-4c6c-bd6c-6a67a7ea419f/layer/13e148b5-f316-4377-8ed1-dc0064f45b87\n",
            "Deletion successful!\n",
            "https://api.resourcewatch.org/dataset/e559829e-27fe-4c6c-bd6c-6a67a7ea419f/layer/dcd9c300-6bad-4227-9755-1e575acddf56\n",
            "Deletion successful!\n",
            "https://api.resourcewatch.org/dataset/e559829e-27fe-4c6c-bd6c-6a67a7ea419f/layer/4807f89b-23d7-4af7-968b-ea1e55773a6b\n",
            "Deletion successful!\n",
            "https://api.resourcewatch.org/dataset/e559829e-27fe-4c6c-bd6c-6a67a7ea419f/layer/75717719-cbe6-4abc-bdba-27cc422e875c\n",
            "Deletion successful!\n",
            "https://api.resourcewatch.org/dataset/e559829e-27fe-4c6c-bd6c-6a67a7ea419f/layer/042610d5-f1f6-4b1a-a325-f1bcb7713fc9\n",
            "Deletion successful!\n",
            "https://api.resourcewatch.org/dataset/e559829e-27fe-4c6c-bd6c-6a67a7ea419f/layer/b23677b7-6052-4f5e-af44-11393351253f\n",
            "Deletion successful!\n",
            "https://api.resourcewatch.org/dataset/e559829e-27fe-4c6c-bd6c-6a67a7ea419f/layer/4e373490-18be-4cf9-9df4-f5762e22134e\n",
            "Deletion successful!\n",
            "https://api.resourcewatch.org/dataset/e559829e-27fe-4c6c-bd6c-6a67a7ea419f/layer/2e577f2f-02b0-4d94-9612-d80ed5fe2b63\n",
            "Deletion successful!\n",
            "https://api.resourcewatch.org/dataset/e559829e-27fe-4c6c-bd6c-6a67a7ea419f/layer/dcd789a7-fec2-48ea-8073-0542f6306f74\n",
            "Deletion successful!\n",
            "https://api.resourcewatch.org/dataset/e559829e-27fe-4c6c-bd6c-6a67a7ea419f/layer/9a67b85a-7c87-4735-8693-f4642ed60931\n",
            "Deletion successful!\n",
            "https://api.resourcewatch.org/dataset/e559829e-27fe-4c6c-bd6c-6a67a7ea419f/layer/389637a1-c4d4-4a6b-9f79-0fa90f05ddae\n",
            "Deletion successful!\n",
            "https://api.resourcewatch.org/dataset/e559829e-27fe-4c6c-bd6c-6a67a7ea419f/layer/12411ce7-a498-40ee-a207-fb17c2110058\n",
            "Deletion successful!\n",
            "https://api.resourcewatch.org/dataset/e559829e-27fe-4c6c-bd6c-6a67a7ea419f/layer/8546d48f-71c4-4278-94db-05a73675b67c\n",
            "Deletion successful!\n",
            "https://api.resourcewatch.org/dataset/e559829e-27fe-4c6c-bd6c-6a67a7ea419f/layer/2390efff-489f-4dff-aa52-22131b25f44a\n",
            "Deletion successful!\n",
            "https://api.resourcewatch.org/dataset/e559829e-27fe-4c6c-bd6c-6a67a7ea419f/layer/adbdd7d9-c942-4d5c-abfc-e36781c95b01\n",
            "Deletion successful!\n",
            "https://api.resourcewatch.org/dataset/e559829e-27fe-4c6c-bd6c-6a67a7ea419f/layer/b5073904-2416-45cc-8068-47cc72dc62f8\n",
            "Deletion successful!\n",
            "https://api.resourcewatch.org/dataset/e559829e-27fe-4c6c-bd6c-6a67a7ea419f/layer/0ba0c883-cb38-44c6-83a8-cd381289abe2\n",
            "Deletion successful!\n",
            "https://api.resourcewatch.org/dataset/e559829e-27fe-4c6c-bd6c-6a67a7ea419f/layer/b4fc01d5-0b78-4195-94f4-12d9fe0e5a08\n",
            "Deletion successful!\n",
            "https://api.resourcewatch.org/dataset/e559829e-27fe-4c6c-bd6c-6a67a7ea419f/layer/0aecb671-6971-47e5-8999-8bf75ae97529\n",
            "Deletion successful!\n",
            "https://api.resourcewatch.org/dataset/e559829e-27fe-4c6c-bd6c-6a67a7ea419f\n",
            "Deletion successful!\n"
          ],
          "name": "stdout"
        }
      ]
    },
    {
      "cell_type": "code",
      "metadata": {
        "id": "j6FH2ZgoXwCC",
        "colab_type": "code",
        "outputId": "8d17a8eb-43f5-49a7-80ef-72ed5337b277",
        "colab": {
          "base_uri": "https://localhost:8080/",
          "height": 69
        }
      },
      "source": [
        "# Clone the biodiversity dataset\n",
        "import LMIPy as lmi\n",
        "ds = lmi.Dataset(ds_to_clone).clone(token=API_TOKEN, env=env, dataset_params=dataset_params, clone_children=False)\n",
        "ds_id = ds.id\n",
        "ds_id"
      ],
      "execution_count": 9,
      "outputs": [
        {
          "output_type": "stream",
          "text": [
            "Creating clone dataset\n",
            "https://api.resourcewatch.org/v1/dataset/b3bfa285-ab43-4562-b2e0-0ab3e92c59e3\n"
          ],
          "name": "stdout"
        },
        {
          "output_type": "execute_result",
          "data": {
            "text/plain": [
              "'b3bfa285-ab43-4562-b2e0-0ab3e92c59e3'"
            ]
          },
          "metadata": {
            "tags": []
          },
          "execution_count": 9
        }
      ]
    },
    {
      "cell_type": "code",
      "metadata": {
        "id": "1eq7MGVXZ1iP",
        "colab_type": "code",
        "outputId": "2dd4c572-629a-4677-f7a4-7371e0fface8",
        "colab": {
          "base_uri": "https://localhost:8080/",
          "height": 124
        }
      },
      "source": [
        "# Add vocab\n",
        "import LMIPy as lmi\n",
        "lmi.Dataset(ds_id).add_vocabulary(vocab_params = vocab_params, token = API_TOKEN)"
      ],
      "execution_count": 10,
      "outputs": [
        {
          "output_type": "stream",
          "text": [
            "Vocabulary categoryTab created.\n"
          ],
          "name": "stdout"
        },
        {
          "output_type": "execute_result",
          "data": {
            "text/html": [
              "<div class='item_container' style='height: auto; overflow: hidden; border: 1px solid #80ceb9;border-radius: 2px; background: #f2fffb; line-height: 1.21429em; padding: 10px;''><div class='item_left' style='width: 210px; float: left;''><a href='https://resourcewatch.org/' target='_blank'><img class='itemThumbnail' src='https://resourcewatch.org/static/images/logo-embed.png'></a></div><div class='item_right' style='float: none; width: auto; overflow: hidden;''><a href=https://api.resourcewatch.org/v1/dataset/b3bfa285-ab43-4562-b2e0-0ab3e92c59e3?includes=vocabulary,metadata,layer,widget target='_blank'><b>Brazil Land Cover 1985-2017</b></a><br> GEE asset: <a href='https://code.earthengine.google.com/asset='projects/wri-datalab/mapbiomas_collection31_integration_v1 target='_blank'>projects/wri-datalab/mapbiomas_collection31_integration_v1</a> 🗺Dataset in GFW.<br>Last Modified: 2019-06-20T15:05:30.770Z<br>Connector: gee | Published: True </div> </div>"
            ],
            "text/plain": [
              "Dataset b3bfa285-ab43-4562-b2e0-0ab3e92c59e3 Brazil Land Cover 1985-2017"
            ]
          },
          "metadata": {
            "tags": []
          },
          "execution_count": 10
        }
      ]
    },
    {
      "cell_type": "code",
      "metadata": {
        "id": "pbi2KusEbCkM",
        "colab_type": "code",
        "outputId": "268cd172-cb90-4b80-af2a-b98d0cae673d",
        "colab": {
          "base_uri": "https://localhost:8080/",
          "height": 124
        }
      },
      "source": [
        "# Add metadata\n",
        "import LMIPy as lmi\n",
        "lmi.Dataset(ds_id).add_metadata(meta_params = meta_params, token = API_TOKEN)"
      ],
      "execution_count": 11,
      "outputs": [
        {
          "output_type": "stream",
          "text": [
            "Metadata created.\n"
          ],
          "name": "stdout"
        },
        {
          "output_type": "execute_result",
          "data": {
            "text/html": [
              "<div class='item_container' style='height: auto; overflow: hidden; border: 1px solid #80ceb9;border-radius: 2px; background: #f2fffb; line-height: 1.21429em; padding: 10px;''><div class='item_left' style='width: 210px; float: left;''><a href='https://resourcewatch.org/' target='_blank'><img class='itemThumbnail' src='https://resourcewatch.org/static/images/logo-embed.png'></a></div><div class='item_right' style='float: none; width: auto; overflow: hidden;''><a href=https://api.resourcewatch.org/v1/dataset/b3bfa285-ab43-4562-b2e0-0ab3e92c59e3?includes=vocabulary,metadata,layer,widget target='_blank'><b>Brazil Land Cover 1985-2017</b></a><br> GEE asset: <a href='https://code.earthengine.google.com/asset='projects/wri-datalab/mapbiomas_collection31_integration_v1 target='_blank'>projects/wri-datalab/mapbiomas_collection31_integration_v1</a> 🗺Dataset in GFW.<br>Last Modified: 2019-06-20T15:05:30.770Z<br>Connector: gee | Published: True </div> </div>"
            ],
            "text/plain": [
              "Dataset b3bfa285-ab43-4562-b2e0-0ab3e92c59e3 Brazil Land Cover 1985-2017"
            ]
          },
          "metadata": {
            "tags": []
          },
          "execution_count": 11
        }
      ]
    },
    {
      "cell_type": "code",
      "metadata": {
        "id": "QKbtLlaV6pdc",
        "colab_type": "code",
        "outputId": "f2ebf1d0-d428-4848-8f06-7087e0f9f9ef",
        "colab": {
          "base_uri": "https://localhost:8080/",
          "height": 1163
        }
      },
      "source": [
        "# Make list of years\n",
        "year_list = range(2017, 1984, -1)\n",
        "pos_list = range(0, len(year_list), 1)\n",
        "\n",
        "# Add default layer\n",
        "layer_params = ly_params(year = year_list[0], selConf_position = pos_list[0], appConf_default = True)\n",
        "ly = lmi.Layer(ly_to_clone)\n",
        "ly = ly.clone(layer_params = layer_params,  env = env, token = API_TOKEN, target_dataset_id = ds_id)\n",
        "\n",
        "# Add other layers\n",
        "for i in pos_list[1:]:\n",
        "  layer_params = ly_params(year = year_list[i], selConf_position = i, appConf_default = False)\n",
        "  ly.clone(layer_params = layer_params, env = env, token = API_TOKEN, target_dataset_id = ds_id)"
      ],
      "execution_count": 12,
      "outputs": [
        {
          "output_type": "stream",
          "text": [
            "Creating clone layer on target dataset\n",
            "https://api.resourcewatch.org/v1/dataset/b3bfa285-ab43-4562-b2e0-0ab3e92c59e3/layer/ece764b5-d054-402a-9fb3-a19b50907266\n",
            "Creating clone layer on target dataset\n",
            "https://api.resourcewatch.org/v1/dataset/b3bfa285-ab43-4562-b2e0-0ab3e92c59e3/layer/096369a9-71bd-47db-93dd-4a47869345a9\n",
            "Creating clone layer on target dataset\n",
            "https://api.resourcewatch.org/v1/dataset/b3bfa285-ab43-4562-b2e0-0ab3e92c59e3/layer/69c91f97-5b52-4fe3-a3aa-2d4f06002d7a\n",
            "Creating clone layer on target dataset\n",
            "https://api.resourcewatch.org/v1/dataset/b3bfa285-ab43-4562-b2e0-0ab3e92c59e3/layer/d6526a48-d6b7-488c-b471-b926f720e2be\n",
            "Creating clone layer on target dataset\n",
            "https://api.resourcewatch.org/v1/dataset/b3bfa285-ab43-4562-b2e0-0ab3e92c59e3/layer/85923756-106a-47cc-a521-dc0c6ca3034f\n",
            "Creating clone layer on target dataset\n",
            "https://api.resourcewatch.org/v1/dataset/b3bfa285-ab43-4562-b2e0-0ab3e92c59e3/layer/53dcaa6a-d610-47a9-8c8d-089c66b2384d\n",
            "Creating clone layer on target dataset\n",
            "https://api.resourcewatch.org/v1/dataset/b3bfa285-ab43-4562-b2e0-0ab3e92c59e3/layer/32fd5485-d858-478b-861a-8d761fdd9c29\n",
            "Creating clone layer on target dataset\n",
            "https://api.resourcewatch.org/v1/dataset/b3bfa285-ab43-4562-b2e0-0ab3e92c59e3/layer/20ba1e6d-5626-433a-bedc-52ea916184df\n",
            "Creating clone layer on target dataset\n",
            "https://api.resourcewatch.org/v1/dataset/b3bfa285-ab43-4562-b2e0-0ab3e92c59e3/layer/2310766d-288b-4c10-8c18-69cf7f0ae026\n",
            "Creating clone layer on target dataset\n",
            "https://api.resourcewatch.org/v1/dataset/b3bfa285-ab43-4562-b2e0-0ab3e92c59e3/layer/4ad49023-75d8-4154-a8aa-6f2a6f9274c3\n",
            "Creating clone layer on target dataset\n",
            "https://api.resourcewatch.org/v1/dataset/b3bfa285-ab43-4562-b2e0-0ab3e92c59e3/layer/375ce7d4-9050-4676-a5c8-9fe67989ff58\n",
            "Creating clone layer on target dataset\n",
            "https://api.resourcewatch.org/v1/dataset/b3bfa285-ab43-4562-b2e0-0ab3e92c59e3/layer/cac2baa4-be34-4a7c-9bd7-90e0ba30d15d\n",
            "Creating clone layer on target dataset\n",
            "https://api.resourcewatch.org/v1/dataset/b3bfa285-ab43-4562-b2e0-0ab3e92c59e3/layer/3780781e-a746-482b-a80b-30a144137ecf\n",
            "Creating clone layer on target dataset\n",
            "https://api.resourcewatch.org/v1/dataset/b3bfa285-ab43-4562-b2e0-0ab3e92c59e3/layer/be4fd86b-34cb-4226-91f4-5a508cf5e773\n",
            "Creating clone layer on target dataset\n",
            "https://api.resourcewatch.org/v1/dataset/b3bfa285-ab43-4562-b2e0-0ab3e92c59e3/layer/7ec2ca0f-084b-46ac-926e-63f1acabba1c\n",
            "Creating clone layer on target dataset\n",
            "https://api.resourcewatch.org/v1/dataset/b3bfa285-ab43-4562-b2e0-0ab3e92c59e3/layer/a7b972bf-6f00-4b76-b052-e991b8152e43\n",
            "Creating clone layer on target dataset\n",
            "https://api.resourcewatch.org/v1/dataset/b3bfa285-ab43-4562-b2e0-0ab3e92c59e3/layer/3d09c308-dea9-4690-ba72-eaa2c1cc6910\n",
            "Creating clone layer on target dataset\n",
            "https://api.resourcewatch.org/v1/dataset/b3bfa285-ab43-4562-b2e0-0ab3e92c59e3/layer/db8168fc-aced-415f-9533-c654080a9f7a\n",
            "Creating clone layer on target dataset\n",
            "https://api.resourcewatch.org/v1/dataset/b3bfa285-ab43-4562-b2e0-0ab3e92c59e3/layer/94f2e767-0533-4b0d-9219-70cc9e76eeee\n",
            "Creating clone layer on target dataset\n",
            "https://api.resourcewatch.org/v1/dataset/b3bfa285-ab43-4562-b2e0-0ab3e92c59e3/layer/8799ec1b-3a7a-40e0-8616-e22e3486fa38\n",
            "Creating clone layer on target dataset\n",
            "https://api.resourcewatch.org/v1/dataset/b3bfa285-ab43-4562-b2e0-0ab3e92c59e3/layer/714a6688-0143-4807-8c47-c06e3387a367\n",
            "Creating clone layer on target dataset\n",
            "https://api.resourcewatch.org/v1/dataset/b3bfa285-ab43-4562-b2e0-0ab3e92c59e3/layer/efea7e11-54a9-4150-9917-de4ab5fd3b1b\n",
            "Creating clone layer on target dataset\n",
            "https://api.resourcewatch.org/v1/dataset/b3bfa285-ab43-4562-b2e0-0ab3e92c59e3/layer/11761313-a0b8-4dd5-a910-5bcf074f8dd1\n",
            "Creating clone layer on target dataset\n",
            "https://api.resourcewatch.org/v1/dataset/b3bfa285-ab43-4562-b2e0-0ab3e92c59e3/layer/96f8e264-4848-4f27-89aa-5c89e534e12e\n",
            "Creating clone layer on target dataset\n",
            "https://api.resourcewatch.org/v1/dataset/b3bfa285-ab43-4562-b2e0-0ab3e92c59e3/layer/5892292e-6d77-41f3-859c-ef3fe25b725d\n",
            "Creating clone layer on target dataset\n",
            "https://api.resourcewatch.org/v1/dataset/b3bfa285-ab43-4562-b2e0-0ab3e92c59e3/layer/50747a53-d67c-43f3-a9d3-261dcc916b00\n",
            "Creating clone layer on target dataset\n",
            "https://api.resourcewatch.org/v1/dataset/b3bfa285-ab43-4562-b2e0-0ab3e92c59e3/layer/fea2be6c-bed4-49bb-b28b-0744cf60c0d4\n",
            "Creating clone layer on target dataset\n",
            "https://api.resourcewatch.org/v1/dataset/b3bfa285-ab43-4562-b2e0-0ab3e92c59e3/layer/5ddd96a3-ffd2-40e5-aec6-eaca9830dc9c\n",
            "Creating clone layer on target dataset\n",
            "https://api.resourcewatch.org/v1/dataset/b3bfa285-ab43-4562-b2e0-0ab3e92c59e3/layer/b95f63fd-a6b7-44d5-aba8-bd301f9eedd9\n",
            "Creating clone layer on target dataset\n",
            "https://api.resourcewatch.org/v1/dataset/b3bfa285-ab43-4562-b2e0-0ab3e92c59e3/layer/5665d14d-4887-4b0e-9a56-3eee1467c46d\n",
            "Creating clone layer on target dataset\n",
            "https://api.resourcewatch.org/v1/dataset/b3bfa285-ab43-4562-b2e0-0ab3e92c59e3/layer/fa2c264e-a797-4a6b-9389-b8166b137ccb\n",
            "Creating clone layer on target dataset\n",
            "https://api.resourcewatch.org/v1/dataset/b3bfa285-ab43-4562-b2e0-0ab3e92c59e3/layer/63d11b29-ef2b-418f-9156-aa56651be548\n",
            "Creating clone layer on target dataset\n",
            "https://api.resourcewatch.org/v1/dataset/b3bfa285-ab43-4562-b2e0-0ab3e92c59e3/layer/c9787e5e-5430-41da-9a87-c5a3803b5fbb\n"
          ],
          "name": "stdout"
        }
      ]
    },
    {
      "cell_type": "code",
      "metadata": {
        "id": "qTuuftwLqajf",
        "colab_type": "code",
        "outputId": "7650a527-b1c7-441f-e3ad-2bdab4967776",
        "colab": {
          "base_uri": "https://localhost:8080/",
          "height": 299
        }
      },
      "source": [
        "import LMIPy as lmi\n",
        "c = lmi.Collection(search=\"brazil\", app=[\"gfw\"], env=\"production\", object_type=\"dataset\")\n",
        "c\n"
      ],
      "execution_count": 14,
      "outputs": [
        {
          "output_type": "execute_result",
          "data": {
            "text/html": [
              "<div class='item_container' style='height: auto; overflow: hidden; border: 1px solid #80ceb9;border-radius: 2px; background: #f2fffb; line-height: 1.21429em; padding: 10px;''><div class='item_left' style='width: 210px; float: left;''><a href='https://resourcewatch.org/' target='_blank'><img class='itemThumbnail' src='https://resourcewatch.org/static/images/logo-embed.png'></a></div><div class='item_right' style='float: none; width: auto; overflow: hidden;''><b>0. </b><a href=https://api.resourcewatch.org/v1/dataset/05a6d516-e045-498d-bc9f-04673990860f?includes=vocabulary,metadata,layer,widget target='_blank'><b>Brazil Biomes</b></a><br> Carto table: <a href=https://wri-01.carto.com/tables/bra_biomes target='_blank'>bra_biomes</a> 🗺Dataset in GFW.<br>Last Modified: 2018-11-21T14:02:30.130Z<br>Connector: cartodb | Published: True </div> </div><p></p><div class='item_container' style='height: auto; overflow: hidden; border: 1px solid #80ceb9;border-radius: 2px; background: #f2fffb; line-height: 1.21429em; padding: 10px;''><div class='item_left' style='width: 210px; float: left;''><a href='https://resourcewatch.org/' target='_blank'><img class='itemThumbnail' src='https://resourcewatch.org/static/images/logo-embed.png'></a></div><div class='item_right' style='float: none; width: auto; overflow: hidden;''><b>1. </b><a href=https://api.resourcewatch.org/v1/dataset/f3fc0f1e-aa26-49b6-8741-45df2eea9ac2?includes=vocabulary,metadata,layer,widget target='_blank'><b>Brazil Land Cover</b></a><br> Data source wms 🗺Dataset in GFW.<br>Last Modified: 2018-11-21T14:03:00.256Z<br>Connector: wms | Published: True </div> </div><p></p><div class='item_container' style='height: auto; overflow: hidden; border: 1px solid #80ceb9;border-radius: 2px; background: #f2fffb; line-height: 1.21429em; padding: 10px;''><div class='item_left' style='width: 210px; float: left;''><a href='https://resourcewatch.org/' target='_blank'><img class='itemThumbnail' src='https://resourcewatch.org/static/images/logo-embed.png'></a></div><div class='item_right' style='float: none; width: auto; overflow: hidden;''><b>2. </b><a href=https://api.resourcewatch.org/v1/dataset/b3bfa285-ab43-4562-b2e0-0ab3e92c59e3?includes=vocabulary,metadata,layer,widget target='_blank'><b>Brazil Land Cover 1985-2017</b></a><br> GEE asset: <a href='https://code.earthengine.google.com/asset='projects/wri-datalab/mapbiomas_collection31_integration_v1 target='_blank'>projects/wri-datalab/mapbiomas_collection31_integration_v1</a> 🗺Dataset in GFW.<br>Last Modified: 2019-06-20T15:05:30.770Z<br>Connector: gee | Published: True </div> </div>"
            ],
            "text/plain": [
              "[0. Dataset 05a6d516-e045-498d-bc9f-04673990860f Brazil Biomes,\n",
              " 1. Dataset f3fc0f1e-aa26-49b6-8741-45df2eea9ac2 Brazil Land Cover,\n",
              " 2. Dataset b3bfa285-ab43-4562-b2e0-0ab3e92c59e3 Brazil Land Cover 1985-2017]"
            ]
          },
          "metadata": {
            "tags": []
          },
          "execution_count": 14
        }
      ]
    },
    {
      "cell_type": "code",
      "metadata": {
        "id": "_JDjukF-brKh",
        "colab_type": "code",
        "colab": {
          "base_uri": "https://localhost:8080/",
          "height": 107
        },
        "outputId": "7b63470c-a1d5-419b-98ca-36d90840bc48"
      },
      "source": [
        "# Disable the old dataset\n",
        "import LMIPy as lmi\n",
        "ds = c[1]\n",
        "update_params = {\n",
        "    'published':\tFalse    \n",
        "}\n",
        "ds.update(update_params=update_params, token=API_TOKEN)"
      ],
      "execution_count": 16,
      "outputs": [
        {
          "output_type": "execute_result",
          "data": {
            "text/html": [
              "<div class='item_container' style='height: auto; overflow: hidden; border: 1px solid #80ceb9;border-radius: 2px; background: #f2fffb; line-height: 1.21429em; padding: 10px;''><div class='item_left' style='width: 210px; float: left;''><a href='https://resourcewatch.org/' target='_blank'><img class='itemThumbnail' src='https://resourcewatch.org/static/images/logo-embed.png'></a></div><div class='item_right' style='float: none; width: auto; overflow: hidden;''><a href=https://api.resourcewatch.org/v1/dataset/f3fc0f1e-aa26-49b6-8741-45df2eea9ac2?includes=vocabulary,metadata,layer,widget target='_blank'><b>Brazil Land Cover</b></a><br> Data source wms 🗺Dataset in GFW.<br>Last Modified: 2019-06-20T15:12:04.531Z<br>Connector: wms | Published: False </div> </div>"
            ],
            "text/plain": [
              "Dataset f3fc0f1e-aa26-49b6-8741-45df2eea9ac2 Brazil Land Cover"
            ]
          },
          "metadata": {
            "tags": []
          },
          "execution_count": 16
        }
      ]
    }
  ]
}