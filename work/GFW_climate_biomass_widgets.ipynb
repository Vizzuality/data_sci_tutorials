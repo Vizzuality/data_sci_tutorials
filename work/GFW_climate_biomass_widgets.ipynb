{
 "cells": [
  {
   "cell_type": "markdown",
   "metadata": {},
   "source": [
    "# GFW climate biomass widgets"
   ]
  },
  {
   "cell_type": "code",
   "execution_count": null,
   "metadata": {},
   "outputs": [],
   "source": [
    "!pip install progressbar2"
   ]
  },
  {
   "cell_type": "code",
   "execution_count": 1,
   "metadata": {},
   "outputs": [],
   "source": [
    "import geopandas as gpd\n",
    "import numpy as np\n",
    "from tqdm import tqdm\n",
    "import requests\n",
    "import json\n",
    "from pprint import pprint\n",
    "import progressbar\n",
    "%matplotlib inline"
   ]
  },
  {
   "cell_type": "code",
   "execution_count": null,
   "metadata": {},
   "outputs": [],
   "source": [
    "#import pandas as pd\n",
    "#import h5py"
   ]
  },
  {
   "cell_type": "markdown",
   "metadata": {},
   "source": [
    "## Table with biomass density and total biomass"
   ]
  },
  {
   "cell_type": "markdown",
   "metadata": {},
   "source": [
    "**GADM 3.6 admin 2**"
   ]
  },
  {
   "cell_type": "code",
   "execution_count": 3,
   "metadata": {},
   "outputs": [],
   "source": [
    "df = gpd.read_file('/Users/Ben/Downloads/gadm36_shp/gadm36.shp')"
   ]
  },
  {
   "cell_type": "code",
   "execution_count": 4,
   "metadata": {},
   "outputs": [
    {
     "data": {
      "text/html": [
       "<div>\n",
       "<style scoped>\n",
       "    .dataframe tbody tr th:only-of-type {\n",
       "        vertical-align: middle;\n",
       "    }\n",
       "\n",
       "    .dataframe tbody tr th {\n",
       "        vertical-align: top;\n",
       "    }\n",
       "\n",
       "    .dataframe thead th {\n",
       "        text-align: right;\n",
       "    }\n",
       "</style>\n",
       "<table border=\"1\" class=\"dataframe\">\n",
       "  <thead>\n",
       "    <tr style=\"text-align: right;\">\n",
       "      <th></th>\n",
       "      <th>UID</th>\n",
       "      <th>GID_0</th>\n",
       "      <th>ID_0</th>\n",
       "      <th>NAME_0</th>\n",
       "      <th>GID_1</th>\n",
       "      <th>ID_1</th>\n",
       "      <th>NAME_1</th>\n",
       "      <th>VARNAME_1</th>\n",
       "      <th>NL_NAME_1</th>\n",
       "      <th>HASC_1</th>\n",
       "      <th>...</th>\n",
       "      <th>GID_5</th>\n",
       "      <th>ID_5</th>\n",
       "      <th>NAME_5</th>\n",
       "      <th>CC_5</th>\n",
       "      <th>TYPE_5</th>\n",
       "      <th>ENGTYPE_5</th>\n",
       "      <th>REGION</th>\n",
       "      <th>VARREGION</th>\n",
       "      <th>zone</th>\n",
       "      <th>geometry</th>\n",
       "    </tr>\n",
       "  </thead>\n",
       "  <tbody>\n",
       "    <tr>\n",
       "      <th>0</th>\n",
       "      <td>183022</td>\n",
       "      <td>AFG</td>\n",
       "      <td>1</td>\n",
       "      <td>Afghanistan</td>\n",
       "      <td>AFG.1_1</td>\n",
       "      <td>1</td>\n",
       "      <td>Badakhshan</td>\n",
       "      <td>Badahšan</td>\n",
       "      <td></td>\n",
       "      <td>AF.BD</td>\n",
       "      <td>...</td>\n",
       "      <td></td>\n",
       "      <td>0</td>\n",
       "      <td></td>\n",
       "      <td></td>\n",
       "      <td></td>\n",
       "      <td></td>\n",
       "      <td></td>\n",
       "      <td></td>\n",
       "      <td>4</td>\n",
       "      <td>POLYGON ((71.18168640136724 36.49195861816412,...</td>\n",
       "    </tr>\n",
       "    <tr>\n",
       "      <th>1</th>\n",
       "      <td>182550</td>\n",
       "      <td>AFG</td>\n",
       "      <td>1</td>\n",
       "      <td>Afghanistan</td>\n",
       "      <td>AFG.1_1</td>\n",
       "      <td>1</td>\n",
       "      <td>Badakhshan</td>\n",
       "      <td>Badahšan</td>\n",
       "      <td></td>\n",
       "      <td>AF.BD</td>\n",
       "      <td>...</td>\n",
       "      <td></td>\n",
       "      <td>0</td>\n",
       "      <td></td>\n",
       "      <td></td>\n",
       "      <td></td>\n",
       "      <td></td>\n",
       "      <td></td>\n",
       "      <td></td>\n",
       "      <td>4</td>\n",
       "      <td>POLYGON ((71.33762359619141 38.11840820312511,...</td>\n",
       "    </tr>\n",
       "    <tr>\n",
       "      <th>2</th>\n",
       "      <td>182994</td>\n",
       "      <td>AFG</td>\n",
       "      <td>1</td>\n",
       "      <td>Afghanistan</td>\n",
       "      <td>AFG.1_1</td>\n",
       "      <td>1</td>\n",
       "      <td>Badakhshan</td>\n",
       "      <td>Badahšan</td>\n",
       "      <td></td>\n",
       "      <td>AF.BD</td>\n",
       "      <td>...</td>\n",
       "      <td></td>\n",
       "      <td>0</td>\n",
       "      <td></td>\n",
       "      <td></td>\n",
       "      <td></td>\n",
       "      <td></td>\n",
       "      <td></td>\n",
       "      <td></td>\n",
       "      <td>4</td>\n",
       "      <td>POLYGON ((70.09976196289062 37.00258255004883,...</td>\n",
       "    </tr>\n",
       "    <tr>\n",
       "      <th>3</th>\n",
       "      <td>183088</td>\n",
       "      <td>AFG</td>\n",
       "      <td>1</td>\n",
       "      <td>Afghanistan</td>\n",
       "      <td>AFG.1_1</td>\n",
       "      <td>1</td>\n",
       "      <td>Badakhshan</td>\n",
       "      <td>Badahšan</td>\n",
       "      <td></td>\n",
       "      <td>AF.BD</td>\n",
       "      <td>...</td>\n",
       "      <td></td>\n",
       "      <td>0</td>\n",
       "      <td></td>\n",
       "      <td></td>\n",
       "      <td></td>\n",
       "      <td></td>\n",
       "      <td></td>\n",
       "      <td></td>\n",
       "      <td>4</td>\n",
       "      <td>POLYGON ((71.3193359375 37.24847793579107, 71....</td>\n",
       "    </tr>\n",
       "    <tr>\n",
       "      <th>4</th>\n",
       "      <td>183159</td>\n",
       "      <td>AFG</td>\n",
       "      <td>1</td>\n",
       "      <td>Afghanistan</td>\n",
       "      <td>AFG.1_1</td>\n",
       "      <td>1</td>\n",
       "      <td>Badakhshan</td>\n",
       "      <td>Badahšan</td>\n",
       "      <td></td>\n",
       "      <td>AF.BD</td>\n",
       "      <td>...</td>\n",
       "      <td></td>\n",
       "      <td>0</td>\n",
       "      <td></td>\n",
       "      <td></td>\n",
       "      <td></td>\n",
       "      <td></td>\n",
       "      <td></td>\n",
       "      <td></td>\n",
       "      <td>4</td>\n",
       "      <td>POLYGON ((71.18168640136724 36.49195861816412,...</td>\n",
       "    </tr>\n",
       "  </tbody>\n",
       "</table>\n",
       "<p>5 rows × 60 columns</p>\n",
       "</div>"
      ],
      "text/plain": [
       "      UID GID_0  ID_0       NAME_0    GID_1  ID_1      NAME_1 VARNAME_1  \\\n",
       "0  183022   AFG     1  Afghanistan  AFG.1_1     1  Badakhshan  Badahšan   \n",
       "1  182550   AFG     1  Afghanistan  AFG.1_1     1  Badakhshan  Badahšan   \n",
       "2  182994   AFG     1  Afghanistan  AFG.1_1     1  Badakhshan  Badahšan   \n",
       "3  183088   AFG     1  Afghanistan  AFG.1_1     1  Badakhshan  Badahšan   \n",
       "4  183159   AFG     1  Afghanistan  AFG.1_1     1  Badakhshan  Badahšan   \n",
       "\n",
       "  NL_NAME_1 HASC_1                        ...                         GID_5  \\\n",
       "0            AF.BD                        ...                                 \n",
       "1            AF.BD                        ...                                 \n",
       "2            AF.BD                        ...                                 \n",
       "3            AF.BD                        ...                                 \n",
       "4            AF.BD                        ...                                 \n",
       "\n",
       "  ID_5 NAME_5 CC_5 TYPE_5 ENGTYPE_5 REGION  VARREGION zone  \\\n",
       "0    0                                                   4   \n",
       "1    0                                                   4   \n",
       "2    0                                                   4   \n",
       "3    0                                                   4   \n",
       "4    0                                                   4   \n",
       "\n",
       "                                            geometry  \n",
       "0  POLYGON ((71.18168640136724 36.49195861816412,...  \n",
       "1  POLYGON ((71.33762359619141 38.11840820312511,...  \n",
       "2  POLYGON ((70.09976196289062 37.00258255004883,...  \n",
       "3  POLYGON ((71.3193359375 37.24847793579107, 71....  \n",
       "4  POLYGON ((71.18168640136724 36.49195861816412,...  \n",
       "\n",
       "[5 rows x 60 columns]"
      ]
     },
     "execution_count": 4,
     "metadata": {},
     "output_type": "execute_result"
    }
   ],
   "source": [
    "df.head()"
   ]
  },
  {
   "cell_type": "code",
   "execution_count": null,
   "metadata": {},
   "outputs": [],
   "source": [
    "#gadm_ids = df[['GID_0', 'ID_0', 'NAME_0', 'ID_1', 'NAME_1', 'ID_2', 'NAME_2','GID_1','GID_2']]"
   ]
  },
  {
   "cell_type": "code",
   "execution_count": null,
   "metadata": {},
   "outputs": [],
   "source": [
    "#gadm_ids[gadm_ids['GID_2'] == 'AFG.2.1_1']"
   ]
  },
  {
   "cell_type": "code",
   "execution_count": null,
   "metadata": {},
   "outputs": [],
   "source": [
    "#tmp = gadm_ids[gadm_ids['GID_0']=='BRA']"
   ]
  },
  {
   "cell_type": "code",
   "execution_count": null,
   "metadata": {},
   "outputs": [],
   "source": [
    "#tmp[tmp['GID_1'] == 'BRA.2_1'].head()"
   ]
  },
  {
   "cell_type": "code",
   "execution_count": 5,
   "metadata": {},
   "outputs": [],
   "source": [
    "missing_df = df[df['GID_2'] == '']"
   ]
  },
  {
   "cell_type": "code",
   "execution_count": 6,
   "metadata": {},
   "outputs": [
    {
     "data": {
      "text/plain": [
       "'0.24% of rows are missing admin-2 id codes.'"
      ]
     },
     "execution_count": 6,
     "metadata": {},
     "output_type": "execute_result"
    }
   ],
   "source": [
    "f'{len(missing_df)/len(df) * 100:3.2f}% of rows are missing admin-2 id codes.'"
   ]
  },
  {
   "cell_type": "code",
   "execution_count": 7,
   "metadata": {},
   "outputs": [],
   "source": [
    "def process_gid_2(gid_2):\n",
    "    \"\"\"Return dict of iso (string), and admin_1 and admin_2 (ints) from gid_2 entry.\"\"\"\n",
    "    try:\n",
    "        iso, admin_1, tmp_admin_2 = gid_2.split('.')\n",
    "        admin_2 = tmp_admin_2.split('_')[0]\n",
    "        return {'iso':iso, 'admin_1':int(admin_1), 'admin_2':int(admin_2)}\n",
    "    except:\n",
    "        return None"
   ]
  },
  {
   "cell_type": "code",
   "execution_count": 112,
   "metadata": {},
   "outputs": [],
   "source": [
    "all_areas = []\n",
    "for x in df['GID_2'].values:\n",
    "    tmp = process_gid_2(x)\n",
    "    if tmp:\n",
    "        all_areas.append(tmp)"
   ]
  },
  {
   "cell_type": "code",
   "execution_count": 113,
   "metadata": {},
   "outputs": [
    {
     "data": {
      "text/plain": [
       "[{'iso': 'AFG', 'admin_1': 1, 'admin_2': 1},\n",
       " {'iso': 'AFG', 'admin_1': 1, 'admin_2': 2},\n",
       " {'iso': 'AFG', 'admin_1': 1, 'admin_2': 3},\n",
       " {'iso': 'AFG', 'admin_1': 1, 'admin_2': 4},\n",
       " {'iso': 'AFG', 'admin_1': 1, 'admin_2': 5},\n",
       " {'iso': 'AFG', 'admin_1': 1, 'admin_2': 6},\n",
       " {'iso': 'AFG', 'admin_1': 1, 'admin_2': 7},\n",
       " {'iso': 'AFG', 'admin_1': 1, 'admin_2': 8},\n",
       " {'iso': 'AFG', 'admin_1': 1, 'admin_2': 9},\n",
       " {'iso': 'AFG', 'admin_1': 1, 'admin_2': 10}]"
      ]
     },
     "execution_count": 113,
     "metadata": {},
     "output_type": "execute_result"
    }
   ],
   "source": [
    "all_areas[0:10]"
   ]
  },
  {
   "cell_type": "code",
   "execution_count": null,
   "metadata": {},
   "outputs": [],
   "source": [
    "# now we have all the codes for all areas I am going to de-allocate the memory of the df to save RAM\n",
    "df = 0"
   ]
  },
  {
   "cell_type": "code",
   "execution_count": null,
   "metadata": {},
   "outputs": [],
   "source": [
    "#df['NAME_2'].replace('', np.nan, inplace=True)"
   ]
  },
  {
   "cell_type": "code",
   "execution_count": null,
   "metadata": {},
   "outputs": [],
   "source": [
    "#df.dropna(subset=['NAME_2'], inplace=True)"
   ]
  },
  {
   "cell_type": "code",
   "execution_count": null,
   "metadata": {},
   "outputs": [],
   "source": [
    "#df.drop_duplicates(subset=['NAME_0', 'NAME_1', 'NAME_2'], keep='first', inplace=True)"
   ]
  },
  {
   "cell_type": "markdown",
   "metadata": {},
   "source": [
    "The API contains an endpoint for `whrc-biomass` to compute the total biomass and biomass density of a given municipality."
   ]
  },
  {
   "cell_type": "code",
   "execution_count": 114,
   "metadata": {},
   "outputs": [],
   "source": [
    "def make_query(area):\n",
    "    try:\n",
    "        r = requests.get(f\"https://production-api.globalforestwatch.org/v1/whrc-biomass/admin/{area['iso']}/{area['admin_1']}/{area['admin_2']}\")\n",
    "        if r.status_code == 200:\n",
    "            return r.json().get('data').get('attributes')\n",
    "        else:\n",
    "            return None\n",
    "    except:\n",
    "        return None"
   ]
  },
  {
   "cell_type": "code",
   "execution_count": 115,
   "metadata": {},
   "outputs": [
    {
     "name": "stderr",
     "output_type": "stream",
     "text": [
      "100% (338307 of 338307) |################| Elapsed Time: 0:00:25 Time:  0:00:25\n"
     ]
    }
   ],
   "source": [
    "with open(\"./tmp_whrc_data.json\",\"a+\") as f:\n",
    "    with progressbar.ProgressBar(max_value=len(all_areas)) as bar:\n",
    "        for n, area in enumerate(all_areas[0:5]):\n",
    "            bar.update(n)\n",
    "            # If no data has yet been sucsessfully retrieved for this area then attempt to get it\n",
    "            if not area.get('data', None) or not area.get('biomassDensity', None):\n",
    "                tmp_data = make_query(area)\n",
    "                if tmp_data:\n",
    "                    tmp_d = {**area, **tmp_data}\n",
    "                    f.write(json.dumps(tmp_d) +'\\n')\n",
    "                    all_areas[n]['data'] = tmp_data"
   ]
  },
  {
   "cell_type": "code",
   "execution_count": 119,
   "metadata": {},
   "outputs": [],
   "source": [
    "# If you need to load/restore the data from a tmp file (due to failure etc) you can do the following...\n",
    "with open(\"./tmp_whrc_data.json\", 'r') as f:\n",
    "    text = f.readlines()\n",
    "        #d = json.loads(f)"
   ]
  },
  {
   "cell_type": "code",
   "execution_count": 123,
   "metadata": {},
   "outputs": [
    {
     "data": {
      "text/plain": [
       "[{'iso': 'AFG',\n",
       "  'admin_1': 1,\n",
       "  'admin_2': 1,\n",
       "  'areaHa': 300946.516215708,\n",
       "  'biomassDensity': 0.0004634254670893975,\n",
       "  'totalBiomass': 139.4662798461914},\n",
       " {'iso': 'AFG',\n",
       "  'admin_1': 1,\n",
       "  'admin_2': 2,\n",
       "  'areaHa': 292525.2285638284,\n",
       "  'biomassDensity': 0.01798740487590836,\n",
       "  'totalBiomass': 5261.769722595215},\n",
       " {'iso': 'AFG',\n",
       "  'admin_1': 1,\n",
       "  'admin_2': 3,\n",
       "  'areaHa': 294512.4936914639,\n",
       "  'biomassDensity': 0.0008910649319352455,\n",
       "  'totalBiomass': 262.4297551452637}]"
      ]
     },
     "execution_count": 123,
     "metadata": {},
     "output_type": "execute_result"
    }
   ],
   "source": [
    "reload_data = []\n",
    "for row in text:\n",
    "    reload_data.append(json.loads(row))\n",
    "reload_data[0:3]"
   ]
  },
  {
   "cell_type": "code",
   "execution_count": 145,
   "metadata": {},
   "outputs": [
    {
     "name": "stdout",
     "output_type": "stream",
     "text": [
      "🐸 Work needed here...💥\n"
     ]
    }
   ],
   "source": [
    "print(\"🐸 Work needed here...💥\")\n",
    "# Missing some logic where you would loop back over the array and re-try failed entries\n",
    "# You could compare the tmp file to see if there is an entry for it to the original series. If no data exists try it again..."
   ]
  },
  {
   "cell_type": "code",
   "execution_count": null,
   "metadata": {},
   "outputs": [],
   "source": []
  },
  {
   "cell_type": "code",
   "execution_count": null,
   "metadata": {},
   "outputs": [],
   "source": []
  },
  {
   "cell_type": "code",
   "execution_count": null,
   "metadata": {},
   "outputs": [],
   "source": []
  },
  {
   "cell_type": "code",
   "execution_count": 125,
   "metadata": {},
   "outputs": [],
   "source": [
    "# Final table needs row names of 'biomassdensity','gid_0','id_1','id_2','totalbiomass','areaHa'. Use rename function below"
   ]
  },
  {
   "cell_type": "code",
   "execution_count": 127,
   "metadata": {},
   "outputs": [],
   "source": [
    "import pandas as pd"
   ]
  },
  {
   "cell_type": "code",
   "execution_count": 133,
   "metadata": {},
   "outputs": [],
   "source": [
    "output_df = pd.DataFrame(reload_data)#,columns=['id_1','id_2','areaHa','biomassdensity','iso','totalbiomass'])"
   ]
  },
  {
   "cell_type": "code",
   "execution_count": 135,
   "metadata": {},
   "outputs": [
    {
     "data": {
      "text/plain": [
       "Index(['admin_1', 'admin_2', 'areaHa', 'biomassDensity', 'iso',\n",
       "       'totalBiomass'],\n",
       "      dtype='object')"
      ]
     },
     "execution_count": 135,
     "metadata": {},
     "output_type": "execute_result"
    }
   ],
   "source": [
    "output_df.keys()"
   ]
  },
  {
   "cell_type": "code",
   "execution_count": 138,
   "metadata": {},
   "outputs": [],
   "source": [
    "output_df = output_df.rename(index=str, columns={'admin_1':'id_1','admin_2':'id_2','biomassDensity':'biomassdensity','totalBiomass':'totalbiomass'})"
   ]
  },
  {
   "cell_type": "code",
   "execution_count": 139,
   "metadata": {},
   "outputs": [
    {
     "data": {
      "text/html": [
       "<div>\n",
       "<style scoped>\n",
       "    .dataframe tbody tr th:only-of-type {\n",
       "        vertical-align: middle;\n",
       "    }\n",
       "\n",
       "    .dataframe tbody tr th {\n",
       "        vertical-align: top;\n",
       "    }\n",
       "\n",
       "    .dataframe thead th {\n",
       "        text-align: right;\n",
       "    }\n",
       "</style>\n",
       "<table border=\"1\" class=\"dataframe\">\n",
       "  <thead>\n",
       "    <tr style=\"text-align: right;\">\n",
       "      <th></th>\n",
       "      <th>id_1</th>\n",
       "      <th>id_2</th>\n",
       "      <th>areaHa</th>\n",
       "      <th>biomassdensity</th>\n",
       "      <th>iso</th>\n",
       "      <th>totalbiomass</th>\n",
       "    </tr>\n",
       "  </thead>\n",
       "  <tbody>\n",
       "    <tr>\n",
       "      <th>0</th>\n",
       "      <td>1</td>\n",
       "      <td>1</td>\n",
       "      <td>300946.516216</td>\n",
       "      <td>0.000463</td>\n",
       "      <td>AFG</td>\n",
       "      <td>139.466280</td>\n",
       "    </tr>\n",
       "    <tr>\n",
       "      <th>1</th>\n",
       "      <td>1</td>\n",
       "      <td>2</td>\n",
       "      <td>292525.228564</td>\n",
       "      <td>0.017987</td>\n",
       "      <td>AFG</td>\n",
       "      <td>5261.769723</td>\n",
       "    </tr>\n",
       "    <tr>\n",
       "      <th>2</th>\n",
       "      <td>1</td>\n",
       "      <td>3</td>\n",
       "      <td>294512.493691</td>\n",
       "      <td>0.000891</td>\n",
       "      <td>AFG</td>\n",
       "      <td>262.429755</td>\n",
       "    </tr>\n",
       "    <tr>\n",
       "      <th>3</th>\n",
       "      <td>1</td>\n",
       "      <td>4</td>\n",
       "      <td>157239.687241</td>\n",
       "      <td>0.000204</td>\n",
       "      <td>AFG</td>\n",
       "      <td>32.149948</td>\n",
       "    </tr>\n",
       "    <tr>\n",
       "      <th>4</th>\n",
       "      <td>1</td>\n",
       "      <td>5</td>\n",
       "      <td>351695.388169</td>\n",
       "      <td>0.000850</td>\n",
       "      <td>AFG</td>\n",
       "      <td>299.115355</td>\n",
       "    </tr>\n",
       "  </tbody>\n",
       "</table>\n",
       "</div>"
      ],
      "text/plain": [
       "   id_1  id_2         areaHa  biomassdensity  iso  totalbiomass\n",
       "0     1     1  300946.516216        0.000463  AFG    139.466280\n",
       "1     1     2  292525.228564        0.017987  AFG   5261.769723\n",
       "2     1     3  294512.493691        0.000891  AFG    262.429755\n",
       "3     1     4  157239.687241        0.000204  AFG     32.149948\n",
       "4     1     5  351695.388169        0.000850  AFG    299.115355"
      ]
     },
     "execution_count": 139,
     "metadata": {},
     "output_type": "execute_result"
    }
   ],
   "source": [
    "output_df.head()"
   ]
  },
  {
   "cell_type": "code",
   "execution_count": 140,
   "metadata": {},
   "outputs": [],
   "source": [
    "# Finally, save the file\n",
    "output_df.to_csv('./whrc_biomass.csv')"
   ]
  },
  {
   "cell_type": "code",
   "execution_count": null,
   "metadata": {},
   "outputs": [],
   "source": [
    "# url = \"https://production-api.globalforestwatch.org/v1/\"\n",
    "\n",
    "# nValues = len(df)\n",
    "\n",
    "# with h5py.File('./data/biomass.hdf5', 'w') as f:\n",
    "#     density = f.create_dataset(\"density\", shape=(nValues,), dtype=np.float32)\n",
    "#     total = f.create_dataset(\"total\", shape=(nValues,), dtype=np.float32)\n",
    "    \n",
    "#     for i in tqdm(range(nValues)):\n",
    "#         for attempt in range(4):\n",
    "#             try:\n",
    "#                 r = requests.get(url + f\"whrc-biomass/admin/{df['GID_0'].iloc[i+325]}/{df['ID_1'].iloc[i+325]}/{df['ID_2'].iloc[i+325]}\")\n",
    "#                 density[i] = r.json().get('data').get('attributes').get('biomassDensity')\n",
    "#                 total[i] = r.json().get('data').get('attributes').get('totalBiomass') \n",
    "#             except:\n",
    "#                 if r.status_code != 404:\n",
    "#                     continue\n",
    "#             else:\n",
    "#                 break"
   ]
  },
  {
   "cell_type": "code",
   "execution_count": null,
   "metadata": {},
   "outputs": [],
   "source": [
    "# with h5py.File('./data/biomass.hdf5', 'r') as f:\n",
    "#     density = f['density'][:]\n",
    "#     total = f['total'][:]\n",
    "    \n",
    "#     print(len(total))"
   ]
  },
  {
   "cell_type": "code",
   "execution_count": null,
   "metadata": {},
   "outputs": [],
   "source": [
    "#df['biomassDensity'] = density\n",
    "#df['totalBiomass'] = total"
   ]
  },
  {
   "cell_type": "markdown",
   "metadata": {},
   "source": [
    "Save table"
   ]
  },
  {
   "cell_type": "code",
   "execution_count": null,
   "metadata": {},
   "outputs": [],
   "source": [
    "#df.to_csv(\"./data/whrc-biomass.csv\")"
   ]
  },
  {
   "cell_type": "code",
   "execution_count": null,
   "metadata": {},
   "outputs": [],
   "source": []
  }
 ],
 "metadata": {
  "kernelspec": {
   "display_name": "Python 3",
   "language": "python",
   "name": "python3"
  },
  "language_info": {
   "codemirror_mode": {
    "name": "ipython",
    "version": 3
   },
   "file_extension": ".py",
   "mimetype": "text/x-python",
   "name": "python",
   "nbconvert_exporter": "python",
   "pygments_lexer": "ipython3",
   "version": "3.6.7"
  }
 },
 "nbformat": 4,
 "nbformat_minor": 2
}
