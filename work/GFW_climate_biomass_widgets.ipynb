{
 "cells": [
  {
   "cell_type": "markdown",
   "metadata": {},
   "source": [
    "# GFW climate biomass widgets"
   ]
  },
  {
   "cell_type": "code",
   "execution_count": 23,
   "metadata": {},
   "outputs": [],
   "source": [
    "import pandas as pd\n",
    "import geopandas as gpd\n",
    "import numpy as np\n",
    "import matplotlib.pyplot as plt\n",
    "from tqdm import tqdm\n",
    "import requests\n",
    "from pprint import pprint\n",
    "import h5py"
   ]
  },
  {
   "cell_type": "markdown",
   "metadata": {},
   "source": [
    "## Table with biomass density and total biomass"
   ]
  },
  {
   "cell_type": "markdown",
   "metadata": {},
   "source": [
    "**GADM 3.6 admin 2**"
   ]
  },
  {
   "cell_type": "code",
   "execution_count": 5,
   "metadata": {},
   "outputs": [],
   "source": [
    "df = gpd.read_file('/Users/ikersanchez/Vizzuality/DATA/gadm36_shp/gadm36.shp')"
   ]
  },
  {
   "cell_type": "code",
   "execution_count": 6,
   "metadata": {},
   "outputs": [],
   "source": [
    "df = df[['GID_0', 'ID_0', 'NAME_0', 'ID_1', 'NAME_1', 'ID_2', 'NAME_2']]"
   ]
  },
  {
   "cell_type": "code",
   "execution_count": 7,
   "metadata": {},
   "outputs": [
    {
     "data": {
      "text/html": [
       "<div>\n",
       "<style scoped>\n",
       "    .dataframe tbody tr th:only-of-type {\n",
       "        vertical-align: middle;\n",
       "    }\n",
       "\n",
       "    .dataframe tbody tr th {\n",
       "        vertical-align: top;\n",
       "    }\n",
       "\n",
       "    .dataframe thead th {\n",
       "        text-align: right;\n",
       "    }\n",
       "</style>\n",
       "<table border=\"1\" class=\"dataframe\">\n",
       "  <thead>\n",
       "    <tr style=\"text-align: right;\">\n",
       "      <th></th>\n",
       "      <th>GID_0</th>\n",
       "      <th>ID_0</th>\n",
       "      <th>NAME_0</th>\n",
       "      <th>ID_1</th>\n",
       "      <th>NAME_1</th>\n",
       "      <th>ID_2</th>\n",
       "      <th>NAME_2</th>\n",
       "    </tr>\n",
       "  </thead>\n",
       "  <tbody>\n",
       "    <tr>\n",
       "      <th>0</th>\n",
       "      <td>AFG</td>\n",
       "      <td>1</td>\n",
       "      <td>Afghanistan</td>\n",
       "      <td>1</td>\n",
       "      <td>Badakhshan</td>\n",
       "      <td>1</td>\n",
       "      <td>Baharak</td>\n",
       "    </tr>\n",
       "    <tr>\n",
       "      <th>1</th>\n",
       "      <td>AFG</td>\n",
       "      <td>1</td>\n",
       "      <td>Afghanistan</td>\n",
       "      <td>1</td>\n",
       "      <td>Badakhshan</td>\n",
       "      <td>2</td>\n",
       "      <td>Darwaz</td>\n",
       "    </tr>\n",
       "    <tr>\n",
       "      <th>2</th>\n",
       "      <td>AFG</td>\n",
       "      <td>1</td>\n",
       "      <td>Afghanistan</td>\n",
       "      <td>1</td>\n",
       "      <td>Badakhshan</td>\n",
       "      <td>3</td>\n",
       "      <td>Fayzabad</td>\n",
       "    </tr>\n",
       "    <tr>\n",
       "      <th>3</th>\n",
       "      <td>AFG</td>\n",
       "      <td>1</td>\n",
       "      <td>Afghanistan</td>\n",
       "      <td>1</td>\n",
       "      <td>Badakhshan</td>\n",
       "      <td>4</td>\n",
       "      <td>Ishkashim</td>\n",
       "    </tr>\n",
       "    <tr>\n",
       "      <th>4</th>\n",
       "      <td>AFG</td>\n",
       "      <td>1</td>\n",
       "      <td>Afghanistan</td>\n",
       "      <td>1</td>\n",
       "      <td>Badakhshan</td>\n",
       "      <td>5</td>\n",
       "      <td>Jurm</td>\n",
       "    </tr>\n",
       "  </tbody>\n",
       "</table>\n",
       "</div>"
      ],
      "text/plain": [
       "  GID_0  ID_0       NAME_0  ID_1      NAME_1  ID_2     NAME_2\n",
       "0   AFG     1  Afghanistan     1  Badakhshan     1    Baharak\n",
       "1   AFG     1  Afghanistan     1  Badakhshan     2     Darwaz\n",
       "2   AFG     1  Afghanistan     1  Badakhshan     3   Fayzabad\n",
       "3   AFG     1  Afghanistan     1  Badakhshan     4  Ishkashim\n",
       "4   AFG     1  Afghanistan     1  Badakhshan     5       Jurm"
      ]
     },
     "execution_count": 7,
     "metadata": {},
     "output_type": "execute_result"
    }
   ],
   "source": [
    "df.head()"
   ]
  },
  {
   "cell_type": "code",
   "execution_count": 8,
   "metadata": {},
   "outputs": [],
   "source": [
    "df['NAME_2'].replace('', np.nan, inplace=True)"
   ]
  },
  {
   "cell_type": "code",
   "execution_count": 9,
   "metadata": {},
   "outputs": [],
   "source": [
    "df.dropna(subset=['NAME_2'], inplace=True)"
   ]
  },
  {
   "cell_type": "code",
   "execution_count": 10,
   "metadata": {},
   "outputs": [],
   "source": [
    "df.drop_duplicates(subset=['NAME_0', 'NAME_1', 'NAME_2'], keep='first', inplace=True)"
   ]
  },
  {
   "cell_type": "markdown",
   "metadata": {},
   "source": [
    "The API contains an endpoint for `whrc-biomass` to compute the total biomass and biomass density of a given municipality."
   ]
  },
  {
   "cell_type": "code",
   "execution_count": 29,
   "metadata": {},
   "outputs": [
    {
     "name": "stdout",
     "output_type": "stream",
     "text": [
      "Status code: 200\n",
      "{'data': {'attributes': {'areaHa': 611557.6528581444,\n",
      "                         'biomassDensity': 3.9051680590532816,\n",
      "                         'totalBiomass': 2388235.4122112202},\n",
      "          'id': None,\n",
      "          'type': 'whrc-biomass'}}\n"
     ]
    }
   ],
   "source": [
    "url = \"https://production-api.globalforestwatch.org/v1/\"\n",
    "r = requests.get(url + 'whrc-biomass/admin/ZWE/6/31')\n",
    "print(f'Status code: {r.status_code}')\n",
    "pprint(r.json())"
   ]
  },
  {
   "cell_type": "code",
   "execution_count": null,
   "metadata": {},
   "outputs": [],
   "source": [
    "url = \"https://production-api.globalforestwatch.org/v1/\"\n",
    "\n",
    "nValues = len(df)\n",
    "\n",
    "with h5py.File('./data/biomass.hdf5', 'w') as f:\n",
    "    density = f.create_dataset(\"density\", shape=(nValues,), dtype=np.float32)\n",
    "    total = f.create_dataset(\"total\", shape=(nValues,), dtype=np.float32)\n",
    "    \n",
    "    for i in tqdm(range(nValues)):\n",
    "        for attempt in range(4):\n",
    "            try:\n",
    "                r = requests.get(url + f\"whrc-biomass/admin/{df['GID_0'].iloc[i+325]}/{df['ID_1'].iloc[i+325]}/{df['ID_2'].iloc[i+325]}\")\n",
    "                density[i] = r.json().get('data').get('attributes').get('biomassDensity')\n",
    "                total[i] = r.json().get('data').get('attributes').get('totalBiomass') \n",
    "            except:\n",
    "                if r.status_code != 404:\n",
    "                    continue\n",
    "            else:\n",
    "                break"
   ]
  },
  {
   "cell_type": "code",
   "execution_count": 4,
   "metadata": {},
   "outputs": [
    {
     "name": "stdout",
     "output_type": "stream",
     "text": [
      "45958\n"
     ]
    }
   ],
   "source": [
    "with h5py.File('./data/biomass.hdf5', 'r') as f:\n",
    "    density = f['density'][:]\n",
    "    total = f['total'][:]\n",
    "    \n",
    "    print(len(total))"
   ]
  },
  {
   "cell_type": "code",
   "execution_count": 15,
   "metadata": {},
   "outputs": [],
   "source": [
    "df['biomassDensity'] = density\n",
    "df['totalBiomass'] = total"
   ]
  },
  {
   "cell_type": "markdown",
   "metadata": {},
   "source": [
    "Save table"
   ]
  },
  {
   "cell_type": "code",
   "execution_count": 22,
   "metadata": {},
   "outputs": [],
   "source": [
    "df.to_csv(\"./data/whrc-biomass.csv\")"
   ]
  },
  {
   "cell_type": "code",
   "execution_count": null,
   "metadata": {},
   "outputs": [],
   "source": []
  }
 ],
 "metadata": {
  "kernelspec": {
   "display_name": "Python 3",
   "language": "python",
   "name": "python3"
  },
  "language_info": {
   "codemirror_mode": {
    "name": "ipython",
    "version": 3
   },
   "file_extension": ".py",
   "mimetype": "text/x-python",
   "name": "python",
   "nbconvert_exporter": "python",
   "pygments_lexer": "ipython3",
   "version": "3.6.4"
  }
 },
 "nbformat": 4,
 "nbformat_minor": 2
}
