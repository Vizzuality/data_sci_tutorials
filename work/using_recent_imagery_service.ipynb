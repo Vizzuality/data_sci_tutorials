{
 "cells": [
  {
   "cell_type": "code",
   "execution_count": 1,
   "metadata": {},
   "outputs": [],
   "source": [
    "import requests"
   ]
  },
  {
   "cell_type": "code",
   "execution_count": 57,
   "metadata": {},
   "outputs": [],
   "source": [
    "# First call the recent-tiles service for a list of assets with lat, long, and start/end dates as arguments\n",
    "r = requests.get('http://localhost:4500/api/v1/recent-tiles?lat=22.18086540699005&lon=3.433895092679592&start=2018-09-10&end=2018-10-10&')"
   ]
  },
  {
   "cell_type": "code",
   "execution_count": 58,
   "metadata": {},
   "outputs": [
    {
     "data": {
      "text/plain": [
       "{'data': {'id': None,\n",
       "  'tiles': [{'attributes': {'bbox': {'geometry': {'coordinates': [[21.900331539196973,\n",
       "         3.6186207953344973],\n",
       "        [21.90033081142367, 3.6186094846049626],\n",
       "        [21.89987449753785, 3.1220814530167407],\n",
       "        [21.899485684589003, 2.62554859322443],\n",
       "        [21.89952225520488, 2.625507119446355],\n",
       "        [21.899553367519612, 2.625461369552561],\n",
       "        [21.899568104931767, 2.6254585572272124],\n",
       "        [22.886863928562665, 2.6243525330848247],\n",
       "        [22.88690556534788, 2.6243890334768487],\n",
       "        [22.88695129308136, 2.6244200555647166],\n",
       "        [22.88695420220151, 2.6244348650487987],\n",
       "        [22.887769391835658, 3.1207656637774783],\n",
       "        [22.888726218236116, 3.6170840489743203],\n",
       "        [22.888689672486617, 3.6171255970648164],\n",
       "        [22.888658581325416, 3.6171713733231408],\n",
       "        [22.88864376302305, 3.617174204698253],\n",
       "        [21.90042114628373, 3.6186994179732817],\n",
       "        [21.90037948126293, 3.618662877507433],\n",
       "        [21.90033372251688, 3.618631852728597],\n",
       "        [21.900331539196973, 3.6186207953344973]],\n",
       "       'type': 'Polygon'}},\n",
       "     'cloud_score': 8.0064,\n",
       "     'date_time': '2018-09-19 08:36:21Z',\n",
       "     'instrument': 'Sentinel-2A',\n",
       "     'source': 'COPERNICUS/S2/20180919T083621_20180919T085433_T34NFJ',\n",
       "     'thumbnail_url': None,\n",
       "     'tile_url': 'https://earthengine.googleapis.com/map/9b5285c265fc83c653793d0888064e45/{z}/{x}/{y}?token=66afb3dc08b062670eec87445f635f06'}},\n",
       "   {'attributes': {'bbox': {'geometry': {'coordinates': [[23.596777580728237,\n",
       "         3.572528956445655],\n",
       "        [23.59819250911282, 3.579534100906872],\n",
       "        [23.59345348419357, 3.58060637055956],\n",
       "        [22.728954052002127, 3.7664034029813593],\n",
       "        [21.93292482102623, 3.9367302459714484],\n",
       "        [21.925690172152997, 3.9381918418910504],\n",
       "        [21.923880484289615, 3.9381938107584324],\n",
       "        [21.739026730420992, 3.0689526150676074],\n",
       "        [21.563103532799545, 2.2395925895986366],\n",
       "        [21.555803185369026, 2.204570632557085],\n",
       "        [21.555802457572423, 2.202733392478276],\n",
       "        [21.683774400281372, 2.1750604792248858],\n",
       "        [22.608100466898836, 1.9749428628899899],\n",
       "        [23.16806969381938, 1.8534738074407773],\n",
       "        [23.227117273480214, 1.8406652711529903],\n",
       "        [23.320868265094546, 2.2805108182071394],\n",
       "        [23.381618467639566, 2.5651493022208975],\n",
       "        [23.44858145878842, 2.8790311788366756],\n",
       "        [23.566775644264922, 3.4319670461422045],\n",
       "        [23.587344241620876, 3.5282247861225557],\n",
       "        [23.596777580728237, 3.572528956445655]],\n",
       "       'type': 'Polygon'}},\n",
       "     'cloud_score': 29.22,\n",
       "     'date_time': '2018-09-16 08:43:25Z',\n",
       "     'instrument': 'LANDSAT_8',\n",
       "     'source': 'LANDSAT/LC08/C01/T1_RT_TOA/LC08_178058_20180916',\n",
       "     'thumbnail_url': None,\n",
       "     'tile_url': None}},\n",
       "   {'attributes': {'bbox': {'geometry': {'coordinates': [[21.900331539196973,\n",
       "         3.6186207953344973],\n",
       "        [21.90033081142367, 3.6186094846049626],\n",
       "        [21.89987449753785, 3.1220814530167407],\n",
       "        [21.899485684589003, 2.62554859322443],\n",
       "        [21.89952225520488, 2.625507119446355],\n",
       "        [21.899553367519612, 2.625461369552561],\n",
       "        [21.899568104931767, 2.6254585572272124],\n",
       "        [22.886863928562665, 2.6243525330848247],\n",
       "        [22.88690556534788, 2.6243890334768487],\n",
       "        [22.88695129308136, 2.6244200555647166],\n",
       "        [22.88695420220151, 2.6244348650487987],\n",
       "        [22.887769391835658, 3.1207656637774783],\n",
       "        [22.888726218236116, 3.6170840489743203],\n",
       "        [22.888689672486617, 3.6171255970648164],\n",
       "        [22.888658581325416, 3.6171713733231408],\n",
       "        [22.88864376302305, 3.617174204698253],\n",
       "        [21.90042114628373, 3.6186994179732817],\n",
       "        [21.90037948126293, 3.618662877507433],\n",
       "        [21.90033372251688, 3.618631852728597],\n",
       "        [21.900331539196973, 3.6186207953344973]],\n",
       "       'type': 'Polygon'}},\n",
       "     'cloud_score': 95.7693,\n",
       "     'date_time': '2018-09-29 08:37:31Z',\n",
       "     'instrument': 'Sentinel-2A',\n",
       "     'source': 'COPERNICUS/S2/20180929T083731_20180929T085615_T34NFJ',\n",
       "     'thumbnail_url': None,\n",
       "     'tile_url': None}},\n",
       "   {'attributes': {'bbox': {'geometry': {'coordinates': [[21.900331539196973,\n",
       "         3.6186207953344973],\n",
       "        [21.90033081142367, 3.6186094846049626],\n",
       "        [21.89987449753785, 3.1220814530167407],\n",
       "        [21.899485684589003, 2.62554859322443],\n",
       "        [21.89952225520488, 2.625507119446355],\n",
       "        [21.899553367519612, 2.625461369552561],\n",
       "        [21.899568104931767, 2.6254585572272124],\n",
       "        [22.886863928562665, 2.6243525330848247],\n",
       "        [22.88690556534788, 2.6243890334768487],\n",
       "        [22.88695129308136, 2.6244200555647166],\n",
       "        [22.88695420220151, 2.6244348650487987],\n",
       "        [22.887769391835658, 3.1207656637774783],\n",
       "        [22.888726218236116, 3.6170840489743203],\n",
       "        [22.888689672486617, 3.6171255970648164],\n",
       "        [22.888658581325416, 3.6171713733231408],\n",
       "        [22.88864376302305, 3.617174204698253],\n",
       "        [21.90042114628373, 3.6186994179732817],\n",
       "        [21.90037948126293, 3.618662877507433],\n",
       "        [21.90033372251688, 3.618631852728597],\n",
       "        [21.900331539196973, 3.6186207953344973]],\n",
       "       'type': 'Polygon'}},\n",
       "     'cloud_score': 100.0,\n",
       "     'date_time': '2018-10-09 08:38:41Z',\n",
       "     'instrument': 'Sentinel-2A',\n",
       "     'source': 'COPERNICUS/S2/20181009T083841_20181009T085022_T34NFJ',\n",
       "     'thumbnail_url': None,\n",
       "     'tile_url': None}}],\n",
       "  'type': 'recent_tiles_data'}}"
      ]
     },
     "execution_count": 58,
     "metadata": {},
     "output_type": "execute_result"
    }
   ],
   "source": [
    "r.json()"
   ]
  },
  {
   "cell_type": "code",
   "execution_count": 18,
   "metadata": {},
   "outputs": [],
   "source": [
    "# Process the response from the recent service, in particular, first look for the recent tile url \n",
    "# and then create an array to send to the tiles and thumbs service\n",
    "source_data = []\n",
    "for row in r.json().get('data').get('tiles'):\n",
    "    if row.get('attributes').get('tile_url', None):\n",
    "        quick_tiles = row.get('attributes').get('tile_url', None)\n",
    "    source_data.append({'source':row.get('attributes').get('source', None)})"
   ]
  },
  {
   "cell_type": "code",
   "execution_count": 14,
   "metadata": {},
   "outputs": [
    {
     "data": {
      "text/plain": [
       "'https://earthengine.googleapis.com/map/9b5285c265fc83c653793d0888064e45/{z}/{x}/{y}?token=f6d2c5a09f9a0e2b984a5d606f7b57dc'"
      ]
     },
     "execution_count": 14,
     "metadata": {},
     "output_type": "execute_result"
    }
   ],
   "source": [
    "# A valid quick-look tile url with active token:\n",
    "quick_tiles"
   ]
  },
  {
   "cell_type": "code",
   "execution_count": 20,
   "metadata": {},
   "outputs": [
    {
     "data": {
      "text/plain": [
       "[{'source': 'COPERNICUS/S2/20180919T083621_20180919T085433_T34NFJ'},\n",
       " {'source': 'LANDSAT/LC08/C01/T1_RT_TOA/LC08_178058_20181119'},\n",
       " {'source': 'LANDSAT/LC08/C01/T1_RT_TOA/LC08_178058_20180916'},\n",
       " {'source': 'LANDSAT/LC08/C01/T1_RT_TOA/LC08_178058_20181205'},\n",
       " {'source': 'COPERNICUS/S2/20181108T084141_20181108T085427_T34NFJ'},\n",
       " {'source': 'COPERNICUS/S2/20181019T083951_20181019T085322_T34NFJ'},\n",
       " {'source': 'COPERNICUS/S2/20181128T084301_20181128T085303_T34NFJ'},\n",
       " {'source': 'COPERNICUS/S2/20181029T084051_20181029T085554_T34NFJ'},\n",
       " {'source': 'LANDSAT/LC08/C01/T1_RT_TOA/LC08_178058_20181103'},\n",
       " {'source': 'COPERNICUS/S2/20181118T084231_20181118T085626_T34NFJ'},\n",
       " {'source': 'COPERNICUS/S2/20180929T083731_20180929T085615_T34NFJ'},\n",
       " {'source': 'COPERNICUS/S2/20181009T083841_20181009T085022_T34NFJ'}]"
      ]
     },
     "execution_count": 20,
     "metadata": {},
     "output_type": "execute_result"
    }
   ],
   "source": [
    "# example of extracted source data\n",
    "source_data"
   ]
  },
  {
   "cell_type": "code",
   "execution_count": 72,
   "metadata": {},
   "outputs": [
    {
     "name": "stdout",
     "output_type": "stream",
     "text": [
      "Response=200\n"
     ]
    }
   ],
   "source": [
    "# Next call the recent-tiles/thumbs service posting back a list of the source data\n",
    "r2 = requests.post('http://localhost:4500/api/v1/recent-tiles/thumbs', json={'source_data': source_data, 'bands': 0})\n",
    "print(f\"Response={r2.status_code}\")"
   ]
  },
  {
   "cell_type": "code",
   "execution_count": 73,
   "metadata": {},
   "outputs": [
    {
     "data": {
      "text/plain": [
       "{'data': {'attributes': [{'source': 'COPERNICUS/S2/20180919T083621_20180919T085433_T34NFJ',\n",
       "    'thumbnail_url': 'https://earthengine.googleapis.com/api/thumb?thumbid=c12a2956e5af9f2201ec7b9645505f7d&token=482387bd0930c1fb6a52db758fb4df4d'},\n",
       "   {'source': 'LANDSAT/LC08/C01/T1_RT_TOA/LC08_178058_20181119',\n",
       "    'thumbnail_url': 'https://earthengine.googleapis.com/api/thumb?thumbid=6b9ee03e80723b7822a4388628f8e08c&token=be9f7fb3aef0413e5117783e2e3a180d'},\n",
       "   {'source': 'LANDSAT/LC08/C01/T1_RT_TOA/LC08_178058_20180916',\n",
       "    'thumbnail_url': 'https://earthengine.googleapis.com/api/thumb?thumbid=da2514ef685e957d3b066c768d4e148c&token=27a12748d525419132f83db82c8ff4bc'},\n",
       "   {'source': 'LANDSAT/LC08/C01/T1_RT_TOA/LC08_178058_20181205',\n",
       "    'thumbnail_url': 'https://earthengine.googleapis.com/api/thumb?thumbid=0e8a57afe297d28fcd868c811137a65d&token=dfa1775ac602732ac67312938539b4db'},\n",
       "   {'source': 'COPERNICUS/S2/20181108T084141_20181108T085427_T34NFJ',\n",
       "    'thumbnail_url': 'https://earthengine.googleapis.com/api/thumb?thumbid=c19f30f71841f65fb5c60397591c4099&token=40728cc4f7bb64fac703e1d14a537b9b'},\n",
       "   {'source': 'COPERNICUS/S2/20181019T083951_20181019T085322_T34NFJ',\n",
       "    'thumbnail_url': 'https://earthengine.googleapis.com/api/thumb?thumbid=4ac0635f8a38cd9011d9e753d852557f&token=6273985facf3797abea32ce8327a370e'},\n",
       "   {'source': 'COPERNICUS/S2/20181128T084301_20181128T085303_T34NFJ',\n",
       "    'thumbnail_url': 'https://earthengine.googleapis.com/api/thumb?thumbid=2130c945172f4827bf377e098eeb9c66&token=ee51d516154a0dee7d02aa898055465a'},\n",
       "   {'source': 'COPERNICUS/S2/20181029T084051_20181029T085554_T34NFJ',\n",
       "    'thumbnail_url': 'https://earthengine.googleapis.com/api/thumb?thumbid=26edd0fca3c45eca87e413a7d5c23d8c&token=7aa5167d97da5cfac6f32aa66b3cdb93'},\n",
       "   {'source': 'LANDSAT/LC08/C01/T1_RT_TOA/LC08_178058_20181103',\n",
       "    'thumbnail_url': 'https://earthengine.googleapis.com/api/thumb?thumbid=1cfe3880c0f1515b020fdec49bf94814&token=0f263bf4d8eb248eb697ee7a9626acc0'},\n",
       "   {'source': 'COPERNICUS/S2/20181118T084231_20181118T085626_T34NFJ',\n",
       "    'thumbnail_url': 'https://earthengine.googleapis.com/api/thumb?thumbid=b1855efabcc79a5691e4eb8988adbe7a&token=e8f507f8e447e9deb9b82bdaf2875e3a'},\n",
       "   {'source': 'COPERNICUS/S2/20180929T083731_20180929T085615_T34NFJ',\n",
       "    'thumbnail_url': 'https://earthengine.googleapis.com/api/thumb?thumbid=487d9ed5fa718467bf36163eb5d9e5c5&token=3893d040da058ebc20545bce884a3ffc'},\n",
       "   {'source': 'COPERNICUS/S2/20181009T083841_20181009T085022_T34NFJ',\n",
       "    'thumbnail_url': 'https://earthengine.googleapis.com/api/thumb?thumbid=e0bc136ab3628c29b5e3089111da349e&token=3e839f9a819f3fdf74a9f1070bc79f98'}],\n",
       "  'id': None,\n",
       "  'type': 'recent_thumbs_url'}}"
      ]
     },
     "execution_count": 73,
     "metadata": {},
     "output_type": "execute_result"
    }
   ],
   "source": [
    "r2.json()"
   ]
  },
  {
   "cell_type": "code",
   "execution_count": 74,
   "metadata": {},
   "outputs": [],
   "source": [
    "# The thumbnail_urls can be used to grab the thumbnail assets as required\n",
    "from IPython.display import Image\n",
    "from IPython.core.display import HTML "
   ]
  },
  {
   "cell_type": "code",
   "execution_count": 80,
   "metadata": {},
   "outputs": [
    {
     "data": {
      "text/html": [
       "<img src=\"https://earthengine.googleapis.com/api/thumb?thumbid=c12a2956e5af9f2201ec7b9645505f7d&token=482387bd0930c1fb6a52db758fb4df4d\"/>"
      ],
      "text/plain": [
       "<IPython.core.display.Image object>"
      ]
     },
     "execution_count": 80,
     "metadata": {},
     "output_type": "execute_result"
    }
   ],
   "source": [
    "Image(url=r2.json().get('data').get('attributes')[0].get('thumbnail_url'))"
   ]
  },
  {
   "cell_type": "code",
   "execution_count": 83,
   "metadata": {},
   "outputs": [
    {
     "name": "stdout",
     "output_type": "stream",
     "text": [
      "Response=200\n"
     ]
    },
    {
     "data": {
      "text/plain": [
       "{'data': {'attributes': [{'source_id': 'COPERNICUS/S2/20180919T083621_20180919T085433_T34NFJ',\n",
       "    'tile_url': 'https://earthengine.googleapis.com/map/9b5285c265fc83c653793d0888064e45/{z}/{x}/{y}?token=470ea03eeada3c562c564d3e162e3552'},\n",
       "   {'source_id': 'LANDSAT/LC08/C01/T1_RT_TOA/LC08_178058_20181119',\n",
       "    'tile_url': 'https://earthengine.googleapis.com/map/c4c9d9c5bb1758d9774ebdcb2760324a/{z}/{x}/{y}?token=66e87b38b8dd7fe405e1b766f2e33bb6'},\n",
       "   {'source_id': 'LANDSAT/LC08/C01/T1_RT_TOA/LC08_178058_20180916',\n",
       "    'tile_url': 'https://earthengine.googleapis.com/map/38ac869ff3ffd50d453f828cf0968334/{z}/{x}/{y}?token=77c824660ee0fc434e69b0f4570634de'},\n",
       "   {'source_id': 'LANDSAT/LC08/C01/T1_RT_TOA/LC08_178058_20181205',\n",
       "    'tile_url': 'https://earthengine.googleapis.com/map/93caccef6e7cbe4c596b1bca38730fd9/{z}/{x}/{y}?token=9877c5e85b255eebbf0673ea0aa16549'},\n",
       "   {'source_id': 'COPERNICUS/S2/20181108T084141_20181108T085427_T34NFJ',\n",
       "    'tile_url': 'https://earthengine.googleapis.com/map/9d288c3fbf9c726e13a82df64276b285/{z}/{x}/{y}?token=c0680bb468a18aee34dcf71ab92963d7'},\n",
       "   {'source_id': 'COPERNICUS/S2/20181019T083951_20181019T085322_T34NFJ',\n",
       "    'tile_url': 'https://earthengine.googleapis.com/map/a34b932f886521e526e18b038f10ff52/{z}/{x}/{y}?token=cf575bb7d6f782845e82a50ceab1bd55'},\n",
       "   {'source_id': 'COPERNICUS/S2/20181128T084301_20181128T085303_T34NFJ',\n",
       "    'tile_url': 'https://earthengine.googleapis.com/map/ba4cd70e036b07383af32886e7be7ffb/{z}/{x}/{y}?token=a2b0eb4376f0b77f53d1273ce041ea06'},\n",
       "   {'source_id': 'COPERNICUS/S2/20181029T084051_20181029T085554_T34NFJ',\n",
       "    'tile_url': 'https://earthengine.googleapis.com/map/16a51a6fc6b2c675f244e1227aab2fa8/{z}/{x}/{y}?token=84b404945e96284a05cabca05970e3bd'},\n",
       "   {'source_id': 'LANDSAT/LC08/C01/T1_RT_TOA/LC08_178058_20181103',\n",
       "    'tile_url': 'https://earthengine.googleapis.com/map/6ea5b16a2d4379d1731ff37413c04bce/{z}/{x}/{y}?token=05520b05640da5188817db933f7e0c2c'},\n",
       "   {'source_id': 'COPERNICUS/S2/20181118T084231_20181118T085626_T34NFJ',\n",
       "    'tile_url': 'https://earthengine.googleapis.com/map/11d070eaead28462fa063615f55be0d2/{z}/{x}/{y}?token=ed2f19a22000c10e2219f985eff86b11'},\n",
       "   {'source_id': 'COPERNICUS/S2/20180929T083731_20180929T085615_T34NFJ',\n",
       "    'tile_url': 'https://earthengine.googleapis.com/map/fd04eb0ed4dde97c0e9d806204534a28/{z}/{x}/{y}?token=9ae5615daa95388e7a8a23d582e290a9'},\n",
       "   {'source_id': 'COPERNICUS/S2/20181009T083841_20181009T085022_T34NFJ',\n",
       "    'tile_url': 'https://earthengine.googleapis.com/map/82103b7d4be2bf73fcb009adfac21b6c/{z}/{x}/{y}?token=654c0e1e81eb4c9f68f6c1647deeb9c3'}],\n",
       "  'id': None,\n",
       "  'type': 'recent_tiles_url'}}"
      ]
     },
     "execution_count": 83,
     "metadata": {},
     "output_type": "execute_result"
    }
   ],
   "source": [
    "# Simultaneously you will also need to call the recent-tiles/tiles service too, with the same arguments\n",
    "r3 = requests.post('http://localhost:4500/api/v1/recent-tiles/tiles', json={'source_data': source_data, 'bands': 0})\n",
    "print(f\"Response={r3.status_code}\")\n",
    "r3.json()"
   ]
  },
  {
   "cell_type": "code",
   "execution_count": null,
   "metadata": {},
   "outputs": [],
   "source": [
    "# Note, tokens will expire after a day or so."
   ]
  }
 ],
 "metadata": {
  "kernelspec": {
   "display_name": "Python 3",
   "language": "python",
   "name": "python3"
  },
  "language_info": {
   "codemirror_mode": {
    "name": "ipython",
    "version": 3
   },
   "file_extension": ".py",
   "mimetype": "text/x-python",
   "name": "python",
   "nbconvert_exporter": "python",
   "pygments_lexer": "ipython3",
   "version": "3.6.7"
  }
 },
 "nbformat": 4,
 "nbformat_minor": 2
}
