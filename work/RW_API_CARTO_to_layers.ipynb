{
 "cells": [
  {
   "cell_type": "markdown",
   "metadata": {},
   "source": [
    "# Registering Layers to RW-API\n",
    "\n",
    "- Notes on syntax and schema [here](https://resource-watch.github.io/doc-api/index-rw.html).\n",
    "- GFW Centric notes on Schema [here.](https://docs.google.com/document/d/1zW3QrhaZYwF2L0MCHKWp8bvv_qR6pEqNuKDqy2G84FU/edit)\n",
    "- Example POSTMAN collections [here](https://www.getpostman.com/collections/e11b3a3f868d9ffbe4c2).\n",
    "- All GFW datasets: https://api.resourcewatch.org/v1/dataset?app=gfw&page[size]=1000\n",
    "- All GFW layers: https://api.resourcewatch.org/v1/layer?app=gfw&page[size]=1000\n",
    "\n",
    "We are interested in *datasets* and *layers* with `provider = cartodb`.\n",
    "\n",
    "Multiple layers can be made from single datasets.\n",
    "\n",
    "### Testing\n",
    "\n",
    "Copy-pasta the url in this format: \n",
    "\n",
    "    - https://api.resourcewatch.org/v1/dataset/{dataset_id}?includes=layers&hash={random_number}\n",
    "    - e.g. https://api.resourcewatch.org/v1/dataset/13e28550-3fc9-45ec-bb00-5a48a82b77e1?includes=layer&hash=0004\n",
    "    \n",
    "...into the layer-manager-demo, found at: \n",
    "\n",
    "    - https://vizzuality.github.io/layer-manager-demo/\n",
    "\n",
    "### Index\n",
    "\n",
    "Finding Datasets/Layers:\n",
    "\n",
    "1. [Get ALL Layers](#get_layers)\n",
    "1. [Get ALL Datasets](#get_datasets)\n",
    "1. [Get Single Layer](#get_layer)\n",
    "1. [Get Single Dataset](#get_dataset)\n",
    "\n",
    "Register Datasets/Layers:\n",
    "\n",
    "1. [Post Dataset](#post_dataset)\n",
    "1. [Post Layer](#post_layer)\n",
    "\n",
    "Updating Datasets/Layers:\n",
    "\n",
    "1. [Update Layer](#put_layer)\n",
    "1. [Update Dataset](#put_dataset)\n",
    "\n",
    "Deleting Datasets/Layers:\n",
    "\n",
    "1. [Delete Layer](#del_layer)\n",
    "1. [Delete Dataset](#del_dataset)\n",
    "\n",
    "Vocabularies:\n",
    "\n",
    "1. [Relating a vocabulary to a dataset](#post_vocab)\n",
    "1. [Updating a vocabulary](#put_vocab)\n",
    "1. [Removing a relationship vocabulary](#del_vocab)\n",
    "\n",
    "Metadata:\n",
    "\n",
    "1. [Post metadata](#post_meta)\n",
    "2. [Update metadata](#put_meta)\n"
   ]
  },
  {
   "cell_type": "code",
   "execution_count": 42,
   "metadata": {},
   "outputs": [],
   "source": [
    "import json\n",
    "import requests\n",
    "from pprint import pprint\n",
    "import random"
   ]
  },
  {
   "cell_type": "code",
   "execution_count": 2,
   "metadata": {},
   "outputs": [],
   "source": [
    "s = requests.session()\n",
    "s.cookies.clear()"
   ]
  },
  {
   "cell_type": "code",
   "execution_count": 184,
   "metadata": {},
   "outputs": [],
   "source": [
    "OAUTH = {{'your token'}}"
   ]
  },
  {
   "cell_type": "markdown",
   "metadata": {},
   "source": [
    "<a class=\"anchor\" id=\"get_layers\"></a>\n",
    "\n",
    "# Get All Layers"
   ]
  },
  {
   "cell_type": "code",
   "execution_count": 163,
   "metadata": {},
   "outputs": [
    {
     "name": "stdout",
     "output_type": "stream",
     "text": [
      "https://api.resourcewatch.org/v1/layer?app=gfw&page[size]=10000&hash=161689508836863946597676229113751946122\n"
     ]
    }
   ],
   "source": [
    "#Get layers\n",
    "hash = random.getrandbits(128)\n",
    "url = f'https://api.resourcewatch.org/v1/layer?app=gfw&page[size]=10000&hash={hash}'\n",
    "\n",
    "r = requests.get(url)\n",
    "print(r.url)\n",
    "\n",
    "layers = r.json().get('data',None)"
   ]
  },
  {
   "cell_type": "code",
   "execution_count": 164,
   "metadata": {},
   "outputs": [
    {
     "name": "stdout",
     "output_type": "stream",
     "text": [
      "{'attributes': {'application': ['gfw'],\n",
      "                'applicationConfig': {},\n",
      "                'dataset': 'b7a34457-1d8a-456e-af46-876e0b42fb96',\n",
      "                'default': False,\n",
      "                'env': 'production',\n",
      "                'interactionConfig': {},\n",
      "                'iso': [],\n",
      "                'layerConfig': {'assetId': 'projects/wri-datalab/Gain_carbon_test',\n",
      "                                'body': {'sldValue': '<RasterSymbolizer><ColorMap '\n",
      "                                                     'type=\"ramp\" '\n",
      "                                                     'extended=\"false\" '\n",
      "                                                     '><ColorMapEntry '\n",
      "                                                     'color=\"#0D210F\" '\n",
      "                                                     'quantity=\"0\" opacity=\"0\" '\n",
      "                                                     '/><ColorMapEntry '\n",
      "                                                     'color=\"#0D210F\" '\n",
      "                                                     'quantity=\"1\" '\n",
      "                                                     '/><ColorMapEntry '\n",
      "                                                     'color=\"#77E285\" '\n",
      "                                                     'quantity=\"3000\" '\n",
      "                                                     '/></ColorMap></RasterSymbolizer>',\n",
      "                                         'styleType': 'sld'},\n",
      "                                'filterDates': ['2008-01-01', '2019-01-01'],\n",
      "                                'isImageCollection': True,\n",
      "                                'order': 2018,\n",
      "                                'position': 'last',\n",
      "                                'provider': 'gee'},\n",
      "                'legendConfig': {},\n",
      "                'name': 'test agb green 2018',\n",
      "                'protected': False,\n",
      "                'provider': 'gee',\n",
      "                'published': True,\n",
      "                'slug': 'test-agb-green-2018',\n",
      "                'staticImageConfig': {},\n",
      "                'updatedAt': '2018-04-13T13:20:43.963Z',\n",
      "                'userId': '57a0aa1071e394dd32ffe137'},\n",
      " 'id': 'c9e48a9f-2dca-4233-9400-0b5e4e07674f',\n",
      " 'type': 'layer'}\n"
     ]
    }
   ],
   "source": [
    "pprint(layers[0])"
   ]
  },
  {
   "cell_type": "code",
   "execution_count": 145,
   "metadata": {
    "scrolled": true
   },
   "outputs": [
    {
     "name": "stdout",
     "output_type": "stream",
     "text": [
      "0 - test agb green 2018 (2018)\n",
      "1 - test agb green 2028 (2018)\n",
      "2 - test agb green 2038 (2018)\n",
      "3 - test agb green 2048 (2018)\n",
      "4 - Biodiversity Significance (2018)\n"
     ]
    }
   ],
   "source": [
    "layer_ids = []\n",
    "i = 0\n",
    "for d in layers:\n",
    "    layer_ids.append({'name': d.get('attributes').get('name'), 'l_id': d.get('id'), 'ds_id': d.get('attributes').get('dataset')})\n",
    "    print(f\"{i} - {d.get('attributes').get('name')} ({d.get('attributes').get('updatedAt')[0:4]})\")\n",
    "    i += 1\n"
   ]
  },
  {
   "cell_type": "code",
   "execution_count": 146,
   "metadata": {},
   "outputs": [
    {
     "data": {
      "text/plain": [
       "{'ds_id': 'b7a34457-1d8a-456e-af46-876e0b42fb96',\n",
       " 'l_id': 'c9e48a9f-2dca-4233-9400-0b5e4e07674f',\n",
       " 'name': 'test agb green 2018'}"
      ]
     },
     "execution_count": 146,
     "metadata": {},
     "output_type": "execute_result"
    }
   ],
   "source": [
    "layer_ids[0]"
   ]
  },
  {
   "cell_type": "markdown",
   "metadata": {},
   "source": [
    "<a class=\"anchor\" id=\"get_datasets\"></a>\n",
    "\n",
    "# Get All Datasets"
   ]
  },
  {
   "cell_type": "code",
   "execution_count": 177,
   "metadata": {},
   "outputs": [
    {
     "name": "stdout",
     "output_type": "stream",
     "text": [
      "https://api.resourcewatch.org/v1/dataset?app=gfw&page[size]=10000&hash=262192558931966351731070225669198777063\n"
     ]
    }
   ],
   "source": [
    "#Get datasets\n",
    "hash = random.getrandbits(128)\n",
    "url = f'https://api.resourcewatch.org/v1/dataset?app=gfw&page[size]=10000&hash={hash}'\n",
    "\n",
    "r = requests.get(url)\n",
    "print(r.url)\n",
    "\n",
    "datasets = r.json().get('data',None)"
   ]
  },
  {
   "cell_type": "code",
   "execution_count": 182,
   "metadata": {},
   "outputs": [
    {
     "name": "stdout",
     "output_type": "stream",
     "text": [
      "{'attributes': {'application': ['gfw'],\n",
      "                'attributesPath': None,\n",
      "                'blockchain': {},\n",
      "                'clonedHost': {},\n",
      "                'connectorType': 'rest',\n",
      "                'connectorUrl': 'https://wri-01.carto.com/tables/mangrove_2010',\n",
      "                'dataPath': None,\n",
      "                'env': 'production',\n",
      "                'errorMessage': '',\n",
      "                'geoInfo': False,\n",
      "                'layerRelevantProps': [],\n",
      "                'legend': {'country': [],\n",
      "                           'date': [],\n",
      "                           'nested': [],\n",
      "                           'region': []},\n",
      "                'mainDateField': None,\n",
      "                'name': 'Global Mangrove Forests',\n",
      "                'overwrite': False,\n",
      "                'protected': False,\n",
      "                'provider': 'cartodb',\n",
      "                'published': True,\n",
      "                'slug': 'Global-Mangrove-Forests',\n",
      "                'status': 'saved',\n",
      "                'subtitle': None,\n",
      "                'tableName': 'mangrove_2010',\n",
      "                'taskId': None,\n",
      "                'type': None,\n",
      "                'updatedAt': '2018-06-22T14:05:55.970Z',\n",
      "                'userId': '59db4eace9c1380001d6e4c3',\n",
      "                'verified': False,\n",
      "                'widgetRelevantProps': []},\n",
      " 'id': '9c4bc723-6c9b-4cea-92a7-9f0f0f9e7697',\n",
      " 'type': 'dataset'}\n"
     ]
    }
   ],
   "source": [
    "pprint(datasets[85])"
   ]
  },
  {
   "cell_type": "code",
   "execution_count": 180,
   "metadata": {
    "scrolled": true
   },
   "outputs": [
    {
     "name": "stdout",
     "output_type": "stream",
     "text": [
      "0 - GLAD alerts summarized by month, iso, adm1 within IDN moratorium areas (2018)\n",
      "1 - Subnational Political Boundaries (2018)\n",
      "2 - GLAD alerts summarized by important places (2016)\n",
      "3 - 2010 Hansen Tree Cover Extent by GADM2.8 Boundaries (2017)\n",
      "4 - Political boundaries (GADM) (2017)\n",
      "5 - 2013 Intact Forest Landscape Area in Hectares Summarized by GADM28 (2017)\n",
      "6 - Hansen 2000 Tree Cover Extent Data at GADM28 (2017)\n",
      "7 - bio.030 Tiger Conservation Landscapes (2018)\n",
      "8 - for.006.nrt Active Fires (VIIRS) (2018)\n",
      "9 - 2000 - 2015 Hansen Loss within GFW Resource Rights Areas, Summarized by GADM2.8 Boundaries (2017)\n",
      "10 - Terra-I alerts summarized by month, iso, adm1, adm2 within MYS and IDN peat areas (2018)\n",
      "11 - soc.014 Land rights data (2018)\n",
      "12 - GFW - Climate: Insights - Glad Alerts Countries Data (2017)\n",
      "13 - NDC stats for countries (2016)\n",
      "14 - NDC stats for countries (2017)\n",
      "15 - GLAD alerts summarized by month, iso, adm1, adm2 within MYS and IDN peat areas (2018)\n",
      "16 - bio.002 Biodiversity hot spots (2018)\n",
      "17 - Hansen Gain 2000-2012 by GADM28 (2017)\n",
      "18 - GLAD alerts summarized by month, iso, adm1, and adm2 (2018)\n",
      "19 - UMD Loss Area Tabulated by GADM2 (2016)\n",
      "20 - Terra-I alerts tabulated by GADM1 boundaries (2016)\n",
      "21 - Terra-I alerts summarized by month, iso, adm1 within IDN moratorium areas (2018)\n",
      "22 - Terra-I alerts summarized by month, iso, and adm1 (2018)\n",
      "23 - GLAD alerts summarized by month, iso, adm1, adm2 and wdpa_pid (2018)\n",
      "24 - 2000 - 2015 Hansen Loss on areas where indigenous peoples or local communities enjoy rights to the land and certain resources, summarized by GADM2.8 boundaries (2017)\n",
      "25 - 2000 Hansen Tree Cover Extent at GADM2.8 (2017)\n",
      "26 - Hansen Loss 2000 - 2015 within IDN Forest Moratorium Areas Summarized by GADM28 (2017)\n",
      "27 - Terra I alerts summarized by admin 1 boundary from GADM2.8 (2018)\n",
      "28 - UMD Loss Area Tabulated by GADM2 (2017)\n",
      "29 - Global Forest Watch - Home page news (2018)\n",
      "30 - 2000 - 2015 Hansen Loss on Peat in Indonesia and Malaysia, Summarized by GADM2.8 Boundaries (2017)\n",
      "31 - GLAD alerts summarized by important places (2016)\n",
      "32 - Hansen Loss Data Summarized by GADM2.8 Admin 2 Boundaries by Tree Cover Threshold (2017)\n",
      "33 - Forma Activity (2017)\n",
      "34 - GLAD alerts summarized by important places (2016)\n",
      "35 - 2000 Forest Extent Tabulated by GADM2 (2016)\n",
      "36 - Hansen Loss Data 2000 - 2014, with partial 2015 at GADM28 (2017)\n",
      "37 - Hansen Loss 2000 - 2015 within DRC and IDN Primary Forest Summarized by GADM28 (2017)\n",
      "38 - Global Forest Watch - Countries config (2017)\n",
      "39 - soc.064.02 Political Boundaries (Second Subnational Level) (2017)\n",
      "40 - GLAD alerts summarized by GADM1 Boundaries (2016)\n",
      "41 - Terra I alerts summarized by admin 1 boundary from GADM2.8 (2017)\n",
      "42 - Terra I data for download (2018)\n",
      "43 - Hansen Loss Data Summarized by GADM2.8 Admin 2 Boundaries by Tree Cover Threshold (2017)\n",
      "44 - Glad points. (2018)\n",
      "45 - Terra-I alerts summarized by month, iso, adm1, adm2 and wdpa_pid (2018)\n",
      "46 - Hansen Loss 2000 - 2014 and Partial 2015 within WDPA Polygons by GADM28 (2017)\n",
      "47 - 2000 - 2015 Hansen Loss on Biodiversity Hot Spots, Summarized by GADM2.8 Boundaries (2017)\n",
      "48 - World Database on Protected Areas (2018)\n",
      "49 - Hansen Loss 2000 - 2014 and Partial 2015 within 2013 Intact Forest Landscapes Summarized by GADM28 (2017)\n",
      "50 - Global Land Analysis and Discovery (2018)\n",
      "51 - Hansen Loss 2000 - 2014 and Partial 2015 within 2000 Intact Forest Landscapes Summarized by GADM28 (2017)\n",
      "52 - GLAD alerts summarized by GADM1 Boundaries (2016)\n",
      "53 - VIIRS Example Indonesia (2017)\n",
      "54 - MODIS Example Indonesia (2017)\n",
      "55 - MODIS Example Indonesia - v2 (2017)\n",
      "56 - VIIRS Example Indonesia - v2 (2017)\n",
      "57 - dis.007 Landslide Susceptibility (2018)\n",
      "58 - GLAD alerts for download (2018)\n",
      "59 - Temporary GLAD dataset to get min/max date (2017)\n",
      "60 - country page data for admin Level 2 (2017)\n",
      "61 - example plantation data - temp (2017)\n",
      "62 - country page data for admin Level 8 (2018)\n",
      "63 - country page data for admin Level 9 (2018)\n",
      "64 - example ifl_landmark data - temp (2017)\n",
      "65 - example iso data - temp (2017)\n",
      "66 - example iso data - temp2 (2017)\n",
      "67 - example iso data - temp3 (2017)\n",
      "68 - new-glad (2018)\n",
      "69 - new-glad-2 (2018)\n",
      "70 - GLAD aggregated by polyname and gadm28 boundaries for country-pages (2018)\n",
      "71 - temp4 (2018)\n",
      "72 - GLAD alerts summary stats grouped by year, week and iso (2018)\n",
      "73 - GLAD alerts summary stats grouped by year, week, iso and adm1 (2018)\n",
      "74 - GLAD alerts summary stats grouped by year, week, iso, adm1 and adm2 (2018)\n",
      "75 - AGB Gains (2018)\n",
      "76 - AGB Gains (2018)\n",
      "77 - Global Biodiversity (2018)\n",
      "78 - GLAD alerts summary stats grouped by year, week, iso, adm1 v2 (2018)\n",
      "79 - Fire alerts summary stats (2018)\n",
      "80 - Fire alerts summary stats (2018)\n",
      "81 - Fire alerts summary stats (2018)\n",
      "82 - Fire alerts (MODIS and VIIRS) summary stats grouped by date, polyname, iso, adm1 and adm2 (2018)\n",
      "83 - new-glad-data (2018)\n",
      "84 - country page data for admin level 2 (2018)\n",
      "85 - Global Mangrove Forests (2018)\n"
     ]
    }
   ],
   "source": [
    "dataset_ids = []\n",
    "i = 0\n",
    "for d in datasets:\n",
    "    dataset_ids.append({'name': d.get('attributes').get('name'), 'id': d.get('id')})\n",
    "    print(f\"{i} - {d.get('attributes').get('name')} ({d.get('attributes').get('updatedAt')[0:4]})\")\n",
    "    i += 1\n"
   ]
  },
  {
   "cell_type": "code",
   "execution_count": 181,
   "metadata": {},
   "outputs": [
    {
     "data": {
      "text/plain": [
       "{'id': '9c4bc723-6c9b-4cea-92a7-9f0f0f9e7697',\n",
       " 'name': 'Global Mangrove Forests'}"
      ]
     },
     "execution_count": 181,
     "metadata": {},
     "output_type": "execute_result"
    }
   ],
   "source": [
    "dataset_ids[85]"
   ]
  },
  {
   "cell_type": "markdown",
   "metadata": {},
   "source": [
    "***"
   ]
  },
  {
   "cell_type": "markdown",
   "metadata": {},
   "source": [
    "<a class=\"anchor\" id=\"get_layer\"></a>\n",
    "\n",
    "# Get Single Layer"
   ]
  },
  {
   "cell_type": "code",
   "execution_count": 99,
   "metadata": {
    "scrolled": true
   },
   "outputs": [
    {
     "data": {
      "text/plain": [
       "[{'ds_id': '02dabde7-4878-4b75-a815-95ecce50ee11',\n",
       "  'l_id': '7ee6b9c7-0a0e-4bc6-acf0-0c6624d3d3d3',\n",
       "  'name': 'pepe222'},\n",
       " {'ds_id': '02dabde7-4878-4b75-a815-95ecce50ee11',\n",
       "  'l_id': '89dc09e9-1ea0-4b34-b598-dd7033388dd4',\n",
       "  'name': 'test111g'},\n",
       " {'ds_id': 'f7010354-5e2f-47f9-a010-bc5998adeb21',\n",
       "  'l_id': '53230ed3-f4e2-473c-bf99-98501609c586',\n",
       "  'name': 'test-borrar-2223-ra'}]"
      ]
     },
     "execution_count": 99,
     "metadata": {},
     "output_type": "execute_result"
    }
   ],
   "source": [
    "layer_ids[0:3]"
   ]
  },
  {
   "cell_type": "code",
   "execution_count": null,
   "metadata": {},
   "outputs": [],
   "source": [
    "#Get layers\n",
    "dataset_id = 'a705fce9-601c-455c-b97b-6237da5cedba'\n",
    "layer_id = '09ee3e47-95d5-4057-8727-8265bb5e8e55'\n",
    "\n",
    "url = f'http://api.resourcewatch.org/dataset/{dataset_id}/layer/{layer_id}'\n",
    "\n",
    "headers = {'Authorization': 'Bearer' + OAUTH, 'Content-Type': 'application/json', 'Cache-Control': 'no-cache'}\n",
    "\n",
    "r = requests.get(url, headers=headers)\n",
    "print(r.url)\n",
    "\n",
    "layer = r.json().get('data',None)"
   ]
  },
  {
   "cell_type": "code",
   "execution_count": null,
   "metadata": {},
   "outputs": [],
   "source": [
    "layer"
   ]
  },
  {
   "cell_type": "markdown",
   "metadata": {},
   "source": [
    "<a class=\"anchor\" id=\"get_dataset\"></a>\n",
    "\n",
    "# Get Single Dataset"
   ]
  },
  {
   "cell_type": "code",
   "execution_count": 99,
   "metadata": {
    "scrolled": true
   },
   "outputs": [
    {
     "data": {
      "text/plain": [
       "[{'ds_id': '02dabde7-4878-4b75-a815-95ecce50ee11',\n",
       "  'l_id': '7ee6b9c7-0a0e-4bc6-acf0-0c6624d3d3d3',\n",
       "  'name': 'pepe222'},\n",
       " {'ds_id': '02dabde7-4878-4b75-a815-95ecce50ee11',\n",
       "  'l_id': '89dc09e9-1ea0-4b34-b598-dd7033388dd4',\n",
       "  'name': 'test111g'},\n",
       " {'ds_id': 'f7010354-5e2f-47f9-a010-bc5998adeb21',\n",
       "  'l_id': '53230ed3-f4e2-473c-bf99-98501609c586',\n",
       "  'name': 'test-borrar-2223-ra'}]"
      ]
     },
     "execution_count": 99,
     "metadata": {},
     "output_type": "execute_result"
    }
   ],
   "source": [
    "dataset_ids[0:3]"
   ]
  },
  {
   "cell_type": "code",
   "execution_count": null,
   "metadata": {},
   "outputs": [],
   "source": [
    "#Get layers\n",
    "dataset_id = 'a705fce9-601c-455c-b97b-6237da5cedba'\n",
    "\n",
    "url = f'http://api.resourcewatch.org/dataset/{dataset_id}'\n",
    "\n",
    "headers = {'Authorization': 'Bearer' + OAUTH, 'Content-Type': 'application/json', 'Cache-Control': 'no-cache'}\n",
    "\n",
    "r = requests.get(url, headers=headers)\n",
    "print(r.url)\n",
    "\n",
    "dataset = r.json().get('data',None)"
   ]
  },
  {
   "cell_type": "code",
   "execution_count": null,
   "metadata": {},
   "outputs": [],
   "source": [
    "dataset"
   ]
  },
  {
   "cell_type": "markdown",
   "metadata": {},
   "source": [
    "***"
   ]
  },
  {
   "cell_type": "markdown",
   "metadata": {},
   "source": [
    "<a class=\"anchor\" id=\"post_dataset\"></a>\n",
    "\n",
    "# Register Dataset\n",
    "\n",
    "The datasets must be registered first, then the layer attributed to it later.\n",
    "\n",
    "The only fields that will need to be modified for each layer are: `connectorUrl`, and `name`.\n",
    "\n",
    "\n",
    "### Defaults\n",
    "\n",
    "By default, the `application` should be an array with 'gfw': `[\"gfw\"]`, however the layer can be made available to othe rapps by adding 'rw', 'gfw-pro', etc.\n",
    "\n",
    "For CARTO layers, the `provider` field should always be set as `cartodb` and the `connectorType` set as `rest` (Note: this is different for different dataset types)\n",
    "\n",
    "### Other Fields\n",
    "\n",
    "In the case of CARTO layers, the `connectorUrl` field should contain the table url, e.g. `https://wri-01.carto.com/tables/mangrove_2010` \n",
    "\n",
    "The `name` field should reflect the name of the layer found in teh tab on the current gfw map page. Note that this name will be present in the legend - so name appropriately! \n",
    "\n",
    "Vocabularies are currently left blank but will be used later to tag layers for searching.\n",
    "\n"
   ]
  },
  {
   "cell_type": "code",
   "execution_count": 1,
   "metadata": {},
   "outputs": [],
   "source": [
    "# EXAMPLE payload\n",
    "# Note: Get connector table from layerspec --> 'table_name'.\n",
    "\n",
    "payload = {\"dataset\": {\n",
    "  \"connectorType\": \"rest\", \n",
    "  \"provider\":\"cartodb\", \n",
    "  \"connectorUrl\": \"https://wri-01.carto.com/tables/mangrove_2010\", \n",
    "  \"application\": [\"gfw\"],\n",
    "  \"name\": \"Global Mangrove Forests\",\n",
    "  \"vocabularies\":{}\n",
    "    }\n",
    "  }"
   ]
  },
  {
   "cell_type": "code",
   "execution_count": 109,
   "metadata": {},
   "outputs": [
    {
     "name": "stdout",
     "output_type": "stream",
     "text": [
      "{'data': {'id': '9c4bc723-6c9b-4cea-92a7-9f0f0f9e7697', 'type': 'dataset', 'attributes': {'name': 'Global Mangrove Forests', 'slug': 'Global-Mangrove-Forests', 'type': None, 'subtitle': None, 'application': ['gfw'], 'dataPath': None, 'attributesPath': None, 'connectorType': 'rest', 'provider': 'cartodb', 'userId': '59db4eace9c1380001d6e4c3', 'connectorUrl': 'https://wri-01.carto.com/tables/mangrove_2010', 'tableName': 'mangrove_2010', 'status': 'pending', 'published': True, 'overwrite': False, 'verified': False, 'blockchain': {}, 'mainDateField': None, 'env': 'production', 'geoInfo': False, 'protected': False, 'legend': {'nested': [], 'country': [], 'region': [], 'date': []}, 'clonedHost': {}, 'errorMessage': None, 'taskId': None, 'updatedAt': '2018-06-22T14:05:55.533Z', 'widgetRelevantProps': [], 'layerRelevantProps': []}}}\n"
     ]
    }
   ],
   "source": [
    "#Post new dataset\n",
    "\n",
    "url = f'http://api.resourcewatch.org/dataset'\n",
    "\n",
    "headers = {'Authorization': 'Bearer ' + OAUTH, 'Content-Type': 'application/json', 'Cache-Control': 'no-cache'}\n",
    "\n",
    "r = requests.post(url, data=json.dumps(payload), headers=headers)\n",
    "print(r.json())"
   ]
  },
  {
   "cell_type": "markdown",
   "metadata": {},
   "source": [
    "<a class=\"anchor\" id=\"post_layer\"></a>\n",
    "\n",
    "# Registering Layers\n",
    "\n",
    "Now we have a dataset added we can associate a new layer with it. Each layer is comprised of 4 parts: \n",
    "\n",
    "1. the basic information\n",
    "    - name, description, provider, iso, published\n",
    "2. layer info\n",
    "    - layerConfig (how the layer will retieve dtaa and how it will look)   \n",
    "3. legend info\n",
    "    - type of legend  \n",
    "4. interactivity\n",
    "    - how the tool-tips behave\n",
    "\n",
    "### Basic Info Fields\n",
    "\n",
    "Again, `application`, `name`, `provider` fields are required and should match the dataset. There is also a `description` field to give further detail if needed.\n",
    "\n",
    "If the layer is country specific (e.g. BraBiomes) add the country/countries to the `iso` array in iso3 format.\n",
    "\n",
    "Other defaults:\n",
    "\n",
    "```\n",
    "    \"status\": 1,\n",
    "    \"published\": True,\n",
    "    \"default\": False```\n",
    "    \n",
    "### LayerConfig\n",
    "\n",
    "A little more difficult/tedious, is getting the correct sql and styles for the `layerConfig` field.\n",
    "\n",
    "To find the sql, go to the layers `.js` file on the gfw platform to find which columns to select from the table.\n",
    "\n",
    "For the cartocss, again go to the `.cartocss` file.\n",
    "\n",
    "There are formatting differences between the gfw `.cartocss` file and what will go into the api (!) so good practice here is to go to the table on carto and apply to sql and css styles to the map and ensure that it looks/behaves as it should. Once this works you can copy the styles from carto into the `cartocss` field in teh payload, enclosed by \"\" as a single line.\n",
    "\n",
    "### LegendConfig\n",
    "\n",
    "Essentially, how the legend will look.\n",
    "\n",
    "There are 3 types: `basic`, `chloropleth`, and `gradient`.\n",
    "\n",
    "For `basic` & `chloropleth` define an array of objects with a `name` and `color` field. The basic legend just gives coloured bullets, whereas chloropleth gives a flat segmented line with names beneath.\n",
    "\n",
    "For `gradient`, use `value` (can be strings) in place of `name`. These mark regular intervals along the flat bar corresponding to the colour at that point. If you only wish to have 'Low' and 'High' you can leave the `value` field as empty strings ('') far the intermediate items in teh array.\n",
    "\n",
    "### InterctionConfig\n",
    "\n",
    "For the CARTO layers this defines what info to surface from teh aprent table on click for each polygon. The 'intersection' `type` is for matching data to polygons in the table.\n",
    "\n",
    "e.g.\n",
    "\n",
    "```json\n",
    "\n",
    "\"interactionConfig\": {\n",
    "    \"output\": [\n",
    "        {\n",
    "            \"format\": None,\n",
    "            \"type\": \"number\",\n",
    "            \"property\": \"Area\",\n",
    "            \"column\": \"area_ha\",\n",
    "            \"suffix\": \"ha\"\n",
    "        }\n",
    "    ],\n",
    "    \"type\": \"intersection\"\n",
    "    }\n",
    "\n",
    "```"
   ]
  },
  {
   "cell_type": "code",
   "execution_count": 1,
   "metadata": {},
   "outputs": [],
   "source": [
    "\"\"\"Example payload. DO NOT WRAP WITH 'layer' or 'attribute' object(s)\n",
    "\"\"\"\n",
    "\n",
    "payload = {\n",
    "  \"application\": [\"gfw\"],\n",
    "  \"name\": \"Global Mangroves TEST\",\n",
    "  \"provider\": \"Cartodb\",\n",
    "  \"description\": \"Global mangrove data using mangrove_2010\",\n",
    "  \"iso\": [],\n",
    "  \"layerConfig\": {\n",
    "    \"account\": \"wri-01\",\n",
    "    \"params_config\": [],\n",
    "    \"sql_config\": [],\n",
    "    \"body\":{\n",
    "        \"maxzoom\": 18,\n",
    "        \"minzoom\": 3,\n",
    "        \"layers\": [\n",
    "          {\"type\": \"cartodb\",\n",
    "            \"options\": {\n",
    "          \"sql\": \"SELECT * FROM mangrove_2010\",\n",
    "          \"cartocss\": \"#mangrove_2010_depreciated{polygon-fill: #05ffaa; polygon-opacity: 0.7;  line-color: #05ffaa;  line-width: 1;  line-opacity: 1; }\",\n",
    "          \"cartocss_version\": \"2.3.0\"\n",
    "          }\n",
    "        }\n",
    "        ]\n",
    "    }\n",
    "    },\n",
    "  \"legend_config\": {\n",
    "      \"type\": \"basic\",\n",
    "      \"items\": [{\"name\": \"Mangrove forests\", \"color\": \"#05ffaa\"}]\n",
    "    },\n",
    "  \"status\": 1,\n",
    "  \"published\": True,\n",
    "  \"default\": False\n",
    "                    \n",
    "}"
   ]
  },
  {
   "cell_type": "code",
   "execution_count": 188,
   "metadata": {},
   "outputs": [
    {
     "name": "stdout",
     "output_type": "stream",
     "text": [
      "('{\"application\": [\"gfw\"], \"name\": \"Global Mangroves TEST\", \"provider\": '\n",
      " '\"Cartodb\", \"description\": \"Global mangrove data using mangrove_2010\", \"iso\": '\n",
      " '[], \"layerConfig\": {\"account\": \"wri-01\", \"params_config\": [], \"sql_config\": '\n",
      " '[], \"body\": {\"maxzoom\": 18, \"minzoom\": 3, \"layers\": [{\"type\": \"cartodb\", '\n",
      " '\"options\": {\"sql\": \"SELECT * FROM mangrove_2010\", \"cartocss\": '\n",
      " '\"#mangrove_2010_depreciated{polygon-fill: #05ffaa; polygon-opacity: 0.7;  '\n",
      " 'line-color: #05ffaa;  line-width: 1;  line-opacity: 1; }\", '\n",
      " '\"cartocss_version\": \"2.3.0\"}}]}}, \"legend_config\": {\"type\": \"basic\", '\n",
      " '\"items\": [{\"name\": \"Mangrove forests\", \"color\": \"#05ffaa\"}]}, \"status\": 1, '\n",
      " '\"published\": true, \"default\": false}')\n"
     ]
    }
   ],
   "source": [
    "pprint(json.dumps(payload))"
   ]
  },
  {
   "cell_type": "code",
   "execution_count": 189,
   "metadata": {},
   "outputs": [
    {
     "name": "stdout",
     "output_type": "stream",
     "text": [
      "http://api.resourcewatch.org/dataset/9c4bc723-6c9b-4cea-92a7-9f0f0f9e7697/layer/\n",
      "{'data': {'id': '5192313d-55b4-4eda-8331-fff7b33496f5', 'type': 'layer', 'attributes': {'name': 'Global Mangroves TEST', 'slug': 'Global-Mangroves-TEST', 'dataset': '9c4bc723-6c9b-4cea-92a7-9f0f0f9e7697', 'description': 'Global mangrove data using mangrove_2010', 'application': ['gfw'], 'iso': [], 'provider': 'cartodb', 'userId': '5936af3802d342203186ab99', 'default': False, 'protected': False, 'published': True, 'env': 'production', 'layerConfig': {'account': 'wri-01', 'params_config': [], 'sql_config': [], 'body': {'maxzoom': 18, 'minzoom': 3, 'layers': [{'type': 'cartodb', 'options': {'sql': 'SELECT * FROM mangrove_2010', 'cartocss': '#mangrove_2010_depreciated{polygon-fill: #05ffaa; polygon-opacity: 0.7;  line-color: #05ffaa;  line-width: 1;  line-opacity: 1; }', 'cartocss_version': '2.3.0'}}]}}, 'legendConfig': {}, 'interactionConfig': {}, 'applicationConfig': {}, 'staticImageConfig': {}, 'updatedAt': '2018-06-22T15:34:04.758Z'}}}\n"
     ]
    }
   ],
   "source": [
    "#Register layers\n",
    "dataset_id = '9c4bc723-6c9b-4cea-92a7-9f0f0f9e7697'\n",
    "\n",
    "url = f'http://api.resourcewatch.org/dataset/{dataset_id}/layer/'\n",
    "\n",
    "headers = {'Authorization': 'Bearer ' + OAUTH, 'Content-Type': 'application/json'}\n",
    "\n",
    "r = requests.post(url, data=json.dumps(payload), headers=headers)\n",
    "print(r.url)\n",
    "pprint(r.json())\n",
    "layer = r.json().get('data',None)"
   ]
  },
  {
   "cell_type": "markdown",
   "metadata": {},
   "source": [
    "***"
   ]
  },
  {
   "cell_type": "markdown",
   "metadata": {},
   "source": [
    "<a class=\"anchor\" id=\"put_dataset\"></a>\n",
    "\n",
    "# Updating Datasets"
   ]
  },
  {
   "cell_type": "code",
   "execution_count": 140,
   "metadata": {},
   "outputs": [],
   "source": [
    "\"\"\" Copy the old one and change desired values (in this case attributes.description)\n",
    "    NOTE that you cannot update id, or type, only attributes!\n",
    "\"\"\"\n",
    "\n",
    "payload = {}\n"
   ]
  },
  {
   "cell_type": "code",
   "execution_count": null,
   "metadata": {},
   "outputs": [],
   "source": [
    "#Update layers\n",
    "dataset_id = 'a705fce9-601c-455c-b97b-6237da5cedba'\n",
    "\n",
    "url = f'http://api.resourcewatch.org/dataset/{dataset_id}'\n",
    "\n",
    "headers = {'Authorization': 'Bearer ' + OAUTH, 'Content-Type': 'application/json'}\n",
    "\n",
    "r = requests.patch(url, data=json.dumps(payload), headers=headers)\n",
    "\n",
    "pprint(r.json())"
   ]
  },
  {
   "cell_type": "markdown",
   "metadata": {},
   "source": [
    "Now test to see that layer is correctly updated..."
   ]
  },
  {
   "cell_type": "code",
   "execution_count": 66,
   "metadata": {},
   "outputs": [
    {
     "name": "stdout",
     "output_type": "stream",
     "text": [
      "http://api.resourcewatch.org/dataset/a705fce9-601c-455c-b97b-6237da5cedba/layer/883fb4e7-a445-45f8-bfae-4d1897551245?hash=119547591303874819937021802911963365738\n",
      "{'attributes': {'application': ['forest-atlas', 'gfw'],\n",
      "                'applicationConfig': {},\n",
      "                'dataset': 'a705fce9-601c-455c-b97b-6237da5cedba',\n",
      "                'default': False,\n",
      "                'description': 'asdgsfg',\n",
      "                'env': 'production',\n",
      "                'interactionConfig': {},\n",
      "                'iso': [],\n",
      "                'layerConfig': {'account': 'vizzuality',\n",
      "                                'body': {'layers': [{'options': {'cartocss': ' ',\n",
      "                                                                 'cartocss_version': '2.3.0',\n",
      "                                                                 'sql': 'SELECT '\n",
      "                                                                        '* '\n",
      "                                                                        'FROM '\n",
      "                                                                        'projects/wri-datalab/Gain_carbon_test'},\n",
      "                                                     'type': 'cartodb'}]}},\n",
      "                'legendConfig': {},\n",
      "                'name': 'dsafsdf',\n",
      "                'protected': False,\n",
      "                'provider': 'cartodb',\n",
      "                'published': True,\n",
      "                'slug': 'dsafsdf',\n",
      "                'staticImageConfig': {},\n",
      "                'updatedAt': '2018-05-25T15:02:22.284Z',\n",
      "                'userId': '57e28e1da80b71481a81b6f2'},\n",
      " 'id': '883fb4e7-a445-45f8-bfae-4d1897551245',\n",
      " 'type': 'layer'}\n"
     ]
    }
   ],
   "source": [
    "#Get layers\n",
    "dataset_id = layer_ids[-6].get('ds_id')\n",
    "hash = random.getrandbits(128)\n",
    "\n",
    "url = f'http://api.resourcewatch.org/dataset/{dataset_id}'\n",
    "\n",
    "headers = {'Authorization': 'Bearer ' + OAUTH, 'Content-Type': 'application/json', 'Cache-Control': 'no-cache'}\n",
    "\n",
    "r = requests.get(url, headers=headers)\n",
    "print(r.url)\n",
    "\n",
    "pprint(r.json().get('data',None))"
   ]
  },
  {
   "cell_type": "markdown",
   "metadata": {},
   "source": [
    "<a class=\"anchor\" id=\"put_layerspec\"></a>\n",
    "\n",
    "# Updating Layers"
   ]
  },
  {
   "cell_type": "code",
   "execution_count": null,
   "metadata": {},
   "outputs": [],
   "source": [
    "\"\"\" Copy the old one and change desired values (in this case attributes.description)\n",
    "    NOTE that you cannot update id, or type, only attributes!\n",
    "\"\"\"\n",
    "\n",
    "payload = {'application': ['forest-atlas', 'gfw'],\n",
    "  'applicationConfig': {},\n",
    "  'dataset': 'a705fce9-601c-455c-b97b-6237da5cedba',\n",
    "  'default': False,\n",
    "  'description': 'AJs test!',\n",
    "  'env': 'production',\n",
    "  'interactionConfig': {},\n",
    "  'iso': [],\n",
    "  'layerConfig': {'account': 'vizzuality',\n",
    "   'body': {'layers': [{'options': {'cartocss': ' ',\n",
    "       'cartocss_version': '2.3.0',\n",
    "       'sql': 'SELECT * FROM projects/wri-datalab/Gain_carbon_test'},\n",
    "      'type': 'cartodb'}],\n",
    "    'maxzoom': 18,\n",
    "    'minzoom': 0}},\n",
    "  'legendConfig': {},\n",
    "  'name': 'testttttttt',\n",
    "  'protected': False,\n",
    "  'provider': 'cartodb',\n",
    "  'published': True,\n",
    "  'slug': 'testttttttt',\n",
    "  'staticImageConfig': {},\n",
    "  'updatedAt': '2018-05-28T09:07:45.031Z',\n",
    "  'userId': '57e28e1da80b71481a81b6f2'}\n"
   ]
  },
  {
   "cell_type": "code",
   "execution_count": null,
   "metadata": {},
   "outputs": [],
   "source": [
    "#Update layers\n",
    "dataset_id = 'a705fce9-601c-455c-b97b-6237da5cedba'\n",
    "layer_id = '09ee3e47-95d5-4057-8727-8265bb5e8e55'\n",
    "\n",
    "url = f'http://api.resourcewatch.org/dataset/{dataset_id}/layer/{layer_id}'\n",
    "\n",
    "headers = {'Authorization': 'Bearer ' + OAUTH, 'Content-Type': 'application/json'}\n",
    "\n",
    "r = requests.patch(url, data=json.dumps(payload), headers=headers)\n",
    "\n",
    "pprint(r.json())"
   ]
  },
  {
   "cell_type": "markdown",
   "metadata": {},
   "source": [
    "Now test to see that layer is correctly updated..."
   ]
  },
  {
   "cell_type": "code",
   "execution_count": 66,
   "metadata": {},
   "outputs": [
    {
     "name": "stdout",
     "output_type": "stream",
     "text": [
      "http://api.resourcewatch.org/dataset/a705fce9-601c-455c-b97b-6237da5cedba/layer/883fb4e7-a445-45f8-bfae-4d1897551245?hash=119547591303874819937021802911963365738\n",
      "{'attributes': {'application': ['forest-atlas', 'gfw'],\n",
      "                'applicationConfig': {},\n",
      "                'dataset': 'a705fce9-601c-455c-b97b-6237da5cedba',\n",
      "                'default': False,\n",
      "                'description': 'asdgsfg',\n",
      "                'env': 'production',\n",
      "                'interactionConfig': {},\n",
      "                'iso': [],\n",
      "                'layerConfig': {'account': 'vizzuality',\n",
      "                                'body': {'layers': [{'options': {'cartocss': ' ',\n",
      "                                                                 'cartocss_version': '2.3.0',\n",
      "                                                                 'sql': 'SELECT '\n",
      "                                                                        '* '\n",
      "                                                                        'FROM '\n",
      "                                                                        'projects/wri-datalab/Gain_carbon_test'},\n",
      "                                                     'type': 'cartodb'}]}},\n",
      "                'legendConfig': {},\n",
      "                'name': 'dsafsdf',\n",
      "                'protected': False,\n",
      "                'provider': 'cartodb',\n",
      "                'published': True,\n",
      "                'slug': 'dsafsdf',\n",
      "                'staticImageConfig': {},\n",
      "                'updatedAt': '2018-05-25T15:02:22.284Z',\n",
      "                'userId': '57e28e1da80b71481a81b6f2'},\n",
      " 'id': '883fb4e7-a445-45f8-bfae-4d1897551245',\n",
      " 'type': 'layer'}\n"
     ]
    }
   ],
   "source": [
    "#Get layers\n",
    "dataset_id = layer_ids[-6].get('ds_id')\n",
    "layer_id = layer_ids[-6].get('l_id')\n",
    "hash = random.getrandbits(128)\n",
    "\n",
    "url = f'http://api.resourcewatch.org/dataset/{dataset_id}/layer/{layer_id}?hash={hash}'\n",
    "\n",
    "headers = {'Authorization': 'Bearer ' + OAUTH, 'Content-Type': 'application/json', 'Cache-Control': 'no-cache'}\n",
    "\n",
    "r = requests.get(url, headers=headers)\n",
    "print(r.url)\n",
    "\n",
    "pprint(r.json().get('data',None))"
   ]
  },
  {
   "cell_type": "markdown",
   "metadata": {},
   "source": [
    "<a class=\"anchor\" id=\"del_dataset\"></a>\n",
    "\n",
    "# Deleting Datasets"
   ]
  },
  {
   "cell_type": "code",
   "execution_count": 126,
   "metadata": {},
   "outputs": [
    {
     "data": {
      "text/plain": [
       "{'id': '098b33df-6871-4e53-a5ff-b56a7d989f9a',\n",
       " 'name': 'Subnational Political Boundaries'}"
      ]
     },
     "execution_count": 126,
     "metadata": {},
     "output_type": "execute_result"
    }
   ],
   "source": [
    "# Deleting test layers\n",
    "dataset_ids[1]"
   ]
  },
  {
   "cell_type": "code",
   "execution_count": 151,
   "metadata": {},
   "outputs": [
    {
     "name": "stdout",
     "output_type": "stream",
     "text": [
      "TEST GFW - Climate: Insights - Glad Alerts Countries Data\n",
      "TEST GFW - Climate: Insights - Glad Alerts Countries Data\n",
      "TEST GFW - Climate: Insights - Glad Alerts Countries Data\n",
      "TEST Terra-I alerts tabulated by GADM1 boundaries\n",
      "TEST GFW - Climate: Insights - Glad Alerts Countries Data\n",
      "done!\n"
     ]
    }
   ],
   "source": [
    "\"\"\" Delete multiple datasets\n",
    "\"\"\"\n",
    "\n",
    "headers = {'Authorization': 'Bearer ' + OAUTH, 'Content-Type': 'application/json', 'Cache-Control': 'no-cache'}\n",
    "\n",
    "for d in dataset_ids:\n",
    "    if 'TEST' in d.get('name'):\n",
    "        print(d.get('name'))\n",
    "        dataset_id = d.get('id')\n",
    "        url = f'http://api.resourcewatch.org/dataset/{dataset_id}'\n",
    "        r = requests.delete(url, headers=headers)\n",
    "print('done!')"
   ]
  },
  {
   "cell_type": "code",
   "execution_count": 152,
   "metadata": {},
   "outputs": [
    {
     "name": "stdout",
     "output_type": "stream",
     "text": [
      "https://api.resourcewatch.org/v1/dataset?app=gfw&page[size]=1000&hash=278115533165256743547552515276897398502\n"
     ]
    }
   ],
   "source": [
    "#Get layers\n",
    "hash = random.getrandbits(128)\n",
    "url = f'https://api.resourcewatch.org/v1/dataset?app=gfw&page[size]=1000&hash={hash}'\n",
    "\n",
    "r = requests.get(url)\n",
    "print(r.url)\n",
    "\n",
    "datasets = r.json().get('data',None)"
   ]
  },
  {
   "cell_type": "code",
   "execution_count": 153,
   "metadata": {},
   "outputs": [
    {
     "data": {
      "text/plain": [
       "86"
      ]
     },
     "execution_count": 153,
     "metadata": {},
     "output_type": "execute_result"
    }
   ],
   "source": [
    "len(datasets)"
   ]
  },
  {
   "cell_type": "code",
   "execution_count": 94,
   "metadata": {},
   "outputs": [
    {
     "name": "stdout",
     "output_type": "stream",
     "text": [
      "http://api.resourcewatch.org/dataset/b7a34457-1d8a-456e-af46-876e0b42fb96/layer/2e61f834-8a52-4c33-9467-992c24a6c8ac\n",
      "{'data': {'attributes': {'application': ['gfw'],\n",
      "                         'applicationConfig': {},\n",
      "                         'dataset': 'b7a34457-1d8a-456e-af46-876e0b42fb96',\n",
      "                         'default': False,\n",
      "                         'env': 'production',\n",
      "                         'interactionConfig': {},\n",
      "                         'iso': [],\n",
      "                         'layerConfig': {'assetId': 'projects/wri-datalab/Gain_carbon_test',\n",
      "                                         'body': {'sldValue': '<RasterSymbolizer><ColorMap '\n",
      "                                                              'extended=\"false\" '\n",
      "                                                              'type=\"ramp\"><ColorMapEntry '\n",
      "                                                              'color=\"#000000\" '\n",
      "                                                              'label=\"None\" '\n",
      "                                                              'opacity=\"0\" '\n",
      "                                                              'quantity=\"1\" '\n",
      "                                                              '/><ColorMapEntry '\n",
      "                                                              'color=\"#f0f9e8\" '\n",
      "                                                              'label=\"&#8804;5\" '\n",
      "                                                              'quantity=\"500\" '\n",
      "                                                              '/><ColorMapEntry '\n",
      "                                                              'color=\"#bae4bc\" '\n",
      "                                                              'label=\"&#8804;10\" '\n",
      "                                                              'quantity=\"1000\" '\n",
      "                                                              '/><ColorMapEntry '\n",
      "                                                              'color=\"#7bccc4\" '\n",
      "                                                              'label=\"&#8804;15\" '\n",
      "                                                              'quantity=\"1500\" '\n",
      "                                                              '/><ColorMapEntry '\n",
      "                                                              'color=\"#43a2ca\" '\n",
      "                                                              'label=\"&#8804;20\" '\n",
      "                                                              'quantity=\"3000\" '\n",
      "                                                              '/></ColorMap></RasterSymbolizer>',\n",
      "                                                  'styleType': 'sld'},\n",
      "                                         'filterDates': ['2008-01-01',\n",
      "                                                         '2019-01-01'],\n",
      "                                         'isImageCollection': True,\n",
      "                                         'order': 2018,\n",
      "                                         'position': 'last',\n",
      "                                         'provider': 'gee'},\n",
      "                         'legendConfig': {},\n",
      "                         'name': 'test_agb 2018',\n",
      "                         'protected': False,\n",
      "                         'provider': 'gee',\n",
      "                         'published': True,\n",
      "                         'slug': 'test_agb-2018',\n",
      "                         'staticImageConfig': {},\n",
      "                         'updatedAt': '2018-04-13T13:05:07.529Z',\n",
      "                         'userId': '57a0aa1071e394dd32ffe137'},\n",
      "          'id': '2e61f834-8a52-4c33-9467-992c24a6c8ac',\n",
      "          'type': 'layer'}}\n"
     ]
    }
   ],
   "source": [
    "#Delete dataset\n",
    "dataset_id = \"dataset_ids[4].get('id')\"\n",
    "\n",
    "url = f'http://api.resourcewatch.org/dataset/{dataset_id}'\n",
    "\n",
    "headers = {'Authorization': 'Bearer ' + OAUTH, 'Content-Type': 'application/json', 'Cache-Control': 'no-cache'}\n",
    "\n",
    "r = requests.delete(url, headers=headers)\n",
    "print(r.url)\n",
    "\n",
    "pprint(r.json())"
   ]
  },
  {
   "cell_type": "markdown",
   "metadata": {},
   "source": [
    "<a class=\"anchor\" id=\"del_layer\"></a>\n",
    "\n",
    "# Deleting Layers"
   ]
  },
  {
   "cell_type": "code",
   "execution_count": 97,
   "metadata": {},
   "outputs": [
    {
     "data": {
      "text/plain": [
       "{'id': '1cc19add-a50e-45da-85e5-f30bb033d1ef', 'name': 'pepe'}"
      ]
     },
     "execution_count": 97,
     "metadata": {},
     "output_type": "execute_result"
    }
   ],
   "source": [
    "# Deleting test layers\n",
    "layer_ids[6]"
   ]
  },
  {
   "cell_type": "code",
   "execution_count": 94,
   "metadata": {},
   "outputs": [
    {
     "name": "stdout",
     "output_type": "stream",
     "text": [
      "http://api.resourcewatch.org/dataset/b7a34457-1d8a-456e-af46-876e0b42fb96/layer/2e61f834-8a52-4c33-9467-992c24a6c8ac\n",
      "{'data': {'attributes': {'application': ['gfw'],\n",
      "                         'applicationConfig': {},\n",
      "                         'dataset': 'b7a34457-1d8a-456e-af46-876e0b42fb96',\n",
      "                         'default': False,\n",
      "                         'env': 'production',\n",
      "                         'interactionConfig': {},\n",
      "                         'iso': [],\n",
      "                         'layerConfig': {'assetId': 'projects/wri-datalab/Gain_carbon_test',\n",
      "                                         'body': {'sldValue': '<RasterSymbolizer><ColorMap '\n",
      "                                                              'extended=\"false\" '\n",
      "                                                              'type=\"ramp\"><ColorMapEntry '\n",
      "                                                              'color=\"#000000\" '\n",
      "                                                              'label=\"None\" '\n",
      "                                                              'opacity=\"0\" '\n",
      "                                                              'quantity=\"1\" '\n",
      "                                                              '/><ColorMapEntry '\n",
      "                                                              'color=\"#f0f9e8\" '\n",
      "                                                              'label=\"&#8804;5\" '\n",
      "                                                              'quantity=\"500\" '\n",
      "                                                              '/><ColorMapEntry '\n",
      "                                                              'color=\"#bae4bc\" '\n",
      "                                                              'label=\"&#8804;10\" '\n",
      "                                                              'quantity=\"1000\" '\n",
      "                                                              '/><ColorMapEntry '\n",
      "                                                              'color=\"#7bccc4\" '\n",
      "                                                              'label=\"&#8804;15\" '\n",
      "                                                              'quantity=\"1500\" '\n",
      "                                                              '/><ColorMapEntry '\n",
      "                                                              'color=\"#43a2ca\" '\n",
      "                                                              'label=\"&#8804;20\" '\n",
      "                                                              'quantity=\"3000\" '\n",
      "                                                              '/></ColorMap></RasterSymbolizer>',\n",
      "                                                  'styleType': 'sld'},\n",
      "                                         'filterDates': ['2008-01-01',\n",
      "                                                         '2019-01-01'],\n",
      "                                         'isImageCollection': True,\n",
      "                                         'order': 2018,\n",
      "                                         'position': 'last',\n",
      "                                         'provider': 'gee'},\n",
      "                         'legendConfig': {},\n",
      "                         'name': 'test_agb 2018',\n",
      "                         'protected': False,\n",
      "                         'provider': 'gee',\n",
      "                         'published': True,\n",
      "                         'slug': 'test_agb-2018',\n",
      "                         'staticImageConfig': {},\n",
      "                         'updatedAt': '2018-04-13T13:05:07.529Z',\n",
      "                         'userId': '57a0aa1071e394dd32ffe137'},\n",
      "          'id': '2e61f834-8a52-4c33-9467-992c24a6c8ac',\n",
      "          'type': 'layer'}}\n"
     ]
    }
   ],
   "source": [
    "#Delete layers from dataset\n",
    "dataset_id = layer_ids[4].get('ds_id')\n",
    "layer_id = layer_ids[4].get('l_id')\n",
    "\n",
    "url = f'http://api.resourcewatch.org/dataset/{dataset_id}/layer/{layer_id}'\n",
    "\n",
    "headers = {'Authorization': 'Bearer ' + OAUTH, 'Content-Type': 'application/json', 'Cache-Control': 'no-cache'}\n",
    "\n",
    "r = requests.delete(url, headers=headers)\n",
    "print(r.url)\n",
    "\n",
    "pprint(r.json())"
   ]
  },
  {
   "cell_type": "code",
   "execution_count": 95,
   "metadata": {},
   "outputs": [
    {
     "name": "stdout",
     "output_type": "stream",
     "text": [
      "https://api.resourcewatch.org/v1/layer?app=gfw&page[size]=1000&hash=166081193827970039030795645085915148501\n"
     ]
    }
   ],
   "source": [
    "#Get layers\n",
    "hash = random.getrandbits(128)\n",
    "url = f'https://api.resourcewatch.org/v1/layer?app=gfw&page[size]=1000&hash={hash}'\n",
    "\n",
    "r = requests.get(url)\n",
    "print(r.url)\n",
    "\n",
    "layers = r.json().get('data',None)"
   ]
  },
  {
   "cell_type": "code",
   "execution_count": 96,
   "metadata": {},
   "outputs": [
    {
     "data": {
      "text/plain": [
       "8"
      ]
     },
     "execution_count": 96,
     "metadata": {},
     "output_type": "execute_result"
    }
   ],
   "source": [
    "len(layers)"
   ]
  },
  {
   "cell_type": "markdown",
   "metadata": {},
   "source": [
    "<a class=\"anchor\" id=\"post_vocab\"></a>\n",
    "\n",
    "# Creating a relationship between a Vocabulary and Dataset\n",
    "\n",
    "Here we are either adding a creating a relationship between a vocabulary's tags \n",
    "and a resource (dataset, layer, etc), or creating a new vocabulary of it doesn't exist already.\n",
    "\n",
    "You need to define:\n",
    "\n",
    "    - vocabulary_id (just a name to identify it by)\n",
    "    - its tags (an array of strings)\n",
    "    - application (which application the relationship will be valid for)\n",
    "    - dataset_id (which dataset is being associated)"
   ]
  },
  {
   "cell_type": "code",
   "execution_count": null,
   "metadata": {},
   "outputs": [],
   "source": [
    "# tags and app are defined in the payload.\n",
    "payload = {\n",
    "        \"tags\": [<tag1>, <tag2>...],\n",
    "        \"application\": \"gfw\"\n",
    "}\n",
    " \n",
    "# the vocabulary_id is defined in post the url\n",
    "url = f'https://api.resourcewatch.org/v1/dataset/{dataset_id}/vocabulary/{vocabulary_id}'\n",
    "\n",
    "headers = {'Authorization': 'Bearer ' + OAUTH, 'Content-Type': 'application/json'}\n",
    "r = requests.post(url, data=json.dumps(payload), headers=headers)\n",
    "r.json()"
   ]
  },
  {
   "cell_type": "markdown",
   "metadata": {},
   "source": [
    "e.g. `payload = {\"tags\": ['forestChange', 'deforestationAlerts'], \"application\": \"gfw\"}`\n",
    "    \n",
    "`url = 'https://api.resourcewatch.org/v1/dataset/e5aed7ff-b569-4918-887f-192d66fd95de/vocabulary/categoryTab'`\n",
    "\n",
    "response:\n",
    "\n",
    "```\n",
    "{'data': \n",
    "    [{\n",
    "       'attributes': {\n",
    "            'application': 'gfw',\n",
    "            'name': 'categoryTab',\n",
    "            'tags': ['forestChange', 'deforestationAlerts']\n",
    "       },\n",
    "       'id': 'categoryTab',\n",
    "       'type': 'vocabulary'\n",
    "    }]\n",
    "}```"
   ]
  },
  {
   "cell_type": "markdown",
   "metadata": {},
   "source": [
    "<a class=\"anchor\" id=\"put_vocab\"></a>\n",
    "\n",
    "# Updating a Vocabulary\n",
    "\n",
    "You may only update a vocabulary's tags - to rename a vocab id you must delete and recreate the existing\n",
    "vocab (see below)\n",
    "\n",
    "The payload must contain the new tags you wish to update AS WELL AS any existing tags you wish to retain!\n",
    "Updating a vocabulary's tags actually just overwrites the existing ones.\n",
    "\n",
    "It must also contain the application of the vocab being updated."
   ]
  },
  {
   "cell_type": "code",
   "execution_count": null,
   "metadata": {},
   "outputs": [],
   "source": [
    "payload = {\n",
    "        \"tags\": [<tag1>, <tag2>...],\n",
    "        \"application\": \"gfw\"\n",
    "}\n",
    "\n",
    "url = f'https://api.resourcewatch.org/v1/dataset/{dataset_id}/vocabulary/{vocabulary_id}'\n",
    "headers = {'Authorization': 'Bearer ' + OAUTH, 'Content-Type': 'application/json'}\n",
    "r = requests.patch(url, data=json.dumps(payload), headers=headers)"
   ]
  },
  {
   "cell_type": "markdown",
   "metadata": {},
   "source": [
    "<a class=\"anchor\" id=\"del_vocab\"></a>\n",
    "\n",
    "# Deleteing a relationship between a Vocabulary and Dataset\n",
    "\n",
    "You cannot delete a Vocabulary (forbidden!) but you can remove a relationship between any vocab and a resource (dataset/layer/etc)\n",
    "\n",
    "To do this you simply attack the delete end point with the dataset and vocab ids, as well as the application (since different applications may have the same vocab name)"
   ]
  },
  {
   "cell_type": "code",
   "execution_count": null,
   "metadata": {},
   "outputs": [],
   "source": [
    "url = f'http://api.resourcewatch.org/dataset/{dataset_id}/vocabulary/{vocabulary_id}?app=gfw'\n",
    "headers = {'Authorization': 'Bearer ' + OAUTH, 'Content-Type': 'application/json', 'Cache-Control': 'no-cache'}\n",
    "r = requests.delete(url, headers=headers)"
   ]
  },
  {
   "cell_type": "markdown",
   "metadata": {},
   "source": [
    "<a class=\"anchor\" id=\"post_meta\"></a>\n",
    "\n",
    "# Creating Metadata for a resource (dataset)\n",
    "\n",
    "Metadata is used to store info relataing to the resource. This can be application specific, so useful to use this as a place to store configs for the data.\n",
    "\n",
    "You need to define:\n",
    "\n",
    "    - language\n",
    "    - application (which application the relationship will be valid for)\n",
    "    - info (an object that can contain any info about the layer inside)\n",
    "    \n",
    "For our purposes we use the info object to define how the child layers will look and behave."
   ]
  },
  {
   "cell_type": "code",
   "execution_count": null,
   "metadata": {},
   "outputs": [],
   "source": [
    "dataset_id = '897ecc76-2308-4c51-aeb3-495de0bdca79'\n",
    "\n",
    "payload = {\n",
    "        \"application\": \"gfw\",\n",
    "        \"language\": \"en\",\n",
    "        \"info\": {\n",
    "            \"colour\": '#fe6598',\n",
    "            \"name\": \"Tree Cover Loss\",\n",
    "            \"description\": \"(annual, 30m, global, Hansen/UMD/Google/USGS/NASA)\",\n",
    "            \"isMultiLayer\": True,\n",
    "            \"isSelectorLayer\": False,\n",
    "            \"isLossLayer\": False\n",
    "        }\n",
    "}\n",
    "    \n",
    "url = f'https://api.resourcewatch.org/v1/dataset/{dataset_id}/metadata'\n",
    "headers = {'Authorization': 'Bearer ' + OAUTH, 'Content-Type': 'application/json'}\n",
    "r = requests.patch(url, data=json.dumps(payload), headers=headers)\n",
    "print(r.url)\n",
    "pprint(r.json())"
   ]
  },
  {
   "cell_type": "markdown",
   "metadata": {},
   "source": [
    "<a class=\"anchor\" id=\"post_meta\"></a>\n",
    "\n",
    "# Updating Metadata for a resource (dataset)\n",
    "\n",
    "To update metadata you must use the original payload and alter what you wish to be changed, whilst preserving what you want to keep (as with Vocabularies, updating a metadata instance deletes and replaces).\n",
    "\n",
    "To do this, use the same endpoint/paylaod and change teh post for patch request!"
   ]
  },
  {
   "cell_type": "code",
   "execution_count": null,
   "metadata": {},
   "outputs": [],
   "source": [
    "# Update Single Metadata\n",
    "\n",
    "\n",
    "dataset_id = '044f4af8-be72-4999-b7dd-13434fc4a394'\n",
    "\n",
    "payload = {\n",
    "        \"application\": \"gfw\",\n",
    "        \"language\": \"en\",\n",
    "        \"info\": {\n",
    "\n",
    "            \"colour\": \"#a0c746\",\n",
    "            \"name\": \"Tree Cover\",\n",
    "            \"description\": \"(2000/2000, Hansen/Google/USGS/NASA)\",\n",
    "            \"isLossLayer\": True\n",
    "            \n",
    "        }\n",
    "}\n",
    "    \n",
    "url = f'https://api.resourcewatch.org/v1/dataset/{dataset_id}/metadata'\n",
    "headers = {'Authorization': 'Bearer ' + OAUTH, 'Content-Type': 'application/json'}\n",
    "r = requests.patch(url, data=json.dumps(payload), headers=headers)\n",
    "print(r.url)\n",
    "pprint(r.json())"
   ]
  },
  {
   "cell_type": "code",
   "execution_count": null,
   "metadata": {},
   "outputs": [],
   "source": []
  }
 ],
 "metadata": {
  "kernelspec": {
   "display_name": "Python 3",
   "language": "python",
   "name": "python3"
  },
  "language_info": {
   "codemirror_mode": {
    "name": "ipython",
    "version": 3
   },
   "file_extension": ".py",
   "mimetype": "text/x-python",
   "name": "python",
   "nbconvert_exporter": "python",
   "pygments_lexer": "ipython3",
   "version": "3.7.4"
  }
 },
 "nbformat": 4,
 "nbformat_minor": 4
}
