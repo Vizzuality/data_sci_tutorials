{
 "cells": [
  {
   "cell_type": "markdown",
   "metadata": {},
   "source": [
    "# Adding new columns to the tables"
   ]
  },
  {
   "cell_type": "code",
   "execution_count": 75,
   "metadata": {},
   "outputs": [],
   "source": [
    "import numpy as np\n",
    "import pandas as pd\n",
    "import geopandas as gpd\n",
    "import matplotlib.pyplot as plt\n",
    "from carto.auth import APIKeyAuthClient\n",
    "from carto.sql import BatchSQLClient\n",
    "from carto.sql import SQLClient\n",
    "import requests\n",
    "import shapely.wkb \n",
    "from tqdm import tqdm\n",
    "\n",
    "%matplotlib inline"
   ]
  },
  {
   "cell_type": "markdown",
   "metadata": {},
   "source": [
    "## Read tables"
   ]
  },
  {
   "cell_type": "markdown",
   "metadata": {},
   "source": [
    "**Global facets table**"
   ]
  },
  {
   "cell_type": "code",
   "execution_count": 810,
   "metadata": {},
   "outputs": [],
   "source": [
    "path = '/Users/ikersanchez/Vizzuality/PROIEKTUAK/Half-Earth/work/data/'"
   ]
  },
  {
   "cell_type": "code",
   "execution_count": 813,
   "metadata": {},
   "outputs": [],
   "source": [
    "df = gpd.read_file(path+'global_facets_attr_pressures_vizz/global_facets_attr_pressures_vizz.shp')"
   ]
  },
  {
   "cell_type": "code",
   "execution_count": 816,
   "metadata": {},
   "outputs": [
    {
     "data": {
      "text/html": [
       "<div>\n",
       "<style scoped>\n",
       "    .dataframe tbody tr th:only-of-type {\n",
       "        vertical-align: middle;\n",
       "    }\n",
       "\n",
       "    .dataframe tbody tr th {\n",
       "        vertical-align: top;\n",
       "    }\n",
       "\n",
       "    .dataframe thead th {\n",
       "        text-align: right;\n",
       "    }\n",
       "</style>\n",
       "<table border=\"1\" class=\"dataframe\">\n",
       "  <thead>\n",
       "    <tr style=\"text-align: right;\">\n",
       "      <th></th>\n",
       "      <th>cell_id</th>\n",
       "      <th>taxa</th>\n",
       "      <th>sr</th>\n",
       "      <th>ave_rsr</th>\n",
       "      <th>sum_rsr</th>\n",
       "      <th>focal_spp</th>\n",
       "      <th>ave_rsr_pc</th>\n",
       "      <th>sum_rsr_pc</th>\n",
       "      <th>sr_pc</th>\n",
       "      <th>isisland</th>\n",
       "      <th>...</th>\n",
       "      <th>agricultur</th>\n",
       "      <th>rainfed</th>\n",
       "      <th>strict</th>\n",
       "      <th>conservati</th>\n",
       "      <th>biosphere</th>\n",
       "      <th>rank_sr</th>\n",
       "      <th>rank_rsr</th>\n",
       "      <th>rank_total</th>\n",
       "      <th>other</th>\n",
       "      <th>geometry</th>\n",
       "    </tr>\n",
       "  </thead>\n",
       "  <tbody>\n",
       "    <tr>\n",
       "      <th>0</th>\n",
       "      <td>26.25--112.25</td>\n",
       "      <td>fishes</td>\n",
       "      <td>2989.0</td>\n",
       "      <td>0.000256</td>\n",
       "      <td>0.763941</td>\n",
       "      <td>Hypomesus_olidus,Pholis_laeta,Mylocheilus_caur...</td>\n",
       "      <td>98.213758</td>\n",
       "      <td>99.774352</td>\n",
       "      <td>99.830067</td>\n",
       "      <td>0.0</td>\n",
       "      <td>...</td>\n",
       "      <td>0.0</td>\n",
       "      <td>0.0</td>\n",
       "      <td>0.0</td>\n",
       "      <td>0.0</td>\n",
       "      <td>0.0</td>\n",
       "      <td>0.998301</td>\n",
       "      <td>0.982138</td>\n",
       "      <td>0.990219</td>\n",
       "      <td>0.0</td>\n",
       "      <td>POLYGON ((-112 26, -112.25 26.0002148979084, -...</td>\n",
       "    </tr>\n",
       "    <tr>\n",
       "      <th>1</th>\n",
       "      <td>9.25-124.75</td>\n",
       "      <td>fishes</td>\n",
       "      <td>2989.0</td>\n",
       "      <td>0.000236</td>\n",
       "      <td>0.704408</td>\n",
       "      <td>Seriphus_politus,Typhlogobius_californiensis,C...</td>\n",
       "      <td>97.394739</td>\n",
       "      <td>99.570990</td>\n",
       "      <td>99.830067</td>\n",
       "      <td>0.0</td>\n",
       "      <td>...</td>\n",
       "      <td>0.0</td>\n",
       "      <td>0.0</td>\n",
       "      <td>1.2</td>\n",
       "      <td>0.0</td>\n",
       "      <td>0.0</td>\n",
       "      <td>0.998306</td>\n",
       "      <td>0.973948</td>\n",
       "      <td>0.986127</td>\n",
       "      <td>0.0</td>\n",
       "      <td>POLYGON ((125 9, 124.5 9, 124.5 9.5, 125 9.5, ...</td>\n",
       "    </tr>\n",
       "    <tr>\n",
       "      <th>2</th>\n",
       "      <td>33.75-133.75</td>\n",
       "      <td>fishes</td>\n",
       "      <td>2987.0</td>\n",
       "      <td>0.000220</td>\n",
       "      <td>0.656372</td>\n",
       "      <td>Pholis_laeta,Mylocheilus_caurinus,Liparis_call...</td>\n",
       "      <td>96.682694</td>\n",
       "      <td>99.329184</td>\n",
       "      <td>99.828396</td>\n",
       "      <td>0.0</td>\n",
       "      <td>...</td>\n",
       "      <td>0.0</td>\n",
       "      <td>0.0</td>\n",
       "      <td>0.0</td>\n",
       "      <td>0.0</td>\n",
       "      <td>0.0</td>\n",
       "      <td>0.998295</td>\n",
       "      <td>0.966827</td>\n",
       "      <td>0.982561</td>\n",
       "      <td>17.8</td>\n",
       "      <td>POLYGON ((134 33.5, 133.75 33.5002510300208, 1...</td>\n",
       "    </tr>\n",
       "    <tr>\n",
       "      <th>3</th>\n",
       "      <td>-1.75-134.25</td>\n",
       "      <td>fishes</td>\n",
       "      <td>2987.0</td>\n",
       "      <td>0.000223</td>\n",
       "      <td>0.665440</td>\n",
       "      <td>Ambassis_jacksoniensis,Vanacampus_margaritifer...</td>\n",
       "      <td>96.815297</td>\n",
       "      <td>99.377100</td>\n",
       "      <td>99.828396</td>\n",
       "      <td>0.0</td>\n",
       "      <td>...</td>\n",
       "      <td>0.0</td>\n",
       "      <td>0.0</td>\n",
       "      <td>42.0</td>\n",
       "      <td>0.0</td>\n",
       "      <td>0.0</td>\n",
       "      <td>0.998290</td>\n",
       "      <td>0.968153</td>\n",
       "      <td>0.983221</td>\n",
       "      <td>0.0</td>\n",
       "      <td>POLYGON ((134.5 -2, 134 -2, 134 -1.5, 134.5 -1...</td>\n",
       "    </tr>\n",
       "    <tr>\n",
       "      <th>4</th>\n",
       "      <td>-17.25-178.25</td>\n",
       "      <td>fishes</td>\n",
       "      <td>2987.0</td>\n",
       "      <td>0.000230</td>\n",
       "      <td>0.686238</td>\n",
       "      <td>Sprattus_muelleri,Colistium_guntheri,Trachinop...</td>\n",
       "      <td>97.118390</td>\n",
       "      <td>99.484074</td>\n",
       "      <td>99.828396</td>\n",
       "      <td>0.0</td>\n",
       "      <td>...</td>\n",
       "      <td>0.0</td>\n",
       "      <td>0.0</td>\n",
       "      <td>0.0</td>\n",
       "      <td>33.8</td>\n",
       "      <td>0.0</td>\n",
       "      <td>0.998284</td>\n",
       "      <td>0.971184</td>\n",
       "      <td>0.984734</td>\n",
       "      <td>0.0</td>\n",
       "      <td>POLYGON ((178.5 -17.5, 178.25 -17.500156419814...</td>\n",
       "    </tr>\n",
       "  </tbody>\n",
       "</table>\n",
       "<p>5 rows × 22 columns</p>\n",
       "</div>"
      ],
      "text/plain": [
       "         cell_id    taxa      sr   ave_rsr   sum_rsr  \\\n",
       "0  26.25--112.25  fishes  2989.0  0.000256  0.763941   \n",
       "1    9.25-124.75  fishes  2989.0  0.000236  0.704408   \n",
       "2   33.75-133.75  fishes  2987.0  0.000220  0.656372   \n",
       "3   -1.75-134.25  fishes  2987.0  0.000223  0.665440   \n",
       "4  -17.25-178.25  fishes  2987.0  0.000230  0.686238   \n",
       "\n",
       "                                           focal_spp  ave_rsr_pc  sum_rsr_pc  \\\n",
       "0  Hypomesus_olidus,Pholis_laeta,Mylocheilus_caur...   98.213758   99.774352   \n",
       "1  Seriphus_politus,Typhlogobius_californiensis,C...   97.394739   99.570990   \n",
       "2  Pholis_laeta,Mylocheilus_caurinus,Liparis_call...   96.682694   99.329184   \n",
       "3  Ambassis_jacksoniensis,Vanacampus_margaritifer...   96.815297   99.377100   \n",
       "4  Sprattus_muelleri,Colistium_guntheri,Trachinop...   97.118390   99.484074   \n",
       "\n",
       "       sr_pc  isisland                        ...                          \\\n",
       "0  99.830067       0.0                        ...                           \n",
       "1  99.830067       0.0                        ...                           \n",
       "2  99.828396       0.0                        ...                           \n",
       "3  99.828396       0.0                        ...                           \n",
       "4  99.828396       0.0                        ...                           \n",
       "\n",
       "   agricultur  rainfed  strict  conservati  biosphere   rank_sr  rank_rsr  \\\n",
       "0         0.0      0.0     0.0         0.0        0.0  0.998301  0.982138   \n",
       "1         0.0      0.0     1.2         0.0        0.0  0.998306  0.973948   \n",
       "2         0.0      0.0     0.0         0.0        0.0  0.998295  0.966827   \n",
       "3         0.0      0.0    42.0         0.0        0.0  0.998290  0.968153   \n",
       "4         0.0      0.0     0.0        33.8        0.0  0.998284  0.971184   \n",
       "\n",
       "   rank_total  other                                           geometry  \n",
       "0    0.990219    0.0  POLYGON ((-112 26, -112.25 26.0002148979084, -...  \n",
       "1    0.986127    0.0  POLYGON ((125 9, 124.5 9, 124.5 9.5, 125 9.5, ...  \n",
       "2    0.982561   17.8  POLYGON ((134 33.5, 133.75 33.5002510300208, 1...  \n",
       "3    0.983221    0.0  POLYGON ((134.5 -2, 134 -2, 134 -1.5, 134.5 -1...  \n",
       "4    0.984734    0.0  POLYGON ((178.5 -17.5, 178.25 -17.500156419814...  \n",
       "\n",
       "[5 rows x 22 columns]"
      ]
     },
     "execution_count": 816,
     "metadata": {},
     "output_type": "execute_result"
    }
   ],
   "source": [
    "df.head()"
   ]
  },
  {
   "cell_type": "markdown",
   "metadata": {},
   "source": [
    "**Terrestrial grid**"
   ]
  },
  {
   "cell_type": "code",
   "execution_count": 60,
   "metadata": {},
   "outputs": [],
   "source": [
    "account = 'half-earth'\n",
    "urlCarto = f\"https://{account}.carto.com/api/v2/sql\""
   ]
  },
  {
   "cell_type": "code",
   "execution_count": 929,
   "metadata": {},
   "outputs": [],
   "source": [
    "query =(\"SELECT cartodb_id, cell_id, the_geom FROM terrestrial_grid\")\n",
    "\n",
    "sql = {\"q\": query}\n",
    "r = requests.get(urlCarto, params=sql)\n",
    "\n",
    "data = r.json()\n",
    "\n",
    "terrestrial = gpd.GeoDataFrame(data.get(\"rows\"))\n",
    "# Change geometry from WKB to WKT format\n",
    "terrestrial['geometry'] = terrestrial.apply(lambda x: shapely.wkb.loads(x['the_geom'],hex=True), axis=1 )\n",
    "terrestrial.drop(columns='the_geom', inplace=True)\n",
    "terrestrial.sort_values(by=['cartodb_id'], inplace=True)"
   ]
  },
  {
   "cell_type": "markdown",
   "metadata": {},
   "source": [
    "**Marine grid**"
   ]
  },
  {
   "cell_type": "code",
   "execution_count": 930,
   "metadata": {},
   "outputs": [],
   "source": [
    "query =(\"SELECT cartodb_id, cell_id, the_geom FROM marine_grid\")\n",
    "\n",
    "sql = {\"q\": query}\n",
    "r = requests.get(urlCarto, params=sql)\n",
    "\n",
    "data = r.json()\n",
    "\n",
    "marine = gpd.GeoDataFrame(data.get(\"rows\"))\n",
    "# Change geometry from WKB to WKT format\n",
    "marine['geometry'] = marine.apply(lambda x: shapely.wkb.loads(x['the_geom'],hex=True), axis=1 )\n",
    "marine.drop(columns='the_geom', inplace=True)\n",
    "marine.sort_values(by=['cartodb_id'], inplace=True)"
   ]
  },
  {
   "cell_type": "markdown",
   "metadata": {},
   "source": [
    "**gadm36_countries**"
   ]
  },
  {
   "cell_type": "code",
   "execution_count": 755,
   "metadata": {},
   "outputs": [
    {
     "data": {
      "text/html": [
       "<div>\n",
       "<style scoped>\n",
       "    .dataframe tbody tr th:only-of-type {\n",
       "        vertical-align: middle;\n",
       "    }\n",
       "\n",
       "    .dataframe tbody tr th {\n",
       "        vertical-align: top;\n",
       "    }\n",
       "\n",
       "    .dataframe thead th {\n",
       "        text-align: right;\n",
       "    }\n",
       "</style>\n",
       "<table border=\"1\" class=\"dataframe\">\n",
       "  <thead>\n",
       "    <tr style=\"text-align: right;\">\n",
       "      <th></th>\n",
       "      <th>cartodb_id</th>\n",
       "      <th>name_engli</th>\n",
       "      <th>unregion1</th>\n",
       "      <th>geometry</th>\n",
       "    </tr>\n",
       "  </thead>\n",
       "  <tbody>\n",
       "    <tr>\n",
       "      <th>0</th>\n",
       "      <td>163</td>\n",
       "      <td>Norfolk Island</td>\n",
       "      <td>Australia and New Zealand</td>\n",
       "      <td>POLYGON ((167.9239654541017 -28.99528121948242...</td>\n",
       "    </tr>\n",
       "    <tr>\n",
       "      <th>1</th>\n",
       "      <td>164</td>\n",
       "      <td>Nigeria</td>\n",
       "      <td>Western Africa</td>\n",
       "      <td>(POLYGON ((6.21513891 4.30541611, 6.21791506 4...</td>\n",
       "    </tr>\n",
       "    <tr>\n",
       "      <th>2</th>\n",
       "      <td>103</td>\n",
       "      <td>Indonesia</td>\n",
       "      <td>South-Eastern Asia</td>\n",
       "      <td>(POLYGON ((121.84011078 -10.6252861, 121.79393...</td>\n",
       "    </tr>\n",
       "    <tr>\n",
       "      <th>3</th>\n",
       "      <td>104</td>\n",
       "      <td>Isle of Man</td>\n",
       "      <td>Western Europe</td>\n",
       "      <td>POLYGON ((-4.46003675 54.16624832, -4.6219449 ...</td>\n",
       "    </tr>\n",
       "    <tr>\n",
       "      <th>4</th>\n",
       "      <td>105</td>\n",
       "      <td>India</td>\n",
       "      <td>Southern Asia</td>\n",
       "      <td>(POLYGON ((93.77706146 6.88065004, 93.74194335...</td>\n",
       "    </tr>\n",
       "  </tbody>\n",
       "</table>\n",
       "</div>"
      ],
      "text/plain": [
       "   cartodb_id      name_engli                  unregion1  \\\n",
       "0         163  Norfolk Island  Australia and New Zealand   \n",
       "1         164         Nigeria             Western Africa   \n",
       "2         103       Indonesia         South-Eastern Asia   \n",
       "3         104     Isle of Man             Western Europe   \n",
       "4         105           India              Southern Asia   \n",
       "\n",
       "                                            geometry  \n",
       "0  POLYGON ((167.9239654541017 -28.99528121948242...  \n",
       "1  (POLYGON ((6.21513891 4.30541611, 6.21791506 4...  \n",
       "2  (POLYGON ((121.84011078 -10.6252861, 121.79393...  \n",
       "3  POLYGON ((-4.46003675 54.16624832, -4.6219449 ...  \n",
       "4  (POLYGON ((93.77706146 6.88065004, 93.74194335...  "
      ]
     },
     "execution_count": 755,
     "metadata": {},
     "output_type": "execute_result"
    }
   ],
   "source": [
    "gadm36 = gpd.read_file('/Users/ikersanchez/Vizzuality/DATA/gadm36_countries_simplified/gadm36_countries.shp')\n",
    "gadm36.head()"
   ]
  },
  {
   "cell_type": "code",
   "execution_count": 756,
   "metadata": {},
   "outputs": [],
   "source": [
    "gadm36.rename(columns={'unregion1':'name_1', 'name_engli':'name_2'}, inplace=True)"
   ]
  },
  {
   "cell_type": "markdown",
   "metadata": {},
   "source": [
    "**Ocean**"
   ]
  },
  {
   "cell_type": "code",
   "execution_count": 46,
   "metadata": {},
   "outputs": [
    {
     "data": {
      "text/html": [
       "<div>\n",
       "<style scoped>\n",
       "    .dataframe tbody tr th:only-of-type {\n",
       "        vertical-align: middle;\n",
       "    }\n",
       "\n",
       "    .dataframe tbody tr th {\n",
       "        vertical-align: top;\n",
       "    }\n",
       "\n",
       "    .dataframe thead th {\n",
       "        text-align: right;\n",
       "    }\n",
       "</style>\n",
       "<table border=\"1\" class=\"dataframe\">\n",
       "  <thead>\n",
       "    <tr style=\"text-align: right;\">\n",
       "      <th></th>\n",
       "      <th>featurecla</th>\n",
       "      <th>name</th>\n",
       "      <th>namealt</th>\n",
       "      <th>changed</th>\n",
       "      <th>note</th>\n",
       "      <th>name_fr</th>\n",
       "      <th>min_label</th>\n",
       "      <th>max_label</th>\n",
       "      <th>scalerank</th>\n",
       "      <th>label</th>\n",
       "      <th>...</th>\n",
       "      <th>name_pl</th>\n",
       "      <th>name_pt</th>\n",
       "      <th>name_ru</th>\n",
       "      <th>name_sv</th>\n",
       "      <th>name_tr</th>\n",
       "      <th>name_vi</th>\n",
       "      <th>name_zh</th>\n",
       "      <th>wdid_score</th>\n",
       "      <th>ne_id</th>\n",
       "      <th>geometry</th>\n",
       "    </tr>\n",
       "  </thead>\n",
       "  <tbody>\n",
       "    <tr>\n",
       "      <th>0</th>\n",
       "      <td>ocean</td>\n",
       "      <td>Arctic Ocean</td>\n",
       "      <td></td>\n",
       "      <td>Version 1.4</td>\n",
       "      <td></td>\n",
       "      <td>océan Arctique</td>\n",
       "      <td>1.0</td>\n",
       "      <td>6.5</td>\n",
       "      <td>0</td>\n",
       "      <td>ARCTIC OCEAN</td>\n",
       "      <td>...</td>\n",
       "      <td>Ocean Arktyczny</td>\n",
       "      <td>Oceano Ártico</td>\n",
       "      <td>Северный Ледовитый океан</td>\n",
       "      <td>Norra ishavet</td>\n",
       "      <td>Arktik Okyanusu</td>\n",
       "      <td>Bắc Băng Dương</td>\n",
       "      <td>北冰洋</td>\n",
       "      <td>5</td>\n",
       "      <td>1159115017</td>\n",
       "      <td>POLYGON ((179.527884556392 71.44018748644721, ...</td>\n",
       "    </tr>\n",
       "    <tr>\n",
       "      <th>1</th>\n",
       "      <td>ocean</td>\n",
       "      <td>SOUTHERN OCEAN</td>\n",
       "      <td></td>\n",
       "      <td>Version 1.4</td>\n",
       "      <td></td>\n",
       "      <td>océan Austral</td>\n",
       "      <td>1.0</td>\n",
       "      <td>6.5</td>\n",
       "      <td>0</td>\n",
       "      <td>SOUTHERN OCEAN</td>\n",
       "      <td>...</td>\n",
       "      <td>Ocean Południowy</td>\n",
       "      <td>Oceano Antártico</td>\n",
       "      <td>Южный океан</td>\n",
       "      <td>Antarktiska oceanen</td>\n",
       "      <td>Güney Okyanusu</td>\n",
       "      <td>Nam Đại Dương</td>\n",
       "      <td>南冰洋</td>\n",
       "      <td>4</td>\n",
       "      <td>1159115037</td>\n",
       "      <td>POLYGON ((-57.65469234885393 -61.9727544086176...</td>\n",
       "    </tr>\n",
       "    <tr>\n",
       "      <th>2</th>\n",
       "      <td>ocean</td>\n",
       "      <td>North Atlantic Ocean</td>\n",
       "      <td></td>\n",
       "      <td>Version 1.4</td>\n",
       "      <td></td>\n",
       "      <td>océan Atlantique</td>\n",
       "      <td>1.0</td>\n",
       "      <td>6.5</td>\n",
       "      <td>0</td>\n",
       "      <td>NORTH ATLANTIC OCEAN</td>\n",
       "      <td>...</td>\n",
       "      <td>Ocean Atlantycki</td>\n",
       "      <td>Oceano Atlântico</td>\n",
       "      <td>Атлантический океан</td>\n",
       "      <td>Atlanten</td>\n",
       "      <td>Atlas Okyanusu</td>\n",
       "      <td>Đại Tây Dương</td>\n",
       "      <td>大西洋</td>\n",
       "      <td>2</td>\n",
       "      <td>1159115057</td>\n",
       "      <td>POLYGON ((-24.02137061206562 64.87164785425954...</td>\n",
       "    </tr>\n",
       "    <tr>\n",
       "      <th>3</th>\n",
       "      <td>ocean</td>\n",
       "      <td>North Pacific Ocean</td>\n",
       "      <td></td>\n",
       "      <td>Version 1.4</td>\n",
       "      <td></td>\n",
       "      <td>océan Pacifique</td>\n",
       "      <td>1.0</td>\n",
       "      <td>6.5</td>\n",
       "      <td>0</td>\n",
       "      <td>NORTH PACIFIC OCEAN</td>\n",
       "      <td>...</td>\n",
       "      <td>Ocean Spokojny</td>\n",
       "      <td>Oceano Pacífico</td>\n",
       "      <td>Тихий океан</td>\n",
       "      <td>Stilla havet</td>\n",
       "      <td>Büyük Okyanus</td>\n",
       "      <td>Thái Bình Dương</td>\n",
       "      <td>太平洋</td>\n",
       "      <td>2</td>\n",
       "      <td>1159115079</td>\n",
       "      <td>(POLYGON ((179.9998970889459 50.98683645283667...</td>\n",
       "    </tr>\n",
       "    <tr>\n",
       "      <th>4</th>\n",
       "      <td>ocean</td>\n",
       "      <td>South Pacific Ocean</td>\n",
       "      <td></td>\n",
       "      <td>Version 1.4</td>\n",
       "      <td></td>\n",
       "      <td>océan Pacifique</td>\n",
       "      <td>1.0</td>\n",
       "      <td>6.5</td>\n",
       "      <td>0</td>\n",
       "      <td>SOUTH PACIFIC OCEAN</td>\n",
       "      <td>...</td>\n",
       "      <td>Ocean Spokojny</td>\n",
       "      <td>Oceano Pacífico</td>\n",
       "      <td>Тихий океан</td>\n",
       "      <td>Stilla havet</td>\n",
       "      <td>Büyük Okyanus</td>\n",
       "      <td>Thái Bình Dương</td>\n",
       "      <td>太平洋</td>\n",
       "      <td>2</td>\n",
       "      <td>1159115099</td>\n",
       "      <td>(POLYGON ((179.9998970889459 -60.5334624164245...</td>\n",
       "    </tr>\n",
       "  </tbody>\n",
       "</table>\n",
       "<p>5 rows × 34 columns</p>\n",
       "</div>"
      ],
      "text/plain": [
       "  featurecla                  name namealt      changed note  \\\n",
       "0      ocean          Arctic Ocean          Version 1.4        \n",
       "1      ocean        SOUTHERN OCEAN          Version 1.4        \n",
       "2      ocean  North Atlantic Ocean          Version 1.4        \n",
       "3      ocean   North Pacific Ocean          Version 1.4        \n",
       "4      ocean   South Pacific Ocean          Version 1.4        \n",
       "\n",
       "            name_fr  min_label  max_label  scalerank                 label  \\\n",
       "0    océan Arctique        1.0        6.5          0          ARCTIC OCEAN   \n",
       "1     océan Austral        1.0        6.5          0        SOUTHERN OCEAN   \n",
       "2  océan Atlantique        1.0        6.5          0  NORTH ATLANTIC OCEAN   \n",
       "3   océan Pacifique        1.0        6.5          0   NORTH PACIFIC OCEAN   \n",
       "4   océan Pacifique        1.0        6.5          0   SOUTH PACIFIC OCEAN   \n",
       "\n",
       "                         ...                                   name_pl  \\\n",
       "0                        ...                           Ocean Arktyczny   \n",
       "1                        ...                          Ocean Południowy   \n",
       "2                        ...                          Ocean Atlantycki   \n",
       "3                        ...                            Ocean Spokojny   \n",
       "4                        ...                            Ocean Spokojny   \n",
       "\n",
       "            name_pt                   name_ru              name_sv  \\\n",
       "0     Oceano Ártico  Северный Ледовитый океан        Norra ishavet   \n",
       "1  Oceano Antártico               Южный океан  Antarktiska oceanen   \n",
       "2  Oceano Atlântico       Атлантический океан             Atlanten   \n",
       "3   Oceano Pacífico               Тихий океан         Stilla havet   \n",
       "4   Oceano Pacífico               Тихий океан         Stilla havet   \n",
       "\n",
       "           name_tr          name_vi name_zh wdid_score       ne_id  \\\n",
       "0  Arktik Okyanusu   Bắc Băng Dương     北冰洋          5  1159115017   \n",
       "1   Güney Okyanusu    Nam Đại Dương     南冰洋          4  1159115037   \n",
       "2   Atlas Okyanusu    Đại Tây Dương     大西洋          2  1159115057   \n",
       "3    Büyük Okyanus  Thái Bình Dương     太平洋          2  1159115079   \n",
       "4    Büyük Okyanus  Thái Bình Dương     太平洋          2  1159115099   \n",
       "\n",
       "                                            geometry  \n",
       "0  POLYGON ((179.527884556392 71.44018748644721, ...  \n",
       "1  POLYGON ((-57.65469234885393 -61.9727544086176...  \n",
       "2  POLYGON ((-24.02137061206562 64.87164785425954...  \n",
       "3  (POLYGON ((179.9998970889459 50.98683645283667...  \n",
       "4  (POLYGON ((179.9998970889459 -60.5334624164245...  \n",
       "\n",
       "[5 rows x 34 columns]"
      ]
     },
     "execution_count": 46,
     "metadata": {},
     "output_type": "execute_result"
    }
   ],
   "source": [
    "ocean = gpd.read_file('/Users/ikersanchez/Vizzuality/DATA/ne_10m_geography_marine_polys/ne_10m_geography_marine_polys.shp')\n",
    "ocean.head()"
   ]
  },
  {
   "cell_type": "code",
   "execution_count": 70,
   "metadata": {},
   "outputs": [
    {
     "name": "stderr",
     "output_type": "stream",
     "text": [
      "/anaconda3/lib/python3.6/site-packages/pandas/core/frame.py:3781: SettingWithCopyWarning: \n",
      "A value is trying to be set on a copy of a slice from a DataFrame\n",
      "\n",
      "See the caveats in the documentation: http://pandas.pydata.org/pandas-docs/stable/indexing.html#indexing-view-versus-copy\n",
      "  return super(DataFrame, self).rename(**kwargs)\n"
     ]
    }
   ],
   "source": [
    "ocean = ocean[['featurecla','name_en','geometry']]\n",
    "ocean.rename(columns={'featurecla':'name_1', 'name_en':'name_2'}, inplace=True)"
   ]
  },
  {
   "cell_type": "code",
   "execution_count": 72,
   "metadata": {},
   "outputs": [
    {
     "data": {
      "text/plain": [
       "array(['ocean', 'sea', 'bay', 'gulf', 'strait', 'channel', 'sound',\n",
       "       'reef', 'fjord', 'lagoon', 'generic', 'inlet', 'river'],\n",
       "      dtype=object)"
      ]
     },
     "execution_count": 72,
     "metadata": {},
     "output_type": "execute_result"
    }
   ],
   "source": [
    "ocean['name_1'].unique()"
   ]
  },
  {
   "cell_type": "markdown",
   "metadata": {},
   "source": [
    "**Hummingbirds**"
   ]
  },
  {
   "cell_type": "code",
   "execution_count": 579,
   "metadata": {},
   "outputs": [
    {
     "data": {
      "text/html": [
       "<div>\n",
       "<style scoped>\n",
       "    .dataframe tbody tr th:only-of-type {\n",
       "        vertical-align: middle;\n",
       "    }\n",
       "\n",
       "    .dataframe tbody tr th {\n",
       "        vertical-align: top;\n",
       "    }\n",
       "\n",
       "    .dataframe thead th {\n",
       "        text-align: right;\n",
       "    }\n",
       "</style>\n",
       "<table border=\"1\" class=\"dataframe\">\n",
       "  <thead>\n",
       "    <tr style=\"text-align: right;\">\n",
       "      <th></th>\n",
       "      <th>geometry</th>\n",
       "    </tr>\n",
       "  </thead>\n",
       "  <tbody>\n",
       "    <tr>\n",
       "      <th>0</th>\n",
       "      <td>POLYGON ((-76.46484375 -48.22467264956519, -73...</td>\n",
       "    </tr>\n",
       "  </tbody>\n",
       "</table>\n",
       "</div>"
      ],
      "text/plain": [
       "                                            geometry\n",
       "0  POLYGON ((-76.46484375 -48.22467264956519, -73..."
      ]
     },
     "execution_count": 579,
     "metadata": {},
     "output_type": "execute_result"
    }
   ],
   "source": [
    "hummingbirds = gpd.read_file(path+'Hummingbirds/POLYGON.shp')\n",
    "hummingbirds.head()"
   ]
  },
  {
   "cell_type": "markdown",
   "metadata": {},
   "source": [
    "**South Africa**"
   ]
  },
  {
   "cell_type": "code",
   "execution_count": 581,
   "metadata": {},
   "outputs": [
    {
     "data": {
      "text/html": [
       "<div>\n",
       "<style scoped>\n",
       "    .dataframe tbody tr th:only-of-type {\n",
       "        vertical-align: middle;\n",
       "    }\n",
       "\n",
       "    .dataframe tbody tr th {\n",
       "        vertical-align: top;\n",
       "    }\n",
       "\n",
       "    .dataframe thead th {\n",
       "        text-align: right;\n",
       "    }\n",
       "</style>\n",
       "<table border=\"1\" class=\"dataframe\">\n",
       "  <thead>\n",
       "    <tr style=\"text-align: right;\">\n",
       "      <th></th>\n",
       "      <th>geometry</th>\n",
       "    </tr>\n",
       "  </thead>\n",
       "  <tbody>\n",
       "    <tr>\n",
       "      <th>0</th>\n",
       "      <td>POLYGON ((17.16064453125 -35.02999636902566, 3...</td>\n",
       "    </tr>\n",
       "  </tbody>\n",
       "</table>\n",
       "</div>"
      ],
      "text/plain": [
       "                                            geometry\n",
       "0  POLYGON ((17.16064453125 -35.02999636902566, 3..."
      ]
     },
     "execution_count": 581,
     "metadata": {},
     "output_type": "execute_result"
    }
   ],
   "source": [
    "southafrica = gpd.read_file(path+'SouthAfrica/POLYGON.shp')\n",
    "southafrica.head()"
   ]
  },
  {
   "cell_type": "markdown",
   "metadata": {},
   "source": [
    "## Rarity and Richness ranks \n",
    "\n",
    "We build Rarity and Richness ranks"
   ]
  },
  {
   "cell_type": "code",
   "execution_count": 10,
   "metadata": {},
   "outputs": [
    {
     "data": {
      "text/plain": [
       "array(['fishes', 'birds', 'mammals', 'amphibians', 'cacti', 'conifers',\n",
       "       'turtles', 'all'], dtype=object)"
      ]
     },
     "execution_count": 10,
     "metadata": {},
     "output_type": "execute_result"
    }
   ],
   "source": [
    "df['taxa'].unique()"
   ]
  },
  {
   "cell_type": "code",
   "execution_count": 17,
   "metadata": {},
   "outputs": [
    {
     "name": "stdout",
     "output_type": "stream",
     "text": [
      "fishes\n",
      "birds\n",
      "mammals\n",
      "amphibians\n",
      "cacti\n",
      "conifers\n",
      "turtles\n",
      "all\n"
     ]
    }
   ],
   "source": [
    "taxa_array = ['fishes', 'birds', 'mammals', 'amphibians', 'cacti', 'conifers', 'turtles', 'all']\n",
    "rank_all = pd.DataFrame(columns = ['cell_id', 'rank_sr', 'rank_rsr', 'rank_total', 'taxa'])\n",
    "for taxa in taxa_array:\n",
    "    print(taxa)\n",
    "    \n",
    "    rank = df[df['taxa'] == taxa][['cell_id', 'sr', 'ave_rsr']]\n",
    "    n = len(rank)\n",
    "    \n",
    "    rank = rank.sort_values(by='sr')\n",
    "    rank['rank_sr'] = np.arange(1,n+1,1)/n\n",
    "\n",
    "    rank = rank.sort_values(by='ave_rsr')\n",
    "    rank['rank_rsr'] = np.arange(1,n+1,1)/n\n",
    "    \n",
    "    rank = rank.sort_values(by='cell_id')\n",
    "    rank['rank_total'] = rank.apply(lambda x: (x['rank_sr']+ x['rank_rsr'])/2., axis=1)\n",
    "    \n",
    "    rank = rank[['cell_id', 'rank_sr', 'rank_rsr', 'rank_total']]\n",
    "    rank['taxa'] = taxa\n",
    "    \n",
    "    rank_all = pd.concat([rank_all,rank])"
   ]
  },
  {
   "cell_type": "code",
   "execution_count": 19,
   "metadata": {},
   "outputs": [
    {
     "data": {
      "text/html": [
       "<div>\n",
       "<style scoped>\n",
       "    .dataframe tbody tr th:only-of-type {\n",
       "        vertical-align: middle;\n",
       "    }\n",
       "\n",
       "    .dataframe tbody tr th {\n",
       "        vertical-align: top;\n",
       "    }\n",
       "\n",
       "    .dataframe thead th {\n",
       "        text-align: right;\n",
       "    }\n",
       "</style>\n",
       "<table border=\"1\" class=\"dataframe\">\n",
       "  <thead>\n",
       "    <tr style=\"text-align: right;\">\n",
       "      <th></th>\n",
       "      <th>cell_id</th>\n",
       "      <th>taxa</th>\n",
       "      <th>sr</th>\n",
       "      <th>ave_rsr</th>\n",
       "      <th>sum_rsr</th>\n",
       "      <th>focal_spp</th>\n",
       "      <th>ave_rsr_pc</th>\n",
       "      <th>sum_rsr_pc</th>\n",
       "      <th>sr_pc</th>\n",
       "      <th>isisland</th>\n",
       "      <th>...</th>\n",
       "      <th>agricultur</th>\n",
       "      <th>rainfed</th>\n",
       "      <th>strict</th>\n",
       "      <th>conservati</th>\n",
       "      <th>biosphere</th>\n",
       "      <th>other</th>\n",
       "      <th>geometry</th>\n",
       "      <th>rank_sr</th>\n",
       "      <th>rank_rsr</th>\n",
       "      <th>rank_total</th>\n",
       "    </tr>\n",
       "  </thead>\n",
       "  <tbody>\n",
       "    <tr>\n",
       "      <th>0</th>\n",
       "      <td>26.25--112.25</td>\n",
       "      <td>fishes</td>\n",
       "      <td>2989.0</td>\n",
       "      <td>0.000256</td>\n",
       "      <td>0.763941</td>\n",
       "      <td>Hypomesus_olidus,Pholis_laeta,Mylocheilus_caur...</td>\n",
       "      <td>98.213758</td>\n",
       "      <td>99.774352</td>\n",
       "      <td>99.830067</td>\n",
       "      <td>0.0</td>\n",
       "      <td>...</td>\n",
       "      <td>0.0</td>\n",
       "      <td>0.0</td>\n",
       "      <td>0.0</td>\n",
       "      <td>0.0</td>\n",
       "      <td>0.0</td>\n",
       "      <td>0.0</td>\n",
       "      <td>POLYGON ((-112 26, -112.25 26.0002148979084, -...</td>\n",
       "      <td>0.998301</td>\n",
       "      <td>0.982138</td>\n",
       "      <td>0.990219</td>\n",
       "    </tr>\n",
       "    <tr>\n",
       "      <th>1</th>\n",
       "      <td>9.25-124.75</td>\n",
       "      <td>fishes</td>\n",
       "      <td>2989.0</td>\n",
       "      <td>0.000236</td>\n",
       "      <td>0.704408</td>\n",
       "      <td>Seriphus_politus,Typhlogobius_californiensis,C...</td>\n",
       "      <td>97.394739</td>\n",
       "      <td>99.570990</td>\n",
       "      <td>99.830067</td>\n",
       "      <td>0.0</td>\n",
       "      <td>...</td>\n",
       "      <td>0.0</td>\n",
       "      <td>0.0</td>\n",
       "      <td>1.2</td>\n",
       "      <td>0.0</td>\n",
       "      <td>0.0</td>\n",
       "      <td>0.0</td>\n",
       "      <td>POLYGON ((125 9, 124.5 9, 124.5 9.5, 125 9.5, ...</td>\n",
       "      <td>0.998306</td>\n",
       "      <td>0.973948</td>\n",
       "      <td>0.986127</td>\n",
       "    </tr>\n",
       "    <tr>\n",
       "      <th>2</th>\n",
       "      <td>33.75-133.75</td>\n",
       "      <td>fishes</td>\n",
       "      <td>2987.0</td>\n",
       "      <td>0.000220</td>\n",
       "      <td>0.656372</td>\n",
       "      <td>Pholis_laeta,Mylocheilus_caurinus,Liparis_call...</td>\n",
       "      <td>96.682694</td>\n",
       "      <td>99.329184</td>\n",
       "      <td>99.828396</td>\n",
       "      <td>0.0</td>\n",
       "      <td>...</td>\n",
       "      <td>0.0</td>\n",
       "      <td>0.0</td>\n",
       "      <td>0.0</td>\n",
       "      <td>0.0</td>\n",
       "      <td>0.0</td>\n",
       "      <td>17.8</td>\n",
       "      <td>POLYGON ((134 33.5, 133.75 33.5002510300208, 1...</td>\n",
       "      <td>0.998295</td>\n",
       "      <td>0.966827</td>\n",
       "      <td>0.982561</td>\n",
       "    </tr>\n",
       "    <tr>\n",
       "      <th>3</th>\n",
       "      <td>-1.75-134.25</td>\n",
       "      <td>fishes</td>\n",
       "      <td>2987.0</td>\n",
       "      <td>0.000223</td>\n",
       "      <td>0.665440</td>\n",
       "      <td>Ambassis_jacksoniensis,Vanacampus_margaritifer...</td>\n",
       "      <td>96.815297</td>\n",
       "      <td>99.377100</td>\n",
       "      <td>99.828396</td>\n",
       "      <td>0.0</td>\n",
       "      <td>...</td>\n",
       "      <td>0.0</td>\n",
       "      <td>0.0</td>\n",
       "      <td>42.0</td>\n",
       "      <td>0.0</td>\n",
       "      <td>0.0</td>\n",
       "      <td>0.0</td>\n",
       "      <td>POLYGON ((134.5 -2, 134 -2, 134 -1.5, 134.5 -1...</td>\n",
       "      <td>0.998290</td>\n",
       "      <td>0.968153</td>\n",
       "      <td>0.983221</td>\n",
       "    </tr>\n",
       "    <tr>\n",
       "      <th>4</th>\n",
       "      <td>-17.25-178.25</td>\n",
       "      <td>fishes</td>\n",
       "      <td>2987.0</td>\n",
       "      <td>0.000230</td>\n",
       "      <td>0.686238</td>\n",
       "      <td>Sprattus_muelleri,Colistium_guntheri,Trachinop...</td>\n",
       "      <td>97.118390</td>\n",
       "      <td>99.484074</td>\n",
       "      <td>99.828396</td>\n",
       "      <td>0.0</td>\n",
       "      <td>...</td>\n",
       "      <td>0.0</td>\n",
       "      <td>0.0</td>\n",
       "      <td>0.0</td>\n",
       "      <td>33.8</td>\n",
       "      <td>0.0</td>\n",
       "      <td>0.0</td>\n",
       "      <td>POLYGON ((178.5 -17.5, 178.25 -17.500156419814...</td>\n",
       "      <td>0.998284</td>\n",
       "      <td>0.971184</td>\n",
       "      <td>0.984734</td>\n",
       "    </tr>\n",
       "  </tbody>\n",
       "</table>\n",
       "<p>5 rows × 22 columns</p>\n",
       "</div>"
      ],
      "text/plain": [
       "         cell_id    taxa      sr   ave_rsr   sum_rsr  \\\n",
       "0  26.25--112.25  fishes  2989.0  0.000256  0.763941   \n",
       "1    9.25-124.75  fishes  2989.0  0.000236  0.704408   \n",
       "2   33.75-133.75  fishes  2987.0  0.000220  0.656372   \n",
       "3   -1.75-134.25  fishes  2987.0  0.000223  0.665440   \n",
       "4  -17.25-178.25  fishes  2987.0  0.000230  0.686238   \n",
       "\n",
       "                                           focal_spp  ave_rsr_pc  sum_rsr_pc  \\\n",
       "0  Hypomesus_olidus,Pholis_laeta,Mylocheilus_caur...   98.213758   99.774352   \n",
       "1  Seriphus_politus,Typhlogobius_californiensis,C...   97.394739   99.570990   \n",
       "2  Pholis_laeta,Mylocheilus_caurinus,Liparis_call...   96.682694   99.329184   \n",
       "3  Ambassis_jacksoniensis,Vanacampus_margaritifer...   96.815297   99.377100   \n",
       "4  Sprattus_muelleri,Colistium_guntheri,Trachinop...   97.118390   99.484074   \n",
       "\n",
       "       sr_pc  isisland     ...      agricultur  rainfed  strict  conservati  \\\n",
       "0  99.830067       0.0     ...             0.0      0.0     0.0         0.0   \n",
       "1  99.830067       0.0     ...             0.0      0.0     1.2         0.0   \n",
       "2  99.828396       0.0     ...             0.0      0.0     0.0         0.0   \n",
       "3  99.828396       0.0     ...             0.0      0.0    42.0         0.0   \n",
       "4  99.828396       0.0     ...             0.0      0.0     0.0        33.8   \n",
       "\n",
       "   biosphere  other                                           geometry  \\\n",
       "0        0.0    0.0  POLYGON ((-112 26, -112.25 26.0002148979084, -...   \n",
       "1        0.0    0.0  POLYGON ((125 9, 124.5 9, 124.5 9.5, 125 9.5, ...   \n",
       "2        0.0   17.8  POLYGON ((134 33.5, 133.75 33.5002510300208, 1...   \n",
       "3        0.0    0.0  POLYGON ((134.5 -2, 134 -2, 134 -1.5, 134.5 -1...   \n",
       "4        0.0    0.0  POLYGON ((178.5 -17.5, 178.25 -17.500156419814...   \n",
       "\n",
       "    rank_sr  rank_rsr  rank_total  \n",
       "0  0.998301  0.982138    0.990219  \n",
       "1  0.998306  0.973948    0.986127  \n",
       "2  0.998295  0.966827    0.982561  \n",
       "3  0.998290  0.968153    0.983221  \n",
       "4  0.998284  0.971184    0.984734  \n",
       "\n",
       "[5 rows x 22 columns]"
      ]
     },
     "execution_count": 19,
     "metadata": {},
     "output_type": "execute_result"
    }
   ],
   "source": [
    "df_new = pd.merge(df, rank_all, how='left', on=['cell_id', 'taxa'])\n",
    "df_new.head()"
   ]
  },
  {
   "cell_type": "markdown",
   "metadata": {},
   "source": [
    "Save table"
   ]
  },
  {
   "cell_type": "code",
   "execution_count": 20,
   "metadata": {},
   "outputs": [],
   "source": [
    "df_new.to_file(path+'global_facets_attr_pressures_vizz/global_facets_attr_pressures_vizz.shp')"
   ]
  },
  {
   "cell_type": "markdown",
   "metadata": {},
   "source": [
    "## 5 binds histogram values\n",
    "\n",
    "We build 5 binds histograms for Rarity and Richness"
   ]
  },
  {
   "cell_type": "markdown",
   "metadata": {},
   "source": [
    "**ave_rsr buckets**"
   ]
  },
  {
   "cell_type": "markdown",
   "metadata": {},
   "source": [
    "```sql\n",
    "SELECT taxa, CDB_JenksBins(array_agg(ave_rsr::numeric),5) as ave_rsr_bucket \n",
    "FROM global_facets_attr_pressures_vizz\n",
    "WHERE isisland = 1 OR prop_land >= 0.3\n",
    "GROUP BY taxa\n",
    "UNION\n",
    "SELECT taxa, CDB_JenksBins(array_agg(ave_rsr::numeric),5) as ave_rsr_bucket \n",
    "FROM global_facets_attr_pressures_vizz\n",
    "WHERE taxa = 'fishes'\n",
    "GROUP BY taxa\n",
    "```"
   ]
  },
  {
   "cell_type": "markdown",
   "metadata": {},
   "source": [
    "**sr buckets**"
   ]
  },
  {
   "cell_type": "markdown",
   "metadata": {},
   "source": [
    "```sql\n",
    "SELECT taxa, CDB_JenksBins(array_agg(sr::numeric),5) as sr_bucket \n",
    "FROM global_facets_attr_pressures_vizz\n",
    "WHERE isisland = 1 OR prop_land >= 0.3\n",
    "GROUP BY taxa\n",
    "UNION\n",
    "SELECT taxa, CDB_JenksBins(array_agg(sr::numeric),5) as sr_bucket \n",
    "FROM global_facets_attr_pressures_vizz\n",
    "WHERE taxa = 'fishes'\n",
    "GROUP BY taxa\n",
    "```"
   ]
  },
  {
   "cell_type": "code",
   "execution_count": 22,
   "metadata": {},
   "outputs": [],
   "source": [
    "USR_BASE_URL = \"https://carto.mol.org/user/half-earth/\"\n",
    "auth_client = APIKeyAuthClient(api_key=\"742c956aae8c74b51b6c554733a3b440fb81cbfd\", base_url=USR_BASE_URL)\n",
    "sql = SQLClient(auth_client)\n",
    "data = sql.send(\"SELECT taxa, CDB_JenksBins(array_agg(ave_rsr::numeric),5) as ave_rsr_bucket FROM global_facets_attr_pressures_vizz\"\n",
    "                \" WHERE isisland = 1 OR prop_land >= 0.3\"\n",
    "                \" GROUP BY taxa\"\n",
    "                \" ORDER by taxa\"\n",
    "               )\n",
    "ave_rsr_buckets_ter = gpd.GeoDataFrame(data.get(\"rows\"))"
   ]
  },
  {
   "cell_type": "code",
   "execution_count": 23,
   "metadata": {},
   "outputs": [],
   "source": [
    "# Read binds from carto\n",
    "USR_BASE_URL = \"https://carto.mol.org/user/half-earth/\"\n",
    "auth_client = APIKeyAuthClient(api_key=\"742c956aae8c74b51b6c554733a3b440fb81cbfd\", base_url=USR_BASE_URL)\n",
    "sql = SQLClient(auth_client)\n",
    "data = sql.send(\"SELECT taxa, CDB_JenksBins(array_agg(ave_rsr::numeric),5) as ave_rsr_bucket FROM global_facets_attr_pressures_vizz\"\n",
    "                \" WHERE isisland = 1 OR prop_land >= 0.3\"\n",
    "                \" GROUP BY taxa\"\n",
    "                \" ORDER by taxa\"\n",
    "               )\n",
    "ave_rsr_buckets_ter = gpd.GeoDataFrame(data.get(\"rows\"))\n",
    "\n",
    "data = sql.send(\"SELECT taxa, CDB_JenksBins(array_agg(ave_rsr::numeric),5) as ave_rsr_bucket FROM global_facets_attr_pressures_vizz\"\n",
    "                \" WHERE taxa = 'fishes'\"\n",
    "                \" GROUP BY taxa\"\n",
    "               )\n",
    "ave_rsr_buckets_marine = gpd.GeoDataFrame(data.get(\"rows\"))\n",
    "\n",
    "ave_rsr_buckets = pd.concat([ave_rsr_buckets_ter, ave_rsr_buckets_marine])\n",
    "\n",
    "\n",
    "data = sql.send(\"SELECT taxa, CDB_JenksBins(array_agg(sr::numeric),5) as sr_bucket FROM global_facets_attr_pressures_vizz\"\n",
    "                \" WHERE isisland = 1 OR prop_land >= 0.3\"\n",
    "                \" GROUP BY taxa\"\n",
    "                \" ORDER by taxa\"\n",
    "               )\n",
    "sr_buckets_ter = gpd.GeoDataFrame(data.get(\"rows\"))\n",
    "\n",
    "data = sql.send(\"SELECT taxa, CDB_JenksBins(array_agg(sr::numeric),5) as sr_bucket FROM global_facets_attr_pressures_vizz\"\n",
    "                \" WHERE taxa = 'fishes'\"\n",
    "                \" GROUP BY taxa\"\n",
    "               )\n",
    "sr_buckets_marine = gpd.GeoDataFrame(data.get(\"rows\"))\n",
    "\n",
    "sr_buckets = pd.concat([sr_buckets_ter, sr_buckets_marine])"
   ]
  },
  {
   "cell_type": "code",
   "execution_count": 24,
   "metadata": {},
   "outputs": [],
   "source": [
    "taxa_array = ['fishes', 'birds', 'mammals', 'amphibians', 'cacti', 'conifers', 'turtles', 'all']\n",
    "hist_sr = {}\n",
    "for taxa in taxa_array:\n",
    "    bucket = sr_buckets[sr_buckets['taxa'] == taxa]['sr_bucket'].iloc[0]\n",
    "    df_taxa = df_new[df_new['taxa'] == taxa]\n",
    "    \n",
    "    bucket_sr = []\n",
    "    for i in range(len(bucket)):\n",
    "        if i == 0:\n",
    "            bucket_sr.append(df_taxa[(df_taxa['sr'] >= 0) & (df_taxa['sr'] < bucket[i])]['sr'].count())\n",
    "        else:\n",
    "            bucket_sr.append(df_taxa[(df_taxa['sr'] >= bucket[i-1]) & (df_taxa['sr'] < bucket[i])]['sr'].count())\n",
    "    \n",
    "    hist_sr[taxa+'_sr'] = bucket_sr\n",
    "    \n",
    "hist_ave_rsr = {}\n",
    "for taxa in taxa_array:\n",
    "    bucket = ave_rsr_buckets[ave_rsr_buckets['taxa'] == taxa]['ave_rsr_bucket'].iloc[0]\n",
    "    df_taxa = df_new[df_new['taxa'] == taxa]\n",
    "    \n",
    "    bucket_ave_rsr = []\n",
    "    for i in range(len(bucket)):\n",
    "        if i == 0:\n",
    "            bucket_ave_rsr.append(df_taxa[(df_taxa['ave_rsr'] >= 0) & (df_taxa['ave_rsr'] < bucket[i])]['ave_rsr'].count())\n",
    "        else:\n",
    "            bucket_ave_rsr.append(df_taxa[(df_taxa['ave_rsr'] >= bucket[i-1]) & (df_taxa['ave_rsr'] < bucket[i])]['ave_rsr'].count())\n",
    "    \n",
    "    hist_ave_rsr[taxa+'_ave_rsr'] = bucket_ave_rsr"
   ]
  },
  {
   "cell_type": "code",
   "execution_count": 25,
   "metadata": {},
   "outputs": [
    {
     "data": {
      "text/plain": [
       "{'all_sr': [31541, 3944, 3334, 1157, 399],\n",
       " 'amphibians_sr': [4019, 3362, 2598, 887, 333],\n",
       " 'birds_sr': [31467, 3908, 3342, 1147, 399],\n",
       " 'cacti_sr': [1097, 1070, 899, 323, 73],\n",
       " 'conifers_sr': [2434, 2551, 2007, 727, 237],\n",
       " 'fishes_sr': [65408, 50302, 43343, 14979, 5451],\n",
       " 'mammals_sr': [31062, 4194, 3363, 1192, 402],\n",
       " 'turtles_sr': [1883, 2918, 1705, 666, 276]}"
      ]
     },
     "execution_count": 25,
     "metadata": {},
     "output_type": "execute_result"
    }
   ],
   "source": [
    "hist_sr"
   ]
  },
  {
   "cell_type": "code",
   "execution_count": 26,
   "metadata": {},
   "outputs": [
    {
     "data": {
      "text/plain": [
       "{'all_ave_rsr': [31381, 3868, 3488, 1254, 384],\n",
       " 'amphibians_ave_rsr': [3959, 3099, 2839, 1013, 286],\n",
       " 'birds_ave_rsr': [30607, 4537, 3450, 1303, 366],\n",
       " 'cacti_ave_rsr': [1233, 966, 930, 322, 11],\n",
       " 'conifers_ave_rsr': [2834, 2241, 1926, 783, 171],\n",
       " 'fishes_ave_rsr': [65618, 50139, 43315, 14967, 5444],\n",
       " 'mammals_ave_rsr': [31477, 3799, 3351, 1217, 369],\n",
       " 'turtles_ave_rsr': [2627, 2064, 1836, 756, 165]}"
      ]
     },
     "execution_count": 26,
     "metadata": {},
     "output_type": "execute_result"
    }
   ],
   "source": [
    "hist_ave_rsr"
   ]
  },
  {
   "cell_type": "code",
   "execution_count": 29,
   "metadata": {},
   "outputs": [
    {
     "data": {
      "text/plain": [
       "[<matplotlib.lines.Line2D at 0x112012208>]"
      ]
     },
     "execution_count": 29,
     "metadata": {},
     "output_type": "execute_result"
    },
    {
     "data": {
      "image/png": "[encoded data removed]",
      "text/plain": [
       "<Figure size 432x288 with 1 Axes>"
      ]
     },
     "metadata": {},
     "output_type": "display_data"
    }
   ],
   "source": [
    "plt.step([0,1,2,3,4],hist_sr['amphibians_sr'])"
   ]
  },
  {
   "cell_type": "markdown",
   "metadata": {},
   "source": [
    "## Geocoiding cells"
   ]
  },
  {
   "cell_type": "markdown",
   "metadata": {},
   "source": [
    "We use geopandas’s R-tree spatial index to find which geocode matches with each grid cells"
   ]
  },
  {
   "cell_type": "code",
   "execution_count": 931,
   "metadata": {},
   "outputs": [],
   "source": [
    "def rtree_intersect(gdf, grid, grid_key):\n",
    "    cell_id = []\n",
    "    name = []\n",
    "    \n",
    "    sindex = gdf.sindex\n",
    "    # we iterate over the cells\n",
    "    for n, cell in enumerate(tqdm(grid.geometry, position=0)):\n",
    "        # regions that intersect with the cell\n",
    "        possible_matches_index = list(sindex.intersection(cell.bounds))\n",
    "        possible_matches = gdf.iloc[possible_matches_index]\n",
    "        # we increase the size of the cell until it touches a region\n",
    "        n1=0\n",
    "        while possible_matches.empty:\n",
    "            n1 += 1\n",
    "            possible_matches_index = list(sindex.intersection(cell.buffer(n1).bounds))\n",
    "            possible_matches = gdf.iloc[possible_matches_index]\n",
    "            \n",
    "        precise_matches = possible_matches[possible_matches.intersects(cell.buffer(n1))]\n",
    "        \n",
    "        # we increase the size of the cell until it touches a region or the buffer is smaller than 4 degrees\n",
    "        n2=0\n",
    "        while precise_matches.empty and (n2 < 10):\n",
    "            n2 += 1\n",
    "            precise_matches = possible_matches[possible_matches.intersects(cell.buffer(n2*0.2))]\n",
    "                \n",
    "        # if the cell touches more than one region we take the region with the biggest area inside the cell\n",
    "        if len(precise_matches) > 1:\n",
    "            # we compute the area inside the cell for each region\n",
    "            precise_matches['area'] = precise_matches.apply(lambda x: x['geometry'].intersection(cell.buffer(n1)).area, axis=1)\n",
    "            # we take the region with the biggest area inside the cell\n",
    "            precise_matches = precise_matches[precise_matches['area'] == precise_matches['area'].max()]\n",
    "                \n",
    "        # we save the cell_id and the region's names\n",
    "        cell_id.append(grid['cell_id'].iloc[n])\n",
    "        if grid_key == 'terrestrial':\n",
    "            if precise_matches.empty:\n",
    "                name.append(\"\")\n",
    "            else:\n",
    "                name.append(precise_matches['name_2'].iloc[0]+', '+precise_matches['name_1'].iloc[0])\n",
    "        else:\n",
    "            if precise_matches.empty:\n",
    "                name.append(\"\")\n",
    "            else:\n",
    "                name.append(precise_matches['name_2'].iloc[0])\n",
    "    return cell_id, name"
   ]
  },
  {
   "cell_type": "code",
   "execution_count": 932,
   "metadata": {},
   "outputs": [
    {
     "name": "stderr",
     "output_type": "stream",
     "text": [
      "  0%|          | 3/12670 [00:00<07:10, 29.43it/s]"
     ]
    },
    {
     "name": "stdout",
     "output_type": "stream",
     "text": [
      "For terrestrial grid\n"
     ]
    },
    {
     "name": "stderr",
     "output_type": "stream",
     "text": [
      "  1%|          | 85/12670 [00:01<03:58, 52.70it/s]/anaconda3/lib/python3.6/site-packages/ipykernel_launcher.py:29: SettingWithCopyWarning: \n",
      "A value is trying to be set on a copy of a slice from a DataFrame.\n",
      "Try using .loc[row_indexer,col_indexer] = value instead\n",
      "\n",
      "See the caveats in the documentation: http://pandas.pydata.org/pandas-docs/stable/indexing.html#indexing-view-versus-copy\n",
      "100%|██████████| 12670/12670 [34:55<00:00,  6.05it/s]\n",
      "  0%|          | 0/179484 [00:00<?, ?it/s]"
     ]
    },
    {
     "name": "stdout",
     "output_type": "stream",
     "text": [
      "For marine grid\n"
     ]
    },
    {
     "name": "stderr",
     "output_type": "stream",
     "text": [
      "100%|██████████| 179484/179484 [1:14:15<00:00,  1.82it/s]\n"
     ]
    }
   ],
   "source": [
    "# Dictionaries with the different grids and regions\n",
    "grids = {\"terrestrial\":terrestrial, \"marine\":marine, }\n",
    "regions = {\"land\":gadm36, \"ocean\":ocean}\n",
    "\n",
    "for grid_key in grids.keys():\n",
    "    print(f\"For {grid_key} grid\")\n",
    "    \n",
    "    if grid_key == 'terrestrial':\n",
    "        cell_id, name = rtree_intersect(regions['land'], grids[grid_key], grid_key)\n",
    "        locations = gpd.GeoDataFrame({'cell_id':cell_id, 'location':name})\n",
    "        terrestrial = pd.merge(grids[grid_key], locations, how='left', on=['cell_id'])\n",
    "    else:\n",
    "        cell_id, name = rtree_intersect(regions['ocean'], grids[grid_key], grid_key)\n",
    "        locations = gpd.GeoDataFrame({'cell_id':cell_id, 'location':name})\n",
    "        marine = pd.merge(grids[grid_key], locations, how='left', on=['cell_id'])\n"
   ]
  },
  {
   "cell_type": "code",
   "execution_count": 933,
   "metadata": {},
   "outputs": [
    {
     "data": {
      "text/html": [
       "<div>\n",
       "<style scoped>\n",
       "    .dataframe tbody tr th:only-of-type {\n",
       "        vertical-align: middle;\n",
       "    }\n",
       "\n",
       "    .dataframe tbody tr th {\n",
       "        vertical-align: top;\n",
       "    }\n",
       "\n",
       "    .dataframe thead th {\n",
       "        text-align: right;\n",
       "    }\n",
       "</style>\n",
       "<table border=\"1\" class=\"dataframe\">\n",
       "  <thead>\n",
       "    <tr style=\"text-align: right;\">\n",
       "      <th></th>\n",
       "      <th>cartodb_id</th>\n",
       "      <th>cell_id</th>\n",
       "      <th>geometry</th>\n",
       "      <th>location</th>\n",
       "    </tr>\n",
       "  </thead>\n",
       "  <tbody>\n",
       "    <tr>\n",
       "      <th>0</th>\n",
       "      <td>1</td>\n",
       "      <td>6.25-121.75</td>\n",
       "      <td>(POLYGON ((122 6, 121.5 6, 121.5 6.5, 122 6.5,...</td>\n",
       "      <td>Celebes Sea</td>\n",
       "    </tr>\n",
       "    <tr>\n",
       "      <th>1</th>\n",
       "      <td>2</td>\n",
       "      <td>7.25-151.75</td>\n",
       "      <td>(POLYGON ((152 7, 151.5 7, 151.5 7.49999999999...</td>\n",
       "      <td>Pacific Ocean</td>\n",
       "    </tr>\n",
       "    <tr>\n",
       "      <th>2</th>\n",
       "      <td>3</td>\n",
       "      <td>41.75-141.25</td>\n",
       "      <td>(POLYGON ((141.5 41.5, 141.25 41.5002706759897...</td>\n",
       "      <td>Uchiura Bay</td>\n",
       "    </tr>\n",
       "    <tr>\n",
       "      <th>3</th>\n",
       "      <td>4</td>\n",
       "      <td>-4.25-55.75</td>\n",
       "      <td>(POLYGON ((56 -4.5, 55.5 -4.5, 55.5 -4, 56 -4,...</td>\n",
       "      <td>Indian Ocean</td>\n",
       "    </tr>\n",
       "    <tr>\n",
       "      <th>4</th>\n",
       "      <td>5</td>\n",
       "      <td>-9.75-141.25</td>\n",
       "      <td>(POLYGON ((141.5 -9.999999999999998, 141.25 -1...</td>\n",
       "      <td>Arafura Sea</td>\n",
       "    </tr>\n",
       "  </tbody>\n",
       "</table>\n",
       "</div>"
      ],
      "text/plain": [
       "   cartodb_id       cell_id  \\\n",
       "0           1   6.25-121.75   \n",
       "1           2   7.25-151.75   \n",
       "2           3  41.75-141.25   \n",
       "3           4   -4.25-55.75   \n",
       "4           5  -9.75-141.25   \n",
       "\n",
       "                                            geometry       location  \n",
       "0  (POLYGON ((122 6, 121.5 6, 121.5 6.5, 122 6.5,...    Celebes Sea  \n",
       "1  (POLYGON ((152 7, 151.5 7, 151.5 7.49999999999...  Pacific Ocean  \n",
       "2  (POLYGON ((141.5 41.5, 141.25 41.5002706759897...    Uchiura Bay  \n",
       "3  (POLYGON ((56 -4.5, 55.5 -4.5, 55.5 -4, 56 -4,...   Indian Ocean  \n",
       "4  (POLYGON ((141.5 -9.999999999999998, 141.25 -1...    Arafura Sea  "
      ]
     },
     "execution_count": 933,
     "metadata": {},
     "output_type": "execute_result"
    }
   ],
   "source": [
    "marine.head()"
   ]
  },
  {
   "cell_type": "markdown",
   "metadata": {},
   "source": [
    "Save marine table"
   ]
  },
  {
   "cell_type": "code",
   "execution_count": 934,
   "metadata": {},
   "outputs": [],
   "source": [
    "marine.to_file(path+'marine_grid/marine_grid.shp')"
   ]
  },
  {
   "cell_type": "markdown",
   "metadata": {},
   "source": [
    "**Excample of an\n",
    "individual cells**"
   ]
  },
  {
   "cell_type": "code",
   "execution_count": 936,
   "metadata": {},
   "outputs": [],
   "source": [
    "grid = grids['terrestrial']\n",
    "region = regions['land']"
   ]
  },
  {
   "cell_type": "code",
   "execution_count": 953,
   "metadata": {},
   "outputs": [],
   "source": [
    "cell = terrestrial[terrestrial['cell_id'] == '11069'].geometry.iloc[0]"
   ]
  },
  {
   "cell_type": "code",
   "execution_count": 954,
   "metadata": {},
   "outputs": [],
   "source": [
    "sindex = region.sindex\n",
    "possible_matches_index = list(sindex.intersection(cell.bounds))\n",
    "possible_matches = region.iloc[possible_matches_index]\n",
    "precise_matches = possible_matches[possible_matches.intersects(cell)]"
   ]
  },
  {
   "cell_type": "code",
   "execution_count": 955,
   "metadata": {},
   "outputs": [
    {
     "data": {
      "text/html": [
       "<div>\n",
       "<style scoped>\n",
       "    .dataframe tbody tr th:only-of-type {\n",
       "        vertical-align: middle;\n",
       "    }\n",
       "\n",
       "    .dataframe tbody tr th {\n",
       "        vertical-align: top;\n",
       "    }\n",
       "\n",
       "    .dataframe thead th {\n",
       "        text-align: right;\n",
       "    }\n",
       "</style>\n",
       "<table border=\"1\" class=\"dataframe\">\n",
       "  <thead>\n",
       "    <tr style=\"text-align: right;\">\n",
       "      <th></th>\n",
       "      <th>cartodb_id</th>\n",
       "      <th>name_2</th>\n",
       "      <th>name_1</th>\n",
       "      <th>geometry</th>\n",
       "    </tr>\n",
       "  </thead>\n",
       "  <tbody>\n",
       "    <tr>\n",
       "      <th>4</th>\n",
       "      <td>105</td>\n",
       "      <td>India</td>\n",
       "      <td>Southern Asia</td>\n",
       "      <td>(POLYGON ((93.77706146 6.88065004, 93.74194335...</td>\n",
       "    </tr>\n",
       "    <tr>\n",
       "      <th>88</th>\n",
       "      <td>36</td>\n",
       "      <td>Bhutan</td>\n",
       "      <td>Southern Asia</td>\n",
       "      <td>POLYGON ((88.91945647999999 27.32769966, 88.97...</td>\n",
       "    </tr>\n",
       "    <tr>\n",
       "      <th>231</th>\n",
       "      <td>169</td>\n",
       "      <td>Nepal</td>\n",
       "      <td>Southern Asia</td>\n",
       "      <td>POLYGON ((81.01887512 30.23683739, 81.08478546...</td>\n",
       "    </tr>\n",
       "    <tr>\n",
       "      <th>66</th>\n",
       "      <td>44</td>\n",
       "      <td>China</td>\n",
       "      <td>Eastern Asia</td>\n",
       "      <td>(POLYGON ((109.72819519 18.31430626, 109.72041...</td>\n",
       "    </tr>\n",
       "    <tr>\n",
       "      <th>180</th>\n",
       "      <td>235</td>\n",
       "      <td>United States</td>\n",
       "      <td>Northern America</td>\n",
       "      <td>(POLYGON ((-154.99610901 19.33694458, -155.070...</td>\n",
       "    </tr>\n",
       "  </tbody>\n",
       "</table>\n",
       "</div>"
      ],
      "text/plain": [
       "     cartodb_id         name_2            name_1  \\\n",
       "4           105          India     Southern Asia   \n",
       "88           36         Bhutan     Southern Asia   \n",
       "231         169          Nepal     Southern Asia   \n",
       "66           44          China      Eastern Asia   \n",
       "180         235  United States  Northern America   \n",
       "\n",
       "                                              geometry  \n",
       "4    (POLYGON ((93.77706146 6.88065004, 93.74194335...  \n",
       "88   POLYGON ((88.91945647999999 27.32769966, 88.97...  \n",
       "231  POLYGON ((81.01887512 30.23683739, 81.08478546...  \n",
       "66   (POLYGON ((109.72819519 18.31430626, 109.72041...  \n",
       "180  (POLYGON ((-154.99610901 19.33694458, -155.070...  "
      ]
     },
     "execution_count": 955,
     "metadata": {},
     "output_type": "execute_result"
    }
   ],
   "source": [
    "possible_matches"
   ]
  },
  {
   "cell_type": "code",
   "execution_count": 956,
   "metadata": {},
   "outputs": [
    {
     "data": {
      "text/html": [
       "<div>\n",
       "<style scoped>\n",
       "    .dataframe tbody tr th:only-of-type {\n",
       "        vertical-align: middle;\n",
       "    }\n",
       "\n",
       "    .dataframe tbody tr th {\n",
       "        vertical-align: top;\n",
       "    }\n",
       "\n",
       "    .dataframe thead th {\n",
       "        text-align: right;\n",
       "    }\n",
       "</style>\n",
       "<table border=\"1\" class=\"dataframe\">\n",
       "  <thead>\n",
       "    <tr style=\"text-align: right;\">\n",
       "      <th></th>\n",
       "      <th>cartodb_id</th>\n",
       "      <th>name_2</th>\n",
       "      <th>name_1</th>\n",
       "      <th>geometry</th>\n",
       "    </tr>\n",
       "  </thead>\n",
       "  <tbody>\n",
       "    <tr>\n",
       "      <th>4</th>\n",
       "      <td>105</td>\n",
       "      <td>India</td>\n",
       "      <td>Southern Asia</td>\n",
       "      <td>(POLYGON ((93.77706146 6.88065004, 93.74194335...</td>\n",
       "    </tr>\n",
       "    <tr>\n",
       "      <th>88</th>\n",
       "      <td>36</td>\n",
       "      <td>Bhutan</td>\n",
       "      <td>Southern Asia</td>\n",
       "      <td>POLYGON ((88.91945647999999 27.32769966, 88.97...</td>\n",
       "    </tr>\n",
       "    <tr>\n",
       "      <th>231</th>\n",
       "      <td>169</td>\n",
       "      <td>Nepal</td>\n",
       "      <td>Southern Asia</td>\n",
       "      <td>POLYGON ((81.01887512 30.23683739, 81.08478546...</td>\n",
       "    </tr>\n",
       "    <tr>\n",
       "      <th>66</th>\n",
       "      <td>44</td>\n",
       "      <td>China</td>\n",
       "      <td>Eastern Asia</td>\n",
       "      <td>(POLYGON ((109.72819519 18.31430626, 109.72041...</td>\n",
       "    </tr>\n",
       "  </tbody>\n",
       "</table>\n",
       "</div>"
      ],
      "text/plain": [
       "     cartodb_id  name_2         name_1  \\\n",
       "4           105   India  Southern Asia   \n",
       "88           36  Bhutan  Southern Asia   \n",
       "231         169   Nepal  Southern Asia   \n",
       "66           44   China   Eastern Asia   \n",
       "\n",
       "                                              geometry  \n",
       "4    (POLYGON ((93.77706146 6.88065004, 93.74194335...  \n",
       "88   POLYGON ((88.91945647999999 27.32769966, 88.97...  \n",
       "231  POLYGON ((81.01887512 30.23683739, 81.08478546...  \n",
       "66   (POLYGON ((109.72819519 18.31430626, 109.72041...  "
      ]
     },
     "execution_count": 956,
     "metadata": {},
     "output_type": "execute_result"
    }
   ],
   "source": [
    "precise_matches"
   ]
  },
  {
   "cell_type": "code",
   "execution_count": 958,
   "metadata": {},
   "outputs": [
    {
     "name": "stderr",
     "output_type": "stream",
     "text": [
      "/anaconda3/lib/python3.6/site-packages/ipykernel_launcher.py:2: SettingWithCopyWarning: \n",
      "A value is trying to be set on a copy of a slice from a DataFrame.\n",
      "Try using .loc[row_indexer,col_indexer] = value instead\n",
      "\n",
      "See the caveats in the documentation: http://pandas.pydata.org/pandas-docs/stable/indexing.html#indexing-view-versus-copy\n",
      "  \n"
     ]
    }
   ],
   "source": [
    "# we compute the area inside the cell for each region\n",
    "precise_matches['area'] = precise_matches.apply(lambda x: x['geometry'].intersection(cell).area, axis=1)\n",
    "# we take the region with the biggest area inside the cell\n",
    "precise_matches = precise_matches[precise_matches['area'] == precise_matches['area'].max()]"
   ]
  },
  {
   "cell_type": "code",
   "execution_count": 959,
   "metadata": {},
   "outputs": [
    {
     "data": {
      "text/html": [
       "<div>\n",
       "<style scoped>\n",
       "    .dataframe tbody tr th:only-of-type {\n",
       "        vertical-align: middle;\n",
       "    }\n",
       "\n",
       "    .dataframe tbody tr th {\n",
       "        vertical-align: top;\n",
       "    }\n",
       "\n",
       "    .dataframe thead th {\n",
       "        text-align: right;\n",
       "    }\n",
       "</style>\n",
       "<table border=\"1\" class=\"dataframe\">\n",
       "  <thead>\n",
       "    <tr style=\"text-align: right;\">\n",
       "      <th></th>\n",
       "      <th>cartodb_id</th>\n",
       "      <th>name_2</th>\n",
       "      <th>name_1</th>\n",
       "      <th>geometry</th>\n",
       "      <th>area</th>\n",
       "    </tr>\n",
       "  </thead>\n",
       "  <tbody>\n",
       "    <tr>\n",
       "      <th>4</th>\n",
       "      <td>105</td>\n",
       "      <td>India</td>\n",
       "      <td>Southern Asia</td>\n",
       "      <td>(POLYGON ((93.77706146 6.88065004, 93.74194335...</td>\n",
       "      <td>0.877359</td>\n",
       "    </tr>\n",
       "  </tbody>\n",
       "</table>\n",
       "</div>"
      ],
      "text/plain": [
       "   cartodb_id name_2         name_1  \\\n",
       "4         105  India  Southern Asia   \n",
       "\n",
       "                                            geometry      area  \n",
       "4  (POLYGON ((93.77706146 6.88065004, 93.74194335...  0.877359  "
      ]
     },
     "execution_count": 959,
     "metadata": {},
     "output_type": "execute_result"
    }
   ],
   "source": [
    "precise_matches"
   ]
  },
  {
   "cell_type": "code",
   "execution_count": 964,
   "metadata": {},
   "outputs": [
    {
     "data": {
      "text/plain": [
       "(10, 50)"
      ]
     },
     "execution_count": 964,
     "metadata": {},
     "output_type": "execute_result"
    },
    {
     "data": {
      "image/png": "[encoded data removed]",
      "text/plain": [
       "<Figure size 720x720 with 1 Axes>"
      ]
     },
     "metadata": {},
     "output_type": "display_data"
    }
   ],
   "source": [
    "fig, ax = plt.subplots(figsize=[10,10])\n",
    "ax.set_aspect('equal')\n",
    "\n",
    "region.plot(ax=ax)\n",
    "possible_matches.plot(ax=ax,color='r')\n",
    "precise_matches.plot(ax=ax,color='g')\n",
    "gpd.GeoDataFrame({'geometry':cell}).plot(ax=ax,color='w', edgecolor='b', alpha=0.5)\n",
    "plt.xlim(70,110)\n",
    "plt.ylim(10,50)"
   ]
  },
  {
   "cell_type": "markdown",
   "metadata": {},
   "source": [
    "## Hummingbirds and South Africa features"
   ]
  },
  {
   "cell_type": "code",
   "execution_count": 965,
   "metadata": {},
   "outputs": [],
   "source": [
    "def rtree_intersect_polygon(gdf, polygon):\n",
    "    \n",
    "    polygon = polygon.geometry.iloc[0]\n",
    "    \n",
    "    sindex = gdf.sindex\n",
    "    # cells that intersect with the polygon\n",
    "    possible_matches_index = list(sindex.intersection(polygon.bounds))\n",
    "    possible_matches = gdf.iloc[possible_matches_index]\n",
    "    precise_matches = possible_matches[possible_matches.intersects(polygon)]\n",
    "        \n",
    "    return precise_matches"
   ]
  },
  {
   "cell_type": "code",
   "execution_count": 989,
   "metadata": {},
   "outputs": [],
   "source": [
    "# Hummingbirds\n",
    "terrestrial_hummingbirds = rtree_intersect_polygon(terrestrial, hummingbirds)                                                  \n",
    "terrestrial_hummingbirds['feature_data'] = 'hummingbirds'\n",
    "terrestrial_hummingbirds = terrestrial_hummingbirds[['cell_id','feature_data']]                                                   \n",
    "# South Africa\n",
    "terrestrial_southafrica = rtree_intersect_polygon(terrestrial, southafrica)\n",
    "terrestrial_southafrica['feature_data'] = 'south-africa'\n",
    "terrestrial_southafrica = terrestrial_southafrica[['cell_id','feature_data']]   \n",
    "                                                   \n",
    "terretrial_features = pd.concat([terrestrial_hummingbirds, terrestrial_southafrica])\n",
    "terrestrial_new = pd.merge(terrestrial, terretrial_features, how='left', on=['cell_id'])"
   ]
  },
  {
   "cell_type": "code",
   "execution_count": 991,
   "metadata": {},
   "outputs": [
    {
     "data": {
      "text/html": [
       "<div>\n",
       "<style scoped>\n",
       "    .dataframe tbody tr th:only-of-type {\n",
       "        vertical-align: middle;\n",
       "    }\n",
       "\n",
       "    .dataframe tbody tr th {\n",
       "        vertical-align: top;\n",
       "    }\n",
       "\n",
       "    .dataframe thead th {\n",
       "        text-align: right;\n",
       "    }\n",
       "</style>\n",
       "<table border=\"1\" class=\"dataframe\">\n",
       "  <thead>\n",
       "    <tr style=\"text-align: right;\">\n",
       "      <th></th>\n",
       "      <th>cartodb_id</th>\n",
       "      <th>cell_id</th>\n",
       "      <th>geometry</th>\n",
       "      <th>location</th>\n",
       "      <th>feature_data</th>\n",
       "    </tr>\n",
       "  </thead>\n",
       "  <tbody>\n",
       "    <tr>\n",
       "      <th>8005</th>\n",
       "      <td>8006</td>\n",
       "      <td>31159</td>\n",
       "      <td>(POLYGON ((18.9999994927078 -30.7509816806467,...</td>\n",
       "      <td>South Africa, Southern Africa</td>\n",
       "      <td>south-africa</td>\n",
       "    </tr>\n",
       "    <tr>\n",
       "      <th>8007</th>\n",
       "      <td>8008</td>\n",
       "      <td>31160</td>\n",
       "      <td>(POLYGON ((19.9999994901479 -30.7509816806467,...</td>\n",
       "      <td>South Africa, Southern Africa</td>\n",
       "      <td>south-africa</td>\n",
       "    </tr>\n",
       "    <tr>\n",
       "      <th>8008</th>\n",
       "      <td>8009</td>\n",
       "      <td>31161</td>\n",
       "      <td>(POLYGON ((20.999999487588 -30.7509816806467, ...</td>\n",
       "      <td>South Africa, Southern Africa</td>\n",
       "      <td>south-africa</td>\n",
       "    </tr>\n",
       "    <tr>\n",
       "      <th>8009</th>\n",
       "      <td>8010</td>\n",
       "      <td>31162</td>\n",
       "      <td>(POLYGON ((21.9999994850281 -30.7509816806467,...</td>\n",
       "      <td>South Africa, Southern Africa</td>\n",
       "      <td>south-africa</td>\n",
       "    </tr>\n",
       "    <tr>\n",
       "      <th>8010</th>\n",
       "      <td>8011</td>\n",
       "      <td>31163</td>\n",
       "      <td>(POLYGON ((22.9999994824682 -30.7509816806467,...</td>\n",
       "      <td>South Africa, Southern Africa</td>\n",
       "      <td>south-africa</td>\n",
       "    </tr>\n",
       "  </tbody>\n",
       "</table>\n",
       "</div>"
      ],
      "text/plain": [
       "      cartodb_id cell_id                                           geometry  \\\n",
       "8005        8006   31159  (POLYGON ((18.9999994927078 -30.7509816806467,...   \n",
       "8007        8008   31160  (POLYGON ((19.9999994901479 -30.7509816806467,...   \n",
       "8008        8009   31161  (POLYGON ((20.999999487588 -30.7509816806467, ...   \n",
       "8009        8010   31162  (POLYGON ((21.9999994850281 -30.7509816806467,...   \n",
       "8010        8011   31163  (POLYGON ((22.9999994824682 -30.7509816806467,...   \n",
       "\n",
       "                           location  feature_data  \n",
       "8005  South Africa, Southern Africa  south-africa  \n",
       "8007  South Africa, Southern Africa  south-africa  \n",
       "8008  South Africa, Southern Africa  south-africa  \n",
       "8009  South Africa, Southern Africa  south-africa  \n",
       "8010  South Africa, Southern Africa  south-africa  "
      ]
     },
     "execution_count": 991,
     "metadata": {},
     "output_type": "execute_result"
    }
   ],
   "source": [
    "terrestrial_new[terrestrial_new['feature_data'] == 'south-africa'].head()"
   ]
  },
  {
   "cell_type": "markdown",
   "metadata": {},
   "source": [
    "Remove Saint Helena, Western Africa"
   ]
  },
  {
   "cell_type": "code",
   "execution_count": 992,
   "metadata": {},
   "outputs": [],
   "source": [
    "terrestrial_new.loc[terrestrial_new['location'] == 'Saint Helena, Western Africa', 'location'] = \"\""
   ]
  },
  {
   "cell_type": "markdown",
   "metadata": {},
   "source": [
    "Save terrestrial table"
   ]
  },
  {
   "cell_type": "code",
   "execution_count": 993,
   "metadata": {},
   "outputs": [],
   "source": [
    "terrestrial_new.to_file(path+'terrestrial_grid/terrestrial_grid.shp')"
   ]
  },
  {
   "cell_type": "markdown",
   "metadata": {},
   "source": [
    "Figure showing the hummingbirds and South Africa cells"
   ]
  },
  {
   "cell_type": "code",
   "execution_count": 994,
   "metadata": {},
   "outputs": [
    {
     "data": {
      "text/plain": [
       "<matplotlib.axes._subplots.AxesSubplot at 0x12587a860>"
      ]
     },
     "execution_count": 994,
     "metadata": {},
     "output_type": "execute_result"
    },
    {
     "data": {
      "image/png": "[encoded data removed]",
      "text/plain": [
       "<Figure size 1440x1440 with 1 Axes>"
      ]
     },
     "metadata": {},
     "output_type": "display_data"
    }
   ],
   "source": [
    "fig, ax = plt.subplots(figsize=[20,20])\n",
    "ax.set_aspect('equal')\n",
    "\n",
    "hummingbirds.plot(ax=ax)\n",
    "southafrica.plot(ax=ax)\n",
    "terrestrial.plot(ax=ax,color='w', edgecolor='k', alpha=0.5)\n",
    "terrestrial_new[terrestrial_new['feature_data'] == 'hummingbirds'].plot(ax=ax,color='w', edgecolor='r', alpha=0.5)\n",
    "terrestrial_new[terrestrial_new['feature_data'] == 'south-africa'].plot(ax=ax,color='w', edgecolor='g', alpha=0.5)"
   ]
  },
  {
   "cell_type": "markdown",
   "metadata": {},
   "source": [
    "## Add location and feature_data columns to global facets table"
   ]
  },
  {
   "cell_type": "code",
   "execution_count": 995,
   "metadata": {},
   "outputs": [
    {
     "data": {
      "text/html": [
       "<div>\n",
       "<style scoped>\n",
       "    .dataframe tbody tr th:only-of-type {\n",
       "        vertical-align: middle;\n",
       "    }\n",
       "\n",
       "    .dataframe tbody tr th {\n",
       "        vertical-align: top;\n",
       "    }\n",
       "\n",
       "    .dataframe thead th {\n",
       "        text-align: right;\n",
       "    }\n",
       "</style>\n",
       "<table border=\"1\" class=\"dataframe\">\n",
       "  <thead>\n",
       "    <tr style=\"text-align: right;\">\n",
       "      <th></th>\n",
       "      <th>cartodb_id</th>\n",
       "      <th>cell_id</th>\n",
       "      <th>geometry</th>\n",
       "      <th>location</th>\n",
       "      <th>feature_data</th>\n",
       "    </tr>\n",
       "  </thead>\n",
       "  <tbody>\n",
       "    <tr>\n",
       "      <th>0</th>\n",
       "      <td>1</td>\n",
       "      <td>100</td>\n",
       "      <td>(POLYGON ((-80.00000025386289 77.3465165253908...</td>\n",
       "      <td>Canada, Northern America</td>\n",
       "      <td>NaN</td>\n",
       "    </tr>\n",
       "    <tr>\n",
       "      <th>1</th>\n",
       "      <td>2</td>\n",
       "      <td>1000</td>\n",
       "      <td>(POLYGON ((99.99999928535659 70.5845799262466,...</td>\n",
       "      <td>Russia, Eastern Europe</td>\n",
       "      <td>NaN</td>\n",
       "    </tr>\n",
       "    <tr>\n",
       "      <th>2</th>\n",
       "      <td>3</td>\n",
       "      <td>10000</td>\n",
       "      <td>(POLYGON ((99.99999928535659 31.2274296654427,...</td>\n",
       "      <td>China, Eastern Asia</td>\n",
       "      <td>NaN</td>\n",
       "    </tr>\n",
       "    <tr>\n",
       "      <th>3</th>\n",
       "      <td>4</td>\n",
       "      <td>10001</td>\n",
       "      <td>(POLYGON ((100.999999282797 31.2274296654427, ...</td>\n",
       "      <td>China, Eastern Asia</td>\n",
       "      <td>NaN</td>\n",
       "    </tr>\n",
       "    <tr>\n",
       "      <th>4</th>\n",
       "      <td>5</td>\n",
       "      <td>10002</td>\n",
       "      <td>(POLYGON ((101.999999280237 31.2274296654427, ...</td>\n",
       "      <td>China, Eastern Asia</td>\n",
       "      <td>NaN</td>\n",
       "    </tr>\n",
       "  </tbody>\n",
       "</table>\n",
       "</div>"
      ],
      "text/plain": [
       "   cartodb_id cell_id                                           geometry  \\\n",
       "0           1     100  (POLYGON ((-80.00000025386289 77.3465165253908...   \n",
       "1           2    1000  (POLYGON ((99.99999928535659 70.5845799262466,...   \n",
       "2           3   10000  (POLYGON ((99.99999928535659 31.2274296654427,...   \n",
       "3           4   10001  (POLYGON ((100.999999282797 31.2274296654427, ...   \n",
       "4           5   10002  (POLYGON ((101.999999280237 31.2274296654427, ...   \n",
       "\n",
       "                   location feature_data  \n",
       "0  Canada, Northern America          NaN  \n",
       "1    Russia, Eastern Europe          NaN  \n",
       "2       China, Eastern Asia          NaN  \n",
       "3       China, Eastern Asia          NaN  \n",
       "4       China, Eastern Asia          NaN  "
      ]
     },
     "execution_count": 995,
     "metadata": {},
     "output_type": "execute_result"
    }
   ],
   "source": [
    "terrestrial_new.head()"
   ]
  },
  {
   "cell_type": "code",
   "execution_count": 996,
   "metadata": {},
   "outputs": [],
   "source": [
    "marine['feature_data'] = \"\""
   ]
  },
  {
   "cell_type": "code",
   "execution_count": 997,
   "metadata": {},
   "outputs": [
    {
     "data": {
      "text/html": [
       "<div>\n",
       "<style scoped>\n",
       "    .dataframe tbody tr th:only-of-type {\n",
       "        vertical-align: middle;\n",
       "    }\n",
       "\n",
       "    .dataframe tbody tr th {\n",
       "        vertical-align: top;\n",
       "    }\n",
       "\n",
       "    .dataframe thead th {\n",
       "        text-align: right;\n",
       "    }\n",
       "</style>\n",
       "<table border=\"1\" class=\"dataframe\">\n",
       "  <thead>\n",
       "    <tr style=\"text-align: right;\">\n",
       "      <th></th>\n",
       "      <th>cartodb_id</th>\n",
       "      <th>cell_id</th>\n",
       "      <th>geometry</th>\n",
       "      <th>location</th>\n",
       "      <th>feature_data</th>\n",
       "    </tr>\n",
       "  </thead>\n",
       "  <tbody>\n",
       "    <tr>\n",
       "      <th>0</th>\n",
       "      <td>1</td>\n",
       "      <td>6.25-121.75</td>\n",
       "      <td>(POLYGON ((122 6, 121.5 6, 121.5 6.5, 122 6.5,...</td>\n",
       "      <td>Celebes Sea</td>\n",
       "      <td></td>\n",
       "    </tr>\n",
       "    <tr>\n",
       "      <th>1</th>\n",
       "      <td>2</td>\n",
       "      <td>7.25-151.75</td>\n",
       "      <td>(POLYGON ((152 7, 151.5 7, 151.5 7.49999999999...</td>\n",
       "      <td>Pacific Ocean</td>\n",
       "      <td></td>\n",
       "    </tr>\n",
       "    <tr>\n",
       "      <th>2</th>\n",
       "      <td>3</td>\n",
       "      <td>41.75-141.25</td>\n",
       "      <td>(POLYGON ((141.5 41.5, 141.25 41.5002706759897...</td>\n",
       "      <td>Uchiura Bay</td>\n",
       "      <td></td>\n",
       "    </tr>\n",
       "    <tr>\n",
       "      <th>3</th>\n",
       "      <td>4</td>\n",
       "      <td>-4.25-55.75</td>\n",
       "      <td>(POLYGON ((56 -4.5, 55.5 -4.5, 55.5 -4, 56 -4,...</td>\n",
       "      <td>Indian Ocean</td>\n",
       "      <td></td>\n",
       "    </tr>\n",
       "    <tr>\n",
       "      <th>4</th>\n",
       "      <td>5</td>\n",
       "      <td>-9.75-141.25</td>\n",
       "      <td>(POLYGON ((141.5 -9.999999999999998, 141.25 -1...</td>\n",
       "      <td>Arafura Sea</td>\n",
       "      <td></td>\n",
       "    </tr>\n",
       "  </tbody>\n",
       "</table>\n",
       "</div>"
      ],
      "text/plain": [
       "   cartodb_id       cell_id  \\\n",
       "0           1   6.25-121.75   \n",
       "1           2   7.25-151.75   \n",
       "2           3  41.75-141.25   \n",
       "3           4   -4.25-55.75   \n",
       "4           5  -9.75-141.25   \n",
       "\n",
       "                                            geometry       location  \\\n",
       "0  (POLYGON ((122 6, 121.5 6, 121.5 6.5, 122 6.5,...    Celebes Sea   \n",
       "1  (POLYGON ((152 7, 151.5 7, 151.5 7.49999999999...  Pacific Ocean   \n",
       "2  (POLYGON ((141.5 41.5, 141.25 41.5002706759897...    Uchiura Bay   \n",
       "3  (POLYGON ((56 -4.5, 55.5 -4.5, 55.5 -4, 56 -4,...   Indian Ocean   \n",
       "4  (POLYGON ((141.5 -9.999999999999998, 141.25 -1...    Arafura Sea   \n",
       "\n",
       "  feature_data  \n",
       "0               \n",
       "1               \n",
       "2               \n",
       "3               \n",
       "4               "
      ]
     },
     "execution_count": 997,
     "metadata": {},
     "output_type": "execute_result"
    }
   ],
   "source": [
    "marine.head()"
   ]
  },
  {
   "cell_type": "code",
   "execution_count": 998,
   "metadata": {},
   "outputs": [],
   "source": [
    "grids = pd.concat([terrestrial_new, marine])\n",
    "grids.drop(columns=['cartodb_id','geometry'], axis=1, inplace=True)"
   ]
  },
  {
   "cell_type": "code",
   "execution_count": 999,
   "metadata": {},
   "outputs": [
    {
     "data": {
      "text/html": [
       "<div>\n",
       "<style scoped>\n",
       "    .dataframe tbody tr th:only-of-type {\n",
       "        vertical-align: middle;\n",
       "    }\n",
       "\n",
       "    .dataframe tbody tr th {\n",
       "        vertical-align: top;\n",
       "    }\n",
       "\n",
       "    .dataframe thead th {\n",
       "        text-align: right;\n",
       "    }\n",
       "</style>\n",
       "<table border=\"1\" class=\"dataframe\">\n",
       "  <thead>\n",
       "    <tr style=\"text-align: right;\">\n",
       "      <th></th>\n",
       "      <th>cell_id</th>\n",
       "      <th>location</th>\n",
       "      <th>feature_data</th>\n",
       "    </tr>\n",
       "  </thead>\n",
       "  <tbody>\n",
       "    <tr>\n",
       "      <th>0</th>\n",
       "      <td>100</td>\n",
       "      <td>Canada, Northern America</td>\n",
       "      <td>NaN</td>\n",
       "    </tr>\n",
       "    <tr>\n",
       "      <th>1</th>\n",
       "      <td>1000</td>\n",
       "      <td>Russia, Eastern Europe</td>\n",
       "      <td>NaN</td>\n",
       "    </tr>\n",
       "    <tr>\n",
       "      <th>2</th>\n",
       "      <td>10000</td>\n",
       "      <td>China, Eastern Asia</td>\n",
       "      <td>NaN</td>\n",
       "    </tr>\n",
       "    <tr>\n",
       "      <th>3</th>\n",
       "      <td>10001</td>\n",
       "      <td>China, Eastern Asia</td>\n",
       "      <td>NaN</td>\n",
       "    </tr>\n",
       "    <tr>\n",
       "      <th>4</th>\n",
       "      <td>10002</td>\n",
       "      <td>China, Eastern Asia</td>\n",
       "      <td>NaN</td>\n",
       "    </tr>\n",
       "  </tbody>\n",
       "</table>\n",
       "</div>"
      ],
      "text/plain": [
       "  cell_id                  location feature_data\n",
       "0     100  Canada, Northern America          NaN\n",
       "1    1000    Russia, Eastern Europe          NaN\n",
       "2   10000       China, Eastern Asia          NaN\n",
       "3   10001       China, Eastern Asia          NaN\n",
       "4   10002       China, Eastern Asia          NaN"
      ]
     },
     "execution_count": 999,
     "metadata": {},
     "output_type": "execute_result"
    }
   ],
   "source": [
    "grids.head()"
   ]
  },
  {
   "cell_type": "code",
   "execution_count": 1000,
   "metadata": {},
   "outputs": [],
   "source": [
    "df_new = pd.merge(df, grids, how='left', on=['cell_id'])"
   ]
  },
  {
   "cell_type": "code",
   "execution_count": 1001,
   "metadata": {},
   "outputs": [
    {
     "data": {
      "text/html": [
       "<div>\n",
       "<style scoped>\n",
       "    .dataframe tbody tr th:only-of-type {\n",
       "        vertical-align: middle;\n",
       "    }\n",
       "\n",
       "    .dataframe tbody tr th {\n",
       "        vertical-align: top;\n",
       "    }\n",
       "\n",
       "    .dataframe thead th {\n",
       "        text-align: right;\n",
       "    }\n",
       "</style>\n",
       "<table border=\"1\" class=\"dataframe\">\n",
       "  <thead>\n",
       "    <tr style=\"text-align: right;\">\n",
       "      <th></th>\n",
       "      <th>cell_id</th>\n",
       "      <th>taxa</th>\n",
       "      <th>sr</th>\n",
       "      <th>ave_rsr</th>\n",
       "      <th>sum_rsr</th>\n",
       "      <th>focal_spp</th>\n",
       "      <th>ave_rsr_pc</th>\n",
       "      <th>sum_rsr_pc</th>\n",
       "      <th>sr_pc</th>\n",
       "      <th>isisland</th>\n",
       "      <th>...</th>\n",
       "      <th>strict</th>\n",
       "      <th>conservati</th>\n",
       "      <th>biosphere</th>\n",
       "      <th>rank_sr</th>\n",
       "      <th>rank_rsr</th>\n",
       "      <th>rank_total</th>\n",
       "      <th>other</th>\n",
       "      <th>geometry</th>\n",
       "      <th>location</th>\n",
       "      <th>feature_data</th>\n",
       "    </tr>\n",
       "  </thead>\n",
       "  <tbody>\n",
       "    <tr>\n",
       "      <th>0</th>\n",
       "      <td>26.25--112.25</td>\n",
       "      <td>fishes</td>\n",
       "      <td>2989.0</td>\n",
       "      <td>0.000256</td>\n",
       "      <td>0.763941</td>\n",
       "      <td>Hypomesus_olidus,Pholis_laeta,Mylocheilus_caur...</td>\n",
       "      <td>98.213758</td>\n",
       "      <td>99.774352</td>\n",
       "      <td>99.830067</td>\n",
       "      <td>0.0</td>\n",
       "      <td>...</td>\n",
       "      <td>0.0</td>\n",
       "      <td>0.0</td>\n",
       "      <td>0.0</td>\n",
       "      <td>0.998301</td>\n",
       "      <td>0.982138</td>\n",
       "      <td>0.990219</td>\n",
       "      <td>0.0</td>\n",
       "      <td>POLYGON ((-112 26, -112.25 26.0002148979084, -...</td>\n",
       "      <td>Pacific Ocean</td>\n",
       "      <td></td>\n",
       "    </tr>\n",
       "    <tr>\n",
       "      <th>1</th>\n",
       "      <td>9.25-124.75</td>\n",
       "      <td>fishes</td>\n",
       "      <td>2989.0</td>\n",
       "      <td>0.000236</td>\n",
       "      <td>0.704408</td>\n",
       "      <td>Seriphus_politus,Typhlogobius_californiensis,C...</td>\n",
       "      <td>97.394739</td>\n",
       "      <td>99.570990</td>\n",
       "      <td>99.830067</td>\n",
       "      <td>0.0</td>\n",
       "      <td>...</td>\n",
       "      <td>1.2</td>\n",
       "      <td>0.0</td>\n",
       "      <td>0.0</td>\n",
       "      <td>0.998306</td>\n",
       "      <td>0.973948</td>\n",
       "      <td>0.986127</td>\n",
       "      <td>0.0</td>\n",
       "      <td>POLYGON ((125 9, 124.5 9, 124.5 9.5, 125 9.5, ...</td>\n",
       "      <td>Bohol Sea</td>\n",
       "      <td></td>\n",
       "    </tr>\n",
       "    <tr>\n",
       "      <th>2</th>\n",
       "      <td>33.75-133.75</td>\n",
       "      <td>fishes</td>\n",
       "      <td>2987.0</td>\n",
       "      <td>0.000220</td>\n",
       "      <td>0.656372</td>\n",
       "      <td>Pholis_laeta,Mylocheilus_caurinus,Liparis_call...</td>\n",
       "      <td>96.682694</td>\n",
       "      <td>99.329184</td>\n",
       "      <td>99.828396</td>\n",
       "      <td>0.0</td>\n",
       "      <td>...</td>\n",
       "      <td>0.0</td>\n",
       "      <td>0.0</td>\n",
       "      <td>0.0</td>\n",
       "      <td>0.998295</td>\n",
       "      <td>0.966827</td>\n",
       "      <td>0.982561</td>\n",
       "      <td>17.8</td>\n",
       "      <td>POLYGON ((134 33.5, 133.75 33.5002510300208, 1...</td>\n",
       "      <td>Philippine Sea</td>\n",
       "      <td></td>\n",
       "    </tr>\n",
       "    <tr>\n",
       "      <th>3</th>\n",
       "      <td>-1.75-134.25</td>\n",
       "      <td>fishes</td>\n",
       "      <td>2987.0</td>\n",
       "      <td>0.000223</td>\n",
       "      <td>0.665440</td>\n",
       "      <td>Ambassis_jacksoniensis,Vanacampus_margaritifer...</td>\n",
       "      <td>96.815297</td>\n",
       "      <td>99.377100</td>\n",
       "      <td>99.828396</td>\n",
       "      <td>0.0</td>\n",
       "      <td>...</td>\n",
       "      <td>42.0</td>\n",
       "      <td>0.0</td>\n",
       "      <td>0.0</td>\n",
       "      <td>0.998290</td>\n",
       "      <td>0.968153</td>\n",
       "      <td>0.983221</td>\n",
       "      <td>0.0</td>\n",
       "      <td>POLYGON ((134.5 -2, 134 -2, 134 -1.5, 134.5 -1...</td>\n",
       "      <td>Pacific Ocean</td>\n",
       "      <td></td>\n",
       "    </tr>\n",
       "    <tr>\n",
       "      <th>4</th>\n",
       "      <td>-17.25-178.25</td>\n",
       "      <td>fishes</td>\n",
       "      <td>2987.0</td>\n",
       "      <td>0.000230</td>\n",
       "      <td>0.686238</td>\n",
       "      <td>Sprattus_muelleri,Colistium_guntheri,Trachinop...</td>\n",
       "      <td>97.118390</td>\n",
       "      <td>99.484074</td>\n",
       "      <td>99.828396</td>\n",
       "      <td>0.0</td>\n",
       "      <td>...</td>\n",
       "      <td>0.0</td>\n",
       "      <td>33.8</td>\n",
       "      <td>0.0</td>\n",
       "      <td>0.998284</td>\n",
       "      <td>0.971184</td>\n",
       "      <td>0.984734</td>\n",
       "      <td>0.0</td>\n",
       "      <td>POLYGON ((178.5 -17.5, 178.25 -17.500156419814...</td>\n",
       "      <td>Pacific Ocean</td>\n",
       "      <td></td>\n",
       "    </tr>\n",
       "  </tbody>\n",
       "</table>\n",
       "<p>5 rows × 24 columns</p>\n",
       "</div>"
      ],
      "text/plain": [
       "         cell_id    taxa      sr   ave_rsr   sum_rsr  \\\n",
       "0  26.25--112.25  fishes  2989.0  0.000256  0.763941   \n",
       "1    9.25-124.75  fishes  2989.0  0.000236  0.704408   \n",
       "2   33.75-133.75  fishes  2987.0  0.000220  0.656372   \n",
       "3   -1.75-134.25  fishes  2987.0  0.000223  0.665440   \n",
       "4  -17.25-178.25  fishes  2987.0  0.000230  0.686238   \n",
       "\n",
       "                                           focal_spp  ave_rsr_pc  sum_rsr_pc  \\\n",
       "0  Hypomesus_olidus,Pholis_laeta,Mylocheilus_caur...   98.213758   99.774352   \n",
       "1  Seriphus_politus,Typhlogobius_californiensis,C...   97.394739   99.570990   \n",
       "2  Pholis_laeta,Mylocheilus_caurinus,Liparis_call...   96.682694   99.329184   \n",
       "3  Ambassis_jacksoniensis,Vanacampus_margaritifer...   96.815297   99.377100   \n",
       "4  Sprattus_muelleri,Colistium_guntheri,Trachinop...   97.118390   99.484074   \n",
       "\n",
       "       sr_pc  isisland      ...       strict  conservati  biosphere   rank_sr  \\\n",
       "0  99.830067       0.0      ...          0.0         0.0        0.0  0.998301   \n",
       "1  99.830067       0.0      ...          1.2         0.0        0.0  0.998306   \n",
       "2  99.828396       0.0      ...          0.0         0.0        0.0  0.998295   \n",
       "3  99.828396       0.0      ...         42.0         0.0        0.0  0.998290   \n",
       "4  99.828396       0.0      ...          0.0        33.8        0.0  0.998284   \n",
       "\n",
       "   rank_rsr  rank_total  other  \\\n",
       "0  0.982138    0.990219    0.0   \n",
       "1  0.973948    0.986127    0.0   \n",
       "2  0.966827    0.982561   17.8   \n",
       "3  0.968153    0.983221    0.0   \n",
       "4  0.971184    0.984734    0.0   \n",
       "\n",
       "                                            geometry        location  \\\n",
       "0  POLYGON ((-112 26, -112.25 26.0002148979084, -...   Pacific Ocean   \n",
       "1  POLYGON ((125 9, 124.5 9, 124.5 9.5, 125 9.5, ...       Bohol Sea   \n",
       "2  POLYGON ((134 33.5, 133.75 33.5002510300208, 1...  Philippine Sea   \n",
       "3  POLYGON ((134.5 -2, 134 -2, 134 -1.5, 134.5 -1...   Pacific Ocean   \n",
       "4  POLYGON ((178.5 -17.5, 178.25 -17.500156419814...   Pacific Ocean   \n",
       "\n",
       "   feature_data  \n",
       "0                \n",
       "1                \n",
       "2                \n",
       "3                \n",
       "4                \n",
       "\n",
       "[5 rows x 24 columns]"
      ]
     },
     "execution_count": 1001,
     "metadata": {},
     "output_type": "execute_result"
    }
   ],
   "source": [
    "df_new.head()"
   ]
  },
  {
   "cell_type": "code",
   "execution_count": 1002,
   "metadata": {},
   "outputs": [],
   "source": [
    "df_new.to_file(path+'global_facets_attr_pressures_vizz/global_facets_attr_pressures_vizz.shp')"
   ]
  }
 ],
 "metadata": {
  "kernelspec": {
   "display_name": "Python 3",
   "language": "python",
   "name": "python3"
  },
  "language_info": {
   "codemirror_mode": {
    "name": "ipython",
    "version": 3
   },
   "file_extension": ".py",
   "mimetype": "text/x-python",
   "name": "python",
   "nbconvert_exporter": "python",
   "pygments_lexer": "ipython3",
   "version": "3.6.4"
  }
 },
 "nbformat": 4,
 "nbformat_minor": 2
}
