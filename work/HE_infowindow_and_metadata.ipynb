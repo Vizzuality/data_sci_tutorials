{
 "cells": [
  {
   "cell_type": "markdown",
   "metadata": {},
   "source": [
    "## HalfEarth metadata\n",
    "\n",
    "How to call the HE metadata from Contentful."
   ]
  },
  {
   "cell_type": "code",
   "execution_count": 1,
   "metadata": {},
   "outputs": [],
   "source": [
    "import requests\n",
    "from pprint import pprint\n",
    "import matplotlib.pyplot as plt\n",
    "%matplotlib inline"
   ]
  },
  {
   "cell_type": "code",
   "execution_count": 55,
   "metadata": {},
   "outputs": [
    {
     "name": "stdout",
     "output_type": "stream",
     "text": [
      "{'items': [{'fields': {'category': 'Terrestrial Species',\n",
      "                       'dataset': 'All Taxa',\n",
      "                       'description': 'Maps show patterns for grid cells of '\n",
      "                                      '110 x 110 km size. The cell size '\n",
      "                                      'reflects the resolution at which '\n",
      "                                      'currently available data, without '\n",
      "                                      'further models, allow an accurate '\n",
      "                                      'characterization, globally. “Richness” '\n",
      "                                      'shows the count of species in a cell. '\n",
      "                                      'The ‘All Groups’ layer provide a sum '\n",
      "                                      '(species richness) of all currently '\n",
      "                                      'shown groups at this resolution.',\n",
      "                       'layer': 'Richness',\n",
      "                       'layerSlug': 'all-taxa-richness',\n",
      "                       'source': 'Map of Life and supporting datasets.',\n",
      "                       'sourceUrl': 'https://mol.org/datasets/?dt=range&dt=range&sg=Birds,Mammals,Turtles,Amphibians,Cacti,Conifers&sg=Birds,Mammals,Turtles,Amphibians,Cacti,Conifers'},\n",
      "            'sys': {'contentType': {'sys': {'id': 'metadata',\n",
      "                                            'linkType': 'ContentType',\n",
      "                                            'type': 'Link'}},\n",
      "                    'createdAt': '2018-09-18T15:47:22.506Z',\n",
      "                    'environment': {'sys': {'id': 'master',\n",
      "                                            'linkType': 'Environment',\n",
      "                                            'type': 'Link'}},\n",
      "                    'id': '4uWbw98rBCEWAIU2oa0qQw',\n",
      "                    'locale': 'en-US',\n",
      "                    'revision': 1,\n",
      "                    'space': {'sys': {'id': '1ig0ut5jlz1o',\n",
      "                                      'linkType': 'Space',\n",
      "                                      'type': 'Link'}},\n",
      "                    'type': 'Entry',\n",
      "                    'updatedAt': '2018-09-18T15:47:22.506Z'}},\n",
      "           {'fields': {'category': 'Terrestrial Species',\n",
      "                       'dataset': 'Amphibians',\n",
      "                       'description': 'Maps show patterns for grid cells of '\n",
      "                                      '110 km² size. The cell size reflects '\n",
      "                                      'the resolution at which currently '\n",
      "                                      'available data, without further models, '\n",
      "                                      'allow an accurate characterization, '\n",
      "                                      'globally. “Richness” shows the count of '\n",
      "                                      'species in a cell.',\n",
      "                       'layer': 'Richness',\n",
      "                       'layerSlug': 'amphib-rich',\n",
      "                       'source': 'Map of Life and supporting datasets.',\n",
      "                       'sourceUrl': 'https://mol.org/datasets/83cfa8fb-dd6e-4031-8215-1079abddb8a7'},\n",
      "            'sys': {'contentType': {'sys': {'id': 'metadata',\n",
      "                                            'linkType': 'ContentType',\n",
      "                                            'type': 'Link'}},\n",
      "                    'createdAt': '2018-09-18T16:04:47.657Z',\n",
      "                    'environment': {'sys': {'id': 'master',\n",
      "                                            'linkType': 'Environment',\n",
      "                                            'type': 'Link'}},\n",
      "                    'id': '1VRQdK27F2W0iy040e6cWk',\n",
      "                    'locale': 'en-US',\n",
      "                    'revision': 1,\n",
      "                    'space': {'sys': {'id': '1ig0ut5jlz1o',\n",
      "                                      'linkType': 'Space',\n",
      "                                      'type': 'Link'}},\n",
      "                    'type': 'Entry',\n",
      "                    'updatedAt': '2018-09-18T16:04:47.657Z'}}],\n",
      " 'limit': 100,\n",
      " 'skip': 0,\n",
      " 'sys': {'type': 'Array'},\n",
      " 'total': 2}\n"
     ]
    }
   ],
   "source": [
    "key = \"XXXXXXXXXXXXXXXXXXX\"  # Ben, Jose and Michelle have access to these keys and the contentful account\n",
    "space_id = 'XXX' \n",
    "\n",
    "base_url=f\"https://cdn.contentful.com/spaces/{space_id}/environments/master/entries\"\n",
    "\n",
    "headers = {'access_token': key}\n",
    "\n",
    "r=requests.get(base_url, params=headers)\n",
    "\n",
    "pprint(r.json())"
   ]
  },
  {
   "cell_type": "markdown",
   "metadata": {},
   "source": [
    "Use [contentful API](https://www.contentful.com/developers/docs/references/content-delivery-api/#/reference/search-parameters/equality-operator) to query the entries by the \n",
    "`layerSlug` field. There will be entries that match slugs in the *layers table*, and also the *categories table*."
   ]
  },
  {
   "cell_type": "markdown",
   "metadata": {},
   "source": [
    "# Info Pannel\n",
    "\n",
    "## Histograms\n",
    "\n",
    "In landscape mode, the info pannel shows a bivarate colour matrix, with two histograms. The histograms show species richness and rarity for a user-selected taxa group.\n",
    "In the future those histograms may be dynamicly calculated, but for now, they are going to be based on the below json objects.\n",
    "\n",
    "```json\n",
    "richness = {'all': [31541, 3944, 3334, 1157, 399],\n",
    "            'amphibians': [4019, 3362, 2598, 887, 333],\n",
    "            'birds': [31467, 3908, 3342, 1147, 399],\n",
    "            'cacti': [1097, 1070, 899, 323, 73],\n",
    "            'conifers': [2434, 2551, 2007, 727, 237],\n",
    "            'fishes': [65408, 50302, 43343, 14979, 5451],\n",
    "            'mammals': [31062, 4194, 3363, 1192, 402],\n",
    "            'turtles': [1883, 2918, 1705, 666, 276]}\n",
    "\n",
    "rarity = {'all': [31381, 3869, 3488, 1253, 385],\n",
    "          'amphibians': [3960, 3098, 2839, 1013, 286],\n",
    "          'birds': [30634, 4511, 3449, 1303, 367],\n",
    "            'cacti': [1245, 956, 928, 323, 10],\n",
    "            'conifers': [2837, 2238, 1927, 784, 169],\n",
    "            'fishes': [65618, 50139, 43316, 14966, 5445],\n",
    "            'mammals': [31477, 3799, 3352, 1216, 370],\n",
    "            'turtles': [2633, 2061, 1834, 755, 165]}\n",
    "```\n",
    "\n",
    "The histograms can be represented as simple bar charts, they should all have the same absoloute maximum bar height. They should be plotted without x or y axis information."
   ]
  },
  {
   "cell_type": "code",
   "execution_count": 70,
   "metadata": {},
   "outputs": [],
   "source": [
    "richness = {'all': [31541, 3944, 3334, 1157, 399],\n",
    "            'amphibians': [4019, 3362, 2598, 887, 333],\n",
    "            'birds': [31467, 3908, 3342, 1147, 399],\n",
    "            'cacti': [1097, 1070, 899, 323, 73],\n",
    "            'conifers': [2434, 2551, 2007, 727, 237],\n",
    "            'fishes': [65408, 50302, 43343, 14979, 5451],\n",
    "            'mammals': [31062, 4194, 3363, 1192, 402],\n",
    "            'turtles': [1883, 2918, 1705, 666, 276]}\n",
    "\n",
    "rarity = {'all': [31381, 3869, 3488, 1253, 385],\n",
    "          'amphibians': [3960, 3098, 2839, 1013, 286],\n",
    "          'birds': [30634, 4511, 3449, 1303, 367],\n",
    "            'cacti': [1245, 956, 928, 323, 10],\n",
    "            'conifers': [2837, 2238, 1927, 784, 169],\n",
    "            'fishes': [65618, 50139, 43316, 14966, 5445],\n",
    "            'mammals': [31477, 3799, 3352, 1216, 370],\n",
    "            'turtles': [2633, 2061, 1834, 755, 165]}"
   ]
  },
  {
   "cell_type": "code",
   "execution_count": 114,
   "metadata": {},
   "outputs": [
    {
     "name": "stdout",
     "output_type": "stream",
     "text": [
      "Example density plot bars for birds\n"
     ]
    },
    {
     "data": {
      "image/png": "[encoded data removed]",
      "text/plain": [
       "<Figure size 432x288 with 1 Axes>"
      ]
     },
     "metadata": {},
     "output_type": "display_data"
    },
    {
     "data": {
      "image/png": "[encoded data removed]",
      "text/plain": [
       "<Figure size 432x288 with 1 Axes>"
      ]
     },
     "metadata": {},
     "output_type": "display_data"
    }
   ],
   "source": [
    "taxa = 'birds'\n",
    "\n",
    "print(f\"Example density plot bars for {taxa}\")\n",
    "\n",
    "\n",
    "plt.barh(range(0,5), rarity[taxa], color=[\"#fae651\",\"#fbea62\",\"#fcf090\",\"#fef8c5\",\"#e5eeff\"])\n",
    "plt.xticks([])\n",
    "plt.yticks([])\n",
    "plt.show()\n",
    "\n",
    "plt.bar(range(0,5), richness[taxa], color=['#3474ef','#538bf0','#8bb2f5','#c5d8f9','#e5eeff'])\n",
    "plt.xticks([])\n",
    "plt.yticks([])\n",
    "plt.show()"
   ]
  },
  {
   "cell_type": "markdown",
   "metadata": {},
   "source": [
    "## Data from a Carto endpoint\n",
    "\n",
    "`sql = (f\"SELECT * FROM global_facets_attr_pressures_vizz WHERE cell_id = '{gridcell_id}'\")`"
   ]
  },
  {
   "cell_type": "code",
   "execution_count": 21,
   "metadata": {},
   "outputs": [
    {
     "name": "stdout",
     "output_type": "stream",
     "text": [
      "https://carto.mol.org/user/half-earth/api/v2/sql?q=SELECT++sr%2C+ave_rsr%2C+ave_rsr_pc%2C+strict%2C+biosphere%2C+conservati%2C+other%2C+focal_spp%2C+prop_land%2C+agricultur%2C+urban%2C+rainfed%2C+rank_rsr%2C+rank_sr%2C+taxa+FROM+global_facets_attr_pressures_vizz+WHERE+cell_id+%3D+%2726001%27&api_key=742c956aae8c74b51b6c554733a3b440fb81cbfd&format=json\n",
      "response 200\n",
      "{'fields': {'agricultur': {'type': 'number'},\n",
      "            'ave_rsr': {'type': 'number'},\n",
      "            'ave_rsr_pc': {'type': 'number'},\n",
      "            'biosphere': {'type': 'number'},\n",
      "            'conservati': {'type': 'number'},\n",
      "            'focal_spp': {'type': 'string'},\n",
      "            'other': {'type': 'number'},\n",
      "            'prop_land': {'type': 'number'},\n",
      "            'rainfed': {'type': 'number'},\n",
      "            'rank_rsr': {'type': 'number'},\n",
      "            'rank_sr': {'type': 'number'},\n",
      "            'sr': {'type': 'number'},\n",
      "            'strict': {'type': 'number'},\n",
      "            'taxa': {'type': 'string'},\n",
      "            'urban': {'type': 'number'}},\n",
      " 'rows': [{'agricultur': 0,\n",
      "           'ave_rsr': 7.6446906429e-05,\n",
      "           'ave_rsr_pc': 25.8399025190859,\n",
      "           'biosphere': None,\n",
      "           'conservati': None,\n",
      "           'focal_spp': 'Mesoplodon peruvianus,Mesoplodon '\n",
      "                        'ginkgodens,Balaenoptera bonaerensis,Peponocephala '\n",
      "                        'electra,Stenella longirostris',\n",
      "           'other': None,\n",
      "           'prop_land': 0,\n",
      "           'rainfed': 0,\n",
      "           'rank_rsr': 0.000194189993365,\n",
      "           'rank_sr': 0.080357142857143,\n",
      "           'sr': 19,\n",
      "           'strict': None,\n",
      "           'taxa': 'mammals',\n",
      "           'urban': 0},\n",
      "          {'agricultur': 0,\n",
      "           'ave_rsr': 0.000147200051964,\n",
      "           'ave_rsr_pc': 4.73635844323573,\n",
      "           'biosphere': None,\n",
      "           'conservati': None,\n",
      "           'focal_spp': 'Pterodroma longirostris,Pterodroma '\n",
      "                        'externa,Thalassarche eremita,Pterodroma '\n",
      "                        'nigripennis,Pterodroma neglecta',\n",
      "           'other': None,\n",
      "           'prop_land': 0,\n",
      "           'rainfed': 0,\n",
      "           'rank_rsr': 0.000110306010802,\n",
      "           'rank_sr': 0.013875123885035,\n",
      "           'sr': 15,\n",
      "           'strict': None,\n",
      "           'taxa': 'birds',\n",
      "           'urban': 0},\n",
      "          {'agricultur': 0,\n",
      "           'ave_rsr': 0.000111823479197,\n",
      "           'ave_rsr_pc': 5.64458204334365,\n",
      "           'biosphere': None,\n",
      "           'conservati': None,\n",
      "           'focal_spp': 'Mesoplodon peruvianus,Pterodroma longirostris',\n",
      "           'other': None,\n",
      "           'prop_land': 0,\n",
      "           'rainfed': 0,\n",
      "           'rank_rsr': None,\n",
      "           'rank_sr': None,\n",
      "           'sr': 34,\n",
      "           'strict': None,\n",
      "           'taxa': 'all',\n",
      "           'urban': 0}],\n",
      " 'time': 0.29,\n",
      " 'total_rows': 3}\n"
     ]
    }
   ],
   "source": [
    "gridcell_id = '26001'\n",
    "\n",
    "sql = (f\"SELECT  sr, ave_rsr, ave_rsr_pc, strict, biosphere, conservati, other, focal_spp, prop_land, agricultur, urban, rainfed, rank_rsr, rank_sr, taxa FROM global_facets_attr_pressures_vizz WHERE cell_id = '{gridcell_id}'\")\n",
    "\n",
    "\n",
    "\n",
    "api_key=\"XXXXX\"\n",
    "\n",
    "carto_url = f\"https://carto.mol.org/user/half-earth/api/v2/sql\"\n",
    "\n",
    "params = {\"q\": sql,\n",
    "         \"api_key\": api_key,\n",
    "         \"format\":'json'}\n",
    "\n",
    "table_r = requests.get(carto_url,params=params)\n",
    "\n",
    "print(table_r.url)\n",
    "print(f\"response {table_r.status_code}\")\n",
    "\n",
    "pprint(table_r.json())"
   ]
  },
  {
   "cell_type": "code",
   "execution_count": 25,
   "metadata": {},
   "outputs": [
    {
     "data": {
      "text/plain": [
       "{'sr': 34,\n",
       " 'ave_rsr': 0.000111823479197,\n",
       " 'ave_rsr_pc': 5.64458204334365,\n",
       " 'strict': None,\n",
       " 'biosphere': None,\n",
       " 'conservati': None,\n",
       " 'other': None,\n",
       " 'focal_spp': 'Mesoplodon peruvianus,Pterodroma longirostris',\n",
       " 'prop_land': 0,\n",
       " 'agricultur': 0,\n",
       " 'urban': 0,\n",
       " 'rainfed': 0,\n",
       " 'rank_rsr': None,\n",
       " 'rank_sr': None,\n",
       " 'taxa': 'all'}"
      ]
     },
     "execution_count": 25,
     "metadata": {},
     "output_type": "execute_result"
    }
   ],
   "source": [
    "taxa = \"birds\"\n",
    "\n",
    "# Extract out the taxa-relevant row from the response\n",
    "for row in table_r.json().get('rows'):\n",
    "    if row.get('taxa') == taxa:\n",
    "        metadata = row\n",
    "        \n",
    "row"
   ]
  },
  {
   "cell_type": "markdown",
   "metadata": {},
   "source": [
    "## Constructing the bivarate plot\n",
    "\n",
    "The bivarate plot is made up of richness and rarity, broken into 5 bins (each). The breaks in the ricness and rarity scales differ for each taxa group, and are as follows:\n",
    "\n",
    "```json\n",
    "richness_breaks = {\n",
    "                    \"fishes\": [305,464,658,1684,3469],\n",
    "                    \"conifers\": [3,6,12,21,49],\n",
    "                    \"birds\": [150,235,436,566,1010],\n",
    "                    \"cacti\": [2,6,20,41,93],\n",
    "                    \"all\": [187,314,607,822,1420],\n",
    "                    \"mammals\": [28,50,118,168,225],\n",
    "                    \"turtles\": [2,5,9,13,22],\n",
    "                    \"amphibians\": [6,19,49,87,180]\n",
    "                    }\n",
    "rarity_breaks = {\n",
    "    \"birds\":[0.000951457169688,0.002118669803344,0.004793622966076,0.014531712454054,0.345654170530923],\n",
    "    \"mammals\":[0.001792715951431,0.003774471291193,0.009207707575509,0.022424884799749,0.154535354563766],\n",
    "    \"cacti\":[0.002985045875918,0.013466473099952,0.069278172515258,0.246837471328683,1],\n",
    "    \"fishes\":[0.000017408490252,0.000023022433169,0.000068605335069,0.000226333724869,0.00684126820616],\n",
    "    \"turtles\":[0.002971514874607,0.005810064752986,0.015415800521987,0.049977196671277,1],\n",
    "    \"all\":[0.002024310809826,0.005479986220463,0.017138521295314,0.047310862397745,0.48067781545632],\n",
    "    \"conifers\":[0.002469027068453,0.007929522029411,0.018324173191885,0.055555470940302,1],\n",
    "    \"amphibians\":[0.003431235180182,0.009875216978352,0.04069126767663,0.139397129600073,1]\n",
    "}\n",
    "```\n",
    "\n",
    "\n",
    "To calculate which of the 5x5 (25) possible squares of the bivarate to highlight you only need to see which range a given taxa's Richness and Rarity falls between.\n",
    "\n",
    "`sr` = Richness value\n",
    "\n",
    "`ave_rsr` = Rarity value\n",
    "\n",
    "combine `sr` and `ave_rsr` to know where "
   ]
  },
  {
   "cell_type": "code",
   "execution_count": 27,
   "metadata": {},
   "outputs": [],
   "source": [
    "import numpy as np"
   ]
  },
  {
   "cell_type": "code",
   "execution_count": 55,
   "metadata": {},
   "outputs": [],
   "source": [
    "richness_breaks = {\n",
    "                    \"fishes\": [305,464,658,1684,3469],\n",
    "                    \"conifers\": [3,6,12,21,49],\n",
    "                    \"birds\": [150,235,436,566,1010],\n",
    "                    \"cacti\": [2,6,20,41,93],\n",
    "                    \"all\": [187,314,607,822,1420],\n",
    "                    \"mammals\": [28,50,118,168,225],\n",
    "                    \"turtles\": [2,5,9,13,22],\n",
    "                    \"amphibians\": [6,19,49,87,180]\n",
    "                    }\n",
    "rarity_breaks = {\n",
    "    \"birds\":[0.000951457169688,0.002118669803344,0.004793622966076,0.014531712454054,0.345654170530923],\n",
    "    \"mammals\":[0.001792715951431,0.003774471291193,0.009207707575509,0.022424884799749,0.154535354563766],\n",
    "    \"cacti\":[0.002985045875918,0.013466473099952,0.069278172515258,0.246837471328683,1],\n",
    "    \"fishes\":[0.000017408490252,0.000023022433169,0.000068605335069,0.000226333724869,0.00684126820616],\n",
    "    \"turtles\":[0.002971514874607,0.005810064752986,0.015415800521987,0.049977196671277,1],\n",
    "    \"all\":[0.002024310809826,0.005479986220463,0.017138521295314,0.047310862397745,0.48067781545632],\n",
    "    \"conifers\":[0.002469027068453,0.007929522029411,0.018324173191885,0.055555470940302,1],\n",
    "    \"amphibians\":[0.003431235180182,0.009875216978352,0.04069126767663,0.139397129600073,1]\n",
    "}"
   ]
  },
  {
   "cell_type": "code",
   "execution_count": 56,
   "metadata": {},
   "outputs": [],
   "source": [
    "taxa_richness = row.get('sr')\n",
    "taxa_rarity = row.get('ave_rsr')"
   ]
  },
  {
   "cell_type": "code",
   "execution_count": 76,
   "metadata": {},
   "outputs": [
    {
     "data": {
      "text/plain": [
       "(0.000111823479197, 34)"
      ]
     },
     "execution_count": 76,
     "metadata": {},
     "output_type": "execute_result"
    }
   ],
   "source": [
    "# Just to double check we got the right values\n",
    "birds_rarity, birds_richness"
   ]
  },
  {
   "cell_type": "code",
   "execution_count": 77,
   "metadata": {},
   "outputs": [],
   "source": [
    "def bivarate_index(taxa_value, taxa_range):\n",
    "    if taxa_value  > 0 and taxa_value <= taxa_range[0]:\n",
    "        return 0\n",
    "    if taxa_value  > taxa_range[0] and taxa_value <= taxa_range[1]:\n",
    "        return 1\n",
    "    if taxa_value  > taxa_range[1] and taxa_value <= taxa_range[2]:\n",
    "        return 2\n",
    "    if taxa_value  > taxa_range[2] and taxa_value <= taxa_range[3]:\n",
    "        return 3\n",
    "    if taxa_value  > taxa_range[3] and taxa_value <= taxa_range[4]:\n",
    "        return 4\n",
    "    \n",
    "\n",
    "# find the index position of this taxa in richnes/rarity dimensions for the bivarate plot\n",
    "\n",
    "richness_position_index = bivarate_index(birds_richness, richness_breaks.get('birds')) \n",
    "\n",
    "rarity_position_index = bivarate_index(birds_rarity, rarity_breaks.get('birds')) "
   ]
  },
  {
   "cell_type": "code",
   "execution_count": 78,
   "metadata": {},
   "outputs": [
    {
     "data": {
      "text/plain": [
       "(0, 0)"
      ]
     },
     "execution_count": 78,
     "metadata": {},
     "output_type": "execute_result"
    }
   ],
   "source": [
    "richness_position_index, rarity_position_index"
   ]
  },
  {
   "cell_type": "code",
   "execution_count": 96,
   "metadata": {},
   "outputs": [
    {
     "data": {
      "image/png": "[encoded data removed]",
      "text/plain": [
       "<Figure size 432x288 with 1 Axes>"
      ]
     },
     "metadata": {},
     "output_type": "display_data"
    }
   ],
   "source": [
    "# Example of how to use the index to highlight a matrix (note, no colours are plotted in this example)\n",
    "\n",
    "rarity = [\"low\", \"\", \"Rarity\", \"\",\"high\"]\n",
    "richness = [\"low\", \"\", \"Richness\",\"\", \"high\"]\n",
    "\n",
    "bivarate = np.array([[0, 0, 0, 0, 0, ],\n",
    "                    [0, 0, 0, 0, 0,],\n",
    "                    [0, 0, 0, 0, 0, ],\n",
    "                    [0, 0, 0, 0, 0, ],\n",
    "                    [0, 0, 0, 0, 0,]])\n",
    "\n",
    "bivarate[richness_position_index, rarity_position_index] = 1\n",
    "\n",
    "\n",
    "fig, ax = plt.subplots()\n",
    "im = ax.imshow(bivarate, origin='lower')\n",
    "\n",
    "ax.set_xticks(np.arange(len(rarity)))\n",
    "ax.set_yticks(np.arange(len(richness)))\n",
    "# ... and label them with the respective list entries\n",
    "ax.set_xticklabels(rarity)\n",
    "ax.set_yticklabels(richness)\n",
    "\n",
    "# Rotate the tick labels and set their alignment.\n",
    "plt.setp(ax.get_xticklabels(), rotation=0,\n",
    "         rotation_mode=\"anchor\")\n",
    "fig.tight_layout()\n",
    "plt.show()"
   ]
  },
  {
   "cell_type": "markdown",
   "metadata": {},
   "source": [
    "## % protection (Mapping Conservation areas section)\n",
    "\n",
    "For protected areas % we can grab the values from the Carto response. These values should be as a % (but keep an eye out, as it may be in fractional % (0-1), or may have a None value.\n",
    "If the data are None, expose it as 0% in the widget.\n",
    "Also note, that if there are a large number of values after the decimal you can round to the nearest 1%. (e.g. 9.8779933333 --> 10%)"
   ]
  },
  {
   "cell_type": "code",
   "execution_count": 101,
   "metadata": {},
   "outputs": [
    {
     "data": {
      "text/plain": [
       "{'sr': 34,\n",
       " 'ave_rsr': 0.000111823479197,\n",
       " 'ave_rsr_pc': 5.64458204334365,\n",
       " 'strict': None,\n",
       " 'biosphere': None,\n",
       " 'conservati': None,\n",
       " 'other': None,\n",
       " 'focal_spp': 'Mesoplodon peruvianus,Pterodroma longirostris',\n",
       " 'prop_land': 0,\n",
       " 'agricultur': 0,\n",
       " 'urban': 0,\n",
       " 'rainfed': 0,\n",
       " 'rank_rsr': None,\n",
       " 'rank_sr': None,\n",
       " 'taxa': 'all'}"
      ]
     },
     "execution_count": 101,
     "metadata": {},
     "output_type": "execute_result"
    }
   ],
   "source": [
    "row"
   ]
  },
  {
   "cell_type": "code",
   "execution_count": 108,
   "metadata": {},
   "outputs": [
    {
     "name": "stdout",
     "output_type": "stream",
     "text": [
      "%strict reserves = 0%\n"
     ]
    }
   ],
   "source": [
    "#  All you need to do here is link the selector buttons to the keys in the Carto response, e.g.:\n",
    "\n",
    "key = 'strict reserves'\n",
    "\n",
    "conservation_areas = {\"strict reserves\": \"strict\",\n",
    "                     \"Biosphere reserves\": \"biosphere\",\n",
    "                     \"Community-based conservation areas\": \"conservati\",\n",
    "                     \"Other\":\"other\"}\n",
    "\n",
    "area = row[conservation_areas[key]]\n",
    "\n",
    "if not area:\n",
    "    print(f\"%{key} = 0%\")\n",
    "else:\n",
    "    print(f\"%{key} = {area:3.0f}%\")    "
   ]
  },
  {
   "cell_type": "markdown",
   "metadata": {},
   "source": [
    "## Mapping Human activites\n",
    "\n",
    "Similar to the previous section, just a case of grabbing data from the carto query and possibly formatting/rounding, with the exception that the `All terrestrial pressures` is a combination of three other values."
   ]
  },
  {
   "cell_type": "code",
   "execution_count": 121,
   "metadata": {},
   "outputs": [
    {
     "name": "stdout",
     "output_type": "stream",
     "text": [
      "% All terrestrial pressures = 0%\n"
     ]
    }
   ],
   "source": [
    "key = \"All terrestrial pressures\"\n",
    "\n",
    "human_pressure = {\"All terrestrial pressures\": ['agricultur', 'rainfed','urban'],\n",
    "                  \"Large and Irrigated Agriculture\": 'agricultur',\n",
    "                  \"Small and Rainfed Agriculture\": 'rainfed',\n",
    "                  \"Urban Area\": 'urban'}\n",
    "\n",
    "if key == \"All terrestrial pressures\":\n",
    "    area = row['urban'] + row['rainfed'] + row['agricultur']\n",
    "else :\n",
    "    area = row[human_pressure[key]]\n",
    "\n",
    "if not area:\n",
    "    print(f\"% {key} = 0%\")\n",
    "else:\n",
    "    print(f\"% {key} = {area:3.0f}%\")  "
   ]
  },
  {
   "cell_type": "markdown",
   "metadata": {},
   "source": [
    "## Species endpoints\n",
    "\n",
    "Using the species names from the Carto table, you can request the data from the MOL endpoints.\n",
    "\n",
    "https://api.mol.org/1.x/species/info?scientificname=common+name"
   ]
  },
  {
   "cell_type": "code",
   "execution_count": 128,
   "metadata": {},
   "outputs": [
    {
     "data": {
      "text/plain": [
       "'Mesoplodon peruvianus,Pterodroma longirostris'"
      ]
     },
     "execution_count": 128,
     "metadata": {},
     "output_type": "execute_result"
    }
   ],
   "source": [
    "row.get('focal_spp')"
   ]
  },
  {
   "cell_type": "code",
   "execution_count": 129,
   "metadata": {},
   "outputs": [
    {
     "name": "stdout",
     "output_type": "stream",
     "text": [
      "['Mesoplodon peruvianus', 'Pterodroma longirostris']\n"
     ]
    }
   ],
   "source": [
    "species_list = row.get('focal_spp').split(',')\n",
    "\n",
    "print(species_list)"
   ]
  },
  {
   "cell_type": "code",
   "execution_count": 134,
   "metadata": {},
   "outputs": [
    {
     "name": "stdout",
     "output_type": "stream",
     "text": [
      "https://api.mol.org/1.x/species/info?scientificname=Mesoplodon%20peruvianus\n",
      "response 200\n",
      "https://api.mol.org/1.x/species/info?scientificname=Pterodroma%20longirostris\n",
      "response 200\n"
     ]
    }
   ],
   "source": [
    "species_object = []\n",
    "for latin_name in species_list:\n",
    "    url = f\"https://api.mol.org/1.x/species/info?scientificname={latin_name}\"\n",
    "    r = requests.get(url)\n",
    "    print(f\"{r.url}\")\n",
    "    print(f\"response {r.status_code}\")\n",
    "    if r.status_code == 200:\n",
    "        species_object.append(r.json())"
   ]
  },
  {
   "cell_type": "code",
   "execution_count": 135,
   "metadata": {},
   "outputs": [
    {
     "data": {
      "text/plain": [
       "[[{'info': [{'content': \"The pygmy beaked whale (Mesoplodon peruvianus), also known as the bandolero beaked whale, Peruvian beaked whale and lesser beaked whale, is the smallest of the mesoplodonts and one of the newest discoveries. There were at least two dozen sightings of an unknown beaked whale named Mesoplodon sp. A before the initial classification, and those are now believed to be synonymous with the species. The species was formally described in 1991, based on ten specimens obtained from Peru between 1976 and 1989, including a 3.72 m (12.2 ft) adult male as the type specimen. A specimen that stranded at Paracas, Peru in 1955 (first tentatively identified as Andrews' beaked whale) has since been identified as a pygmy beaked whale. Since 1987, there have been an additional 40 sightings of the species, for a total of 65 (as of 2001).\",\n",
       "     'source': 'Wikipedia',\n",
       "     'lang': 'en'}],\n",
       "   'redlist': 'DD',\n",
       "   'rangemap': 'https://api.mol.org/map?name=Mesoplodon%20peruvianus',\n",
       "   'sequenceid': 760,\n",
       "   'family': [{'lang': 'en', 'name': 'Beaked Whales'},\n",
       "    {'lang': 'la', 'name': 'Ziphiidae'}],\n",
       "   'taxa': 'mammals',\n",
       "   'commonname': 'Pygmy Beaked Whale',\n",
       "   'redlist_citation_short': 'IUCN (2008)',\n",
       "   'tc_id': 'd79a29c3-d1da-11e6-93bf-13f2dce9f48f',\n",
       "   'updated_at': '2017-12-12T15:30:11Z',\n",
       "   'bounds': {'northEast': {'lat': 31.91462, 'lng': -70.05627},\n",
       "    'southWest': {'lat': -30.10548, 'lng': -128.87016}},\n",
       "   'redlist_link': 'http://www.iucnredlist.org/details/13251/0',\n",
       "   'scientificname': 'Mesoplodon peruvianus',\n",
       "   'redlist_citation_full': 'Taylor, B.L., Baird, R., Barlow, J., Dawson, S.M., Ford, J., Mead, J.G., Notarbartolo di Sciara, G., Wade, P. & Pitman, R.L. 2008. Mesoplodon peruvianus. The IUCN Red List of Threatened Species 2008: e.T13251A3430977. http://dx.doi.org/10.2305/IUCN.UK.2008.RLTS.T13251A3430977.en',\n",
       "   'image': {'asset_id': '111cbd1ac28e4c309832fd8e29b750dd',\n",
       "    'url': 'https://lh3.googleusercontent.com/A3la9WKam8HSQys4mF17neGnh47FBXzqz4UmI6UfZxXImE_6f8JqZD3gIZq-s5-R12Sz0V3FGNY1In8HezMOYuaS',\n",
       "    'license': 'http://creativecommons.org/licenses/by-nc-sa/3.0/',\n",
       "    'copyright': 'Smithsonian Institution, National Museum of Natural History, Department of Vertebrate Zoology, Division of Mammals'}}],\n",
       " [{'info': [{'content': \"The Stejneger's petrel (Pterodroma longirostris) is a species of seabird and a member of the gadfly petrels. The bird is 26–31 cm in size, with a 53–66 cm wingspan.\\nThis species is highly pelagic, rarely approaching land, except to nest and rear young. It occurs in the Pacific Ocean, nesting in the Juan Fernández Islands off Chile. It is a transequatorial migrant, finding its way to subtropical waters off Japan before returning to its nesting sites. It has been reported well off the west coast of the United States.\\nStejneger's petrel nests in burrows. It prefers slopes and ridges in areas of dense fern forests. The population of this bird is decreasing due to introduced cats on its breeding islands. It is considered a vulnerable species because of its restricted breeding range.\\nThe common name commemorates the Norwegian ornithologist Leonhard Hess Stejneger.\",\n",
       "     'source': 'Wikipedia',\n",
       "     'lang': 'en'}],\n",
       "   'redlist': 'VU',\n",
       "   'rangemap': 'https://api.mol.org/map?name=Pterodroma%20longirostris',\n",
       "   'sequenceid': 95,\n",
       "   'family': [{'lang': 'en', 'name': 'Petrels'},\n",
       "    {'lang': 'la', 'name': 'Procellariidae'}],\n",
       "   'taxa': 'birds',\n",
       "   'commonname': \"Stejneger's Petrel\",\n",
       "   'redlist_citation_short': 'IUCN (2016)',\n",
       "   'tc_id': 'ca161a9f-d1d1-11e6-937a-bba4c3c75c04',\n",
       "   'updated_at': '2017-09-29T05:19:34Z',\n",
       "   'bounds': {'northEast': {'lat': 43.55794, 'lng': 179.99999},\n",
       "    'southWest': {'lat': -39.49885, 'lng': -179.99999}},\n",
       "   'redlist_link': 'http://www.iucnredlist.org/details/22697997/0',\n",
       "   'scientificname': 'Pterodroma longirostris',\n",
       "   'redlist_citation_full': 'BirdLife International 2016. Pterodroma longirostris. The IUCN Red List of Threatened Species 2016: e.T22697997A93652775. http://dx.doi.org/10.2305/IUCN.UK.2016-3.RLTS.T22697997A93652775.en',\n",
       "   'image': None}]]"
      ]
     },
     "execution_count": 135,
     "metadata": {},
     "output_type": "execute_result"
    }
   ],
   "source": [
    "species_object"
   ]
  },
  {
   "cell_type": "code",
   "execution_count": 136,
   "metadata": {},
   "outputs": [],
   "source": [
    "for species in species_object:\n",
    "    species"
   ]
  },
  {
   "cell_type": "code",
   "execution_count": 144,
   "metadata": {},
   "outputs": [
    {
     "data": {
      "text/plain": [
       "{'info': [{'content': \"The Stejneger's petrel (Pterodroma longirostris) is a species of seabird and a member of the gadfly petrels. The bird is 26–31 cm in size, with a 53–66 cm wingspan.\\nThis species is highly pelagic, rarely approaching land, except to nest and rear young. It occurs in the Pacific Ocean, nesting in the Juan Fernández Islands off Chile. It is a transequatorial migrant, finding its way to subtropical waters off Japan before returning to its nesting sites. It has been reported well off the west coast of the United States.\\nStejneger's petrel nests in burrows. It prefers slopes and ridges in areas of dense fern forests. The population of this bird is decreasing due to introduced cats on its breeding islands. It is considered a vulnerable species because of its restricted breeding range.\\nThe common name commemorates the Norwegian ornithologist Leonhard Hess Stejneger.\",\n",
       "   'source': 'Wikipedia',\n",
       "   'lang': 'en'}],\n",
       " 'redlist': 'VU',\n",
       " 'rangemap': 'https://api.mol.org/map?name=Pterodroma%20longirostris',\n",
       " 'sequenceid': 95,\n",
       " 'family': [{'lang': 'en', 'name': 'Petrels'},\n",
       "  {'lang': 'la', 'name': 'Procellariidae'}],\n",
       " 'taxa': 'birds',\n",
       " 'commonname': \"Stejneger's Petrel\",\n",
       " 'redlist_citation_short': 'IUCN (2016)',\n",
       " 'tc_id': 'ca161a9f-d1d1-11e6-937a-bba4c3c75c04',\n",
       " 'updated_at': '2017-09-29T05:19:34Z',\n",
       " 'bounds': {'northEast': {'lat': 43.55794, 'lng': 179.99999},\n",
       "  'southWest': {'lat': -39.49885, 'lng': -179.99999}},\n",
       " 'redlist_link': 'http://www.iucnredlist.org/details/22697997/0',\n",
       " 'scientificname': 'Pterodroma longirostris',\n",
       " 'redlist_citation_full': 'BirdLife International 2016. Pterodroma longirostris. The IUCN Red List of Threatened Species 2016: e.T22697997A93652775. http://dx.doi.org/10.2305/IUCN.UK.2016-3.RLTS.T22697997A93652775.en',\n",
       " 'image': None}"
      ]
     },
     "execution_count": 144,
     "metadata": {},
     "output_type": "execute_result"
    }
   ],
   "source": [
    "url_link_on_image = species[0].get('rangemap')"
   ]
  },
  {
   "cell_type": "code",
   "execution_count": 145,
   "metadata": {},
   "outputs": [
    {
     "data": {
      "text/plain": [
       "'Pterodroma longirostris'"
      ]
     },
     "execution_count": 145,
     "metadata": {},
     "output_type": "execute_result"
    }
   ],
   "source": [
    "latin_name = species[0].get('scientificname')"
   ]
  },
  {
   "cell_type": "code",
   "execution_count": 148,
   "metadata": {},
   "outputs": [
    {
     "data": {
      "text/plain": [
       "\"Stejneger's Petrel\""
      ]
     },
     "execution_count": 148,
     "metadata": {},
     "output_type": "execute_result"
    }
   ],
   "source": [
    "common_name = species[0].get('commonname')\n",
    "common_name"
   ]
  },
  {
   "cell_type": "code",
   "execution_count": 150,
   "metadata": {},
   "outputs": [
    {
     "data": {
      "text/plain": [
       "'VU'"
      ]
     },
     "execution_count": 150,
     "metadata": {},
     "output_type": "execute_result"
    }
   ],
   "source": [
    "iucn_category = species[0].get('redlist')\n",
    "iucn_category"
   ]
  },
  {
   "cell_type": "code",
   "execution_count": 160,
   "metadata": {},
   "outputs": [
    {
     "data": {
      "text/plain": [
       "{'asset_id': '111cbd1ac28e4c309832fd8e29b750dd',\n",
       " 'url': 'https://lh3.googleusercontent.com/A3la9WKam8HSQys4mF17neGnh47FBXzqz4UmI6UfZxXImE_6f8JqZD3gIZq-s5-R12Sz0V3FGNY1In8HezMOYuaS',\n",
       " 'license': 'http://creativecommons.org/licenses/by-nc-sa/3.0/',\n",
       " 'copyright': 'Smithsonian Institution, National Museum of Natural History, Department of Vertebrate Zoology, Division of Mammals'}"
      ]
     },
     "execution_count": 160,
     "metadata": {},
     "output_type": "execute_result"
    }
   ],
   "source": [
    "image_data = species_object[0][0].get('image')\n",
    "image_data"
   ]
  },
  {
   "cell_type": "code",
   "execution_count": null,
   "metadata": {},
   "outputs": [],
   "source": []
  },
  {
   "cell_type": "code",
   "execution_count": null,
   "metadata": {},
   "outputs": [],
   "source": []
  }
 ],
 "metadata": {
  "kernelspec": {
   "display_name": "Python 3",
   "language": "python",
   "name": "python3"
  },
  "language_info": {
   "codemirror_mode": {
    "name": "ipython",
    "version": 3
   },
   "file_extension": ".py",
   "mimetype": "text/x-python",
   "name": "python",
   "nbconvert_exporter": "python",
   "pygments_lexer": "ipython3",
   "version": "3.6.6"
  }
 },
 "nbformat": 4,
 "nbformat_minor": 2
}
