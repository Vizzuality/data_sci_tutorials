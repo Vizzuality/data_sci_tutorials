{
 "cells": [
  {
   "cell_type": "code",
   "execution_count": 1,
   "metadata": {},
   "outputs": [],
   "source": [
    "import json\n",
    "import os\n",
    "import requests\n",
    "from pprint import pprint\n",
    "import random\n",
    "import datetime"
   ]
  },
  {
   "cell_type": "code",
   "execution_count": 2,
   "metadata": {},
   "outputs": [],
   "source": [
    "s = requests.session()\n",
    "s.cookies.clear()"
   ]
  },
  {
   "cell_type": "code",
   "execution_count": 3,
   "metadata": {},
   "outputs": [],
   "source": [
    "OAUTH = \"\""
   ]
  },
  {
   "cell_type": "markdown",
   "metadata": {},
   "source": [
    "# Functions\n",
    "\n",
    "Jump to:\n",
    "\n",
    "1. [Update Layer](#layers)\n",
    "1. [Update Dataset](#datasets)"
   ]
  },
  {
   "cell_type": "code",
   "execution_count": 4,
   "metadata": {},
   "outputs": [],
   "source": [
    "def searchLayer(search, app='gfw'):\n",
    "    search = search.strip().split(' ')\n",
    "    \n",
    "    hash = random.getrandbits(16)\n",
    "    url = f'https://api.resourcewatch.org/v1/dataset?app={app}&includes=layer,vocabulary,metadata&page[size]=10000&hash={hash}'\n",
    "\n",
    "    r = requests.get(url)\n",
    "#     print(r.url)\n",
    "\n",
    "    datasets = r.json().get('data', None)\n",
    "    \n",
    "    found = []\n",
    "    for s in search:\n",
    "        for d in datasets:\n",
    "            ds_id = d.get('id')\n",
    "            d_name = d.get('attributes').get('name').lower()\n",
    "            slug = d.get('attributes').get('slug').lower()\n",
    "\n",
    "            layers = d.get('attributes').get('layer', None)\n",
    "\n",
    "            if layers and len(layers) > 0:\n",
    "                if s in d_name or s in slug:\n",
    "                    for l in layers:\n",
    "                        l_name = l.get('attributes').get('name').lower()\n",
    "                        l_id = l.get('id')\n",
    "                        if app in l.get('attributes').get('application'):\n",
    "                            if {'d_name': d_name, 'l_name': l_name, 'ds_id': ds_id, 'l_id': l_id} not in found:\n",
    "                                found.append({'d_name': d_name, 'l_name': l_name, 'ds_id': ds_id, 'l_id': l_id})\n",
    "                else:\n",
    "                    for l in layers:\n",
    "                        l_name = l.get('attributes').get('name').lower()\n",
    "                        layerSlug = l.get('attributes').get('slug').lower()\n",
    "                        l_id = l.get('id')\n",
    "                        if app in l.get('attributes').get('application') and (s in l_name or s in layerSlug):\n",
    "                            if {'d_name': d_name, 'l_name': l_name, 'ds_id': ds_id, 'l_id': l_id} not in found:\n",
    "                                found.append({'d_name': d_name, 'l_name': l_name, 'ds_id': ds_id, 'l_id': l_id})\n",
    "\n",
    "    if len(found) > 0:\n",
    "        for i, value in enumerate(found):\n",
    "            print(f\"{i} - {value.get('l_name')}\\nhttp://api.resourcewatch.org/dataset/{value.get('ds_id')}/layer/{value.get('l_id')}?hash={hash}\\n\")\n",
    "    else:\n",
    "        print('No match! :(')\n",
    "\n",
    "    return found"
   ]
  },
  {
   "cell_type": "code",
   "execution_count": 5,
   "metadata": {},
   "outputs": [],
   "source": [
    "def index(found, i):\n",
    "    hash = random.getrandbits(16)\n",
    "    ds = found[i]['ds_id']\n",
    "    l = found[i]['l_id']\n",
    "\n",
    "    url = f\"http://api.resourcewatch.org/dataset/{ds}/layer/{l}?hash={hash}\"\n",
    "\n",
    "    r = requests.get(url)\n",
    "#     print(r.url)\n",
    "    layer = r.json().get('data',None)\n",
    "    updates = layer.get('attributes')\n",
    "    print(updates.get('name', None))\n",
    "    \n",
    "    return {\n",
    "        'id': {'ds_id': ds, 'l_id': l},\n",
    "        'app': {'value': updates.get('applicationConfig', None), 'key': 'applicationConfig'},\n",
    "        'lay': {'value': updates.get('layerConfig', None), 'key': 'layerConfig'},\n",
    "        'int': {'value': updates.get('interactionConfig', None), 'key': 'interactionConfig'},\n",
    "        'leg': {'value': updates.get('legendConfig', None), 'key': 'legendConfig'},\n",
    "        'iso': {'value': updates.get('iso', None), 'key': 'iso'},\n",
    "        'name': {'value': updates.get('name', None), 'key': 'name'}\n",
    "    }"
   ]
  },
  {
   "cell_type": "code",
   "execution_count": 6,
   "metadata": {},
   "outputs": [],
   "source": [
    "def getPayload(key, update, pipeline=False):\n",
    "    print(f\"'{update.get(key).get('key')}': \")\n",
    "    pprint(update.get(key).get('value'))\n",
    "    if pipeline:\n",
    "        return update.get(key).get('value')"
   ]
  },
  {
   "cell_type": "code",
   "execution_count": 7,
   "metadata": {},
   "outputs": [],
   "source": [
    "def layerUpdate(payload, updates):\n",
    "    hash = random.getrandbits(16)\n",
    "    ds = updates.get('id')['ds_id']\n",
    "    l = updates.get('id')['l_id']\n",
    "    \n",
    "    url = f'http://api.resourcewatch.org/dataset/{ds}/layer/{l}'\n",
    "    print(url)\n",
    "    headers = {'Authorization': 'Bearer ' + OAUTH, 'Content-Type': 'application/json'}\n",
    "\n",
    "    r = requests.patch(url, data=json.dumps(payload), headers=headers)\n",
    "    pprint(r.json())\n",
    "    "
   ]
  },
  {
   "cell_type": "code",
   "execution_count": 8,
   "metadata": {},
   "outputs": [],
   "source": [
    "def searchDataset(search, app):\n",
    "    search = search.strip().split(' ')\n",
    "    hash = random.getrandbits(16)\n",
    "    url = f'https://api.resourcewatch.org/v1/dataset?app={app}&includes=layer,vocabulary,metadata&page[size]=10000&hash={hash}'\n",
    "\n",
    "    r = requests.get(url)\n",
    "#     print(r.url)\n",
    "\n",
    "    datasets = r.json().get('data',None)\n",
    "\n",
    "    found = []\n",
    "    for s in search:\n",
    "        for d in datasets:\n",
    "            ds_id = d.get('id')\n",
    "            d_name = d.get('attributes').get('name').lower()\n",
    "            slug = d.get('attributes').get('slug').lower()\n",
    "\n",
    "            layers = d.get('attributes').get('layer')\n",
    "\n",
    "            if layers and len(layers) > 0:\n",
    "                if s in d_name or s in slug:\n",
    "                    found.append({'d_name': d_name, 'ds_id': ds_id})\n",
    "            \n",
    "\n",
    "    if len(found) > 0:\n",
    "        for i, value in enumerate(found):\n",
    "            print(f\"{i} - {value.get('d_name')}\\nhttp://api.resourcewatch.org/dataset/{value.get('ds_id')}?includes=metadata,vocabulary&hash={hash}\\n\")\n",
    "    else:\n",
    "        print('No match! :(')\n",
    "\n",
    "    return found"
   ]
  },
  {
   "cell_type": "code",
   "execution_count": 9,
   "metadata": {},
   "outputs": [],
   "source": [
    "def dsIndex(found, app, i):\n",
    "    hash = random.getrandbits(16)\n",
    "    ds = found[i]['ds_id']\n",
    "\n",
    "    url = f\"http://api.resourcewatch.org/dataset/{ds}?includes=metadata,vocabulary&hash={hash}\"\n",
    "\n",
    "    r = requests.get(url)\n",
    "#     print(r.url)\n",
    "    dataset = r.json().get('data',None)\n",
    "    updates = dataset.get('attributes')\n",
    "    atts = {\n",
    "        \"name\": updates.get(\"name\"),\n",
    "        \"subtitle\": updates.get(\"subtitle\"),\n",
    "        \"application\": updates.get(\"application\"),\n",
    "        \"dataPath\": updates.get(\"dataPath\"),\n",
    "        \"attributesPath\": updates.get(\"attributesPath\"),\n",
    "        \"connectorType\": updates.get(\"connectorType\"),\n",
    "        \"provider\": updates.get(\"provider\"),\n",
    "        \"connectorUrl\": updates.get(\"connectorUrl\"),\n",
    "        \"tableName\": updates.get(\"tableName\"),\n",
    "        \"published\": updates.get(\"published\"),\n",
    "        \"env\": updates.get(\"env\"),\n",
    "        \"geoInfo\": updates.get(\"geoInfo\"),\n",
    "        \"protected\": updates.get(\"protected\")\n",
    "    }\n",
    "    \n",
    "    pprint(updates.get('name', None))\n",
    "    \n",
    "    metadata = updates.get('metadata', None)\n",
    "    if metadata:\n",
    "        for m in metadata:\n",
    "            if app in m.get('attributes').get('application'):\n",
    "                meta = m.get('attributes').get('info')\n",
    "    else:\n",
    "        meta = {}\n",
    "    \n",
    "    vocabulary = updates.get('vocabulary', None)\n",
    "    vocabs = []\n",
    "    if vocabulary:\n",
    "        for v in vocabulary:\n",
    "            if app in v.get('attributes').get('application'):\n",
    "                vocabs.append({\n",
    "                    'tags': v.get('attributes').get('tags'),\n",
    "                    'name': v.get('attributes').get('name')\n",
    "                })\n",
    "    \n",
    "    return {\n",
    "        'id': ds,\n",
    "        'meta': {'value': meta, 'key': 'metadata'},\n",
    "        'vocab': {'value': vocabs, 'key': 'vocabulary'},\n",
    "        'att': {'value': atts, 'key': 'attributes'}\n",
    "    }"
   ]
  },
  {
   "cell_type": "code",
   "execution_count": 10,
   "metadata": {},
   "outputs": [],
   "source": [
    "def getDsPayload(key, update):\n",
    "    print(f\"'{update.get(key).get('key')}': \")\n",
    "    pprint(update.get(key).get('value'))\n",
    "#     return tmp"
   ]
  },
  {
   "cell_type": "code",
   "execution_count": 11,
   "metadata": {},
   "outputs": [],
   "source": [
    "def dsUpdate(payload, app, update, new=False):\n",
    "    hash = random.getrandbits(16)\n",
    "    ds = update['id']\n",
    "    \n",
    "    if payload.get('metadata', None):\n",
    "        \n",
    "        info = payload.get('metadata')\n",
    "        url = f'https://api.resourcewatch.org/v1/dataset/{ds}/metadata'\n",
    "        \n",
    "        tmp = {\n",
    "            \n",
    "            \"application\": app,\n",
    "            \"language\": \"en\",\n",
    "            \"info\": info,\n",
    "        }\n",
    "        \n",
    "        headers = {'Authorization': 'Bearer ' + OAUTH, 'Content-Type': 'application/json'}\n",
    "        \n",
    "        if new:\n",
    "            r = requests.post(url, data=json.dumps(tmp), headers=headers)\n",
    "        elif not new:\n",
    "            r = requests.patch(url, data=json.dumps(tmp), headers=headers)\n",
    "            \n",
    "        print(url)\n",
    "        pprint(r.json())\n",
    "        \n",
    "    elif payload.get('vocabulary', None):\n",
    "        for v in payload.get('vocabulary'):\n",
    "            type = v.get('name')\n",
    "            tags = v.get('tags')\n",
    "            \n",
    "            if not new:\n",
    "                url = f'http://api.resourcewatch.org/dataset/{ds}/vocabulary/{type}?app={app}'\n",
    "                headers = {'Authorization': 'Bearer ' + OAUTH, 'Content-Type': 'application/json', 'Cache-Control': 'no-cache'}\n",
    "                r = requests.delete(url, headers=headers)\n",
    "                print('Relationship: {type} deleted...')\n",
    "            \n",
    "            tmp = {\n",
    "\n",
    "                \"tags\": tags,\n",
    "                \"application\": app\n",
    "            }\n",
    "            \n",
    "            url = f'https://api.resourcewatch.org/v1/dataset/{ds}/vocabulary/{type}'\n",
    "            headers = {'Authorization': 'Bearer ' + OAUTH, 'Content-Type': 'application/json'}\n",
    "            r = requests.post(url, data=json.dumps(tmp), headers=headers)\n",
    "            print(url)\n",
    "            pprint(r.json())\n",
    "            \n",
    "    if payload.get('attributes', None):\n",
    "        \n",
    "        payload = payload.get('attributes')\n",
    "        url = f'http://api.resourcewatch.org/dataset/{ds}'\n",
    "        print(url)\n",
    "        headers = {'Authorization': 'Bearer ' + OAUTH, 'Content-Type': 'application/json'}\n",
    "\n",
    "        r = requests.patch(url, data=json.dumps(payload), headers=headers)\n",
    "        pprint(r.json())\n",
    "        \n",
    "    "
   ]
  },
  {
   "cell_type": "code",
   "execution_count": 12,
   "metadata": {},
   "outputs": [],
   "source": [
    "def saveAll(app):\n",
    "    \n",
    "    #Get datasets\n",
    "    hash = random.getrandbits(128)\n",
    "    url = f'https://api.resourcewatch.org/v1/dataset?app={app}&includes=layer,vocabulary,metadata&page[size]=10000&hash={hash}'\n",
    "\n",
    "    r = requests.get(url)\n",
    "    print(r.url)\n",
    "\n",
    "    datasets = r.json().get('data',None)\n",
    "    \n",
    "    today = datetime.datetime.today().strftime('%Y-%m-%d | %Hh %Mm')\n",
    "\n",
    "    if not os.path.isdir(f\"./BACKUP/{today}\"):\n",
    "        os.mkdir(f\"./BACKUP/{today}\")\n",
    "\n",
    "    with open(f\"./BACKUP/{today}/saved_datasets.json\", 'w') as fp:\n",
    "        json.dump(datasets, fp)\n",
    "\n",
    "    print(\"Saved successfully!\")\n"
   ]
  },
  {
   "cell_type": "markdown",
   "metadata": {},
   "source": [
    "--------------------------------------------"
   ]
  },
  {
   "cell_type": "markdown",
   "metadata": {},
   "source": [
    "<a class=\"anchor\" id=\"layers\"></a>\n",
    "\n",
    "# Layer Search"
   ]
  },
  {
   "cell_type": "code",
   "execution_count": 163,
   "metadata": {},
   "outputs": [
    {
     "name": "stdout",
     "output_type": "stream",
     "text": [
      "0 - wood fiber\n",
      "http://api.resourcewatch.org/dataset/93e67a77-1a31-4d04-a75d-86a4d6e35d54/layer/557dc2cf-0ba7-4410-813c-99d692725fe7?hash=62623\n",
      "\n",
      "1 - wood fiber 2019\n",
      "http://api.resourcewatch.org/dataset/93e67a77-1a31-4d04-a75d-86a4d6e35d54/layer/f680828e-be68-4895-b1ed-1d0915d07457?hash=62623\n",
      "\n"
     ]
    }
   ],
   "source": [
    "# Search using a key word string e.g. 'Glad', or 'tree cover'.\n",
    "# Dont worry about caps or spaces!\n",
    "app = 'gfw'\n",
    "found = searchLayer('fiber', app)"
   ]
  },
  {
   "cell_type": "code",
   "execution_count": 168,
   "metadata": {},
   "outputs": [
    {
     "name": "stdout",
     "output_type": "stream",
     "text": [
      "Wood fiber 2019\n",
      "['app', 'lay', 'int', 'leg', 'iso', 'name']\n"
     ]
    }
   ],
   "source": [
    "update = index(found, 1)\n",
    "keys = list(update.keys())[1:]\n",
    "print(keys)"
   ]
  },
  {
   "cell_type": "code",
   "execution_count": 169,
   "metadata": {
    "scrolled": true
   },
   "outputs": [
    {
     "name": "stdout",
     "output_type": "stream",
     "text": [
      "'applicationConfig': \n",
      "{'active': True,\n",
      " 'analysisEndpoint': 'use',\n",
      " 'default': True,\n",
      " 'global': True,\n",
      " 'metadata': 'gfw_wood_fiber'}\n"
     ]
    }
   ],
   "source": [
    "getPayload('app', update)"
   ]
  },
  {
   "cell_type": "code",
   "execution_count": 170,
   "metadata": {},
   "outputs": [],
   "source": [
    "# COPYPASTA the above and make changes.  \"isImageCollection\": false,\n",
    "\n",
    "payload = {\n",
    "    \n",
    "'name': 'Wood fiber',\n",
    "\n",
    "}\n"
   ]
  },
  {
   "cell_type": "code",
   "execution_count": 171,
   "metadata": {},
   "outputs": [
    {
     "name": "stdout",
     "output_type": "stream",
     "text": [
      "http://api.resourcewatch.org/dataset/93e67a77-1a31-4d04-a75d-86a4d6e35d54/layer/f680828e-be68-4895-b1ed-1d0915d07457\n",
      "{'data': {'attributes': {'application': ['gfw'],\n",
      "                         'applicationConfig': {'active': True,\n",
      "                                               'analysisEndpoint': 'use',\n",
      "                                               'default': True,\n",
      "                                               'global': True,\n",
      "                                               'metadata': 'gfw_wood_fiber'},\n",
      "                         'dataset': '93e67a77-1a31-4d04-a75d-86a4d6e35d54',\n",
      "                         'default': False,\n",
      "                         'description': 'Wood fiber plantation areas',\n",
      "                         'env': 'production',\n",
      "                         'interactionConfig': {'output': [{'column': 'name',\n",
      "                                                           'format': None,\n",
      "                                                           'property': 'Name',\n",
      "                                                           'type': 'string'},\n",
      "                                                          {'column': 'group_comp',\n",
      "                                                           'format': None,\n",
      "                                                           'property': 'Group/Affiliation',\n",
      "                                                           'type': 'string'},\n",
      "                                                          {'column': 'country',\n",
      "                                                           'format': None,\n",
      "                                                           'property': 'Country',\n",
      "                                                           'type': 'string'},\n",
      "                                                          {'column': 'source',\n",
      "                                                           'format': None,\n",
      "                                                           'property': 'Source',\n",
      "                                                           'type': 'string'},\n",
      "                                                          {'column': 'type',\n",
      "                                                           'format': None,\n",
      "                                                           'property': 'Type',\n",
      "                                                           'type': 'string'},\n",
      "                                                          {'column': 'last_updat',\n",
      "                                                           'format': None,\n",
      "                                                           'property': 'Last '\n",
      "                                                                       'update',\n",
      "                                                           'type': 'string'},\n",
      "                                                          {'column': 'area_ha',\n",
      "                                                           'format': None,\n",
      "                                                           'property': 'Area',\n",
      "                                                           'suffix': 'ha',\n",
      "                                                           'type': 'number'},\n",
      "                                                          {'column': 'cartodb_id',\n",
      "                                                           'format': None,\n",
      "                                                           'hidden': True,\n",
      "                                                           'property': 'cartodb_id',\n",
      "                                                           'type': 'number'},\n",
      "                                                          {'column': 'source_typ',\n",
      "                                                           'format': None,\n",
      "                                                           'hidden': False,\n",
      "                                                           'property': 'Type',\n",
      "                                                           'type': 'string'},\n",
      "                                                          {'column': 'the_geom_webmercator',\n",
      "                                                           'format': 'json',\n",
      "                                                           'hidden': True,\n",
      "                                                           'property': 'the_geom',\n",
      "                                                           'type': 'json'}],\n",
      "                                               'type': 'intersection'},\n",
      "                         'iso': [],\n",
      "                         'layerConfig': {'account': 'wri-01',\n",
      "                                         'body': {'layers': [{'options': {'cartocss': '#gov[source_typ=\"government\"]                '\n",
      "                                                                                      '{ '\n",
      "                                                                                      'polygon-fill: '\n",
      "                                                                                      '#8A2F1D; '\n",
      "                                                                                      'polygon-opacity: '\n",
      "                                                                                      '0.7; '\n",
      "                                                                                      '} '\n",
      "                                                                                      '#priv[source_typ=\"private '\n",
      "                                                                                      'sector\"]{ '\n",
      "                                                                                      'polygon-fill: '\n",
      "                                                                                      '#EB5B31;                 '\n",
      "                                                                                      'polygon-opacity: '\n",
      "                                                                                      '0.7; '\n",
      "                                                                                      '}',\n",
      "                                                                          'cartocss_version': '2.3.0',\n",
      "                                                                          'sql': 'SELECT '\n",
      "                                                                                 '* '\n",
      "                                                                                 'FROM '\n",
      "                                                                                 'gfw_woodfiber_2019'},\n",
      "                                                              'type': 'cartodb'}],\n",
      "                                                  'maxzoom': 18,\n",
      "                                                  'minzoom': 3},\n",
      "                                         'params_config': [],\n",
      "                                         'sql_config': [{'key': 'where',\n",
      "                                                         'key_params': [{'key': 'country',\n",
      "                                                                         'required': False}]}]},\n",
      "                         'legendConfig': {'items': [{'color': '#8A2F1D',\n",
      "                                                     'name': 'Government'},\n",
      "                                                    {'color': '#EB5B31',\n",
      "                                                     'name': 'Private sector'}],\n",
      "                                          'type': 'basic'},\n",
      "                         'name': 'Wood fiber',\n",
      "                         'protected': False,\n",
      "                         'provider': 'cartodb',\n",
      "                         'published': True,\n",
      "                         'slug': 'Wood-fiber',\n",
      "                         'staticImageConfig': {},\n",
      "                         'updatedAt': '2019-01-29T14:48:01.032Z',\n",
      "                         'userId': '57a0aa1071e394dd32ffe137'},\n",
      "          'id': 'f680828e-be68-4895-b1ed-1d0915d07457',\n",
      "          'type': 'layer'}}\n"
     ]
    }
   ],
   "source": [
    "layerUpdate(payload, update)"
   ]
  },
  {
   "cell_type": "markdown",
   "metadata": {},
   "source": [
    "--------------------------------------------"
   ]
  },
  {
   "cell_type": "markdown",
   "metadata": {},
   "source": [
    "<a class=\"anchor\" id=\"datasets\"></a>\n",
    "\n",
    "# Dataset Search"
   ]
  },
  {
   "cell_type": "code",
   "execution_count": 172,
   "metadata": {},
   "outputs": [
    {
     "name": "stdout",
     "output_type": "stream",
     "text": [
      "0 - wood fiber\n",
      "http://api.resourcewatch.org/dataset/93e67a77-1a31-4d04-a75d-86a4d6e35d54?includes=metadata,vocabulary&hash=63157\n",
      "\n"
     ]
    }
   ],
   "source": [
    "app = 'gfw'\n",
    "found = searchDataset('fiber', app)"
   ]
  },
  {
   "cell_type": "code",
   "execution_count": 173,
   "metadata": {},
   "outputs": [
    {
     "name": "stdout",
     "output_type": "stream",
     "text": [
      "'Wood Fiber'\n",
      "['meta', 'vocab', 'att']\n"
     ]
    }
   ],
   "source": [
    "update = dsIndex(found, app, 0)\n",
    "keys = list(update.keys())[1:]\n",
    "print(keys)"
   ]
  },
  {
   "cell_type": "code",
   "execution_count": 174,
   "metadata": {},
   "outputs": [
    {
     "name": "stdout",
     "output_type": "stream",
     "text": [
      "'attributes': \n",
      "{'application': ['gfw'],\n",
      " 'attributesPath': None,\n",
      " 'connectorType': 'rest',\n",
      " 'connectorUrl': 'https://wri-01.carto.com/tables/gfw_wood_fiber',\n",
      " 'dataPath': None,\n",
      " 'env': 'production',\n",
      " 'geoInfo': False,\n",
      " 'name': 'Wood Fiber',\n",
      " 'protected': True,\n",
      " 'provider': 'cartodb',\n",
      " 'published': True,\n",
      " 'subtitle': None,\n",
      " 'tableName': 'gfw_wood_fiber'}\n"
     ]
    }
   ],
   "source": [
    "getDsPayload('att', update)"
   ]
  },
  {
   "cell_type": "code",
   "execution_count": 175,
   "metadata": {},
   "outputs": [],
   "source": [
    "# COPYPASTA here. For vocabs, only change the content of the tags list.\n",
    "# it will delete the old tag and replace.\n",
    "# For attributes - dont copy the object parens \n",
    "\n",
    "payload = {\n",
    "    \n",
    "'attributes': \n",
    "{\n",
    " 'connectorUrl': 'https://wri-01.carto.com/tables/gfw_woodfiber_2019',\n",
    " 'tableName': 'gfw_woodfiber_2019'\n",
    "}\n",
    "    \n",
    "}\n",
    "\n",
    "new = False"
   ]
  },
  {
   "cell_type": "code",
   "execution_count": 176,
   "metadata": {},
   "outputs": [
    {
     "name": "stdout",
     "output_type": "stream",
     "text": [
      "http://api.resourcewatch.org/dataset/93e67a77-1a31-4d04-a75d-86a4d6e35d54\n",
      "{'data': {'attributes': {'application': ['gfw'],\n",
      "                         'attributesPath': None,\n",
      "                         'blockchain': {},\n",
      "                         'clonedHost': {},\n",
      "                         'connectorType': 'rest',\n",
      "                         'connectorUrl': 'https://wri-01.carto.com/tables/gfw_woodfiber_2019',\n",
      "                         'dataLastUpdated': None,\n",
      "                         'dataPath': None,\n",
      "                         'env': 'production',\n",
      "                         'errorMessage': '',\n",
      "                         'geoInfo': False,\n",
      "                         'layerRelevantProps': [],\n",
      "                         'legend': {'country': [],\n",
      "                                    'date': [],\n",
      "                                    'nested': [],\n",
      "                                    'region': []},\n",
      "                         'mainDateField': None,\n",
      "                         'name': 'Wood Fiber',\n",
      "                         'overwrite': False,\n",
      "                         'protected': True,\n",
      "                         'provider': 'cartodb',\n",
      "                         'published': True,\n",
      "                         'slug': 'Wood-Fiber',\n",
      "                         'status': 'saved',\n",
      "                         'subtitle': None,\n",
      "                         'tableName': 'gfw_woodfiber_2019',\n",
      "                         'taskId': None,\n",
      "                         'type': None,\n",
      "                         'updatedAt': '2019-01-29T14:58:20.755Z',\n",
      "                         'userId': '59db4eace9c1380001d6e4c3',\n",
      "                         'verified': False,\n",
      "                         'widgetRelevantProps': []},\n",
      "          'id': '93e67a77-1a31-4d04-a75d-86a4d6e35d54',\n",
      "          'type': 'dataset'}}\n"
     ]
    }
   ],
   "source": [
    "dsUpdate(payload, app, update, new)"
   ]
  }
 ],
 "metadata": {
  "kernelspec": {
   "display_name": "Python 3",
   "language": "python",
   "name": "python3"
  },
  "language_info": {
   "codemirror_mode": {
    "name": "ipython",
    "version": 3
   },
   "file_extension": ".py",
   "mimetype": "text/x-python",
   "name": "python",
   "nbconvert_exporter": "python",
   "pygments_lexer": "ipython3",
   "version": "3.6.2"
  }
 },
 "nbformat": 4,
 "nbformat_minor": 2
}
