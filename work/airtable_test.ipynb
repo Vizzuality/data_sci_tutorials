{
 "cells": [
  {
   "cell_type": "markdown",
   "metadata": {},
   "source": [
    "# KTP database exploration\n",
    "\n",
    "Testing access to Airtable dataset via the airtable HTTP API. Requires a valid api_token.\n",
    "\n",
    "https://airtable.com/appQbIS18Qc8GskMC/api/docs#curl/table:quotes:list\n",
    "\n",
    "Looks like we can only load 100 rows at a time. We need to use pagination and joins to extract all data from the REST API.\n",
    "\n",
    "https://docs.google.com/presentation/d/1SyLoZid1-M3FXTjwZlmRxaPyBe9iZ1Q0m8T3qdjMKpw/edit\n",
    "\n",
    "https://vizzuality.blogin.co/single-post.php?id=63837\n",
    "\n",
    "https://towardsdatascience.com/basic-nlp-on-the-texts-of-harry-potter-sentiment-analysis-1b474b13651d"
   ]
  },
  {
   "cell_type": "code",
   "execution_count": 197,
   "metadata": {},
   "outputs": [],
   "source": [
    "import getpass\n",
    "import requests\n",
    "import pandas as pd\n",
    "import matplotlib.pyplot as plt\n",
    "import numpy as np\n",
    "%matplotlib inline"
   ]
  },
  {
   "cell_type": "code",
   "execution_count": 3,
   "metadata": {},
   "outputs": [
    {
     "name": "stdin",
     "output_type": "stream",
     "text": [
      " ·················\n"
     ]
    }
   ],
   "source": [
    "api_token = getpass.getpass()"
   ]
  },
  {
   "cell_type": "code",
   "execution_count": 12,
   "metadata": {},
   "outputs": [],
   "source": [
    "url = \"https://api.airtable.com/v0/appQbIS18Qc8GskMC/Quotes\""
   ]
  },
  {
   "cell_type": "code",
   "execution_count": 13,
   "metadata": {},
   "outputs": [],
   "source": [
    "params = {'api_key': api_token}\n",
    "r = requests.get(url=url, params=params)"
   ]
  },
  {
   "cell_type": "code",
   "execution_count": 14,
   "metadata": {},
   "outputs": [],
   "source": [
    "tmp = []\n",
    "for row in r.json().get('records'):\n",
    "    tmp.append(row.get('fields'))\n",
    "df = pd.DataFrame(tmp)"
   ]
  },
  {
   "cell_type": "code",
   "execution_count": 15,
   "metadata": {},
   "outputs": [
    {
     "data": {
      "text/plain": [
       "100"
      ]
     },
     "execution_count": 15,
     "metadata": {},
     "output_type": "execute_result"
    }
   ],
   "source": [
    "len(df)"
   ]
  },
  {
   "cell_type": "code",
   "execution_count": 16,
   "metadata": {},
   "outputs": [
    {
     "data": {
      "text/html": [
       "<div>\n",
       "<style scoped>\n",
       "    .dataframe tbody tr th:only-of-type {\n",
       "        vertical-align: middle;\n",
       "    }\n",
       "\n",
       "    .dataframe tbody tr th {\n",
       "        vertical-align: top;\n",
       "    }\n",
       "\n",
       "    .dataframe thead th {\n",
       "        text-align: right;\n",
       "    }\n",
       "</style>\n",
       "<table border=\"1\" class=\"dataframe\">\n",
       "  <thead>\n",
       "    <tr style=\"text-align: right;\">\n",
       "      <th></th>\n",
       "      <th>Quotes</th>\n",
       "      <th>Sub-Tags</th>\n",
       "      <th>Platform</th>\n",
       "      <th>Study</th>\n",
       "      <th>Participant</th>\n",
       "      <th>quote_id</th>\n",
       "    </tr>\n",
       "  </thead>\n",
       "  <tbody>\n",
       "    <tr>\n",
       "      <th>0</th>\n",
       "      <td>I started with maps which was ok. I selected c...</td>\n",
       "      <td>[recqSLy44kvaldDie, rec2dtAU6AQmZRtBp]</td>\n",
       "      <td>[recsT2ijAss13Fi2o]</td>\n",
       "      <td>[recL9cedQRzGUKQmN]</td>\n",
       "      <td>[recckJBJDSGLsjqOT]</td>\n",
       "      <td>123</td>\n",
       "    </tr>\n",
       "    <tr>\n",
       "      <th>1</th>\n",
       "      <td>SDGs I knew already. I didn’t know the NDCs ev...</td>\n",
       "      <td>[recPj0UcuXHPsKaHQ]</td>\n",
       "      <td>[recGL9hhVifrnrn0c]</td>\n",
       "      <td>[recL9cedQRzGUKQmN]</td>\n",
       "      <td>[rec5Fxbhf4QwXpFYj]</td>\n",
       "      <td>647</td>\n",
       "    </tr>\n",
       "    <tr>\n",
       "      <th>2</th>\n",
       "      <td>There seem to be a lot more data. Lots of opti...</td>\n",
       "      <td>[recxhYr8LmVR0KM15]</td>\n",
       "      <td>[recz299kfcyPQKWot]</td>\n",
       "      <td>[recL9cedQRzGUKQmN]</td>\n",
       "      <td>[recIMbEGo8zK1jKMI]</td>\n",
       "      <td>782</td>\n",
       "    </tr>\n",
       "    <tr>\n",
       "      <th>3</th>\n",
       "      <td>Global Fishing watch, for 10 minutes, didn’t g...</td>\n",
       "      <td>[recXLs04jMilVhLHA]</td>\n",
       "      <td>[recpljX7elGfy9aVE, recDicfhFnLpNHg5M]</td>\n",
       "      <td>[recL9cedQRzGUKQmN]</td>\n",
       "      <td>[rec8TcDFCXfTvTcW1]</td>\n",
       "      <td>1359</td>\n",
       "    </tr>\n",
       "    <tr>\n",
       "      <th>4</th>\n",
       "      <td>I wanted to see what the mapping is like and i...</td>\n",
       "      <td>[recqSLy44kvaldDie, rec4agB7NRtMXFffa, recdyax...</td>\n",
       "      <td>[recfbCmz2tnt4H8Zj]</td>\n",
       "      <td>[recL9cedQRzGUKQmN]</td>\n",
       "      <td>[recbcRmT5X1HBZXTf]</td>\n",
       "      <td>328</td>\n",
       "    </tr>\n",
       "  </tbody>\n",
       "</table>\n",
       "</div>"
      ],
      "text/plain": [
       "                                              Quotes  \\\n",
       "0  I started with maps which was ok. I selected c...   \n",
       "1  SDGs I knew already. I didn’t know the NDCs ev...   \n",
       "2  There seem to be a lot more data. Lots of opti...   \n",
       "3  Global Fishing watch, for 10 minutes, didn’t g...   \n",
       "4  I wanted to see what the mapping is like and i...   \n",
       "\n",
       "                                            Sub-Tags  \\\n",
       "0             [recqSLy44kvaldDie, rec2dtAU6AQmZRtBp]   \n",
       "1                                [recPj0UcuXHPsKaHQ]   \n",
       "2                                [recxhYr8LmVR0KM15]   \n",
       "3                                [recXLs04jMilVhLHA]   \n",
       "4  [recqSLy44kvaldDie, rec4agB7NRtMXFffa, recdyax...   \n",
       "\n",
       "                                 Platform                Study  \\\n",
       "0                     [recsT2ijAss13Fi2o]  [recL9cedQRzGUKQmN]   \n",
       "1                     [recGL9hhVifrnrn0c]  [recL9cedQRzGUKQmN]   \n",
       "2                     [recz299kfcyPQKWot]  [recL9cedQRzGUKQmN]   \n",
       "3  [recpljX7elGfy9aVE, recDicfhFnLpNHg5M]  [recL9cedQRzGUKQmN]   \n",
       "4                     [recfbCmz2tnt4H8Zj]  [recL9cedQRzGUKQmN]   \n",
       "\n",
       "           Participant quote_id  \n",
       "0  [recckJBJDSGLsjqOT]      123  \n",
       "1  [rec5Fxbhf4QwXpFYj]      647  \n",
       "2  [recIMbEGo8zK1jKMI]      782  \n",
       "3  [rec8TcDFCXfTvTcW1]     1359  \n",
       "4  [recbcRmT5X1HBZXTf]      328  "
      ]
     },
     "execution_count": 16,
     "metadata": {},
     "output_type": "execute_result"
    }
   ],
   "source": [
    "df.head()"
   ]
  },
  {
   "cell_type": "markdown",
   "metadata": {},
   "source": [
    "Interesting, looks like the tags are associated to a uniqe ID, it is that ID that is returned, not the string label of the tags. Will need to create a mapping to the strings in Python."
   ]
  },
  {
   "cell_type": "code",
   "execution_count": 18,
   "metadata": {},
   "outputs": [
    {
     "data": {
      "text/html": [
       "<div>\n",
       "<style scoped>\n",
       "    .dataframe tbody tr th:only-of-type {\n",
       "        vertical-align: middle;\n",
       "    }\n",
       "\n",
       "    .dataframe tbody tr th {\n",
       "        vertical-align: top;\n",
       "    }\n",
       "\n",
       "    .dataframe thead th {\n",
       "        text-align: right;\n",
       "    }\n",
       "</style>\n",
       "<table border=\"1\" class=\"dataframe\">\n",
       "  <thead>\n",
       "    <tr style=\"text-align: right;\">\n",
       "      <th></th>\n",
       "      <th>Quotes</th>\n",
       "      <th>Sub-Tags</th>\n",
       "      <th>Platform</th>\n",
       "      <th>Study</th>\n",
       "      <th>Participant</th>\n",
       "      <th>quote_id</th>\n",
       "    </tr>\n",
       "  </thead>\n",
       "  <tbody>\n",
       "    <tr>\n",
       "      <th>95</th>\n",
       "      <td>Biodiversity. Country-specific. General data s...</td>\n",
       "      <td>[recThxYCIPwewDP1h]</td>\n",
       "      <td>[recz299kfcyPQKWot]</td>\n",
       "      <td>[recL9cedQRzGUKQmN]</td>\n",
       "      <td>[recwGRtYQCRZyG2Bh]</td>\n",
       "      <td>753</td>\n",
       "    </tr>\n",
       "    <tr>\n",
       "      <th>96</th>\n",
       "      <td>these numbers are quite good, three million pl...</td>\n",
       "      <td>[recxhYr8LmVR0KM15, recWgLx9yG38DiTfk, recKueE...</td>\n",
       "      <td>[recDicfhFnLpNHg5M]</td>\n",
       "      <td>[recL9cedQRzGUKQmN]</td>\n",
       "      <td>[rec5Fxbhf4QwXpFYj]</td>\n",
       "      <td>1165</td>\n",
       "    </tr>\n",
       "    <tr>\n",
       "      <th>97</th>\n",
       "      <td>I guess the abbreviation here is million tons...</td>\n",
       "      <td>[recANsXhuaYlIuNsF, reccf1cVYiwjonnhu]</td>\n",
       "      <td>[recGL9hhVifrnrn0c]</td>\n",
       "      <td>[recL9cedQRzGUKQmN]</td>\n",
       "      <td>[rec5Fxbhf4QwXpFYj]</td>\n",
       "      <td>651</td>\n",
       "    </tr>\n",
       "    <tr>\n",
       "      <th>98</th>\n",
       "      <td>there is a lot of information,  I like that.  ...</td>\n",
       "      <td>[recZXOxoDMbLGhMcl, recD3JEqhaRFNXyAJ]</td>\n",
       "      <td>[recz299kfcyPQKWot]</td>\n",
       "      <td>[recL9cedQRzGUKQmN]</td>\n",
       "      <td>[rec8TcDFCXfTvTcW1]</td>\n",
       "      <td>842</td>\n",
       "    </tr>\n",
       "    <tr>\n",
       "      <th>99</th>\n",
       "      <td>We have used these sort of diagrams before to ...</td>\n",
       "      <td>[reccc0V3j2lZjuShl]</td>\n",
       "      <td>[recsT2ijAss13Fi2o]</td>\n",
       "      <td>[recL9cedQRzGUKQmN]</td>\n",
       "      <td>[recYbRdqc4TKVQS1I]</td>\n",
       "      <td>9</td>\n",
       "    </tr>\n",
       "  </tbody>\n",
       "</table>\n",
       "</div>"
      ],
      "text/plain": [
       "                                               Quotes  \\\n",
       "95  Biodiversity. Country-specific. General data s...   \n",
       "96  these numbers are quite good, three million pl...   \n",
       "97   I guess the abbreviation here is million tons...   \n",
       "98  there is a lot of information,  I like that.  ...   \n",
       "99  We have used these sort of diagrams before to ...   \n",
       "\n",
       "                                             Sub-Tags             Platform  \\\n",
       "95                                [recThxYCIPwewDP1h]  [recz299kfcyPQKWot]   \n",
       "96  [recxhYr8LmVR0KM15, recWgLx9yG38DiTfk, recKueE...  [recDicfhFnLpNHg5M]   \n",
       "97             [recANsXhuaYlIuNsF, reccf1cVYiwjonnhu]  [recGL9hhVifrnrn0c]   \n",
       "98             [recZXOxoDMbLGhMcl, recD3JEqhaRFNXyAJ]  [recz299kfcyPQKWot]   \n",
       "99                                [reccc0V3j2lZjuShl]  [recsT2ijAss13Fi2o]   \n",
       "\n",
       "                  Study          Participant quote_id  \n",
       "95  [recL9cedQRzGUKQmN]  [recwGRtYQCRZyG2Bh]      753  \n",
       "96  [recL9cedQRzGUKQmN]  [rec5Fxbhf4QwXpFYj]     1165  \n",
       "97  [recL9cedQRzGUKQmN]  [rec5Fxbhf4QwXpFYj]      651  \n",
       "98  [recL9cedQRzGUKQmN]  [rec8TcDFCXfTvTcW1]      842  \n",
       "99  [recL9cedQRzGUKQmN]  [recYbRdqc4TKVQS1I]        9  "
      ]
     },
     "execution_count": 18,
     "metadata": {},
     "output_type": "execute_result"
    }
   ],
   "source": [
    "df.tail()"
   ]
  },
  {
   "cell_type": "code",
   "execution_count": null,
   "metadata": {},
   "outputs": [],
   "source": []
  },
  {
   "cell_type": "markdown",
   "metadata": {},
   "source": [
    "## Loading data directly\n",
    "\n",
    "Might be easier just to grab the data directly outside of the API"
   ]
  },
  {
   "cell_type": "code",
   "execution_count": 131,
   "metadata": {},
   "outputs": [],
   "source": [
    "csv = pd.read_csv(\"/Users/Ben/Downloads/Quotes-Grid.csv\")"
   ]
  },
  {
   "cell_type": "code",
   "execution_count": 132,
   "metadata": {},
   "outputs": [
    {
     "data": {
      "text/html": [
       "<div>\n",
       "<style scoped>\n",
       "    .dataframe tbody tr th:only-of-type {\n",
       "        vertical-align: middle;\n",
       "    }\n",
       "\n",
       "    .dataframe tbody tr th {\n",
       "        vertical-align: top;\n",
       "    }\n",
       "\n",
       "    .dataframe thead th {\n",
       "        text-align: right;\n",
       "    }\n",
       "</style>\n",
       "<table border=\"1\" class=\"dataframe\">\n",
       "  <thead>\n",
       "    <tr style=\"text-align: right;\">\n",
       "      <th></th>\n",
       "      <th>Quotes</th>\n",
       "      <th>quote_id</th>\n",
       "      <th>Sub-Tags</th>\n",
       "      <th>Platform</th>\n",
       "      <th>Study</th>\n",
       "      <th>Participant</th>\n",
       "      <th>Interview</th>\n",
       "      <th>Screen recording</th>\n",
       "    </tr>\n",
       "  </thead>\n",
       "  <tbody>\n",
       "    <tr>\n",
       "      <th>0</th>\n",
       "      <td>Yeah that hummingbirds which I’m still wonderi...</td>\n",
       "      <td>1499</td>\n",
       "      <td>quality</td>\n",
       "      <td>Half Earth</td>\n",
       "      <td>Maddie's study</td>\n",
       "      <td>P24</td>\n",
       "      <td>NaN</td>\n",
       "      <td>NaN</td>\n",
       "    </tr>\n",
       "    <tr>\n",
       "      <th>1</th>\n",
       "      <td>I like maps but I found that one quite confusi...</td>\n",
       "      <td>1500</td>\n",
       "      <td>map,little,overwhelming</td>\n",
       "      <td>Half Earth</td>\n",
       "      <td>Maddie's study</td>\n",
       "      <td>P24</td>\n",
       "      <td>NaN</td>\n",
       "      <td>NaN</td>\n",
       "    </tr>\n",
       "    <tr>\n",
       "      <th>2</th>\n",
       "      <td>So what I was hoping it would do would be to b...</td>\n",
       "      <td>1501</td>\n",
       "      <td>map,layers</td>\n",
       "      <td>Half Earth</td>\n",
       "      <td>Maddie's study</td>\n",
       "      <td>P24</td>\n",
       "      <td>NaN</td>\n",
       "      <td>NaN</td>\n",
       "    </tr>\n",
       "    <tr>\n",
       "      <th>3</th>\n",
       "      <td>Also the colours didn't really work or relate ...</td>\n",
       "      <td>1502</td>\n",
       "      <td>map,colours</td>\n",
       "      <td>Half Earth</td>\n",
       "      <td>Maddie's study</td>\n",
       "      <td>P24</td>\n",
       "      <td>NaN</td>\n",
       "      <td>NaN</td>\n",
       "    </tr>\n",
       "    <tr>\n",
       "      <th>4</th>\n",
       "      <td>yeah it just was a bit messy and too much inf...</td>\n",
       "      <td>1503</td>\n",
       "      <td>overwhelming,demanding</td>\n",
       "      <td>Half Earth</td>\n",
       "      <td>Maddie's study</td>\n",
       "      <td>P24</td>\n",
       "      <td>NaN</td>\n",
       "      <td>NaN</td>\n",
       "    </tr>\n",
       "  </tbody>\n",
       "</table>\n",
       "</div>"
      ],
      "text/plain": [
       "                                              Quotes  quote_id  \\\n",
       "0  Yeah that hummingbirds which I’m still wonderi...      1499   \n",
       "1  I like maps but I found that one quite confusi...      1500   \n",
       "2  So what I was hoping it would do would be to b...      1501   \n",
       "3  Also the colours didn't really work or relate ...      1502   \n",
       "4   yeah it just was a bit messy and too much inf...      1503   \n",
       "\n",
       "                  Sub-Tags    Platform           Study Participant  Interview  \\\n",
       "0                  quality  Half Earth  Maddie's study         P24        NaN   \n",
       "1  map,little,overwhelming  Half Earth  Maddie's study         P24        NaN   \n",
       "2               map,layers  Half Earth  Maddie's study         P24        NaN   \n",
       "3              map,colours  Half Earth  Maddie's study         P24        NaN   \n",
       "4   overwhelming,demanding  Half Earth  Maddie's study         P24        NaN   \n",
       "\n",
       "  Screen recording  \n",
       "0              NaN  \n",
       "1              NaN  \n",
       "2              NaN  \n",
       "3              NaN  \n",
       "4              NaN  "
      ]
     },
     "execution_count": 132,
     "metadata": {},
     "output_type": "execute_result"
    }
   ],
   "source": [
    "csv.head()"
   ]
  },
  {
   "cell_type": "code",
   "execution_count": 133,
   "metadata": {},
   "outputs": [
    {
     "data": {
      "text/plain": [
       "1714"
      ]
     },
     "execution_count": 133,
     "metadata": {},
     "output_type": "execute_result"
    }
   ],
   "source": [
    "len(csv)"
   ]
  },
  {
   "cell_type": "code",
   "execution_count": 134,
   "metadata": {},
   "outputs": [],
   "source": [
    "bag_of_tags = []\n",
    "for tag in csv['Sub-Tags']:\n",
    "    #print(tag, tag == tag)\n",
    "    if tag == tag:\n",
    "        tmp = tag.split(',')\n",
    "        for item in tmp:\n",
    "            bag_of_tags.append(item)"
   ]
  },
  {
   "cell_type": "code",
   "execution_count": 47,
   "metadata": {},
   "outputs": [
    {
     "data": {
      "text/plain": [
       "{'access',\n",
       " 'access barrier ',\n",
       " 'access barrier deterrent',\n",
       " 'acronyms/abbreviations',\n",
       " 'animation',\n",
       " 'appealing',\n",
       " 'audience specific learning',\n",
       " 'colours',\n",
       " 'convincing ',\n",
       " 'curiosity ',\n",
       " 'demanding',\n",
       " 'detailed learning',\n",
       " 'doubts ',\n",
       " 'emotional',\n",
       " 'exciting ',\n",
       " 'flow diagrams',\n",
       " 'fun',\n",
       " 'general learning',\n",
       " 'globe',\n",
       " 'graph',\n",
       " 'guidance',\n",
       " 'impressive ',\n",
       " 'interaction',\n",
       " 'landscape view',\n",
       " 'latency ',\n",
       " 'layers',\n",
       " 'little',\n",
       " 'map',\n",
       " 'memorable',\n",
       " 'meta data/source',\n",
       " 'more data/ info wanted',\n",
       " 'navigation',\n",
       " 'overwhelming',\n",
       " 'personal',\n",
       " 'persuasive',\n",
       " 'photo',\n",
       " 'quality',\n",
       " 'ranking ',\n",
       " 'rarity/richness',\n",
       " 'science',\n",
       " 'shocking',\n",
       " 'static',\n",
       " 'striking',\n",
       " 'study time ',\n",
       " 'surprising',\n",
       " 'trust ',\n",
       " 'user experience ',\n",
       " 'video'}"
      ]
     },
     "execution_count": 47,
     "metadata": {},
     "output_type": "execute_result"
    }
   ],
   "source": [
    "# Unique sub-tags\n",
    "set(bag_of_tags)"
   ]
  },
  {
   "cell_type": "code",
   "execution_count": 65,
   "metadata": {},
   "outputs": [
    {
     "data": {
      "image/png": "[encoded data removed]",
      "text/plain": [
       "<Figure size 720x720 with 1 Axes>"
      ]
     },
     "metadata": {
      "needs_background": "light"
     },
     "output_type": "display_data"
    }
   ],
   "source": [
    "plt.figure(figsize=(10,10))\n",
    "plt.hist(bag_of_tags)\n",
    "plt.title(\"Number of occurences of each sub-tag in database\")\n",
    "_ = plt.xticks(rotation=90)"
   ]
  },
  {
   "cell_type": "code",
   "execution_count": null,
   "metadata": {},
   "outputs": [],
   "source": []
  },
  {
   "cell_type": "code",
   "execution_count": 49,
   "metadata": {},
   "outputs": [],
   "source": [
    "#!pip install vaderSentiment"
   ]
  },
  {
   "cell_type": "code",
   "execution_count": 50,
   "metadata": {},
   "outputs": [],
   "source": [
    "from vaderSentiment.vaderSentiment import SentimentIntensityAnalyzer"
   ]
  },
  {
   "cell_type": "code",
   "execution_count": null,
   "metadata": {},
   "outputs": [],
   "source": []
  },
  {
   "cell_type": "code",
   "execution_count": 152,
   "metadata": {},
   "outputs": [],
   "source": [
    "def parse_platform_tag(platform):\n",
    "    \"\"\"Nan values are replaced with None\"\"\"\n",
    "    if platform == platform:\n",
    "        tmp = platform.split(',')\n",
    "        if 'Exit Interviews' in tmp:\n",
    "            if len(tmp) == 1:\n",
    "                return tmp[0]\n",
    "            #print(tmp)\n",
    "            tmp = tmp[1]\n",
    "        else:\n",
    "            tmp = tmp[0]\n",
    "        return tmp\n",
    "    else:\n",
    "        return None"
   ]
  },
  {
   "cell_type": "code",
   "execution_count": 154,
   "metadata": {},
   "outputs": [],
   "source": [
    "sentences = {}\n",
    "analyzer = SentimentIntensityAnalyzer()\n",
    "for row in range(len(csv)):\n",
    "    try:\n",
    "        sentence = csv.iloc[row]['Quotes']\n",
    "        quote_id = csv.iloc[row]['quote_id']\n",
    "        platform = parse_platform_tag(csv.iloc[row]['Platform'])\n",
    "        vs = analyzer.polarity_scores(sentence)\n",
    "        sentences[quote_id] = {'sentence': sentence, 'vs': vs, 'platform': platform}\n",
    "    except:\n",
    "        pass"
   ]
  },
  {
   "cell_type": "code",
   "execution_count": 155,
   "metadata": {},
   "outputs": [
    {
     "name": "stdout",
     "output_type": "stream",
     "text": [
      "extracted senteiment for 1587 out of 1714 quotes\n"
     ]
    }
   ],
   "source": [
    "print(f\"extracted senteiment for {len(sentences)} out of {len(csv)} quotes\")"
   ]
  },
  {
   "cell_type": "code",
   "execution_count": 156,
   "metadata": {},
   "outputs": [
    {
     "data": {
      "text/plain": [
       "{'sentence': 'I learnt that trade flows for commodities are very complex. It seemed to be focused on commodities that result in land use change and deforestation. There was a focus on certain exporter countries. There are lots of companies listed which when navigating through made it difficult. I learnt that certain parts of the world are exporting certain goods and that is having certain impacts. That leads to different chains in the supply and to the countries that ultimately consume. ',\n",
       " 'vs': {'neg': 0.03, 'neu': 0.838, 'pos': 0.132, 'compound': 0.7579},\n",
       " 'platform': 'Trase'}"
      ]
     },
     "execution_count": 156,
     "metadata": {},
     "output_type": "execute_result"
    }
   ],
   "source": [
    "# We can now access each sentence using its quote_id as an index\n",
    "\n",
    "sentences[1]"
   ]
  },
  {
   "cell_type": "code",
   "execution_count": null,
   "metadata": {},
   "outputs": [],
   "source": []
  },
  {
   "cell_type": "code",
   "execution_count": 164,
   "metadata": {},
   "outputs": [
    {
     "data": {
      "text/plain": [
       "{'Climate Watch',\n",
       " 'Exit Interviews',\n",
       " 'Global Fishing Watch',\n",
       " 'Global Forest Watch',\n",
       " 'Half Earth',\n",
       " None,\n",
       " 'Trase'}"
      ]
     },
     "execution_count": 164,
     "metadata": {},
     "output_type": "execute_result"
    }
   ],
   "source": [
    "# The unique platforms\n",
    "\n",
    "all_platforms = []\n",
    "for row in range(len(csv)):\n",
    "    all_platforms.append(parse_platform_tag(csv.iloc[row]['Platform']))\n",
    "    \n",
    "    \n",
    "unique_platforms = set(all_platforms)\n",
    "unique_platforms"
   ]
  },
  {
   "cell_type": "code",
   "execution_count": null,
   "metadata": {},
   "outputs": [],
   "source": []
  },
  {
   "cell_type": "code",
   "execution_count": 170,
   "metadata": {},
   "outputs": [
    {
     "name": "stdout",
     "output_type": "stream",
     "text": [
      "Exit Interviews\n",
      "Global Forest Watch\n",
      "Global Fishing Watch\n",
      "Trase\n",
      "Climate Watch\n",
      "Half Earth\n"
     ]
    }
   ],
   "source": [
    "# Calcuate sentiment score across platforms\n",
    "\n",
    "for platform in unique_platforms:\n",
    "    if platform and platform is not 'Exit Interviews':\n",
    "        print(platform)"
   ]
  },
  {
   "cell_type": "code",
   "execution_count": 193,
   "metadata": {},
   "outputs": [],
   "source": [
    "def wc(sentence):\n",
    "    word_count = len(sentence.split(' '))\n",
    "    return word_count"
   ]
  },
  {
   "cell_type": "code",
   "execution_count": 248,
   "metadata": {},
   "outputs": [
    {
     "name": "stdout",
     "output_type": "stream",
     "text": [
      "working on Global Forest Watch\n",
      "working on Global Fishing Watch\n",
      "working on Trase\n",
      "working on Climate Watch\n",
      "working on Half Earth\n"
     ]
    }
   ],
   "source": [
    "#platform\n",
    "\n",
    "platform_scores = {}\n",
    "\n",
    "for platform in unique_platforms:\n",
    "    if platform and platform != 'Exit Interviews':\n",
    "        print(f\"working on {platform}\")\n",
    "        words_per_quote = []\n",
    "        positive = []\n",
    "        negative = []\n",
    "        neutral = []\n",
    "        compound = []\n",
    "        for quote_id in sentences:\n",
    "            if sentences[quote_id].get('platform') == platform:\n",
    "                #print(sentences[sentence])\n",
    "                words_per_quote.append(wc(sentences[quote_id].get('sentence')))\n",
    "                positive.append(sentences[quote_id].get('vs').get('pos'))\n",
    "                negative.append(sentences[quote_id].get('vs').get('neg'))\n",
    "                neutral.append(sentences[quote_id].get('vs').get('neu'))\n",
    "                compound.append(sentences[quote_id].get('vs').get('compound'))\n",
    "        platform_scores[platform] = {\n",
    "                                        'avg_word_count': np.average(words_per_quote),\n",
    "                                        'std_word_count': np.std(words_per_quote),\n",
    "                                        'total_words': np.sum(words_per_quote),\n",
    "                                        'avg_positivity': np.average(positive),\n",
    "                                        'std_positivity': np.std(positive),\n",
    "                                        'avg_neutrality': np.average(neutral),\n",
    "                                        'std_neutrality': np.std(neutral),\n",
    "                                        'avg_negativity': np.average(negative),\n",
    "                                        'std_negativity': np.std(neutral)\n",
    "                                    }"
   ]
  },
  {
   "cell_type": "code",
   "execution_count": 239,
   "metadata": {},
   "outputs": [
    {
     "data": {
      "text/plain": [
       "{'Global Forest Watch': {'avg_word_count': 40.526153846153846,\n",
       "  'std_word_count': 29.878679184704353,\n",
       "  'total_words': 13171,\n",
       "  'avg_positivity': 0.13374461538461538,\n",
       "  'avg_neutrality': 0.8280799999999999,\n",
       "  'avg_negativity': 0.03820923076923077},\n",
       " 'Global Fishing Watch': {'avg_word_count': 43.402061855670105,\n",
       "  'std_word_count': 32.027370101388186,\n",
       "  'total_words': 12630,\n",
       "  'avg_positivity': 0.11314776632302406,\n",
       "  'avg_neutrality': 0.8547182130584193,\n",
       "  'avg_negativity': 0.032134020618556705},\n",
       " 'Trase': {'avg_word_count': 45.08759124087591,\n",
       "  'std_word_count': 29.636107995443453,\n",
       "  'total_words': 12354,\n",
       "  'avg_positivity': 0.10181021897810219,\n",
       "  'avg_neutrality': 0.8618430656934306,\n",
       "  'avg_negativity': 0.036339416058394164},\n",
       " 'Climate Watch': {'avg_word_count': 40.714285714285715,\n",
       "  'std_word_count': 28.32424208502782,\n",
       "  'total_words': 11115,\n",
       "  'avg_positivity': 0.11286080586080587,\n",
       "  'avg_neutrality': 0.8529743589743589,\n",
       "  'avg_negativity': 0.03416483516483517},\n",
       " 'Half Earth': {'avg_word_count': 45.92553191489362,\n",
       "  'std_word_count': 27.91876108393328,\n",
       "  'total_words': 17268,\n",
       "  'avg_positivity': 0.13334042553191489,\n",
       "  'avg_neutrality': 0.8289255319148936,\n",
       "  'avg_negativity': 0.03772606382978723}}"
      ]
     },
     "execution_count": 239,
     "metadata": {},
     "output_type": "execute_result"
    }
   ],
   "source": [
    "platform_scores"
   ]
  },
  {
   "cell_type": "code",
   "execution_count": 240,
   "metadata": {},
   "outputs": [],
   "source": [
    "platforms = []\n",
    "word_counts = []\n",
    "word_counts_sigma = []\n",
    "total_words = []\n",
    "for p in platform_scores:\n",
    "    platforms.append(p)\n",
    "    word_counts.append(platform_scores[p].get('avg_word_count'))\n",
    "    word_counts_sigma.append(platform_scores[p].get('std_word_count'))\n",
    "    total_words.append(platform_scores[p].get('total_words'))"
   ]
  },
  {
   "cell_type": "code",
   "execution_count": 237,
   "metadata": {},
   "outputs": [
    {
     "data": {
      "image/png": "[encoded data removed]",
      "text/plain": [
       "<Figure size 720x360 with 1 Axes>"
      ]
     },
     "metadata": {
      "needs_background": "light"
     },
     "output_type": "display_data"
    }
   ],
   "source": [
    "# First a simple analysis, how many words do we have per quote?\n",
    "\n",
    "plt.figure(figsize=(10,5))\n",
    "plt.bar(platforms, word_counts,yerr=word_counts_sigma,\n",
    "           align='center',\n",
    "           alpha=0.5,\n",
    "           ecolor='black',\n",
    "           capsize=10)\n",
    "plt.title(\"Average number of words per quote per platform\")\n",
    "plt.ylabel(\"Number of words per quote\")\n",
    "_ =plt.xticks(rotation=90)"
   ]
  },
  {
   "cell_type": "code",
   "execution_count": 246,
   "metadata": {},
   "outputs": [
    {
     "data": {
      "image/png": "[encoded data removed]",
      "text/plain": [
       "<Figure size 720x360 with 1 Axes>"
      ]
     },
     "metadata": {
      "needs_background": "light"
     },
     "output_type": "display_data"
    }
   ],
   "source": [
    "# Next, how many total words per platform?\n",
    "\n",
    "plt.figure(figsize=(10,5))\n",
    "plt.bar(platforms, total_words, alpha=0.5)\n",
    "plt.title(\"Total number of words across all interviews per platform\")\n",
    "plt.ylabel(\"Number of words\")\n",
    "_ =plt.xticks(rotation=90)"
   ]
  },
  {
   "cell_type": "code",
   "execution_count": null,
   "metadata": {},
   "outputs": [],
   "source": []
  },
  {
   "cell_type": "code",
   "execution_count": 249,
   "metadata": {},
   "outputs": [
    {
     "data": {
      "text/plain": [
       "{'Global Forest Watch': {'avg_word_count': 40.526153846153846,\n",
       "  'std_word_count': 29.878679184704353,\n",
       "  'total_words': 13171,\n",
       "  'avg_positivity': 0.13374461538461538,\n",
       "  'std_positivity': 0.1185291369966042,\n",
       "  'avg_neutrality': 0.8280799999999999,\n",
       "  'std_neutrality': 0.12177396361860204,\n",
       "  'avg_negativity': 0.03820923076923077,\n",
       "  'std_negativity': 0.12177396361860204},\n",
       " 'Global Fishing Watch': {'avg_word_count': 43.402061855670105,\n",
       "  'std_word_count': 32.027370101388186,\n",
       "  'total_words': 12630,\n",
       "  'avg_positivity': 0.11314776632302406,\n",
       "  'std_positivity': 0.11912488243555835,\n",
       "  'avg_neutrality': 0.8547182130584193,\n",
       "  'std_neutrality': 0.12114869585254509,\n",
       "  'avg_negativity': 0.032134020618556705,\n",
       "  'std_negativity': 0.12114869585254509},\n",
       " 'Trase': {'avg_word_count': 45.08759124087591,\n",
       "  'std_word_count': 29.636107995443453,\n",
       "  'total_words': 12354,\n",
       "  'avg_positivity': 0.10181021897810219,\n",
       "  'std_positivity': 0.11300713967798771,\n",
       "  'avg_neutrality': 0.8618430656934306,\n",
       "  'std_neutrality': 0.11986020220387311,\n",
       "  'avg_negativity': 0.036339416058394164,\n",
       "  'std_negativity': 0.11986020220387311},\n",
       " 'Climate Watch': {'avg_word_count': 40.714285714285715,\n",
       "  'std_word_count': 28.32424208502782,\n",
       "  'total_words': 11115,\n",
       "  'avg_positivity': 0.11286080586080587,\n",
       "  'std_positivity': 0.1102281468648337,\n",
       "  'avg_neutrality': 0.8529743589743589,\n",
       "  'std_neutrality': 0.11469946109509337,\n",
       "  'avg_negativity': 0.03416483516483517,\n",
       "  'std_negativity': 0.11469946109509337},\n",
       " 'Half Earth': {'avg_word_count': 45.92553191489362,\n",
       "  'std_word_count': 27.91876108393328,\n",
       "  'total_words': 17268,\n",
       "  'avg_positivity': 0.13334042553191489,\n",
       "  'std_positivity': 0.10735121353122858,\n",
       "  'avg_neutrality': 0.8289255319148936,\n",
       "  'std_neutrality': 0.11312838586555919,\n",
       "  'avg_negativity': 0.03772606382978723,\n",
       "  'std_negativity': 0.11312838586555919}}"
      ]
     },
     "execution_count": 249,
     "metadata": {},
     "output_type": "execute_result"
    }
   ],
   "source": [
    "platform_scores"
   ]
  },
  {
   "cell_type": "code",
   "execution_count": 267,
   "metadata": {},
   "outputs": [],
   "source": [
    "platforms = []\n",
    "positvity = []\n",
    "positivity_sigma = []\n",
    "word_counts_sigma = []\n",
    "neutrality = []\n",
    "neutrality_sigma = []\n",
    "negativity = []\n",
    "negativity_sigma = []\n",
    "for p in platform_scores:\n",
    "    platforms.append(p)\n",
    "    positvity.append(platform_scores[p].get('avg_positivity'))\n",
    "    positivity_sigma.append(platform_scores[p].get('std_positivity'))\n",
    "    neutrality.append(platform_scores[p].get('avg_neutrality'))\n",
    "    neutrality_sigma.append(platform_scores[p].get('std_neutrality'))\n",
    "    negativity.append(platform_scores[p].get('avg_negativity'))\n",
    "    negativity_sigma.append(platform_scores[p].get('std_negativity'))"
   ]
  },
  {
   "cell_type": "code",
   "execution_count": 268,
   "metadata": {},
   "outputs": [
    {
     "data": {
      "image/png": "[encoded data removed]",
      "text/plain": [
       "<Figure size 1440x720 with 3 Axes>"
      ]
     },
     "metadata": {
      "needs_background": "light"
     },
     "output_type": "display_data"
    }
   ],
   "source": [
    "# N = 5\n",
    "# positivity = (20, 35, 30, 35, 27)\n",
    "# womenMeans = (25, 32, 34, 20, 25)\n",
    "# menStd = (2, 3, 4, 1, 2)\n",
    "# womenStd = (3, 5, 2, 3, 3)\n",
    "# ind = np.arange(N)    # the x locations for the groups\n",
    "width = 0.35       # the width of the bars: can also be len(x) sequence\n",
    "\n",
    "plt.figure(figsize=(20,10))\n",
    "plt.title('Sentiment by platform')\n",
    "plt.subplot(1, 3, 1)\n",
    "plt.bar(platforms, positvity, width, yerr=positivity_sigma, color='green', alpha=0.5)\n",
    "plt.ylabel('Positive Sentiment score')\n",
    "plt.xticks(platforms)\n",
    "_ =plt.xticks(rotation=90)\n",
    "\n",
    "\n",
    "plt.subplot(1, 3, 2)\n",
    "plt.bar(platforms, neutrality, width, yerr=neutrality_sigma, color='blue', alpha=0.5)\n",
    "plt.ylabel('Neutral Sentiment score')\n",
    "plt.xticks(platforms)\n",
    "_ =plt.xticks(rotation=90)\n",
    "\n",
    "\n",
    "plt.subplot(1, 3, 3)\n",
    "plt.bar(platforms, negativity, width, yerr=negativity_sigma, color='red', alpha=0.5)\n",
    "plt.ylabel('Negative Sentiment score')\n",
    "plt.xticks(platforms)\n",
    "_ =plt.xticks(rotation=90)\n",
    "\n",
    "\n",
    "plt.show()"
   ]
  },
  {
   "cell_type": "code",
   "execution_count": 285,
   "metadata": {},
   "outputs": [
    {
     "data": {
      "image/png": "[encoded data removed]",
      "text/plain": [
       "<Figure size 432x288 with 1 Axes>"
      ]
     },
     "metadata": {
      "needs_background": "light"
     },
     "output_type": "display_data"
    }
   ],
   "source": [
    "# Viewing the integrated sentiment scores per platform\n",
    "\n",
    "width = 0.35\n",
    "\n",
    "p1 = plt.bar(platforms, negativity, width, yerr=negativity_sigma, color='red', alpha=0.5)\n",
    "p2 = plt.bar(platforms, neutrality, width, yerr=neutrality_sigma, color='blue', alpha=0.5, bottom=negativity)\n",
    "p3 = plt.bar(platforms, positvity, width, yerr=neutrality_sigma, color='green', alpha=0.5, bottom=np.array(negativity)+np.array(neutrality))\n",
    "\n",
    "plt.ylabel('Sentiment score')\n",
    "plt.title('sentiment by platform')\n",
    "plt.xticks(platforms)\n",
    "_ =plt.xticks(rotation=90)\n",
    "\n",
    "plt.show()"
   ]
  },
  {
   "cell_type": "markdown",
   "metadata": {},
   "source": [
    "Difficult to see any appreciable diffrence. Certainly none at the aggregated level beyond the ±1 standard deviation level. (Although I am not sure if that is meaninfgul or not in this case.)"
   ]
  },
  {
   "cell_type": "code",
   "execution_count": null,
   "metadata": {},
   "outputs": [],
   "source": [
    "# Let's start looking at ranking from sentiment and see if it lines up with the self-reported prefrences across the platform"
   ]
  },
  {
   "cell_type": "code",
   "execution_count": 273,
   "metadata": {},
   "outputs": [],
   "source": [
    "positive_rank = {}\n",
    "for plat, pos in zip(platforms, positvity):\n",
    "    positive_rank[plat] = pos"
   ]
  },
  {
   "cell_type": "code",
   "execution_count": 274,
   "metadata": {},
   "outputs": [
    {
     "data": {
      "text/plain": [
       "{'Global Forest Watch': 0.13374461538461538,\n",
       " 'Global Fishing Watch': 0.11314776632302406,\n",
       " 'Trase': 0.10181021897810219,\n",
       " 'Climate Watch': 0.11286080586080587,\n",
       " 'Half Earth': 0.13334042553191489}"
      ]
     },
     "execution_count": 274,
     "metadata": {},
     "output_type": "execute_result"
    }
   ],
   "source": [
    "positive_rank"
   ]
  },
  {
   "cell_type": "code",
   "execution_count": 277,
   "metadata": {},
   "outputs": [],
   "source": [
    "import operator"
   ]
  },
  {
   "cell_type": "code",
   "execution_count": 279,
   "metadata": {},
   "outputs": [],
   "source": [
    "sorted_platforms = sorted(positive_rank.items(), key=operator.itemgetter(1))"
   ]
  },
  {
   "cell_type": "code",
   "execution_count": 280,
   "metadata": {},
   "outputs": [
    {
     "data": {
      "text/plain": [
       "[('Trase', 0.10181021897810219),\n",
       " ('Climate Watch', 0.11286080586080587),\n",
       " ('Global Fishing Watch', 0.11314776632302406),\n",
       " ('Half Earth', 0.13334042553191489),\n",
       " ('Global Forest Watch', 0.13374461538461538)]"
      ]
     },
     "execution_count": 280,
     "metadata": {},
     "output_type": "execute_result"
    }
   ],
   "source": [
    "# sorted from least positive to most positive\n",
    "sorted_platforms"
   ]
  },
  {
   "cell_type": "code",
   "execution_count": null,
   "metadata": {},
   "outputs": [],
   "source": []
  }
 ],
 "metadata": {
  "kernelspec": {
   "display_name": "Python 3",
   "language": "python",
   "name": "python3"
  },
  "language_info": {
   "codemirror_mode": {
    "name": "ipython",
    "version": 3
   },
   "file_extension": ".py",
   "mimetype": "text/x-python",
   "name": "python",
   "nbconvert_exporter": "python",
   "pygments_lexer": "ipython3",
   "version": "3.6.7"
  }
 },
 "nbformat": 4,
 "nbformat_minor": 4
}
