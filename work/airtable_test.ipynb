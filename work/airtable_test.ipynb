{
 "cells": [
  {
   "cell_type": "markdown",
   "metadata": {},
   "source": [
    "# AirTable\n",
    "\n",
    "Testing access to Airtable dataset via the airtable HTTP API. Requires a valid api_token."
   ]
  },
  {
   "cell_type": "code",
   "execution_count": 8,
   "metadata": {},
   "outputs": [],
   "source": [
    "import getpass\n",
    "import requests\n",
    "import pandas as pd"
   ]
  },
  {
   "cell_type": "code",
   "execution_count": 40,
   "metadata": {},
   "outputs": [
    {
     "name": "stdin",
     "output_type": "stream",
     "text": [
      " ·················\n"
     ]
    }
   ],
   "source": [
    "api_token = getpass.getpass()"
   ]
  },
  {
   "cell_type": "code",
   "execution_count": 32,
   "metadata": {},
   "outputs": [],
   "source": [
    "url = \"https://api.airtable.com/v0/appeWnraYNoCF4B73/Quotes\""
   ]
  },
  {
   "cell_type": "code",
   "execution_count": 42,
   "metadata": {},
   "outputs": [],
   "source": [
    "params = {'api_key': api_token}\n",
    "r = requests.get(url=url, params=params)"
   ]
  },
  {
   "cell_type": "code",
   "execution_count": 62,
   "metadata": {},
   "outputs": [],
   "source": [
    "tmp = []\n",
    "for row in r.json().get('records'):\n",
    "    tmp.append(row.get('fields'))\n",
    "df = pd.DataFrame(tmp)"
   ]
  },
  {
   "cell_type": "code",
   "execution_count": 64,
   "metadata": {},
   "outputs": [
    {
     "data": {
      "text/plain": [
       "100"
      ]
     },
     "execution_count": 64,
     "metadata": {},
     "output_type": "execute_result"
    }
   ],
   "source": [
    "len(df)"
   ]
  },
  {
   "cell_type": "code",
   "execution_count": 63,
   "metadata": {},
   "outputs": [
    {
     "data": {
      "text/html": [
       "<div>\n",
       "<style scoped>\n",
       "    .dataframe tbody tr th:only-of-type {\n",
       "        vertical-align: middle;\n",
       "    }\n",
       "\n",
       "    .dataframe tbody tr th {\n",
       "        vertical-align: top;\n",
       "    }\n",
       "\n",
       "    .dataframe thead th {\n",
       "        text-align: right;\n",
       "    }\n",
       "</style>\n",
       "<table border=\"1\" class=\"dataframe\">\n",
       "  <thead>\n",
       "    <tr style=\"text-align: right;\">\n",
       "      <th></th>\n",
       "      <th>Participant</th>\n",
       "      <th>Platform</th>\n",
       "      <th>Quotes</th>\n",
       "      <th>Study</th>\n",
       "      <th>Sub-Tags</th>\n",
       "      <th>quote_id</th>\n",
       "    </tr>\n",
       "  </thead>\n",
       "  <tbody>\n",
       "    <tr>\n",
       "      <th>0</th>\n",
       "      <td>[reclCpoWwGgRhJdSp]</td>\n",
       "      <td>[recQEHRsqpEv2hznP]</td>\n",
       "      <td>It’s the first time I see this tool. There is ...</td>\n",
       "      <td>[rec9URNmGOLaTm7He]</td>\n",
       "      <td>audience specific learning, guidance, overwhel...</td>\n",
       "      <td>51</td>\n",
       "    </tr>\n",
       "    <tr>\n",
       "      <th>1</th>\n",
       "      <td>[reclCpoWwGgRhJdSp]</td>\n",
       "      <td>[recQEHRsqpEv2hznP]</td>\n",
       "      <td>I'm just so impressed that this exists</td>\n",
       "      <td>[rec9URNmGOLaTm7He]</td>\n",
       "      <td>impressive</td>\n",
       "      <td>57</td>\n",
       "    </tr>\n",
       "    <tr>\n",
       "      <th>2</th>\n",
       "      <td>[reclTzh9uzlXdzhzq]</td>\n",
       "      <td>[recQEHRsqpEv2hznP]</td>\n",
       "      <td>The map seems very technical. Personally I was...</td>\n",
       "      <td>[rec9URNmGOLaTm7He]</td>\n",
       "      <td>audience specific learning, guidance, map</td>\n",
       "      <td>52</td>\n",
       "    </tr>\n",
       "    <tr>\n",
       "      <th>3</th>\n",
       "      <td>[recA5oaStPSfrVH9k]</td>\n",
       "      <td>[recQEHRsqpEv2hznP]</td>\n",
       "      <td>Maybe the topic is too complex for 10 minutes.</td>\n",
       "      <td>[rec9URNmGOLaTm7He]</td>\n",
       "      <td>study time</td>\n",
       "      <td>123</td>\n",
       "    </tr>\n",
       "    <tr>\n",
       "      <th>4</th>\n",
       "      <td>[recUrw27Gz3txijWI]</td>\n",
       "      <td>[recQEHRsqpEv2hznP]</td>\n",
       "      <td>The flow chart is too dense with all companies...</td>\n",
       "      <td>[rec9URNmGOLaTm7He]</td>\n",
       "      <td>flow diagrams, demanding, overwhelming</td>\n",
       "      <td>102</td>\n",
       "    </tr>\n",
       "  </tbody>\n",
       "</table>\n",
       "</div>"
      ],
      "text/plain": [
       "           Participant             Platform  \\\n",
       "0  [reclCpoWwGgRhJdSp]  [recQEHRsqpEv2hznP]   \n",
       "1  [reclCpoWwGgRhJdSp]  [recQEHRsqpEv2hznP]   \n",
       "2  [reclTzh9uzlXdzhzq]  [recQEHRsqpEv2hznP]   \n",
       "3  [recA5oaStPSfrVH9k]  [recQEHRsqpEv2hznP]   \n",
       "4  [recUrw27Gz3txijWI]  [recQEHRsqpEv2hznP]   \n",
       "\n",
       "                                              Quotes                Study  \\\n",
       "0  It’s the first time I see this tool. There is ...  [rec9URNmGOLaTm7He]   \n",
       "1            I'm just so impressed that this exists   [rec9URNmGOLaTm7He]   \n",
       "2  The map seems very technical. Personally I was...  [rec9URNmGOLaTm7He]   \n",
       "3    Maybe the topic is too complex for 10 minutes.   [rec9URNmGOLaTm7He]   \n",
       "4  The flow chart is too dense with all companies...  [rec9URNmGOLaTm7He]   \n",
       "\n",
       "                                            Sub-Tags quote_id  \n",
       "0  audience specific learning, guidance, overwhel...       51  \n",
       "1                                        impressive        57  \n",
       "2          audience specific learning, guidance, map       52  \n",
       "3                                        study time       123  \n",
       "4             flow diagrams, demanding, overwhelming      102  "
      ]
     },
     "execution_count": 63,
     "metadata": {},
     "output_type": "execute_result"
    }
   ],
   "source": [
    "df.head()"
   ]
  },
  {
   "cell_type": "markdown",
   "metadata": {},
   "source": [
    "Interesting, looks like the tags are associated to a uniqe ID, it is that ID that is returned, not the string label of the tags. Will need to create a mapping to the strings in Python."
   ]
  },
  {
   "cell_type": "code",
   "execution_count": null,
   "metadata": {},
   "outputs": [],
   "source": []
  }
 ],
 "metadata": {
  "kernelspec": {
   "display_name": "Python 3",
   "language": "python",
   "name": "python3"
  },
  "language_info": {
   "codemirror_mode": {
    "name": "ipython",
    "version": 3
   },
   "file_extension": ".py",
   "mimetype": "text/x-python",
   "name": "python",
   "nbconvert_exporter": "python",
   "pygments_lexer": "ipython3",
   "version": "3.7.3"
  }
 },
 "nbformat": 4,
 "nbformat_minor": 2
}
