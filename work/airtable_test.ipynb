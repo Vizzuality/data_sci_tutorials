{
 "cells": [
  {
   "cell_type": "markdown",
   "metadata": {},
   "source": [
    "# AirTable\n",
    "\n",
    "Testing access to Airtable dataset via the airtable HTTP API. Requires a valid api_token.\n",
    "\n",
    "https://airtable.com/appQbIS18Qc8GskMC/api/docs#curl/table:quotes:list\n",
    "\n",
    "Looks like we can only load 100 rows at a time. We need to use pagination and joins to extract all data from the REST API."
   ]
  },
  {
   "cell_type": "code",
   "execution_count": 56,
   "metadata": {},
   "outputs": [],
   "source": [
    "import getpass\n",
    "import requests\n",
    "import pandas as pd\n",
    "import matplotlib.pyplot as plt\n",
    "%matplotlib inline"
   ]
  },
  {
   "cell_type": "code",
   "execution_count": 3,
   "metadata": {},
   "outputs": [
    {
     "name": "stdin",
     "output_type": "stream",
     "text": [
      " ·················\n"
     ]
    }
   ],
   "source": [
    "api_token = getpass.getpass()"
   ]
  },
  {
   "cell_type": "code",
   "execution_count": 12,
   "metadata": {},
   "outputs": [],
   "source": [
    "url = \"https://api.airtable.com/v0/appQbIS18Qc8GskMC/Quotes\""
   ]
  },
  {
   "cell_type": "code",
   "execution_count": 13,
   "metadata": {},
   "outputs": [],
   "source": [
    "params = {'api_key': api_token}\n",
    "r = requests.get(url=url, params=params)"
   ]
  },
  {
   "cell_type": "code",
   "execution_count": 14,
   "metadata": {},
   "outputs": [],
   "source": [
    "tmp = []\n",
    "for row in r.json().get('records'):\n",
    "    tmp.append(row.get('fields'))\n",
    "df = pd.DataFrame(tmp)"
   ]
  },
  {
   "cell_type": "code",
   "execution_count": 15,
   "metadata": {},
   "outputs": [
    {
     "data": {
      "text/plain": [
       "100"
      ]
     },
     "execution_count": 15,
     "metadata": {},
     "output_type": "execute_result"
    }
   ],
   "source": [
    "len(df)"
   ]
  },
  {
   "cell_type": "code",
   "execution_count": 16,
   "metadata": {},
   "outputs": [
    {
     "data": {
      "text/html": [
       "<div>\n",
       "<style scoped>\n",
       "    .dataframe tbody tr th:only-of-type {\n",
       "        vertical-align: middle;\n",
       "    }\n",
       "\n",
       "    .dataframe tbody tr th {\n",
       "        vertical-align: top;\n",
       "    }\n",
       "\n",
       "    .dataframe thead th {\n",
       "        text-align: right;\n",
       "    }\n",
       "</style>\n",
       "<table border=\"1\" class=\"dataframe\">\n",
       "  <thead>\n",
       "    <tr style=\"text-align: right;\">\n",
       "      <th></th>\n",
       "      <th>Quotes</th>\n",
       "      <th>Sub-Tags</th>\n",
       "      <th>Platform</th>\n",
       "      <th>Study</th>\n",
       "      <th>Participant</th>\n",
       "      <th>quote_id</th>\n",
       "    </tr>\n",
       "  </thead>\n",
       "  <tbody>\n",
       "    <tr>\n",
       "      <th>0</th>\n",
       "      <td>I started with maps which was ok. I selected c...</td>\n",
       "      <td>[recqSLy44kvaldDie, rec2dtAU6AQmZRtBp]</td>\n",
       "      <td>[recsT2ijAss13Fi2o]</td>\n",
       "      <td>[recL9cedQRzGUKQmN]</td>\n",
       "      <td>[recckJBJDSGLsjqOT]</td>\n",
       "      <td>123</td>\n",
       "    </tr>\n",
       "    <tr>\n",
       "      <th>1</th>\n",
       "      <td>SDGs I knew already. I didn’t know the NDCs ev...</td>\n",
       "      <td>[recPj0UcuXHPsKaHQ]</td>\n",
       "      <td>[recGL9hhVifrnrn0c]</td>\n",
       "      <td>[recL9cedQRzGUKQmN]</td>\n",
       "      <td>[rec5Fxbhf4QwXpFYj]</td>\n",
       "      <td>647</td>\n",
       "    </tr>\n",
       "    <tr>\n",
       "      <th>2</th>\n",
       "      <td>There seem to be a lot more data. Lots of opti...</td>\n",
       "      <td>[recxhYr8LmVR0KM15]</td>\n",
       "      <td>[recz299kfcyPQKWot]</td>\n",
       "      <td>[recL9cedQRzGUKQmN]</td>\n",
       "      <td>[recIMbEGo8zK1jKMI]</td>\n",
       "      <td>782</td>\n",
       "    </tr>\n",
       "    <tr>\n",
       "      <th>3</th>\n",
       "      <td>Global Fishing watch, for 10 minutes, didn’t g...</td>\n",
       "      <td>[recXLs04jMilVhLHA]</td>\n",
       "      <td>[recpljX7elGfy9aVE, recDicfhFnLpNHg5M]</td>\n",
       "      <td>[recL9cedQRzGUKQmN]</td>\n",
       "      <td>[rec8TcDFCXfTvTcW1]</td>\n",
       "      <td>1359</td>\n",
       "    </tr>\n",
       "    <tr>\n",
       "      <th>4</th>\n",
       "      <td>I wanted to see what the mapping is like and i...</td>\n",
       "      <td>[recqSLy44kvaldDie, rec4agB7NRtMXFffa, recdyax...</td>\n",
       "      <td>[recfbCmz2tnt4H8Zj]</td>\n",
       "      <td>[recL9cedQRzGUKQmN]</td>\n",
       "      <td>[recbcRmT5X1HBZXTf]</td>\n",
       "      <td>328</td>\n",
       "    </tr>\n",
       "  </tbody>\n",
       "</table>\n",
       "</div>"
      ],
      "text/plain": [
       "                                              Quotes  \\\n",
       "0  I started with maps which was ok. I selected c...   \n",
       "1  SDGs I knew already. I didn’t know the NDCs ev...   \n",
       "2  There seem to be a lot more data. Lots of opti...   \n",
       "3  Global Fishing watch, for 10 minutes, didn’t g...   \n",
       "4  I wanted to see what the mapping is like and i...   \n",
       "\n",
       "                                            Sub-Tags  \\\n",
       "0             [recqSLy44kvaldDie, rec2dtAU6AQmZRtBp]   \n",
       "1                                [recPj0UcuXHPsKaHQ]   \n",
       "2                                [recxhYr8LmVR0KM15]   \n",
       "3                                [recXLs04jMilVhLHA]   \n",
       "4  [recqSLy44kvaldDie, rec4agB7NRtMXFffa, recdyax...   \n",
       "\n",
       "                                 Platform                Study  \\\n",
       "0                     [recsT2ijAss13Fi2o]  [recL9cedQRzGUKQmN]   \n",
       "1                     [recGL9hhVifrnrn0c]  [recL9cedQRzGUKQmN]   \n",
       "2                     [recz299kfcyPQKWot]  [recL9cedQRzGUKQmN]   \n",
       "3  [recpljX7elGfy9aVE, recDicfhFnLpNHg5M]  [recL9cedQRzGUKQmN]   \n",
       "4                     [recfbCmz2tnt4H8Zj]  [recL9cedQRzGUKQmN]   \n",
       "\n",
       "           Participant quote_id  \n",
       "0  [recckJBJDSGLsjqOT]      123  \n",
       "1  [rec5Fxbhf4QwXpFYj]      647  \n",
       "2  [recIMbEGo8zK1jKMI]      782  \n",
       "3  [rec8TcDFCXfTvTcW1]     1359  \n",
       "4  [recbcRmT5X1HBZXTf]      328  "
      ]
     },
     "execution_count": 16,
     "metadata": {},
     "output_type": "execute_result"
    }
   ],
   "source": [
    "df.head()"
   ]
  },
  {
   "cell_type": "markdown",
   "metadata": {},
   "source": [
    "Interesting, looks like the tags are associated to a uniqe ID, it is that ID that is returned, not the string label of the tags. Will need to create a mapping to the strings in Python."
   ]
  },
  {
   "cell_type": "code",
   "execution_count": 18,
   "metadata": {},
   "outputs": [
    {
     "data": {
      "text/html": [
       "<div>\n",
       "<style scoped>\n",
       "    .dataframe tbody tr th:only-of-type {\n",
       "        vertical-align: middle;\n",
       "    }\n",
       "\n",
       "    .dataframe tbody tr th {\n",
       "        vertical-align: top;\n",
       "    }\n",
       "\n",
       "    .dataframe thead th {\n",
       "        text-align: right;\n",
       "    }\n",
       "</style>\n",
       "<table border=\"1\" class=\"dataframe\">\n",
       "  <thead>\n",
       "    <tr style=\"text-align: right;\">\n",
       "      <th></th>\n",
       "      <th>Quotes</th>\n",
       "      <th>Sub-Tags</th>\n",
       "      <th>Platform</th>\n",
       "      <th>Study</th>\n",
       "      <th>Participant</th>\n",
       "      <th>quote_id</th>\n",
       "    </tr>\n",
       "  </thead>\n",
       "  <tbody>\n",
       "    <tr>\n",
       "      <th>95</th>\n",
       "      <td>Biodiversity. Country-specific. General data s...</td>\n",
       "      <td>[recThxYCIPwewDP1h]</td>\n",
       "      <td>[recz299kfcyPQKWot]</td>\n",
       "      <td>[recL9cedQRzGUKQmN]</td>\n",
       "      <td>[recwGRtYQCRZyG2Bh]</td>\n",
       "      <td>753</td>\n",
       "    </tr>\n",
       "    <tr>\n",
       "      <th>96</th>\n",
       "      <td>these numbers are quite good, three million pl...</td>\n",
       "      <td>[recxhYr8LmVR0KM15, recWgLx9yG38DiTfk, recKueE...</td>\n",
       "      <td>[recDicfhFnLpNHg5M]</td>\n",
       "      <td>[recL9cedQRzGUKQmN]</td>\n",
       "      <td>[rec5Fxbhf4QwXpFYj]</td>\n",
       "      <td>1165</td>\n",
       "    </tr>\n",
       "    <tr>\n",
       "      <th>97</th>\n",
       "      <td>I guess the abbreviation here is million tons...</td>\n",
       "      <td>[recANsXhuaYlIuNsF, reccf1cVYiwjonnhu]</td>\n",
       "      <td>[recGL9hhVifrnrn0c]</td>\n",
       "      <td>[recL9cedQRzGUKQmN]</td>\n",
       "      <td>[rec5Fxbhf4QwXpFYj]</td>\n",
       "      <td>651</td>\n",
       "    </tr>\n",
       "    <tr>\n",
       "      <th>98</th>\n",
       "      <td>there is a lot of information,  I like that.  ...</td>\n",
       "      <td>[recZXOxoDMbLGhMcl, recD3JEqhaRFNXyAJ]</td>\n",
       "      <td>[recz299kfcyPQKWot]</td>\n",
       "      <td>[recL9cedQRzGUKQmN]</td>\n",
       "      <td>[rec8TcDFCXfTvTcW1]</td>\n",
       "      <td>842</td>\n",
       "    </tr>\n",
       "    <tr>\n",
       "      <th>99</th>\n",
       "      <td>We have used these sort of diagrams before to ...</td>\n",
       "      <td>[reccc0V3j2lZjuShl]</td>\n",
       "      <td>[recsT2ijAss13Fi2o]</td>\n",
       "      <td>[recL9cedQRzGUKQmN]</td>\n",
       "      <td>[recYbRdqc4TKVQS1I]</td>\n",
       "      <td>9</td>\n",
       "    </tr>\n",
       "  </tbody>\n",
       "</table>\n",
       "</div>"
      ],
      "text/plain": [
       "                                               Quotes  \\\n",
       "95  Biodiversity. Country-specific. General data s...   \n",
       "96  these numbers are quite good, three million pl...   \n",
       "97   I guess the abbreviation here is million tons...   \n",
       "98  there is a lot of information,  I like that.  ...   \n",
       "99  We have used these sort of diagrams before to ...   \n",
       "\n",
       "                                             Sub-Tags             Platform  \\\n",
       "95                                [recThxYCIPwewDP1h]  [recz299kfcyPQKWot]   \n",
       "96  [recxhYr8LmVR0KM15, recWgLx9yG38DiTfk, recKueE...  [recDicfhFnLpNHg5M]   \n",
       "97             [recANsXhuaYlIuNsF, reccf1cVYiwjonnhu]  [recGL9hhVifrnrn0c]   \n",
       "98             [recZXOxoDMbLGhMcl, recD3JEqhaRFNXyAJ]  [recz299kfcyPQKWot]   \n",
       "99                                [reccc0V3j2lZjuShl]  [recsT2ijAss13Fi2o]   \n",
       "\n",
       "                  Study          Participant quote_id  \n",
       "95  [recL9cedQRzGUKQmN]  [recwGRtYQCRZyG2Bh]      753  \n",
       "96  [recL9cedQRzGUKQmN]  [rec5Fxbhf4QwXpFYj]     1165  \n",
       "97  [recL9cedQRzGUKQmN]  [rec5Fxbhf4QwXpFYj]      651  \n",
       "98  [recL9cedQRzGUKQmN]  [rec8TcDFCXfTvTcW1]      842  \n",
       "99  [recL9cedQRzGUKQmN]  [recYbRdqc4TKVQS1I]        9  "
      ]
     },
     "execution_count": 18,
     "metadata": {},
     "output_type": "execute_result"
    }
   ],
   "source": [
    "df.tail()"
   ]
  },
  {
   "cell_type": "code",
   "execution_count": null,
   "metadata": {},
   "outputs": [],
   "source": []
  },
  {
   "cell_type": "markdown",
   "metadata": {},
   "source": [
    "## Loading data directly\n",
    "\n",
    "Might be easier just to grab the data directly outside of the API"
   ]
  },
  {
   "cell_type": "code",
   "execution_count": 20,
   "metadata": {},
   "outputs": [],
   "source": [
    "csv = pd.read_csv(\"/Users/Ben/Downloads/Quotes-Grid.csv\")"
   ]
  },
  {
   "cell_type": "code",
   "execution_count": 23,
   "metadata": {},
   "outputs": [
    {
     "data": {
      "text/html": [
       "<div>\n",
       "<style scoped>\n",
       "    .dataframe tbody tr th:only-of-type {\n",
       "        vertical-align: middle;\n",
       "    }\n",
       "\n",
       "    .dataframe tbody tr th {\n",
       "        vertical-align: top;\n",
       "    }\n",
       "\n",
       "    .dataframe thead th {\n",
       "        text-align: right;\n",
       "    }\n",
       "</style>\n",
       "<table border=\"1\" class=\"dataframe\">\n",
       "  <thead>\n",
       "    <tr style=\"text-align: right;\">\n",
       "      <th></th>\n",
       "      <th>Quotes</th>\n",
       "      <th>quote_id</th>\n",
       "      <th>Sub-Tags</th>\n",
       "      <th>Platform</th>\n",
       "      <th>Study</th>\n",
       "      <th>Participant</th>\n",
       "      <th>Interview</th>\n",
       "      <th>Screen recording</th>\n",
       "    </tr>\n",
       "  </thead>\n",
       "  <tbody>\n",
       "    <tr>\n",
       "      <th>0</th>\n",
       "      <td>Yeah that hummingbirds which I’m still wonderi...</td>\n",
       "      <td>1499</td>\n",
       "      <td>quality</td>\n",
       "      <td>Half Earth</td>\n",
       "      <td>Maddie's study</td>\n",
       "      <td>P24</td>\n",
       "      <td>NaN</td>\n",
       "      <td>NaN</td>\n",
       "    </tr>\n",
       "    <tr>\n",
       "      <th>1</th>\n",
       "      <td>I like maps but I found that one quite confusi...</td>\n",
       "      <td>1500</td>\n",
       "      <td>map,little,overwhelming</td>\n",
       "      <td>Half Earth</td>\n",
       "      <td>Maddie's study</td>\n",
       "      <td>P24</td>\n",
       "      <td>NaN</td>\n",
       "      <td>NaN</td>\n",
       "    </tr>\n",
       "    <tr>\n",
       "      <th>2</th>\n",
       "      <td>So what I was hoping it would do would be to b...</td>\n",
       "      <td>1501</td>\n",
       "      <td>map,layers</td>\n",
       "      <td>Half Earth</td>\n",
       "      <td>Maddie's study</td>\n",
       "      <td>P24</td>\n",
       "      <td>NaN</td>\n",
       "      <td>NaN</td>\n",
       "    </tr>\n",
       "    <tr>\n",
       "      <th>3</th>\n",
       "      <td>Also the colours didn't really work or relate ...</td>\n",
       "      <td>1502</td>\n",
       "      <td>map,colours</td>\n",
       "      <td>Half Earth</td>\n",
       "      <td>Maddie's study</td>\n",
       "      <td>P24</td>\n",
       "      <td>NaN</td>\n",
       "      <td>NaN</td>\n",
       "    </tr>\n",
       "    <tr>\n",
       "      <th>4</th>\n",
       "      <td>yeah it just was a bit messy and too much inf...</td>\n",
       "      <td>1503</td>\n",
       "      <td>overwhelming,demanding</td>\n",
       "      <td>Half Earth</td>\n",
       "      <td>Maddie's study</td>\n",
       "      <td>P24</td>\n",
       "      <td>NaN</td>\n",
       "      <td>NaN</td>\n",
       "    </tr>\n",
       "  </tbody>\n",
       "</table>\n",
       "</div>"
      ],
      "text/plain": [
       "                                              Quotes  quote_id  \\\n",
       "0  Yeah that hummingbirds which I’m still wonderi...      1499   \n",
       "1  I like maps but I found that one quite confusi...      1500   \n",
       "2  So what I was hoping it would do would be to b...      1501   \n",
       "3  Also the colours didn't really work or relate ...      1502   \n",
       "4   yeah it just was a bit messy and too much inf...      1503   \n",
       "\n",
       "                  Sub-Tags    Platform           Study Participant  Interview  \\\n",
       "0                  quality  Half Earth  Maddie's study         P24        NaN   \n",
       "1  map,little,overwhelming  Half Earth  Maddie's study         P24        NaN   \n",
       "2               map,layers  Half Earth  Maddie's study         P24        NaN   \n",
       "3              map,colours  Half Earth  Maddie's study         P24        NaN   \n",
       "4   overwhelming,demanding  Half Earth  Maddie's study         P24        NaN   \n",
       "\n",
       "  Screen recording  \n",
       "0              NaN  \n",
       "1              NaN  \n",
       "2              NaN  \n",
       "3              NaN  \n",
       "4              NaN  "
      ]
     },
     "execution_count": 23,
     "metadata": {},
     "output_type": "execute_result"
    }
   ],
   "source": [
    "csv.head()"
   ]
  },
  {
   "cell_type": "code",
   "execution_count": 22,
   "metadata": {},
   "outputs": [
    {
     "data": {
      "text/plain": [
       "1714"
      ]
     },
     "execution_count": 22,
     "metadata": {},
     "output_type": "execute_result"
    }
   ],
   "source": [
    "len(csv)"
   ]
  },
  {
   "cell_type": "code",
   "execution_count": 44,
   "metadata": {},
   "outputs": [],
   "source": [
    "bag_of_tags = []\n",
    "for tag in csv['Sub-Tags']:\n",
    "    #print(tag, tag == tag)\n",
    "    if tag == tag:\n",
    "        tmp = tag.split(',')\n",
    "        for item in tmp:\n",
    "            bag_of_tags.append(item)"
   ]
  },
  {
   "cell_type": "code",
   "execution_count": 47,
   "metadata": {},
   "outputs": [
    {
     "data": {
      "text/plain": [
       "{'access',\n",
       " 'access barrier ',\n",
       " 'access barrier deterrent',\n",
       " 'acronyms/abbreviations',\n",
       " 'animation',\n",
       " 'appealing',\n",
       " 'audience specific learning',\n",
       " 'colours',\n",
       " 'convincing ',\n",
       " 'curiosity ',\n",
       " 'demanding',\n",
       " 'detailed learning',\n",
       " 'doubts ',\n",
       " 'emotional',\n",
       " 'exciting ',\n",
       " 'flow diagrams',\n",
       " 'fun',\n",
       " 'general learning',\n",
       " 'globe',\n",
       " 'graph',\n",
       " 'guidance',\n",
       " 'impressive ',\n",
       " 'interaction',\n",
       " 'landscape view',\n",
       " 'latency ',\n",
       " 'layers',\n",
       " 'little',\n",
       " 'map',\n",
       " 'memorable',\n",
       " 'meta data/source',\n",
       " 'more data/ info wanted',\n",
       " 'navigation',\n",
       " 'overwhelming',\n",
       " 'personal',\n",
       " 'persuasive',\n",
       " 'photo',\n",
       " 'quality',\n",
       " 'ranking ',\n",
       " 'rarity/richness',\n",
       " 'science',\n",
       " 'shocking',\n",
       " 'static',\n",
       " 'striking',\n",
       " 'study time ',\n",
       " 'surprising',\n",
       " 'trust ',\n",
       " 'user experience ',\n",
       " 'video'}"
      ]
     },
     "execution_count": 47,
     "metadata": {},
     "output_type": "execute_result"
    }
   ],
   "source": [
    "# Unique sub-tags\n",
    "set(bag_of_tags)"
   ]
  },
  {
   "cell_type": "code",
   "execution_count": 65,
   "metadata": {},
   "outputs": [
    {
     "data": {
      "image/png": "[encoded data removed]",
      "text/plain": [
       "<Figure size 720x720 with 1 Axes>"
      ]
     },
     "metadata": {
      "needs_background": "light"
     },
     "output_type": "display_data"
    }
   ],
   "source": [
    "plt.figure(figsize=(10,10))\n",
    "plt.hist(bag_of_tags)\n",
    "plt.title(\"Number of occurences of each sub-tag in database\")\n",
    "_ = plt.xticks(rotation=90)"
   ]
  },
  {
   "cell_type": "code",
   "execution_count": null,
   "metadata": {},
   "outputs": [],
   "source": []
  },
  {
   "cell_type": "code",
   "execution_count": 49,
   "metadata": {},
   "outputs": [],
   "source": [
    "#!pip install vaderSentiment"
   ]
  },
  {
   "cell_type": "code",
   "execution_count": 50,
   "metadata": {},
   "outputs": [],
   "source": [
    "from vaderSentiment.vaderSentiment import SentimentIntensityAnalyzer"
   ]
  },
  {
   "cell_type": "code",
   "execution_count": null,
   "metadata": {},
   "outputs": [],
   "source": []
  },
  {
   "cell_type": "code",
   "execution_count": 100,
   "metadata": {},
   "outputs": [],
   "source": [
    "sentences = {}\n",
    "analyzer = SentimentIntensityAnalyzer()\n",
    "for row in range(len(csv)):\n",
    "    try:\n",
    "        sentence = csv.iloc[row]['Quotes']\n",
    "        quote_id = csv.iloc[row]['quote_id']\n",
    "        vs = analyzer.polarity_scores(sentence)\n",
    "        sentences[quote_id] = {'sentence': sentence, 'vs': vs}\n",
    "    except:\n",
    "        pass"
   ]
  },
  {
   "cell_type": "code",
   "execution_count": 101,
   "metadata": {},
   "outputs": [
    {
     "name": "stdout",
     "output_type": "stream",
     "text": [
      "extracted senteiment for 1587 out of 1714 quotes\n"
     ]
    }
   ],
   "source": [
    "print(f\"extracted senteiment for {len(sentences)} out of {len(csv)} quotes\")"
   ]
  },
  {
   "cell_type": "code",
   "execution_count": 108,
   "metadata": {},
   "outputs": [
    {
     "data": {
      "text/plain": [
       "{'sentence': 'I learnt that trade flows for commodities are very complex. It seemed to be focused on commodities that result in land use change and deforestation. There was a focus on certain exporter countries. There are lots of companies listed which when navigating through made it difficult. I learnt that certain parts of the world are exporting certain goods and that is having certain impacts. That leads to different chains in the supply and to the countries that ultimately consume. ',\n",
       " 'vs': {'neg': 0.03, 'neu': 0.838, 'pos': 0.132, 'compound': 0.7579}}"
      ]
     },
     "execution_count": 108,
     "metadata": {},
     "output_type": "execute_result"
    }
   ],
   "source": [
    "# We can now access each sentence using its quote_id as an index\n",
    "\n",
    "sentences[1]"
   ]
  },
  {
   "cell_type": "code",
   "execution_count": null,
   "metadata": {},
   "outputs": [],
   "source": []
  },
  {
   "cell_type": "code",
   "execution_count": null,
   "metadata": {},
   "outputs": [],
   "source": []
  },
  {
   "cell_type": "code",
   "execution_count": null,
   "metadata": {},
   "outputs": [],
   "source": []
  }
 ],
 "metadata": {
  "kernelspec": {
   "display_name": "Python 3",
   "language": "python",
   "name": "python3"
  },
  "language_info": {
   "codemirror_mode": {
    "name": "ipython",
    "version": 3
   },
   "file_extension": ".py",
   "mimetype": "text/x-python",
   "name": "python",
   "nbconvert_exporter": "python",
   "pygments_lexer": "ipython3",
   "version": "3.6.7"
  }
 },
 "nbformat": 4,
 "nbformat_minor": 4
}
