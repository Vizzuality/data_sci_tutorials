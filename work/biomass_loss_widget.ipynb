{
 "cells": [
  {
   "cell_type": "markdown",
   "metadata": {},
   "source": [
    "## Remaking the GFW Climate widget on GFW flagship\n",
    "\n",
    "We need to hit the `biomass-loss` endpoint to gather data and create a new version of the old GFW climate widget. This widget will live on both the dashboards and the analysis window. In fact the main purpous of doing this is to recreate the functionality of the GFW climate analysis widget. Drawing a shape on the old gfw climate map used to produce an analysis widget like the following:\n",
    "\n",
    "<img src=\"./pics/old_gfw_climate_widget.png\" alt=\"drawing\" style=\"width:350px;\"/>\n",
    "\n",
    "We only need the biomass loss bar chart, not the tree cover loss line, nor the summaries of biomass in general, as those are covered by different widgets/endpoints.\n",
    "\n",
    "Note, this widget also showed extra info on hover:\n",
    "\n",
    "<img src=\"./pics/gfwc_analysis_hover.png\" alt=\"drawing\" style=\"width:350px;\"/>"
   ]
  },
  {
   "cell_type": "code",
   "execution_count": 41,
   "metadata": {},
   "outputs": [],
   "source": [
    "import requests\n",
    "from matplotlib import pyplot as plt\n",
    "from pprint import pprint\n",
    "import numpy as np\n",
    "%matplotlib inline"
   ]
  },
  {
   "cell_type": "code",
   "execution_count": 48,
   "metadata": {},
   "outputs": [
    {
     "name": "stdout",
     "output_type": "stream",
     "text": [
      "Response: 200\n",
      "{'data': {'attributes': {'areaHa': 1689472.3345972016,\n",
      "                         'biomassLoss': 97116403.27015299,\n",
      "                         'biomassLossByYear': {'2001': 8464722.879612226,\n",
      "                                               '2002': 7271793.722802333,\n",
      "                                               '2003': 4468985.840595964,\n",
      "                                               '2004': 12457759.88843027,\n",
      "                                               '2005': 11306576.812385125,\n",
      "                                               '2006': 6981180.671165106,\n",
      "                                               '2007': 7987787.319722255,\n",
      "                                               '2008': 15049722.06189569,\n",
      "                                               '2009': 2853289.312544776,\n",
      "                                               '2010': 7144006.297632572,\n",
      "                                               '2011': 2667643.4373683194,\n",
      "                                               '2012': 3470526.750692178,\n",
      "                                               '2013': 2404846.3246598886,\n",
      "                                               '2014': 4587561.950646286},\n",
      "                         'cLossByYear': {'2001': 4232361.44,\n",
      "                                         '2002': 3635896.86,\n",
      "                                         '2003': 2234492.92,\n",
      "                                         '2004': 6228879.94,\n",
      "                                         '2005': 5653288.41,\n",
      "                                         '2006': 3490590.34,\n",
      "                                         '2007': 3993893.66,\n",
      "                                         '2008': 7524861.03,\n",
      "                                         '2009': 1426644.66,\n",
      "                                         '2010': 3572003.15,\n",
      "                                         '2011': 1333821.72,\n",
      "                                         '2012': 1735263.38,\n",
      "                                         '2013': 1202423.16,\n",
      "                                         '2014': 2293780.98},\n",
      "                         'co2LossByYear': {'2001': 15532766.48,\n",
      "                                           '2002': 13343741.48,\n",
      "                                           '2003': 8200589.02,\n",
      "                                           '2004': 22859989.38,\n",
      "                                           '2005': 20747568.46,\n",
      "                                           '2006': 12810466.55,\n",
      "                                           '2007': 14657589.73,\n",
      "                                           '2008': 27616239.98,\n",
      "                                           '2009': 5235785.9,\n",
      "                                           '2010': 13109251.56,\n",
      "                                           '2011': 4895125.71,\n",
      "                                           '2012': 6368416.6,\n",
      "                                           '2013': 4412893,\n",
      "                                           '2014': 8418176.2}},\n",
      "          'id': None,\n",
      "          'type': 'biomasses'}}\n"
     ]
    }
   ],
   "source": [
    "# example of calling biomass loss data using the WDPA service\n",
    "\n",
    "threshold = 30    # tree canopy threshold\n",
    "wdpa_id = 352203  # ID of a shape\n",
    "start_date = '2001-01-01' # Start and end date should also be variables\n",
    "end_date = '2014-12-31'\n",
    "\n",
    "url = f'https://production-api.globalforestwatch.org/v1/biomass-loss/wdpa/{wdpa_id}?thresh={threshold}&period={start_date}%2C{end_date}'\n",
    "r = requests.get(url)\n",
    "print(f'Response: {r.status_code}')\n",
    "pprint(r.json())"
   ]
  },
  {
   "cell_type": "code",
   "execution_count": null,
   "metadata": {},
   "outputs": [],
   "source": []
  },
  {
   "cell_type": "code",
   "execution_count": 34,
   "metadata": {},
   "outputs": [
    {
     "name": "stdout",
     "output_type": "stream",
     "text": [
      "2001 15532766.48\n",
      "2002 13343741.48\n",
      "2003 8200589.02\n",
      "2004 22859989.38\n",
      "2005 20747568.46\n",
      "2006 12810466.55\n",
      "2007 14657589.73\n",
      "2008 27616239.98\n",
      "2009 5235785.9\n",
      "2010 13109251.56\n",
      "2011 4895125.71\n",
      "2012 6368416.6\n",
      "2013 4412893\n",
      "2014 8418176.2\n",
      "2015 12139335.52\n",
      "2016 20549220.86\n",
      "2017 31096767.46\n"
     ]
    }
   ],
   "source": [
    "# Extract the year and value from the json object\n",
    "years = []\n",
    "co2_loss = []\n",
    "for key in r.json().get('data').get('attributes').get('co2LossByYear'):\n",
    "    print(key, r.json().get('data').get('attributes').get('co2LossByYear')[key])\n",
    "    years.append(key)\n",
    "    co2_loss.append( r.json().get('data').get('attributes').get('co2LossByYear')[key])"
   ]
  },
  {
   "cell_type": "code",
   "execution_count": 42,
   "metadata": {},
   "outputs": [],
   "source": [
    "co2_loss = np.array(co2_loss)"
   ]
  },
  {
   "cell_type": "code",
   "execution_count": 55,
   "metadata": {},
   "outputs": [
    {
     "data": {
      "image/png": "[encoded data removed]",
      "text/plain": [
       "<Figure size 720x720 with 1 Axes>"
      ]
     },
     "metadata": {
      "needs_background": "light"
     },
     "output_type": "display_data"
    }
   ],
   "source": [
    "plt.figure(figsize=(10,10))\n",
    "plt.bar(years,co2_loss/1000000, color='#c9cace')\n",
    "plt.title(f\"CO₂ Loss by year for WDPA area {wdpa_id}\")\n",
    "plt.ylabel(\"MtCO₂\")\n",
    "plt.show()"
   ]
  },
  {
   "cell_type": "markdown",
   "metadata": {},
   "source": [
    "*Note, I included a divison by 1,000,000 above to show my chart in units of MtCO₂ (million tonnes of CO₂). You should rely on the front-end library to make that transformation rather than doing it explicitly.*"
   ]
  },
  {
   "cell_type": "code",
   "execution_count": 68,
   "metadata": {},
   "outputs": [
    {
     "data": {
      "text/plain": [
       "'Over the period of 2001–2014 there were 241.99 MtCO₂ of gross carbon emissions due to tree cover loss in this region.'"
      ]
     },
     "execution_count": 68,
     "metadata": {},
     "output_type": "execute_result"
    }
   ],
   "source": [
    "f\"Over the period of {start_date.split('-')[0]}–{end_date.split('-')[0]} there were {np.sum(co2_loss)/1000000:3.2f} MtCO₂ of gross carbon emissions due to tree cover loss in this region.\""
   ]
  },
  {
   "cell_type": "markdown",
   "metadata": {},
   "source": [
    "The above shows an example of a dynamic sentence you can create from these data."
   ]
  },
  {
   "cell_type": "code",
   "execution_count": null,
   "metadata": {},
   "outputs": [],
   "source": []
  }
 ],
 "metadata": {
  "kernelspec": {
   "display_name": "Python 3",
   "language": "python",
   "name": "python3"
  },
  "language_info": {
   "codemirror_mode": {
    "name": "ipython",
    "version": 3
   },
   "file_extension": ".py",
   "mimetype": "text/x-python",
   "name": "python",
   "nbconvert_exporter": "python",
   "pygments_lexer": "ipython3",
   "version": "3.6.6"
  }
 },
 "nbformat": 4,
 "nbformat_minor": 2
}
