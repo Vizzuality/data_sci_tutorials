{
 "cells": [
  {
   "cell_type": "code",
   "execution_count": 141,
   "metadata": {},
   "outputs": [],
   "source": [
    "import numpy as np\n",
    "import pandas as pd\n",
    "import geopandas as gpd\n",
    "import requests\n",
    "import rtree\n",
    "import shapely.wkb\n",
    "from shapely.ops import cascaded_union\n",
    "from shapely.geometry import Polygon, Point, MultiPolygon\n",
    "from matplotlib import pyplot as plt\n",
    "import LMIPy"
   ]
  },
  {
   "cell_type": "code",
   "execution_count": 375,
   "metadata": {},
   "outputs": [],
   "source": [
    "ds = LMIPy.Layer('1a1d4f61-f1b3-4c1a-bfb5-9d0444ecdd56', server='https://staging-api.globalforestwatch.org')"
   ]
  },
  {
   "cell_type": "code",
   "execution_count": 376,
   "metadata": {},
   "outputs": [
    {
     "data": {
      "text/html": [
       "<div class='item_container' style='height: auto; overflow: hidden; border: 1px solid #80ceb9;border-radius: 2px; background: #f2fffb; line-height: 1.21429em; padding: 10px;''><div class='item_left' style='width: 210px; float: left;''><a href='https://resourcewatch.org/' target='_blank'><img class='itemThumbnail' src='https://resourcewatch.org/static/images/logo-embed.png'></a></div><div class='item_right' style='float: none; width: auto; overflow: hidden;''><a href=https://staging-api.globalforestwatch.org/v1/layer/1a1d4f61-f1b3-4c1a-bfb5-9d0444ecdd56?includes=vocabulary,metadata target='_blank'><b>Water Stress</b></a><br> Data source cartodb 🗺Layer in AQUEDUCT.<br>Last Modified: 2019-04-23T11:58:11.825Z<br>Connector: cartodb | Published: True </div> </div>"
      ],
      "text/plain": [
       "Layer 1a1d4f61-f1b3-4c1a-bfb5-9d0444ecdd56"
      ]
     },
     "execution_count": 376,
     "metadata": {},
     "output_type": "execute_result"
    }
   ],
   "source": [
    "ds"
   ]
  },
  {
   "cell_type": "code",
   "execution_count": 377,
   "metadata": {},
   "outputs": [
    {
     "data": {
      "text/html": [
       "<div>\n",
       "<style scoped>\n",
       "    .dataframe tbody tr th:only-of-type {\n",
       "        vertical-align: middle;\n",
       "    }\n",
       "\n",
       "    .dataframe tbody tr th {\n",
       "        vertical-align: top;\n",
       "    }\n",
       "\n",
       "    .dataframe thead th {\n",
       "        text-align: right;\n",
       "    }\n",
       "</style>\n",
       "<table border=\"1\" class=\"dataframe\">\n",
       "  <thead>\n",
       "    <tr style=\"text-align: right;\">\n",
       "      <th></th>\n",
       "      <th>cartodb_id</th>\n",
       "      <th>label</th>\n",
       "      <th>the_geom</th>\n",
       "      <th>the_geom_webmercator</th>\n",
       "      <th>water_risk</th>\n",
       "    </tr>\n",
       "  </thead>\n",
       "  <tbody>\n",
       "    <tr>\n",
       "      <th>0</th>\n",
       "      <td>0</td>\n",
       "      <td>Extremely High (&gt;80%)</td>\n",
       "      <td>0106000020E61000000100000001030000000100000005...</td>\n",
       "      <td>0106000020110F00000100000001030000000100000005...</td>\n",
       "      <td>4</td>\n",
       "    </tr>\n",
       "    <tr>\n",
       "      <th>1</th>\n",
       "      <td>89</td>\n",
       "      <td>Low - Medium (10-20%)</td>\n",
       "      <td>0106000020E61000000100000001030000000100000009...</td>\n",
       "      <td>0106000020110F00000100000001030000000100000009...</td>\n",
       "      <td>1</td>\n",
       "    </tr>\n",
       "    <tr>\n",
       "      <th>2</th>\n",
       "      <td>112</td>\n",
       "      <td>High (40-80%)</td>\n",
       "      <td>0106000020E61000000100000001030000000100000018...</td>\n",
       "      <td>0106000020110F00000100000001030000000100000018...</td>\n",
       "      <td>3</td>\n",
       "    </tr>\n",
       "    <tr>\n",
       "      <th>3</th>\n",
       "      <td>115</td>\n",
       "      <td>Arid and Low Water Use</td>\n",
       "      <td>0106000020E61000000100000001030000000100000004...</td>\n",
       "      <td>0106000020110F00000100000001030000000100000004...</td>\n",
       "      <td>-1</td>\n",
       "    </tr>\n",
       "    <tr>\n",
       "      <th>4</th>\n",
       "      <td>120</td>\n",
       "      <td>Arid and Low Water Use</td>\n",
       "      <td>0106000020E61000000100000001030000000100000004...</td>\n",
       "      <td>0106000020110F00000100000001030000000100000004...</td>\n",
       "      <td>-1</td>\n",
       "    </tr>\n",
       "  </tbody>\n",
       "</table>\n",
       "</div>"
      ],
      "text/plain": [
       "   cartodb_id                   label  \\\n",
       "0           0   Extremely High (>80%)   \n",
       "1          89   Low - Medium (10-20%)   \n",
       "2         112           High (40-80%)   \n",
       "3         115  Arid and Low Water Use   \n",
       "4         120  Arid and Low Water Use   \n",
       "\n",
       "                                            the_geom  \\\n",
       "0  0106000020E61000000100000001030000000100000005...   \n",
       "1  0106000020E61000000100000001030000000100000009...   \n",
       "2  0106000020E61000000100000001030000000100000018...   \n",
       "3  0106000020E61000000100000001030000000100000004...   \n",
       "4  0106000020E61000000100000001030000000100000004...   \n",
       "\n",
       "                                the_geom_webmercator  water_risk  \n",
       "0  0106000020110F00000100000001030000000100000005...           4  \n",
       "1  0106000020110F00000100000001030000000100000009...           1  \n",
       "2  0106000020110F00000100000001030000000100000018...           3  \n",
       "3  0106000020110F00000100000001030000000100000004...          -1  \n",
       "4  0106000020110F00000100000001030000000100000004...          -1  "
      ]
     },
     "execution_count": 377,
     "metadata": {},
     "output_type": "execute_result"
    }
   ],
   "source": [
    "ds.query(\"SELECT * FROM data\").head()"
   ]
  },
  {
   "cell_type": "code",
   "execution_count": 378,
   "metadata": {},
   "outputs": [
    {
     "data": {
      "text/html": [
       "<div style=\"width:100%;\"><div style=\"position:relative;width:100%;height:0;padding-bottom:60%;\"><iframe src=\"data:text/html;charset=utf-8;base64,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\" style=\"position:absolute;width:100%;height:100%;left:0;top:0;border:none !important;\" allowfullscreen webkitallowfullscreen mozallowfullscreen></iframe></div></div>"
      ],
      "text/plain": [
       "<folium.folium.Map at 0x127667e48>"
      ]
     },
     "execution_count": 378,
     "metadata": {},
     "output_type": "execute_result"
    }
   ],
   "source": [
    "ds.map(lat=-3.65, lon=40.42, zoom=5)"
   ]
  },
  {
   "cell_type": "markdown",
   "metadata": {},
   "source": [
    "### Read data"
   ]
  },
  {
   "cell_type": "markdown",
   "metadata": {},
   "source": [
    "**Baseline Water Stress**"
   ]
  },
  {
   "cell_type": "code",
   "execution_count": 55,
   "metadata": {},
   "outputs": [
    {
     "data": {
      "text/html": [
       "<div>\n",
       "<style scoped>\n",
       "    .dataframe tbody tr th:only-of-type {\n",
       "        vertical-align: middle;\n",
       "    }\n",
       "\n",
       "    .dataframe tbody tr th {\n",
       "        vertical-align: top;\n",
       "    }\n",
       "\n",
       "    .dataframe thead th {\n",
       "        text-align: right;\n",
       "    }\n",
       "</style>\n",
       "<table border=\"1\" class=\"dataframe\">\n",
       "  <thead>\n",
       "    <tr style=\"text-align: right;\">\n",
       "      <th></th>\n",
       "      <th>aq30_id</th>\n",
       "      <th>bws_cat</th>\n",
       "      <th>bws_label</th>\n",
       "      <th>bws_raw</th>\n",
       "      <th>bws_score</th>\n",
       "      <th>gid_1</th>\n",
       "      <th>geometry</th>\n",
       "    </tr>\n",
       "  </thead>\n",
       "  <tbody>\n",
       "    <tr>\n",
       "      <th>0</th>\n",
       "      <td>17690</td>\n",
       "      <td>0</td>\n",
       "      <td>Low</td>\n",
       "      <td>0.021467</td>\n",
       "      <td>0.0</td>\n",
       "      <td>ESP.11_1</td>\n",
       "      <td>(POLYGON ((-5.99166666658337 39.83749999962531...</td>\n",
       "    </tr>\n",
       "  </tbody>\n",
       "</table>\n",
       "</div>"
      ],
      "text/plain": [
       "   aq30_id  bws_cat bws_label   bws_raw  bws_score     gid_1  \\\n",
       "0    17690        0       Low  0.021467        0.0  ESP.11_1   \n",
       "\n",
       "                                            geometry  \n",
       "0  (POLYGON ((-5.99166666658337 39.83749999962531...  "
      ]
     },
     "execution_count": 55,
     "metadata": {},
     "output_type": "execute_result"
    }
   ],
   "source": [
    "query =(\" SELECT s.aq30_id, s.gid_1, bws_raw, bws_score, bws_cat,  bws_label, r.the_geom \" \n",
    "        \" FROM water_risk_indicators_annual_all s \"\n",
    "        \" LEFT JOIN y2018m12d06_rh_master_shape_v01 r on s.aq30_id=r.aq30_id \"\n",
    "        \" WHERE s.pfaf_id != -9999 and s.gid_1 != '-9999'and s.gid_1 like any (array['ESP%', 'PRT%'])\")\n",
    "\n",
    "account = 'wri-rw'\n",
    "urlCarto = f\"https://{account}.carto.com/api/v2/sql\"\n",
    "\n",
    "sql = {\"q\": query}\n",
    "r = requests.get(urlCarto, params=sql)\n",
    "\n",
    "data = r.json()\n",
    "\n",
    "bws = gpd.GeoDataFrame(data.get(\"rows\"))\n",
    "# Change geometry from WKB to WKT format\n",
    "bws['geometry'] = bws.apply(lambda x: shapely.wkb.loads(x['the_geom'],hex=True), axis=1 )\n",
    "bws.drop(columns='the_geom', inplace=True)\n",
    "bws.crs = {'init': 'epsg:4326'}\n",
    "bws = bws.to_crs({'init': 'epsg:4326'})\n",
    "bws.head(1)"
   ]
  },
  {
   "cell_type": "code",
   "execution_count": 151,
   "metadata": {},
   "outputs": [
    {
     "data": {
      "image/png": "[encoded data removed]",
      "text/plain": [
       "<Figure size 360x360 with 1 Axes>"
      ]
     },
     "metadata": {},
     "output_type": "display_data"
    }
   ],
   "source": [
    "colors = ['#FFFF99', '#FFE600', '#FF9900', '#FF1900', '#990000']\n",
    "cat = np.array(bws['bws_cat'].unique())\n",
    "cat = np.sort(cat[~np.isnan(cat)])\n",
    "\n",
    "fig, ax = plt.subplots(figsize=[5,5])\n",
    "ax.set_aspect('equal')\n",
    "\n",
    "for i in range(len(cat)):\n",
    "    bws[(bws['gid_1'] == 'ESP.2_1') & (bws['bws_cat'] == cat[i])].plot(ax=ax, color=colors[i], edgecolor=colors[i])"
   ]
  },
  {
   "cell_type": "markdown",
   "metadata": {},
   "source": [
    "**[MapSPAM](http://mapspam.info/data/) 2010 data**"
   ]
  },
  {
   "cell_type": "code",
   "execution_count": 66,
   "metadata": {},
   "outputs": [
    {
     "data": {
      "text/html": [
       "<div>\n",
       "<style scoped>\n",
       "    .dataframe tbody tr th:only-of-type {\n",
       "        vertical-align: middle;\n",
       "    }\n",
       "\n",
       "    .dataframe tbody tr th {\n",
       "        vertical-align: top;\n",
       "    }\n",
       "\n",
       "    .dataframe thead th {\n",
       "        text-align: right;\n",
       "    }\n",
       "</style>\n",
       "<table border=\"1\" class=\"dataframe\">\n",
       "  <thead>\n",
       "    <tr style=\"text-align: right;\">\n",
       "      <th></th>\n",
       "      <th>aq30_id</th>\n",
       "      <th>area</th>\n",
       "      <th>cell5m</th>\n",
       "      <th>crop</th>\n",
       "      <th>iso</th>\n",
       "      <th>unit_area</th>\n",
       "      <th>geometry</th>\n",
       "    </tr>\n",
       "  </thead>\n",
       "  <tbody>\n",
       "    <tr>\n",
       "      <th>0</th>\n",
       "      <td>17804</td>\n",
       "      <td>13.8</td>\n",
       "      <td>2421266</td>\n",
       "      <td>potato</td>\n",
       "      <td>ESP</td>\n",
       "      <td>ha</td>\n",
       "      <td>(POLYGON ((-7.833333334021973 43.2499999994670...</td>\n",
       "    </tr>\n",
       "  </tbody>\n",
       "</table>\n",
       "</div>"
      ],
      "text/plain": [
       "   aq30_id  area   cell5m    crop  iso unit_area  \\\n",
       "0    17804  13.8  2421266  potato  ESP        ha   \n",
       "\n",
       "                                            geometry  \n",
       "0  (POLYGON ((-7.833333334021973 43.2499999994670...  "
      ]
     },
     "execution_count": 66,
     "metadata": {},
     "output_type": "execute_result"
    }
   ],
   "source": [
    "query =(\" SELECT aq30_id, cell5m, iso, crop, area, unit_area, the_geom FROM crops_baseline \"\n",
    "        \" WHERE iso = 'ESP' and crop in ('wheat', 'maize', 'chickpea','lentil', 'potato') \"\n",
    "        \" and irrigation = 'irrigated'\")\n",
    "\n",
    "account = 'wri-rw'\n",
    "urlCarto = f\"https://{account}.carto.com/api/v2/sql\"\n",
    "\n",
    "sql = {\"q\": query}\n",
    "r = requests.get(urlCarto, params=sql)\n",
    "\n",
    "data = r.json()\n",
    "\n",
    "crops = gpd.GeoDataFrame(data.get(\"rows\"))\n",
    "# Change geometry from WKB to WKT format\n",
    "crops['geometry'] = crops.apply(lambda x: shapely.wkb.loads(x['the_geom'],hex=True), axis=1 )\n",
    "crops.drop(columns='the_geom', inplace=True)\n",
    "crops.crs = {'init': 'epsg:4326'}\n",
    "crops = crops.to_crs({'init': 'epsg:4326'})\n",
    "crops.head(1)"
   ]
  },
  {
   "cell_type": "markdown",
   "metadata": {},
   "source": [
    "**Merge datasets**"
   ]
  },
  {
   "cell_type": "code",
   "execution_count": 67,
   "metadata": {},
   "outputs": [
    {
     "data": {
      "text/html": [
       "<div>\n",
       "<style scoped>\n",
       "    .dataframe tbody tr th:only-of-type {\n",
       "        vertical-align: middle;\n",
       "    }\n",
       "\n",
       "    .dataframe tbody tr th {\n",
       "        vertical-align: top;\n",
       "    }\n",
       "\n",
       "    .dataframe thead th {\n",
       "        text-align: right;\n",
       "    }\n",
       "</style>\n",
       "<table border=\"1\" class=\"dataframe\">\n",
       "  <thead>\n",
       "    <tr style=\"text-align: right;\">\n",
       "      <th></th>\n",
       "      <th>aq30_id</th>\n",
       "      <th>area</th>\n",
       "      <th>cell5m</th>\n",
       "      <th>crop</th>\n",
       "      <th>iso</th>\n",
       "      <th>unit_area</th>\n",
       "      <th>geometry</th>\n",
       "      <th>bws_cat</th>\n",
       "      <th>bws_label</th>\n",
       "      <th>bws_raw</th>\n",
       "      <th>bws_score</th>\n",
       "      <th>gid_1</th>\n",
       "    </tr>\n",
       "  </thead>\n",
       "  <tbody>\n",
       "    <tr>\n",
       "      <th>0</th>\n",
       "      <td>17804</td>\n",
       "      <td>13.8</td>\n",
       "      <td>2421266</td>\n",
       "      <td>potato</td>\n",
       "      <td>ESP</td>\n",
       "      <td>ha</td>\n",
       "      <td>(POLYGON ((-7.833333334021973 43.2499999994670...</td>\n",
       "      <td>2.0</td>\n",
       "      <td>Medium - High</td>\n",
       "      <td>0.21747</td>\n",
       "      <td>2.120818</td>\n",
       "      <td>ESP.12_1</td>\n",
       "    </tr>\n",
       "  </tbody>\n",
       "</table>\n",
       "</div>"
      ],
      "text/plain": [
       "   aq30_id  area   cell5m    crop  iso unit_area  \\\n",
       "0    17804  13.8  2421266  potato  ESP        ha   \n",
       "\n",
       "                                            geometry  bws_cat      bws_label  \\\n",
       "0  (POLYGON ((-7.833333334021973 43.2499999994670...      2.0  Medium - High   \n",
       "\n",
       "   bws_raw  bws_score     gid_1  \n",
       "0  0.21747   2.120818  ESP.12_1  "
      ]
     },
     "execution_count": 67,
     "metadata": {},
     "output_type": "execute_result"
    }
   ],
   "source": [
    "crops_bws = pd.merge(left=crops, right=bws.drop(columns='geometry'), how='left', on='aq30_id')\n",
    "crops_bws.head(1)"
   ]
  },
  {
   "cell_type": "code",
   "execution_count": 150,
   "metadata": {},
   "outputs": [
    {
     "data": {
      "image/png": "[encoded data removed]",
      "text/plain": [
       "<Figure size 360x360 with 1 Axes>"
      ]
     },
     "metadata": {},
     "output_type": "display_data"
    }
   ],
   "source": [
    "colors = ['#FFFF99', '#FFE600', '#FF9900', '#FF1900', '#990000']\n",
    "cat = np.array(crops_bws['bws_cat'].unique())\n",
    "cat = np.sort(cat[~np.isnan(cat)])\n",
    "\n",
    "fig, ax = plt.subplots(figsize=[5,5])\n",
    "ax.set_aspect('equal')\n",
    "\n",
    "for i in range(len(cat)):\n",
    "    crops_bws[(crops_bws['gid_1'] == 'ESP.2_1') & (crops_bws['bws_cat'] == cat[i]) & (crops_bws['crop'] == 'maize')].plot(ax=ax, color=colors[i], edgecolor=colors[i])"
   ]
  },
  {
   "cell_type": "markdown",
   "metadata": {},
   "source": [
    "## Calculator\n",
    "**Exact Farm Location**"
   ]
  },
  {
   "cell_type": "code",
   "execution_count": 152,
   "metadata": {},
   "outputs": [],
   "source": [
    "points = gpd.GeoDataFrame(columns=['geometry'], data= [Point(-1.15,41.75), Point(-1.15,41.75).buffer(1)])"
   ]
  },
  {
   "cell_type": "code",
   "execution_count": 153,
   "metadata": {},
   "outputs": [
    {
     "data": {
      "text/plain": [
       "<matplotlib.axes._subplots.AxesSubplot at 0x1259d8240>"
      ]
     },
     "execution_count": 153,
     "metadata": {},
     "output_type": "execute_result"
    },
    {
     "data": {
      "image/png": "[encoded data removed]",
      "text/plain": [
       "<Figure size 360x360 with 1 Axes>"
      ]
     },
     "metadata": {},
     "output_type": "display_data"
    }
   ],
   "source": [
    "colors = ['#FFFF99', '#FFE600', '#FF9900', '#FF1900', '#990000']\n",
    "cat = np.array(bws['bws_cat'].unique())\n",
    "cat = np.sort(cat[~np.isnan(cat)])\n",
    "\n",
    "fig, ax = plt.subplots(figsize=[5,5])\n",
    "ax.set_aspect('equal')\n",
    "\n",
    "for i in range(len(cat)):\n",
    "    bws[(bws['gid_1'] == 'ESP.2_1') & (bws['bws_cat'] == cat[i])].plot(ax=ax, color=colors[i], edgecolor=colors[i])\n",
    "points.iloc[:1].plot(ax=ax, color='k')"
   ]
  },
  {
   "cell_type": "code",
   "execution_count": 177,
   "metadata": {},
   "outputs": [
    {
     "data": {
      "text/html": [
       "<div>\n",
       "<style scoped>\n",
       "    .dataframe tbody tr th:only-of-type {\n",
       "        vertical-align: middle;\n",
       "    }\n",
       "\n",
       "    .dataframe tbody tr th {\n",
       "        vertical-align: top;\n",
       "    }\n",
       "\n",
       "    .dataframe thead th {\n",
       "        text-align: right;\n",
       "    }\n",
       "</style>\n",
       "<table border=\"1\" class=\"dataframe\">\n",
       "  <thead>\n",
       "    <tr style=\"text-align: right;\">\n",
       "      <th></th>\n",
       "      <th>aq30_id</th>\n",
       "      <th>bws_cat</th>\n",
       "      <th>bws_label</th>\n",
       "      <th>bws_raw</th>\n",
       "      <th>bws_score</th>\n",
       "      <th>gid_1</th>\n",
       "      <th>geometry</th>\n",
       "    </tr>\n",
       "  </thead>\n",
       "  <tbody>\n",
       "    <tr>\n",
       "      <th>375</th>\n",
       "      <td>15161</td>\n",
       "      <td>4</td>\n",
       "      <td>Extremely High</td>\n",
       "      <td>0.898047</td>\n",
       "      <td>4.166791</td>\n",
       "      <td>ESP.2_1</td>\n",
       "      <td>(POLYGON ((-1.070833333491493 40.9750000000499...</td>\n",
       "    </tr>\n",
       "  </tbody>\n",
       "</table>\n",
       "</div>"
      ],
      "text/plain": [
       "     aq30_id  bws_cat       bws_label   bws_raw  bws_score    gid_1  \\\n",
       "375    15161        4  Extremely High  0.898047   4.166791  ESP.2_1   \n",
       "\n",
       "                                              geometry  \n",
       "375  (POLYGON ((-1.070833333491493 40.9750000000499...  "
      ]
     },
     "execution_count": 177,
     "metadata": {},
     "output_type": "execute_result"
    }
   ],
   "source": [
    "point = points.geometry.iloc[0]\n",
    "\n",
    "# precise match\n",
    "precise_match= bws[bws.intersects(point)]\n",
    "precise_match"
   ]
  },
  {
   "cell_type": "markdown",
   "metadata": {},
   "source": [
    "**Point + Radius**"
   ]
  },
  {
   "cell_type": "code",
   "execution_count": 154,
   "metadata": {},
   "outputs": [
    {
     "data": {
      "text/plain": [
       "<matplotlib.axes._subplots.AxesSubplot at 0x125bc6b70>"
      ]
     },
     "execution_count": 154,
     "metadata": {},
     "output_type": "execute_result"
    },
    {
     "data": {
      "image/png": "[encoded data removed]",
      "text/plain": [
       "<Figure size 360x360 with 1 Axes>"
      ]
     },
     "metadata": {},
     "output_type": "display_data"
    }
   ],
   "source": [
    "colors = ['#FFFF99', '#FFE600', '#FF9900', '#FF1900', '#990000']\n",
    "cat = np.array(crops_bws['bws_cat'].unique())\n",
    "cat = np.sort(cat[~np.isnan(cat)])\n",
    "\n",
    "fig, ax = plt.subplots(figsize=[5,5])\n",
    "ax.set_aspect('equal')\n",
    "\n",
    "\n",
    "points.iloc[1:2].plot(ax=ax, color='w', edgecolor='k')\n",
    "for i in range(len(cat)):\n",
    "    crops_bws[(crops_bws['gid_1'] == 'ESP.2_1') & (crops_bws['bws_cat'] == cat[i]) & (crops_bws['crop'] == 'maize')].plot(ax=ax, color=colors[i], edgecolor=colors[i])\n",
    "    \n",
    "points.iloc[:1].plot(ax=ax, color='k')"
   ]
  },
  {
   "cell_type": "code",
   "execution_count": 368,
   "metadata": {},
   "outputs": [
    {
     "data": {
      "text/html": [
       "<div>\n",
       "<style scoped>\n",
       "    .dataframe tbody tr th:only-of-type {\n",
       "        vertical-align: middle;\n",
       "    }\n",
       "\n",
       "    .dataframe tbody tr th {\n",
       "        vertical-align: top;\n",
       "    }\n",
       "\n",
       "    .dataframe thead th {\n",
       "        text-align: right;\n",
       "    }\n",
       "</style>\n",
       "<table border=\"1\" class=\"dataframe\">\n",
       "  <thead>\n",
       "    <tr style=\"text-align: right;\">\n",
       "      <th></th>\n",
       "      <th>aq30_id</th>\n",
       "      <th>area</th>\n",
       "      <th>cell5m</th>\n",
       "      <th>crop</th>\n",
       "      <th>iso</th>\n",
       "      <th>unit_area</th>\n",
       "      <th>geometry</th>\n",
       "      <th>bws_cat</th>\n",
       "      <th>bws_label</th>\n",
       "      <th>bws_raw</th>\n",
       "      <th>bws_score</th>\n",
       "      <th>gid_1</th>\n",
       "    </tr>\n",
       "  </thead>\n",
       "  <tbody>\n",
       "    <tr>\n",
       "      <th>26</th>\n",
       "      <td>15157</td>\n",
       "      <td>0.0</td>\n",
       "      <td>2507750</td>\n",
       "      <td>maize</td>\n",
       "      <td>ESP</td>\n",
       "      <td>ha</td>\n",
       "      <td>(POLYGON ((-0.8333332158548216 41.666666666140...</td>\n",
       "      <td>2.0</td>\n",
       "      <td>Medium - High</td>\n",
       "      <td>0.378996</td>\n",
       "      <td>2.922183</td>\n",
       "      <td>ESP.2_1</td>\n",
       "    </tr>\n",
       "    <tr>\n",
       "      <th>98</th>\n",
       "      <td>15155</td>\n",
       "      <td>474.8</td>\n",
       "      <td>2490471</td>\n",
       "      <td>maize</td>\n",
       "      <td>ESP</td>\n",
       "      <td>ha</td>\n",
       "      <td>(POLYGON ((-0.7500000007170229 41.916666666139...</td>\n",
       "      <td>2.0</td>\n",
       "      <td>Medium - High</td>\n",
       "      <td>0.378996</td>\n",
       "      <td>2.922183</td>\n",
       "      <td>ESP.2_1</td>\n",
       "    </tr>\n",
       "    <tr>\n",
       "      <th>147</th>\n",
       "      <td>15161</td>\n",
       "      <td>0.2</td>\n",
       "      <td>2529338</td>\n",
       "      <td>maize</td>\n",
       "      <td>ESP</td>\n",
       "      <td>ha</td>\n",
       "      <td>(POLYGON ((-1.771963715195224 41.1666666661420...</td>\n",
       "      <td>4.0</td>\n",
       "      <td>Extremely High</td>\n",
       "      <td>0.898047</td>\n",
       "      <td>4.166791</td>\n",
       "      <td>ESP.2_1</td>\n",
       "    </tr>\n",
       "    <tr>\n",
       "      <th>1126</th>\n",
       "      <td>15175</td>\n",
       "      <td>61.5</td>\n",
       "      <td>2460224</td>\n",
       "      <td>maize</td>\n",
       "      <td>ESP</td>\n",
       "      <td>ha</td>\n",
       "      <td>(POLYGON ((-1.286801737504819 42.4999999994701...</td>\n",
       "      <td>2.0</td>\n",
       "      <td>Medium - High</td>\n",
       "      <td>0.310031</td>\n",
       "      <td>2.632411</td>\n",
       "      <td>ESP.2_1</td>\n",
       "    </tr>\n",
       "    <tr>\n",
       "      <th>1129</th>\n",
       "      <td>15175</td>\n",
       "      <td>10.8</td>\n",
       "      <td>2460230</td>\n",
       "      <td>maize</td>\n",
       "      <td>ESP</td>\n",
       "      <td>ha</td>\n",
       "      <td>(POLYGON ((-0.7500000007170229 42.508333333483...</td>\n",
       "      <td>2.0</td>\n",
       "      <td>Medium - High</td>\n",
       "      <td>0.310031</td>\n",
       "      <td>2.632411</td>\n",
       "      <td>ESP.2_1</td>\n",
       "    </tr>\n",
       "  </tbody>\n",
       "</table>\n",
       "</div>"
      ],
      "text/plain": [
       "      aq30_id   area   cell5m   crop  iso unit_area  \\\n",
       "26      15157    0.0  2507750  maize  ESP        ha   \n",
       "98      15155  474.8  2490471  maize  ESP        ha   \n",
       "147     15161    0.2  2529338  maize  ESP        ha   \n",
       "1126    15175   61.5  2460224  maize  ESP        ha   \n",
       "1129    15175   10.8  2460230  maize  ESP        ha   \n",
       "\n",
       "                                               geometry  bws_cat  \\\n",
       "26    (POLYGON ((-0.8333332158548216 41.666666666140...      2.0   \n",
       "98    (POLYGON ((-0.7500000007170229 41.916666666139...      2.0   \n",
       "147   (POLYGON ((-1.771963715195224 41.1666666661420...      4.0   \n",
       "1126  (POLYGON ((-1.286801737504819 42.4999999994701...      2.0   \n",
       "1129  (POLYGON ((-0.7500000007170229 42.508333333483...      2.0   \n",
       "\n",
       "           bws_label   bws_raw  bws_score    gid_1  \n",
       "26     Medium - High  0.378996   2.922183  ESP.2_1  \n",
       "98     Medium - High  0.378996   2.922183  ESP.2_1  \n",
       "147   Extremely High  0.898047   4.166791  ESP.2_1  \n",
       "1126   Medium - High  0.310031   2.632411  ESP.2_1  \n",
       "1129   Medium - High  0.310031   2.632411  ESP.2_1  "
      ]
     },
     "execution_count": 368,
     "metadata": {},
     "output_type": "execute_result"
    }
   ],
   "source": [
    "gdf = crops_bws[(crops_bws['gid_1'] == 'ESP.2_1') & (crops_bws['crop'] == 'maize')].copy()\n",
    "area = points.geometry.iloc[1]\n",
    "\n",
    "# precise match\n",
    "precise_match= gdf[gdf.intersects(area)]\n",
    "precise_match.head()"
   ]
  },
  {
   "cell_type": "code",
   "execution_count": 369,
   "metadata": {},
   "outputs": [
    {
     "name": "stderr",
     "output_type": "stream",
     "text": [
      "/anaconda3/lib/python3.6/site-packages/geopandas/plotting.py:405: UserWarning: The GeoDataFrame you are attempting to plot is empty. Nothing has been displayed.\n",
      "  \"empty. Nothing has been displayed.\", UserWarning)\n"
     ]
    },
    {
     "data": {
      "text/plain": [
       "<matplotlib.axes._subplots.AxesSubplot at 0x1279cf320>"
      ]
     },
     "execution_count": 369,
     "metadata": {},
     "output_type": "execute_result"
    },
    {
     "data": {
      "image/png": "[encoded data removed]",
      "text/plain": [
       "<Figure size 360x360 with 1 Axes>"
      ]
     },
     "metadata": {},
     "output_type": "display_data"
    }
   ],
   "source": [
    "colors = ['#FFFF99', '#FFE600', '#FF9900', '#FF1900', '#990000']\n",
    "cat = np.array(crops_bws['bws_cat'].unique())\n",
    "cat = np.sort(cat[~np.isnan(cat)])\n",
    "\n",
    "fig, ax = plt.subplots(figsize=[5,5])\n",
    "ax.set_aspect('equal')\n",
    "\n",
    "\n",
    "points.iloc[1:2].plot(ax=ax, color='w', edgecolor='k')\n",
    "for i in range(len(cat)):\n",
    "    precise_match[precise_match['bws_cat'] == cat[i]].plot(ax=ax, color=colors[i], edgecolor=colors[i])\n",
    "    \n",
    "points.iloc[:1].plot(ax=ax, color='k')"
   ]
  },
  {
   "cell_type": "code",
   "execution_count": 372,
   "metadata": {},
   "outputs": [
    {
     "name": "stdout",
     "output_type": "stream",
     "text": [
      "Avg BWS: 2.933084655554206\n"
     ]
    }
   ],
   "source": [
    "print('Avg BWS:', np.sum(np.array(precise_match['bws_score'])*np.array(precise_match['area']))/np.sum(precise_match['area']))"
   ]
  },
  {
   "cell_type": "code",
   "execution_count": 373,
   "metadata": {},
   "outputs": [
    {
     "name": "stderr",
     "output_type": "stream",
     "text": [
      "/anaconda3/lib/python3.6/site-packages/ipykernel_launcher.py:9: SettingWithCopyWarning: \n",
      "A value is trying to be set on a copy of a slice from a DataFrame.\n",
      "Try using .loc[row_indexer,col_indexer] = value instead\n",
      "\n",
      "See the caveats in the documentation: http://pandas.pydata.org/pandas-docs/stable/indexing.html#indexing-view-versus-copy\n",
      "  if __name__ == '__main__':\n",
      "/anaconda3/lib/python3.6/site-packages/ipykernel_launcher.py:14: SettingWithCopyWarning: \n",
      "A value is trying to be set on a copy of a slice from a DataFrame.\n",
      "Try using .loc[row_indexer,col_indexer] = value instead\n",
      "\n",
      "See the caveats in the documentation: http://pandas.pydata.org/pandas-docs/stable/indexing.html#indexing-view-versus-copy\n",
      "  \n",
      "/anaconda3/lib/python3.6/site-packages/ipykernel_launcher.py:19: SettingWithCopyWarning: \n",
      "A value is trying to be set on a copy of a slice from a DataFrame.\n",
      "Try using .loc[row_indexer,col_indexer] = value instead\n",
      "\n",
      "See the caveats in the documentation: http://pandas.pydata.org/pandas-docs/stable/indexing.html#indexing-view-versus-copy\n"
     ]
    }
   ],
   "source": [
    "gdf = crops_bws[(crops_bws['gid_1'] == 'ESP.2_1') & (crops_bws['crop'] == 'maize')].copy()\n",
    "area = points.geometry.iloc[1]\n",
    "\n",
    "# precise match\n",
    "precise_match= gdf[gdf.intersects(area)]\n",
    "precise_match.head()\n",
    "# intersection between the basin and the area\n",
    "intersection = precise_match.intersection(area)\n",
    "precise_match['geometry_new'] = list(intersection)\n",
    "\n",
    "# Percentage of the crop cell intersecting with the area \n",
    "def f(*x):\n",
    "    return x[0].area/x[1].area\n",
    "precise_match['percentage'] = precise_match[['geometry_new', 'geometry']].apply(lambda x: f(*x), axis=1).round(2)\n",
    "\n",
    "# Multiply the area with the percentage\n",
    "def f(*x):\n",
    "    return x[0]*x[1]\n",
    "precise_match['area'] = precise_match[['area','percentage']].apply(lambda x: f(*x), axis=1).round(1)\n",
    "\n",
    "\n",
    "geoms = []\n",
    "for g in precise_match.geometry_new:\n",
    "    geoms.append(g)\n",
    "    \n",
    "a = list(precise_match.columns)\n",
    "a.remove('geometry')\n",
    "a.remove('geometry_new')\n",
    "\n",
    "gdf = gpd.GeoDataFrame(precise_match[a], geometry=geoms)"
   ]
  },
  {
   "cell_type": "code",
   "execution_count": 359,
   "metadata": {},
   "outputs": [
    {
     "name": "stderr",
     "output_type": "stream",
     "text": [
      "/anaconda3/lib/python3.6/site-packages/geopandas/plotting.py:405: UserWarning: The GeoDataFrame you are attempting to plot is empty. Nothing has been displayed.\n",
      "  \"empty. Nothing has been displayed.\", UserWarning)\n"
     ]
    },
    {
     "data": {
      "text/plain": [
       "<matplotlib.axes._subplots.AxesSubplot at 0x126c37128>"
      ]
     },
     "execution_count": 359,
     "metadata": {},
     "output_type": "execute_result"
    },
    {
     "data": {
      "image/png": "[encoded data removed]",
      "text/plain": [
       "<Figure size 360x360 with 1 Axes>"
      ]
     },
     "metadata": {},
     "output_type": "display_data"
    }
   ],
   "source": [
    "colors = ['#FFFF99', '#FFE600', '#FF9900', '#FF1900', '#990000']\n",
    "cat = np.array(crops_bws['bws_cat'].unique())\n",
    "cat = np.sort(cat[~np.isnan(cat)])\n",
    "\n",
    "fig, ax = plt.subplots(figsize=[5,5])\n",
    "ax.set_aspect('equal')\n",
    "\n",
    "\n",
    "points.iloc[1:2].plot(ax=ax, color='w', edgecolor='k')\n",
    "for i in range(len(cat)):\n",
    "    gdf[gdf['bws_cat'] == cat[i]].plot(ax=ax, color=colors[i], edgecolor=colors[i])\n",
    "    \n",
    "points.iloc[:1].plot(ax=ax, color='k')"
   ]
  },
  {
   "cell_type": "code",
   "execution_count": 360,
   "metadata": {},
   "outputs": [
    {
     "data": {
      "text/html": [
       "<div>\n",
       "<style scoped>\n",
       "    .dataframe tbody tr th:only-of-type {\n",
       "        vertical-align: middle;\n",
       "    }\n",
       "\n",
       "    .dataframe tbody tr th {\n",
       "        vertical-align: top;\n",
       "    }\n",
       "\n",
       "    .dataframe thead th {\n",
       "        text-align: right;\n",
       "    }\n",
       "</style>\n",
       "<table border=\"1\" class=\"dataframe\">\n",
       "  <thead>\n",
       "    <tr style=\"text-align: right;\">\n",
       "      <th></th>\n",
       "      <th>aq30_id</th>\n",
       "      <th>area</th>\n",
       "      <th>cell5m</th>\n",
       "      <th>crop</th>\n",
       "      <th>iso</th>\n",
       "      <th>unit_area</th>\n",
       "      <th>bws_cat</th>\n",
       "      <th>bws_label</th>\n",
       "      <th>bws_raw</th>\n",
       "      <th>bws_score</th>\n",
       "      <th>gid_1</th>\n",
       "      <th>percentage</th>\n",
       "      <th>geometry</th>\n",
       "    </tr>\n",
       "  </thead>\n",
       "  <tbody>\n",
       "    <tr>\n",
       "      <th>26</th>\n",
       "      <td>15157</td>\n",
       "      <td>0.0</td>\n",
       "      <td>2507750</td>\n",
       "      <td>maize</td>\n",
       "      <td>ESP</td>\n",
       "      <td>ha</td>\n",
       "      <td>2.0</td>\n",
       "      <td>Medium - High</td>\n",
       "      <td>0.378996</td>\n",
       "      <td>2.922183</td>\n",
       "      <td>ESP.2_1</td>\n",
       "      <td>1.0</td>\n",
       "      <td>POLYGON ((-0.8333332158548216 41.6666666661400...</td>\n",
       "    </tr>\n",
       "    <tr>\n",
       "      <th>98</th>\n",
       "      <td>15155</td>\n",
       "      <td>474.8</td>\n",
       "      <td>2490471</td>\n",
       "      <td>maize</td>\n",
       "      <td>ESP</td>\n",
       "      <td>ha</td>\n",
       "      <td>2.0</td>\n",
       "      <td>Medium - High</td>\n",
       "      <td>0.378996</td>\n",
       "      <td>2.922183</td>\n",
       "      <td>ESP.2_1</td>\n",
       "      <td>1.0</td>\n",
       "      <td>POLYGON ((-0.7500000007170229 41.9166666661390...</td>\n",
       "    </tr>\n",
       "    <tr>\n",
       "      <th>147</th>\n",
       "      <td>15161</td>\n",
       "      <td>0.2</td>\n",
       "      <td>2529338</td>\n",
       "      <td>maize</td>\n",
       "      <td>ESP</td>\n",
       "      <td>ha</td>\n",
       "      <td>4.0</td>\n",
       "      <td>Extremely High</td>\n",
       "      <td>0.898047</td>\n",
       "      <td>4.166791</td>\n",
       "      <td>ESP.2_1</td>\n",
       "      <td>1.0</td>\n",
       "      <td>POLYGON ((-1.771963715195224 41.16666666614208...</td>\n",
       "    </tr>\n",
       "    <tr>\n",
       "      <th>1126</th>\n",
       "      <td>15175</td>\n",
       "      <td>61.5</td>\n",
       "      <td>2460224</td>\n",
       "      <td>maize</td>\n",
       "      <td>ESP</td>\n",
       "      <td>ha</td>\n",
       "      <td>2.0</td>\n",
       "      <td>Medium - High</td>\n",
       "      <td>0.310031</td>\n",
       "      <td>2.632411</td>\n",
       "      <td>ESP.2_1</td>\n",
       "      <td>1.0</td>\n",
       "      <td>POLYGON ((-1.286801737504819 42.49999999947011...</td>\n",
       "    </tr>\n",
       "    <tr>\n",
       "      <th>1129</th>\n",
       "      <td>15175</td>\n",
       "      <td>10.8</td>\n",
       "      <td>2460230</td>\n",
       "      <td>maize</td>\n",
       "      <td>ESP</td>\n",
       "      <td>ha</td>\n",
       "      <td>2.0</td>\n",
       "      <td>Medium - High</td>\n",
       "      <td>0.310031</td>\n",
       "      <td>2.632411</td>\n",
       "      <td>ESP.2_1</td>\n",
       "      <td>1.0</td>\n",
       "      <td>POLYGON ((-0.7500000007170229 42.5083333334838...</td>\n",
       "    </tr>\n",
       "  </tbody>\n",
       "</table>\n",
       "</div>"
      ],
      "text/plain": [
       "      aq30_id   area   cell5m   crop  iso unit_area  bws_cat       bws_label  \\\n",
       "26      15157    0.0  2507750  maize  ESP        ha      2.0   Medium - High   \n",
       "98      15155  474.8  2490471  maize  ESP        ha      2.0   Medium - High   \n",
       "147     15161    0.2  2529338  maize  ESP        ha      4.0  Extremely High   \n",
       "1126    15175   61.5  2460224  maize  ESP        ha      2.0   Medium - High   \n",
       "1129    15175   10.8  2460230  maize  ESP        ha      2.0   Medium - High   \n",
       "\n",
       "       bws_raw  bws_score    gid_1  percentage  \\\n",
       "26    0.378996   2.922183  ESP.2_1         1.0   \n",
       "98    0.378996   2.922183  ESP.2_1         1.0   \n",
       "147   0.898047   4.166791  ESP.2_1         1.0   \n",
       "1126  0.310031   2.632411  ESP.2_1         1.0   \n",
       "1129  0.310031   2.632411  ESP.2_1         1.0   \n",
       "\n",
       "                                               geometry  \n",
       "26    POLYGON ((-0.8333332158548216 41.6666666661400...  \n",
       "98    POLYGON ((-0.7500000007170229 41.9166666661390...  \n",
       "147   POLYGON ((-1.771963715195224 41.16666666614208...  \n",
       "1126  POLYGON ((-1.286801737504819 42.49999999947011...  \n",
       "1129  POLYGON ((-0.7500000007170229 42.5083333334838...  "
      ]
     },
     "execution_count": 360,
     "metadata": {},
     "output_type": "execute_result"
    }
   ],
   "source": [
    "gdf.head()"
   ]
  },
  {
   "cell_type": "code",
   "execution_count": 374,
   "metadata": {},
   "outputs": [
    {
     "name": "stdout",
     "output_type": "stream",
     "text": [
      "Avg BWS: 2.921035738056926\n"
     ]
    }
   ],
   "source": [
    "print('Avg BWS:', np.sum(np.array(gdf['bws_score'])*np.array(gdf['area']))/np.sum(gdf['area']))"
   ]
  }
 ],
 "metadata": {
  "kernelspec": {
   "display_name": "Python 3",
   "language": "python",
   "name": "python3"
  },
  "language_info": {
   "codemirror_mode": {
    "name": "ipython",
    "version": 3
   },
   "file_extension": ".py",
   "mimetype": "text/x-python",
   "name": "python",
   "nbconvert_exporter": "python",
   "pygments_lexer": "ipython3",
   "version": "3.6.8"
  }
 },
 "nbformat": 4,
 "nbformat_minor": 2
}
